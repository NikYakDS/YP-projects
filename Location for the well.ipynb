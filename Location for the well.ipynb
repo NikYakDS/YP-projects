{
 "cells": [
  {
   "cell_type": "markdown",
   "metadata": {},
   "source": [
    "# Выбор локации для скважины"
   ]
  },
  {
   "cell_type": "markdown",
   "metadata": {},
   "source": [
    "Допустим, вы работаете в добывающей компании «ГлавРосГосНефть». Нужно решить, где бурить новую скважину.\n",
    "\n",
    "Вам предоставлены пробы нефти в трёх регионах: в каждом 10 000 месторождений, где измерили качество нефти и объём её запасов. Постройте модель машинного обучения, которая поможет определить регион, где добыча принесёт наибольшую прибыль. Проанализируйте возможную прибыль и риски техникой *Bootstrap.*\n",
    "\n",
    "Шаги для выбора локации:\n",
    "\n",
    "- В избранном регионе ищут месторождения, для каждого определяют значения признаков;\n",
    "- Строят модель и оценивают объём запасов;\n",
    "- Выбирают месторождения с самым высокими оценками значений. Количество месторождений зависит от бюджета компании и стоимости разработки одной скважины;\n",
    "- Прибыль равна суммарной прибыли отобранных месторождений."
   ]
  },
  {
   "cell_type": "code",
   "execution_count": 1,
   "metadata": {},
   "outputs": [],
   "source": [
    "!pip install -Uq scikit-learn"
   ]
  },
  {
   "cell_type": "code",
   "execution_count": 2,
   "metadata": {},
   "outputs": [],
   "source": [
    "#Импорт библиотек, классов, моделей\n",
    "import pandas as pd\n",
    "from sklearn.model_selection import train_test_split\n",
    "from sklearn.linear_model import LinearRegression\n",
    "from sklearn.metrics import mean_squared_error\n",
    "import numpy as np"
   ]
  },
  {
   "cell_type": "markdown",
   "metadata": {},
   "source": [
    "## Загрузка и подготовка данных"
   ]
  },
  {
   "cell_type": "code",
   "execution_count": 3,
   "metadata": {},
   "outputs": [],
   "source": [
    "#Загрузка данных\n",
    "df_0 = pd.read_csv('/datasets/geo_data_0.csv')\n",
    "df_1 = pd.read_csv('/datasets/geo_data_1.csv')\n",
    "df_2 = pd.read_csv('/datasets/geo_data_2.csv')"
   ]
  },
  {
   "cell_type": "code",
   "execution_count": 4,
   "metadata": {},
   "outputs": [],
   "source": [
    "#Функция для просмотра информации о датасетах\n",
    "def info_about(data):\n",
    "    display(data.head()) #первые 5 строк\n",
    "    display(data.info()) #общая информация о столбцах, размерности, типах данных\n",
    "    display(data.describe()) #основные статистические характеристики\n",
    "    display(data.duplicated().sum()) #колисчество дубликатов\n",
    "    display(data.isna().sum()) #количество пропусков\n",
    "    data.hist(figsize=(12, 12)) #гистограммы"
   ]
  },
  {
   "cell_type": "code",
   "execution_count": 5,
   "metadata": {},
   "outputs": [
    {
     "data": {
      "text/html": [
       "<div>\n",
       "<style scoped>\n",
       "    .dataframe tbody tr th:only-of-type {\n",
       "        vertical-align: middle;\n",
       "    }\n",
       "\n",
       "    .dataframe tbody tr th {\n",
       "        vertical-align: top;\n",
       "    }\n",
       "\n",
       "    .dataframe thead th {\n",
       "        text-align: right;\n",
       "    }\n",
       "</style>\n",
       "<table border=\"1\" class=\"dataframe\">\n",
       "  <thead>\n",
       "    <tr style=\"text-align: right;\">\n",
       "      <th></th>\n",
       "      <th>id</th>\n",
       "      <th>f0</th>\n",
       "      <th>f1</th>\n",
       "      <th>f2</th>\n",
       "      <th>product</th>\n",
       "    </tr>\n",
       "  </thead>\n",
       "  <tbody>\n",
       "    <tr>\n",
       "      <th>0</th>\n",
       "      <td>txEyH</td>\n",
       "      <td>0.705745</td>\n",
       "      <td>-0.497823</td>\n",
       "      <td>1.221170</td>\n",
       "      <td>105.280062</td>\n",
       "    </tr>\n",
       "    <tr>\n",
       "      <th>1</th>\n",
       "      <td>2acmU</td>\n",
       "      <td>1.334711</td>\n",
       "      <td>-0.340164</td>\n",
       "      <td>4.365080</td>\n",
       "      <td>73.037750</td>\n",
       "    </tr>\n",
       "    <tr>\n",
       "      <th>2</th>\n",
       "      <td>409Wp</td>\n",
       "      <td>1.022732</td>\n",
       "      <td>0.151990</td>\n",
       "      <td>1.419926</td>\n",
       "      <td>85.265647</td>\n",
       "    </tr>\n",
       "    <tr>\n",
       "      <th>3</th>\n",
       "      <td>iJLyR</td>\n",
       "      <td>-0.032172</td>\n",
       "      <td>0.139033</td>\n",
       "      <td>2.978566</td>\n",
       "      <td>168.620776</td>\n",
       "    </tr>\n",
       "    <tr>\n",
       "      <th>4</th>\n",
       "      <td>Xdl7t</td>\n",
       "      <td>1.988431</td>\n",
       "      <td>0.155413</td>\n",
       "      <td>4.751769</td>\n",
       "      <td>154.036647</td>\n",
       "    </tr>\n",
       "  </tbody>\n",
       "</table>\n",
       "</div>"
      ],
      "text/plain": [
       "      id        f0        f1        f2     product\n",
       "0  txEyH  0.705745 -0.497823  1.221170  105.280062\n",
       "1  2acmU  1.334711 -0.340164  4.365080   73.037750\n",
       "2  409Wp  1.022732  0.151990  1.419926   85.265647\n",
       "3  iJLyR -0.032172  0.139033  2.978566  168.620776\n",
       "4  Xdl7t  1.988431  0.155413  4.751769  154.036647"
      ]
     },
     "metadata": {},
     "output_type": "display_data"
    },
    {
     "name": "stdout",
     "output_type": "stream",
     "text": [
      "<class 'pandas.core.frame.DataFrame'>\n",
      "RangeIndex: 100000 entries, 0 to 99999\n",
      "Data columns (total 5 columns):\n",
      " #   Column   Non-Null Count   Dtype  \n",
      "---  ------   --------------   -----  \n",
      " 0   id       100000 non-null  object \n",
      " 1   f0       100000 non-null  float64\n",
      " 2   f1       100000 non-null  float64\n",
      " 3   f2       100000 non-null  float64\n",
      " 4   product  100000 non-null  float64\n",
      "dtypes: float64(4), object(1)\n",
      "memory usage: 3.8+ MB\n"
     ]
    },
    {
     "data": {
      "text/plain": [
       "None"
      ]
     },
     "metadata": {},
     "output_type": "display_data"
    },
    {
     "data": {
      "text/html": [
       "<div>\n",
       "<style scoped>\n",
       "    .dataframe tbody tr th:only-of-type {\n",
       "        vertical-align: middle;\n",
       "    }\n",
       "\n",
       "    .dataframe tbody tr th {\n",
       "        vertical-align: top;\n",
       "    }\n",
       "\n",
       "    .dataframe thead th {\n",
       "        text-align: right;\n",
       "    }\n",
       "</style>\n",
       "<table border=\"1\" class=\"dataframe\">\n",
       "  <thead>\n",
       "    <tr style=\"text-align: right;\">\n",
       "      <th></th>\n",
       "      <th>f0</th>\n",
       "      <th>f1</th>\n",
       "      <th>f2</th>\n",
       "      <th>product</th>\n",
       "    </tr>\n",
       "  </thead>\n",
       "  <tbody>\n",
       "    <tr>\n",
       "      <th>count</th>\n",
       "      <td>100000.000000</td>\n",
       "      <td>100000.000000</td>\n",
       "      <td>100000.000000</td>\n",
       "      <td>100000.000000</td>\n",
       "    </tr>\n",
       "    <tr>\n",
       "      <th>mean</th>\n",
       "      <td>0.500419</td>\n",
       "      <td>0.250143</td>\n",
       "      <td>2.502647</td>\n",
       "      <td>92.500000</td>\n",
       "    </tr>\n",
       "    <tr>\n",
       "      <th>std</th>\n",
       "      <td>0.871832</td>\n",
       "      <td>0.504433</td>\n",
       "      <td>3.248248</td>\n",
       "      <td>44.288691</td>\n",
       "    </tr>\n",
       "    <tr>\n",
       "      <th>min</th>\n",
       "      <td>-1.408605</td>\n",
       "      <td>-0.848218</td>\n",
       "      <td>-12.088328</td>\n",
       "      <td>0.000000</td>\n",
       "    </tr>\n",
       "    <tr>\n",
       "      <th>25%</th>\n",
       "      <td>-0.072580</td>\n",
       "      <td>-0.200881</td>\n",
       "      <td>0.287748</td>\n",
       "      <td>56.497507</td>\n",
       "    </tr>\n",
       "    <tr>\n",
       "      <th>50%</th>\n",
       "      <td>0.502360</td>\n",
       "      <td>0.250252</td>\n",
       "      <td>2.515969</td>\n",
       "      <td>91.849972</td>\n",
       "    </tr>\n",
       "    <tr>\n",
       "      <th>75%</th>\n",
       "      <td>1.073581</td>\n",
       "      <td>0.700646</td>\n",
       "      <td>4.715088</td>\n",
       "      <td>128.564089</td>\n",
       "    </tr>\n",
       "    <tr>\n",
       "      <th>max</th>\n",
       "      <td>2.362331</td>\n",
       "      <td>1.343769</td>\n",
       "      <td>16.003790</td>\n",
       "      <td>185.364347</td>\n",
       "    </tr>\n",
       "  </tbody>\n",
       "</table>\n",
       "</div>"
      ],
      "text/plain": [
       "                  f0             f1             f2        product\n",
       "count  100000.000000  100000.000000  100000.000000  100000.000000\n",
       "mean        0.500419       0.250143       2.502647      92.500000\n",
       "std         0.871832       0.504433       3.248248      44.288691\n",
       "min        -1.408605      -0.848218     -12.088328       0.000000\n",
       "25%        -0.072580      -0.200881       0.287748      56.497507\n",
       "50%         0.502360       0.250252       2.515969      91.849972\n",
       "75%         1.073581       0.700646       4.715088     128.564089\n",
       "max         2.362331       1.343769      16.003790     185.364347"
      ]
     },
     "metadata": {},
     "output_type": "display_data"
    },
    {
     "data": {
      "text/plain": [
       "0"
      ]
     },
     "metadata": {},
     "output_type": "display_data"
    },
    {
     "data": {
      "text/plain": [
       "id         0\n",
       "f0         0\n",
       "f1         0\n",
       "f2         0\n",
       "product    0\n",
       "dtype: int64"
      ]
     },
     "metadata": {},
     "output_type": "display_data"
    },
    {
     "data": {
      "image/png": "[encoded data removed]",
      "text/plain": [
       "<Figure size 864x864 with 4 Axes>"
      ]
     },
     "metadata": {
      "needs_background": "light"
     },
     "output_type": "display_data"
    }
   ],
   "source": [
    "info_about(df_0)"
   ]
  },
  {
   "cell_type": "code",
   "execution_count": 6,
   "metadata": {},
   "outputs": [
    {
     "data": {
      "text/html": [
       "<div>\n",
       "<style scoped>\n",
       "    .dataframe tbody tr th:only-of-type {\n",
       "        vertical-align: middle;\n",
       "    }\n",
       "\n",
       "    .dataframe tbody tr th {\n",
       "        vertical-align: top;\n",
       "    }\n",
       "\n",
       "    .dataframe thead th {\n",
       "        text-align: right;\n",
       "    }\n",
       "</style>\n",
       "<table border=\"1\" class=\"dataframe\">\n",
       "  <thead>\n",
       "    <tr style=\"text-align: right;\">\n",
       "      <th></th>\n",
       "      <th>id</th>\n",
       "      <th>f0</th>\n",
       "      <th>f1</th>\n",
       "      <th>f2</th>\n",
       "      <th>product</th>\n",
       "    </tr>\n",
       "  </thead>\n",
       "  <tbody>\n",
       "    <tr>\n",
       "      <th>0</th>\n",
       "      <td>kBEdx</td>\n",
       "      <td>-15.001348</td>\n",
       "      <td>-8.276000</td>\n",
       "      <td>-0.005876</td>\n",
       "      <td>3.179103</td>\n",
       "    </tr>\n",
       "    <tr>\n",
       "      <th>1</th>\n",
       "      <td>62mP7</td>\n",
       "      <td>14.272088</td>\n",
       "      <td>-3.475083</td>\n",
       "      <td>0.999183</td>\n",
       "      <td>26.953261</td>\n",
       "    </tr>\n",
       "    <tr>\n",
       "      <th>2</th>\n",
       "      <td>vyE1P</td>\n",
       "      <td>6.263187</td>\n",
       "      <td>-5.948386</td>\n",
       "      <td>5.001160</td>\n",
       "      <td>134.766305</td>\n",
       "    </tr>\n",
       "    <tr>\n",
       "      <th>3</th>\n",
       "      <td>KcrkZ</td>\n",
       "      <td>-13.081196</td>\n",
       "      <td>-11.506057</td>\n",
       "      <td>4.999415</td>\n",
       "      <td>137.945408</td>\n",
       "    </tr>\n",
       "    <tr>\n",
       "      <th>4</th>\n",
       "      <td>AHL4O</td>\n",
       "      <td>12.702195</td>\n",
       "      <td>-8.147433</td>\n",
       "      <td>5.004363</td>\n",
       "      <td>134.766305</td>\n",
       "    </tr>\n",
       "  </tbody>\n",
       "</table>\n",
       "</div>"
      ],
      "text/plain": [
       "      id         f0         f1        f2     product\n",
       "0  kBEdx -15.001348  -8.276000 -0.005876    3.179103\n",
       "1  62mP7  14.272088  -3.475083  0.999183   26.953261\n",
       "2  vyE1P   6.263187  -5.948386  5.001160  134.766305\n",
       "3  KcrkZ -13.081196 -11.506057  4.999415  137.945408\n",
       "4  AHL4O  12.702195  -8.147433  5.004363  134.766305"
      ]
     },
     "metadata": {},
     "output_type": "display_data"
    },
    {
     "name": "stdout",
     "output_type": "stream",
     "text": [
      "<class 'pandas.core.frame.DataFrame'>\n",
      "RangeIndex: 100000 entries, 0 to 99999\n",
      "Data columns (total 5 columns):\n",
      " #   Column   Non-Null Count   Dtype  \n",
      "---  ------   --------------   -----  \n",
      " 0   id       100000 non-null  object \n",
      " 1   f0       100000 non-null  float64\n",
      " 2   f1       100000 non-null  float64\n",
      " 3   f2       100000 non-null  float64\n",
      " 4   product  100000 non-null  float64\n",
      "dtypes: float64(4), object(1)\n",
      "memory usage: 3.8+ MB\n"
     ]
    },
    {
     "data": {
      "text/plain": [
       "None"
      ]
     },
     "metadata": {},
     "output_type": "display_data"
    },
    {
     "data": {
      "text/html": [
       "<div>\n",
       "<style scoped>\n",
       "    .dataframe tbody tr th:only-of-type {\n",
       "        vertical-align: middle;\n",
       "    }\n",
       "\n",
       "    .dataframe tbody tr th {\n",
       "        vertical-align: top;\n",
       "    }\n",
       "\n",
       "    .dataframe thead th {\n",
       "        text-align: right;\n",
       "    }\n",
       "</style>\n",
       "<table border=\"1\" class=\"dataframe\">\n",
       "  <thead>\n",
       "    <tr style=\"text-align: right;\">\n",
       "      <th></th>\n",
       "      <th>f0</th>\n",
       "      <th>f1</th>\n",
       "      <th>f2</th>\n",
       "      <th>product</th>\n",
       "    </tr>\n",
       "  </thead>\n",
       "  <tbody>\n",
       "    <tr>\n",
       "      <th>count</th>\n",
       "      <td>100000.000000</td>\n",
       "      <td>100000.000000</td>\n",
       "      <td>100000.000000</td>\n",
       "      <td>100000.000000</td>\n",
       "    </tr>\n",
       "    <tr>\n",
       "      <th>mean</th>\n",
       "      <td>1.141296</td>\n",
       "      <td>-4.796579</td>\n",
       "      <td>2.494541</td>\n",
       "      <td>68.825000</td>\n",
       "    </tr>\n",
       "    <tr>\n",
       "      <th>std</th>\n",
       "      <td>8.965932</td>\n",
       "      <td>5.119872</td>\n",
       "      <td>1.703572</td>\n",
       "      <td>45.944423</td>\n",
       "    </tr>\n",
       "    <tr>\n",
       "      <th>min</th>\n",
       "      <td>-31.609576</td>\n",
       "      <td>-26.358598</td>\n",
       "      <td>-0.018144</td>\n",
       "      <td>0.000000</td>\n",
       "    </tr>\n",
       "    <tr>\n",
       "      <th>25%</th>\n",
       "      <td>-6.298551</td>\n",
       "      <td>-8.267985</td>\n",
       "      <td>1.000021</td>\n",
       "      <td>26.953261</td>\n",
       "    </tr>\n",
       "    <tr>\n",
       "      <th>50%</th>\n",
       "      <td>1.153055</td>\n",
       "      <td>-4.813172</td>\n",
       "      <td>2.011479</td>\n",
       "      <td>57.085625</td>\n",
       "    </tr>\n",
       "    <tr>\n",
       "      <th>75%</th>\n",
       "      <td>8.621015</td>\n",
       "      <td>-1.332816</td>\n",
       "      <td>3.999904</td>\n",
       "      <td>107.813044</td>\n",
       "    </tr>\n",
       "    <tr>\n",
       "      <th>max</th>\n",
       "      <td>29.421755</td>\n",
       "      <td>18.734063</td>\n",
       "      <td>5.019721</td>\n",
       "      <td>137.945408</td>\n",
       "    </tr>\n",
       "  </tbody>\n",
       "</table>\n",
       "</div>"
      ],
      "text/plain": [
       "                  f0             f1             f2        product\n",
       "count  100000.000000  100000.000000  100000.000000  100000.000000\n",
       "mean        1.141296      -4.796579       2.494541      68.825000\n",
       "std         8.965932       5.119872       1.703572      45.944423\n",
       "min       -31.609576     -26.358598      -0.018144       0.000000\n",
       "25%        -6.298551      -8.267985       1.000021      26.953261\n",
       "50%         1.153055      -4.813172       2.011479      57.085625\n",
       "75%         8.621015      -1.332816       3.999904     107.813044\n",
       "max        29.421755      18.734063       5.019721     137.945408"
      ]
     },
     "metadata": {},
     "output_type": "display_data"
    },
    {
     "data": {
      "text/plain": [
       "0"
      ]
     },
     "metadata": {},
     "output_type": "display_data"
    },
    {
     "data": {
      "text/plain": [
       "id         0\n",
       "f0         0\n",
       "f1         0\n",
       "f2         0\n",
       "product    0\n",
       "dtype: int64"
      ]
     },
     "metadata": {},
     "output_type": "display_data"
    },
    {
     "data": {
      "image/png": "[encoded data removed]",
      "text/plain": [
       "<Figure size 864x864 with 4 Axes>"
      ]
     },
     "metadata": {
      "needs_background": "light"
     },
     "output_type": "display_data"
    }
   ],
   "source": [
    "info_about(df_1)"
   ]
  },
  {
   "cell_type": "code",
   "execution_count": 7,
   "metadata": {},
   "outputs": [
    {
     "data": {
      "text/html": [
       "<div>\n",
       "<style scoped>\n",
       "    .dataframe tbody tr th:only-of-type {\n",
       "        vertical-align: middle;\n",
       "    }\n",
       "\n",
       "    .dataframe tbody tr th {\n",
       "        vertical-align: top;\n",
       "    }\n",
       "\n",
       "    .dataframe thead th {\n",
       "        text-align: right;\n",
       "    }\n",
       "</style>\n",
       "<table border=\"1\" class=\"dataframe\">\n",
       "  <thead>\n",
       "    <tr style=\"text-align: right;\">\n",
       "      <th></th>\n",
       "      <th>id</th>\n",
       "      <th>f0</th>\n",
       "      <th>f1</th>\n",
       "      <th>f2</th>\n",
       "      <th>product</th>\n",
       "    </tr>\n",
       "  </thead>\n",
       "  <tbody>\n",
       "    <tr>\n",
       "      <th>0</th>\n",
       "      <td>fwXo0</td>\n",
       "      <td>-1.146987</td>\n",
       "      <td>0.963328</td>\n",
       "      <td>-0.828965</td>\n",
       "      <td>27.758673</td>\n",
       "    </tr>\n",
       "    <tr>\n",
       "      <th>1</th>\n",
       "      <td>WJtFt</td>\n",
       "      <td>0.262778</td>\n",
       "      <td>0.269839</td>\n",
       "      <td>-2.530187</td>\n",
       "      <td>56.069697</td>\n",
       "    </tr>\n",
       "    <tr>\n",
       "      <th>2</th>\n",
       "      <td>ovLUW</td>\n",
       "      <td>0.194587</td>\n",
       "      <td>0.289035</td>\n",
       "      <td>-5.586433</td>\n",
       "      <td>62.871910</td>\n",
       "    </tr>\n",
       "    <tr>\n",
       "      <th>3</th>\n",
       "      <td>q6cA6</td>\n",
       "      <td>2.236060</td>\n",
       "      <td>-0.553760</td>\n",
       "      <td>0.930038</td>\n",
       "      <td>114.572842</td>\n",
       "    </tr>\n",
       "    <tr>\n",
       "      <th>4</th>\n",
       "      <td>WPMUX</td>\n",
       "      <td>-0.515993</td>\n",
       "      <td>1.716266</td>\n",
       "      <td>5.899011</td>\n",
       "      <td>149.600746</td>\n",
       "    </tr>\n",
       "  </tbody>\n",
       "</table>\n",
       "</div>"
      ],
      "text/plain": [
       "      id        f0        f1        f2     product\n",
       "0  fwXo0 -1.146987  0.963328 -0.828965   27.758673\n",
       "1  WJtFt  0.262778  0.269839 -2.530187   56.069697\n",
       "2  ovLUW  0.194587  0.289035 -5.586433   62.871910\n",
       "3  q6cA6  2.236060 -0.553760  0.930038  114.572842\n",
       "4  WPMUX -0.515993  1.716266  5.899011  149.600746"
      ]
     },
     "metadata": {},
     "output_type": "display_data"
    },
    {
     "name": "stdout",
     "output_type": "stream",
     "text": [
      "<class 'pandas.core.frame.DataFrame'>\n",
      "RangeIndex: 100000 entries, 0 to 99999\n",
      "Data columns (total 5 columns):\n",
      " #   Column   Non-Null Count   Dtype  \n",
      "---  ------   --------------   -----  \n",
      " 0   id       100000 non-null  object \n",
      " 1   f0       100000 non-null  float64\n",
      " 2   f1       100000 non-null  float64\n",
      " 3   f2       100000 non-null  float64\n",
      " 4   product  100000 non-null  float64\n",
      "dtypes: float64(4), object(1)\n",
      "memory usage: 3.8+ MB\n"
     ]
    },
    {
     "data": {
      "text/plain": [
       "None"
      ]
     },
     "metadata": {},
     "output_type": "display_data"
    },
    {
     "data": {
      "text/html": [
       "<div>\n",
       "<style scoped>\n",
       "    .dataframe tbody tr th:only-of-type {\n",
       "        vertical-align: middle;\n",
       "    }\n",
       "\n",
       "    .dataframe tbody tr th {\n",
       "        vertical-align: top;\n",
       "    }\n",
       "\n",
       "    .dataframe thead th {\n",
       "        text-align: right;\n",
       "    }\n",
       "</style>\n",
       "<table border=\"1\" class=\"dataframe\">\n",
       "  <thead>\n",
       "    <tr style=\"text-align: right;\">\n",
       "      <th></th>\n",
       "      <th>f0</th>\n",
       "      <th>f1</th>\n",
       "      <th>f2</th>\n",
       "      <th>product</th>\n",
       "    </tr>\n",
       "  </thead>\n",
       "  <tbody>\n",
       "    <tr>\n",
       "      <th>count</th>\n",
       "      <td>100000.000000</td>\n",
       "      <td>100000.000000</td>\n",
       "      <td>100000.000000</td>\n",
       "      <td>100000.000000</td>\n",
       "    </tr>\n",
       "    <tr>\n",
       "      <th>mean</th>\n",
       "      <td>0.002023</td>\n",
       "      <td>-0.002081</td>\n",
       "      <td>2.495128</td>\n",
       "      <td>95.000000</td>\n",
       "    </tr>\n",
       "    <tr>\n",
       "      <th>std</th>\n",
       "      <td>1.732045</td>\n",
       "      <td>1.730417</td>\n",
       "      <td>3.473445</td>\n",
       "      <td>44.749921</td>\n",
       "    </tr>\n",
       "    <tr>\n",
       "      <th>min</th>\n",
       "      <td>-8.760004</td>\n",
       "      <td>-7.084020</td>\n",
       "      <td>-11.970335</td>\n",
       "      <td>0.000000</td>\n",
       "    </tr>\n",
       "    <tr>\n",
       "      <th>25%</th>\n",
       "      <td>-1.162288</td>\n",
       "      <td>-1.174820</td>\n",
       "      <td>0.130359</td>\n",
       "      <td>59.450441</td>\n",
       "    </tr>\n",
       "    <tr>\n",
       "      <th>50%</th>\n",
       "      <td>0.009424</td>\n",
       "      <td>-0.009482</td>\n",
       "      <td>2.484236</td>\n",
       "      <td>94.925613</td>\n",
       "    </tr>\n",
       "    <tr>\n",
       "      <th>75%</th>\n",
       "      <td>1.158535</td>\n",
       "      <td>1.163678</td>\n",
       "      <td>4.858794</td>\n",
       "      <td>130.595027</td>\n",
       "    </tr>\n",
       "    <tr>\n",
       "      <th>max</th>\n",
       "      <td>7.238262</td>\n",
       "      <td>7.844801</td>\n",
       "      <td>16.739402</td>\n",
       "      <td>190.029838</td>\n",
       "    </tr>\n",
       "  </tbody>\n",
       "</table>\n",
       "</div>"
      ],
      "text/plain": [
       "                  f0             f1             f2        product\n",
       "count  100000.000000  100000.000000  100000.000000  100000.000000\n",
       "mean        0.002023      -0.002081       2.495128      95.000000\n",
       "std         1.732045       1.730417       3.473445      44.749921\n",
       "min        -8.760004      -7.084020     -11.970335       0.000000\n",
       "25%        -1.162288      -1.174820       0.130359      59.450441\n",
       "50%         0.009424      -0.009482       2.484236      94.925613\n",
       "75%         1.158535       1.163678       4.858794     130.595027\n",
       "max         7.238262       7.844801      16.739402     190.029838"
      ]
     },
     "metadata": {},
     "output_type": "display_data"
    },
    {
     "data": {
      "text/plain": [
       "0"
      ]
     },
     "metadata": {},
     "output_type": "display_data"
    },
    {
     "data": {
      "text/plain": [
       "id         0\n",
       "f0         0\n",
       "f1         0\n",
       "f2         0\n",
       "product    0\n",
       "dtype: int64"
      ]
     },
     "metadata": {},
     "output_type": "display_data"
    },
    {
     "data": {
      "image/png": "[encoded data removed]",
      "text/plain": [
       "<Figure size 864x864 with 4 Axes>"
      ]
     },
     "metadata": {
      "needs_background": "light"
     },
     "output_type": "display_data"
    }
   ],
   "source": [
    "info_about(df_2)"
   ]
  },
  {
   "cell_type": "markdown",
   "metadata": {},
   "source": [
    "*Так как наш целевой признак **product**, то для подготовки данных для моделей выполним дальнейшие действия:* "
   ]
  },
  {
   "cell_type": "code",
   "execution_count": 8,
   "metadata": {},
   "outputs": [],
   "source": [
    "#Разделим признаки и целевой признак в датасетах через функцию\n",
    "def features_target(data):\n",
    "    data_target = data['product']\n",
    "    data_features = data.drop(['id', 'product'], axis=1) #также уберем столбец id, который не несет нам никакой пользы\n",
    "    return data_target, data_features"
   ]
  },
  {
   "cell_type": "code",
   "execution_count": 9,
   "metadata": {},
   "outputs": [
    {
     "data": {
      "text/plain": [
       "(100000, 3)"
      ]
     },
     "metadata": {},
     "output_type": "display_data"
    },
    {
     "data": {
      "text/plain": [
       "(100000,)"
      ]
     },
     "metadata": {},
     "output_type": "display_data"
    },
    {
     "data": {
      "text/plain": [
       "(100000, 3)"
      ]
     },
     "metadata": {},
     "output_type": "display_data"
    },
    {
     "data": {
      "text/plain": [
       "(100000,)"
      ]
     },
     "metadata": {},
     "output_type": "display_data"
    },
    {
     "data": {
      "text/plain": [
       "(100000, 3)"
      ]
     },
     "metadata": {},
     "output_type": "display_data"
    },
    {
     "data": {
      "text/plain": [
       "(100000,)"
      ]
     },
     "metadata": {},
     "output_type": "display_data"
    }
   ],
   "source": [
    "df_0_target, df_0_features = features_target(data=df_0)\n",
    "df_1_target, df_1_features = features_target(data=df_1)\n",
    "df_2_target, df_2_features = features_target(data=df_2)\n",
    "\n",
    "#проверим размерность\n",
    "display(df_0_features.shape,\n",
    "        df_0_target.shape,\n",
    "        df_1_features.shape,\n",
    "        df_1_target.shape,\n",
    "        df_2_features.shape,\n",
    "        df_2_target.shape)"
   ]
  },
  {
   "cell_type": "markdown",
   "metadata": {},
   "source": [
    "**ВЫВОД по \"Загрузке и подготовке данных\":** \n",
    "\n",
    "- типы данных в порядке, явных дубликатов не замечено, пропусков нет, распределения в целом в норме, критических выбросов не наблюдается, следовательно данные оставляем в покое;\n",
    "\n",
    "- осуществили разделение в датасетах на целевой признак и признаки, убрали столбец *id*."
   ]
  },
  {
   "cell_type": "markdown",
   "metadata": {},
   "source": [
    "## Обучение и проверка модели"
   ]
  },
  {
   "cell_type": "markdown",
   "metadata": {},
   "source": [
    "Необходимо разбить данные на обучающую и валидационную выборки в соотношении 75:25. \n",
    "\n",
    "Обучить модель и сделать предсказания на валидационной  выборке. \n",
    "\n",
    "Вывести RMSE модели и средний запас предсказанного сырья."
   ]
  },
  {
   "cell_type": "code",
   "execution_count": 10,
   "metadata": {},
   "outputs": [],
   "source": [
    "#Функция для обучения модели, расчета метрик\n",
    "def our_model(features, target):\n",
    "    features_train, features_valid, target_train, target_valid = train_test_split(features, \n",
    "                                                                                  target, \n",
    "                                                                                  test_size=0.25, \n",
    "                                                                                  random_state=12345)\n",
    "    model = LinearRegression()\n",
    "    model.fit(features_train, target_train)\n",
    "    predictions = model.predict(features_valid)\n",
    "    prediction_constant = pd.Series(target_train.mean(), index=target_valid.index)\n",
    "    rmse = mean_squared_error(target_valid, predictions)**0.5\n",
    "    mean_product =  predictions.mean()\n",
    "    return model, target_valid, predictions, rmse, mean_product"
   ]
  },
  {
   "cell_type": "markdown",
   "metadata": {},
   "source": [
    "**Регион 0**"
   ]
  },
  {
   "cell_type": "code",
   "execution_count": 11,
   "metadata": {},
   "outputs": [
    {
     "name": "stdout",
     "output_type": "stream",
     "text": [
      "(25000,)\n",
      "71751     10.038645\n",
      "80493    114.551489\n",
      "2655     132.603635\n",
      "53233    169.072125\n",
      "91141    122.325180\n",
      "9539      37.735331\n",
      "8482     139.227191\n",
      "30284     72.491987\n",
      "66393     11.465993\n",
      "99584    110.562031\n",
      "Name: product, dtype: float64\n",
      "71751     95.894952\n",
      "80493     77.572583\n",
      "2655      77.892640\n",
      "53233     90.175134\n",
      "91141     70.510088\n",
      "9539      69.127076\n",
      "8482     125.106759\n",
      "30284     87.643849\n",
      "66393     86.035871\n",
      "99584     98.655311\n",
      "dtype: float64\n",
      "rmse модели: 37.5794217150813\n",
      "Cредний запас предсказанного сырья: 92.59256778438035\n"
     ]
    }
   ],
   "source": [
    "model_0, df_0_target_valid, prediction_valid_0, rmse_0, mean_product_0  = our_model(features=df_0_features, \n",
    "                                                                                                    target=df_0_target)\n",
    "prediction_valid_0 = pd.Series(prediction_valid_0, index=df_0_target_valid.index)\n",
    "print(df_0_target_valid.shape)\n",
    "print(df_0_target_valid.head(10))\n",
    "print(prediction_valid_0.head(10))\n",
    "print('rmse модели:', rmse_0)\n",
    "print('Cредний запас предсказанного сырья:', mean_product_0)"
   ]
  },
  {
   "cell_type": "markdown",
   "metadata": {},
   "source": [
    "**Регион 1**"
   ]
  },
  {
   "cell_type": "code",
   "execution_count": 12,
   "metadata": {},
   "outputs": [
    {
     "name": "stdout",
     "output_type": "stream",
     "text": [
      "71751     80.859783\n",
      "80493     53.906522\n",
      "2655      30.132364\n",
      "53233     53.906522\n",
      "91141      0.000000\n",
      "9539     110.992147\n",
      "8482     137.945408\n",
      "30284     84.038886\n",
      "66393    110.992147\n",
      "99584     26.953261\n",
      "Name: product, dtype: float64\n",
      "71751     82.663314\n",
      "80493     54.431786\n",
      "2655      29.748760\n",
      "53233     53.552133\n",
      "91141      1.243856\n",
      "9539     111.438490\n",
      "8482     137.134374\n",
      "30284     82.888902\n",
      "66393    110.897311\n",
      "99584     29.219306\n",
      "dtype: float64\n",
      "rmse модели: 0.893099286775617\n",
      "Cредний запас предсказанного сырья: 68.728546895446\n"
     ]
    }
   ],
   "source": [
    "model_1, df_1_target_valid, prediction_valid_1, rmse_1, mean_product_1  = our_model(features=df_1_features, \n",
    "                                                                                                    target=df_1_target)\n",
    "\n",
    "prediction_valid_1 = pd.Series(prediction_valid_1, index=df_1_target_valid.index)\n",
    "print(df_1_target_valid.head(10))\n",
    "print(prediction_valid_1.head(10))\n",
    "print('rmse модели:', rmse_1)\n",
    "print('Cредний запас предсказанного сырья:', mean_product_1)"
   ]
  },
  {
   "cell_type": "markdown",
   "metadata": {},
   "source": [
    "**Регион 2**"
   ]
  },
  {
   "cell_type": "code",
   "execution_count": 13,
   "metadata": {},
   "outputs": [
    {
     "name": "stdout",
     "output_type": "stream",
     "text": [
      "(25000,)\n",
      "71751     61.212375\n",
      "80493     41.850118\n",
      "2655      57.776581\n",
      "53233    100.053761\n",
      "91141    109.897122\n",
      "9539     105.904629\n",
      "8482      51.646180\n",
      "30284    173.162121\n",
      "66393    113.143072\n",
      "99584     56.803215\n",
      "Name: product, dtype: float64\n",
      "71751     93.599633\n",
      "80493     75.105159\n",
      "2655      90.066809\n",
      "53233    105.162375\n",
      "91141    115.303310\n",
      "9539     121.939197\n",
      "8482     119.053040\n",
      "30284     75.396575\n",
      "66393    111.400543\n",
      "99584     84.029320\n",
      "dtype: float64\n",
      "rmse модели: 40.02970873393434\n",
      "Cредний запас предсказанного сырья: 94.96504596800489\n"
     ]
    }
   ],
   "source": [
    "model_2, df_2_target_valid, prediction_valid_2, rmse_2, mean_product_2  = our_model(features=df_2_features, \n",
    "                                                                                                    target=df_2_target)\n",
    "prediction_valid_2 = pd.Series(prediction_valid_2, index=df_2_target_valid.index)\n",
    "print(df_2_target_valid.shape)\n",
    "print(df_2_target_valid.head(10))\n",
    "print(prediction_valid_2.head(10))\n",
    "print('rmse модели:', rmse_2)\n",
    "print('Cредний запас предсказанного сырья:', mean_product_2)"
   ]
  },
  {
   "cell_type": "markdown",
   "metadata": {},
   "source": [
    "**ВЫВОД по \"Обучению и проверке модели\":**\n",
    "\n",
    "- по точности предсказания моделей лидирует модель региона 1. В остальных регионах ошибка больше в разы;\n",
    "\n",
    "- по среднему запасу сырья регион 1 замыкает тройку со значением 68.72, в лидерах регион 2 - 94.96, регион 0 - 92.59."
   ]
  },
  {
   "cell_type": "markdown",
   "metadata": {},
   "source": [
    "## Подготовка к расчёту прибыли"
   ]
  },
  {
   "cell_type": "markdown",
   "metadata": {},
   "source": [
    "Ключевые значения расчетов сохраните в отдельных переменных.\n",
    "\n",
    "Рассчитать достаточный объем сырья для безубыточной разработки новой скважины.\n",
    "\n",
    "Сравнить полученный объем сырья со средним запасом в каждом регионе."
   ]
  },
  {
   "cell_type": "code",
   "execution_count": 14,
   "metadata": {},
   "outputs": [],
   "source": [
    "BUDGET = 10000000000 # бюджет на регион\n",
    "N = 500 # число скважин для исследования\n",
    "COUNT = 200 # число скважин для разработки\n",
    "COST_BAR = 450000 # стоимость 1000 баррелей"
   ]
  },
  {
   "cell_type": "code",
   "execution_count": 15,
   "metadata": {},
   "outputs": [
    {
     "name": "stdout",
     "output_type": "stream",
     "text": [
      "Достаточный объем сырья для безубыточной разработки новой скважины: 111.11111111111111\n"
     ]
    }
   ],
   "source": [
    "budget_count = BUDGET/COUNT # бюджет на 1 скважину\n",
    "product = budget_count/COST_BAR # кол-во тыс барреллей\n",
    "print('Достаточный объем сырья для безубыточной разработки новой скважины:', product)"
   ]
  },
  {
   "cell_type": "code",
   "execution_count": 16,
   "metadata": {},
   "outputs": [
    {
     "name": "stdout",
     "output_type": "stream",
     "text": [
      "Cредний запас сырья в регионе 0: 92.50000000000001\n",
      "Cредний запас сырья в регионе 1: 68.82500000000002\n",
      "Cредний запас сырья в регионе 2: 95.00000000000004\n",
      "Достаточный объем сырья для безубыточной разработки новой скважины: 111.11111111111111\n"
     ]
    }
   ],
   "source": [
    "print('Cредний запас сырья в регионе 0:', df_0['product'].mean())\n",
    "print('Cредний запас сырья в регионе 1:', df_1['product'].mean())\n",
    "print('Cредний запас сырья в регионе 2:', df_2['product'].mean())\n",
    "\n",
    "print('Достаточный объем сырья для безубыточной разработки новой скважины:', product)"
   ]
  },
  {
   "cell_type": "markdown",
   "metadata": {},
   "source": [
    "**ВЫВОД по \"Подготовке к расчету прибыли\":**\n",
    "\n",
    "- достаточный объем сырья для безубыточной разработки новой скважины равен 111 тыс;\n",
    "\n",
    "- по сравнению с запасами в других регионах это значение выше имеющихся запасов."
   ]
  },
  {
   "cell_type": "markdown",
   "metadata": {},
   "source": [
    "## Расчёт прибыли и рисков "
   ]
  },
  {
   "cell_type": "markdown",
   "metadata": {},
   "source": [
    "Написать функцию для расчёта прибыли по выбранным скважинам и предсказаниям модели.\n",
    "\n",
    "Посчитайте риски и прибыль для каждого региона."
   ]
  },
  {
   "cell_type": "code",
   "execution_count": 17,
   "metadata": {},
   "outputs": [],
   "source": [
    "#Функция для расчета прибыли по скважинам и предсказаниям моделей\n",
    "def profit(target, probabilities, count):\n",
    "    probabilities_sorted = probabilities.sort_values(ascending=False)\n",
    "    selected = target[probabilities_sorted.index][:count]\n",
    "    return (COST_BAR*selected.sum() - BUDGET)/1000000"
   ]
  },
  {
   "cell_type": "code",
   "execution_count": 18,
   "metadata": {},
   "outputs": [],
   "source": [
    "#Функция нахождения прибыли техникой Bootstrap\n",
    "def bootstrap1000(target, prediction, n):\n",
    "    state = np.random.RandomState(12345)\n",
    "    values = []\n",
    "    for i in range (1000):\n",
    "        sub_target = target.sample(n, replace=True, random_state=state)\n",
    "        sub_prediction = prediction[sub_target.index]\n",
    "        values.append(profit(sub_target, sub_prediction, COUNT))\n",
    "    values = pd.Series(values)\n",
    "    value_mean = values.mean() # среднее значение прибыли\n",
    "    lower = values.quantile(q=0.025) # 2,5% квартиль для подсчета нижней границы 95% доверительного интервала \n",
    "    upper = values.quantile(q=0.975) # 97,5% квартиль для подсчета верхней границы 95% доверительного интервала\n",
    "    risk = (len(values.loc[values < 0])/len(values))*100\n",
    "    return value_mean, lower, upper, risk    "
   ]
  },
  {
   "cell_type": "markdown",
   "metadata": {},
   "source": [
    "**Регион 0**"
   ]
  },
  {
   "cell_type": "code",
   "execution_count": 19,
   "metadata": {},
   "outputs": [
    {
     "name": "stdout",
     "output_type": "stream",
     "text": [
      "Средняя прибыль в регионе 0: 425.9385269105924\n",
      "95% доверительный интервал для средней прибыли в регионе 0: -102.09009483793655 - 947.9763533583689\n",
      "Риск убытков в регионе 0: 6.0 %\n"
     ]
    }
   ],
   "source": [
    "profit_0, lower_0, upper_0, risk_0 = bootstrap1000(df_0_target_valid, prediction_valid_0, N)\n",
    "print('Средняя прибыль в регионе 0:', profit_0)\n",
    "print('95% доверительный интервал для средней прибыли в регионе 0:', lower_0, '-', upper_0)\n",
    "print('Риск убытков в регионе 0:', risk_0, '%')"
   ]
  },
  {
   "cell_type": "markdown",
   "metadata": {},
   "source": [
    "**Регион 1**"
   ]
  },
  {
   "cell_type": "code",
   "execution_count": 20,
   "metadata": {},
   "outputs": [
    {
     "name": "stdout",
     "output_type": "stream",
     "text": [
      "Средняя прибыль в регионе 1: 515.22277344329\n",
      "95% доверительный интервал для средней прибыли в регионе 1: 68.87322537050176 - 931.5475912570495\n",
      "Риск убытков в регионе 1: 1.0 %\n"
     ]
    }
   ],
   "source": [
    "profit_1, lower_1, upper_1, risk_1 = bootstrap1000(df_1_target_valid, prediction_valid_1, N)\n",
    "print('Средняя прибыль в регионе 1:', profit_1)\n",
    "print('95% доверительный интервал для средней прибыли в регионе 1:', lower_1, '-', upper_1)\n",
    "print('Риск убытков в регионе 1:', risk_1, '%')"
   ]
  },
  {
   "cell_type": "markdown",
   "metadata": {},
   "source": [
    "**Регион 2**"
   ]
  },
  {
   "cell_type": "code",
   "execution_count": 21,
   "metadata": {},
   "outputs": [
    {
     "name": "stdout",
     "output_type": "stream",
     "text": [
      "Средняя прибыль в регионе 2: 435.0083627827556\n",
      "95% доверительный интервал для средней прибыли в регионе 2: -128.880547329789 - 969.7069541802662\n",
      "Риск убытков в регионе 2: 6.4 %\n"
     ]
    }
   ],
   "source": [
    "profit_2, lower_2, upper_2, risk_2 = bootstrap1000(df_2_target_valid, prediction_valid_2, N)\n",
    "print('Средняя прибыль в регионе 2:', profit_2)\n",
    "print('95% доверительный интервал для средней прибыли в регионе 2:', lower_2, '-', upper_2)\n",
    "print('Риск убытков в регионе 2:', risk_2, '%')"
   ]
  },
  {
   "cell_type": "markdown",
   "metadata": {},
   "source": [
    "**ВЫВОД по \"Расчету прибыли и рисков\":** самым предпочтительным регионом для разработки является *Регион 1*, так как по сравнению с другими здесь:\n",
    "\n",
    "- наибольшая возможная средняя прибыль - 515.222;\n",
    "\n",
    "- самый низкий риск убытков - 1%\n",
    "\n",
    "- самый лучший 95% доверительный интервал."
   ]
  },
  {
   "cell_type": "markdown",
   "metadata": {},
   "source": [
    "## Выводы"
   ]
  },
  {
   "cell_type": "markdown",
   "metadata": {},
   "source": [
    "### Целями нашего проекта были:\n",
    "\n",
    "- построить модель для определения региона, где добыча принесет наибольшую прибыль\n",
    "\n",
    "- проанализировать возможную прибыль и риски техникой Bootstrap\n",
    "\n",
    "### Нам были предоставлены следующие датасеты:\n",
    "\n",
    "geo_data_0.csv, geo_data_1.csv, geo_data_2.csv, где \n",
    "\n",
    "- *id* — уникальный идентификатор скважины;\n",
    "\n",
    "- *f0, f1, f2* — три признака точек (неважно, что они означают, но сами признаки значимы);\n",
    "\n",
    "- *product* — объём запасов в скважине (тыс. баррелей).\n",
    "\n",
    "### Блок \"Загрузка и подготовка данных\": \n",
    "\n",
    "- типы данных в порядке, явных дубликатов не замечено, пропусков нет, распределения в целом в норме, критических выбросов не наблюдается, следовательно данные оставляем в покое;\n",
    "\n",
    "- осуществили разделение в датасетах на целевой признак и признаки, убрали столбец *id*.\n",
    "\n",
    "### Блок \"Обучение и проверка модели\":\n",
    "\n",
    "- по точности предсказания моделей лидирует модель региона 1. В остальных регионах ошибка больше в разы;\n",
    "\n",
    "- по среднему запасу сырья регион 1 замыкает тройку со значением 68.72, в лидерах регион 2 - 94.96, регион 0 - 92.59.\n",
    "\n",
    "### Блок \"Подготовка к расчету прибыли\":\n",
    "\n",
    "- достаточный объем сырья для безубыточной разработки новой скважины равен 111 тыс;\n",
    "\n",
    "- по сравнению с запасами в других регионах это значение выше имеющихся запасов.\n",
    "\n",
    "### Блок \"Расчет прибыли и рисков\":\n",
    "\n",
    "самым предпочтительным регионом для разработки является *Регион 1*, так как по сравнению с другими здесь:\n",
    "\n",
    "- наибольшая возможная средняя прибыль - 515.222;\n",
    "\n",
    "- самый низкий риск убытков - 1%\n",
    "\n",
    "- самый лучший 95% доверительный интервал.\n",
    "------------------------------------------------------------------------------------------------------------------------------\n",
    "\n",
    "**Рекоменация к разработке: РЕГИОН 1**"
   ]
  },
  {
   "cell_type": "markdown",
   "metadata": {},
   "source": [
    "## Чек-лист готовности проекта"
   ]
  },
  {
   "cell_type": "markdown",
   "metadata": {},
   "source": [
    "Поставьте 'x' в выполненных пунктах. Далее нажмите Shift+Enter."
   ]
  },
  {
   "cell_type": "markdown",
   "metadata": {},
   "source": [
    "- [x]  Jupyter Notebook открыт\n",
    "- [x]  Весь код выполняется без ошибок\n",
    "- [x]  Ячейки с кодом расположены в порядке исполнения\n",
    "- [x]  Выполнен шаг 1: данные подготовлены\n",
    "- [x]  Выполнен шаг 2: модели обучены и проверены\n",
    "    - [x]  Данные корректно разбиты на обучающую и валидационную выборки\n",
    "    - [x]  Модели обучены, предсказания сделаны\n",
    "    - [x]  Предсказания и правильные ответы на валидационной выборке сохранены\n",
    "    - [x]  На экране напечатаны результаты\n",
    "    - [x]  Сделаны выводы\n",
    "- [x]  Выполнен шаг 3: проведена подготовка к расчёту прибыли\n",
    "    - [x]  Для всех ключевых значений созданы константы Python\n",
    "    - [x]  Посчитано минимальное среднее количество продукта в месторождениях региона, достаточное для разработки\n",
    "    - [x]  По предыдущему пункту сделаны выводы\n",
    "    - [x]  Написана функция расчёта прибыли\n",
    "- [x]  Выполнен шаг 4: посчитаны риски и прибыль\n",
    "    - [x]  Проведена процедура *Bootstrap*\n",
    "    - [x]  Все параметры бутстрепа соответствуют условию\n",
    "    - [x]  Найдены все нужные величины\n",
    "    - [x]  Предложен регион для разработки месторождения\n",
    "    - [x]  Выбор региона обоснован"
   ]
  },
  {
   "cell_type": "code",
   "execution_count": null,
   "metadata": {},
   "outputs": [],
   "source": []
  }
 ],
 "metadata": {
  "ExecuteTimeLog": [
   {
    "duration": 3758,
    "start_time": "2024-11-02T17:11:07.671Z"
   },
   {
    "duration": 976,
    "start_time": "2024-11-02T17:11:11.431Z"
   },
   {
    "duration": 886,
    "start_time": "2024-11-02T17:12:42.043Z"
   },
   {
    "duration": 3,
    "start_time": "2024-11-02T17:14:48.151Z"
   },
   {
    "duration": 3,
    "start_time": "2024-11-02T17:14:50.457Z"
   },
   {
    "duration": 98,
    "start_time": "2024-11-02T17:15:49.202Z"
   },
   {
    "duration": 4,
    "start_time": "2024-11-02T17:16:00.503Z"
   },
   {
    "duration": 1238,
    "start_time": "2024-11-02T17:16:01.560Z"
   },
   {
    "duration": 4,
    "start_time": "2024-11-02T17:17:11.886Z"
   },
   {
    "duration": 3,
    "start_time": "2024-11-02T17:17:35.341Z"
   },
   {
    "duration": 3,
    "start_time": "2024-11-02T17:17:41.249Z"
   },
   {
    "duration": 614,
    "start_time": "2024-11-02T17:17:43.391Z"
   },
   {
    "duration": 643,
    "start_time": "2024-11-02T17:19:41.986Z"
   },
   {
    "duration": 609,
    "start_time": "2024-11-02T17:19:51.778Z"
   },
   {
    "duration": 3,
    "start_time": "2024-11-02T17:22:50.823Z"
   },
   {
    "duration": 2929,
    "start_time": "2024-11-02T17:32:47.736Z"
   },
   {
    "duration": 4,
    "start_time": "2024-11-02T17:32:50.668Z"
   },
   {
    "duration": 433,
    "start_time": "2024-11-02T17:32:50.673Z"
   },
   {
    "duration": 4,
    "start_time": "2024-11-02T17:32:51.107Z"
   },
   {
    "duration": 658,
    "start_time": "2024-11-02T17:32:51.119Z"
   },
   {
    "duration": 584,
    "start_time": "2024-11-02T17:32:51.779Z"
   },
   {
    "duration": 743,
    "start_time": "2024-11-02T17:32:52.364Z"
   },
   {
    "duration": 4,
    "start_time": "2024-11-02T17:43:34.296Z"
   },
   {
    "duration": 3,
    "start_time": "2024-11-02T17:43:44.704Z"
   },
   {
    "duration": 22,
    "start_time": "2024-11-02T17:46:03.957Z"
   },
   {
    "duration": 4,
    "start_time": "2024-11-02T17:46:14.977Z"
   },
   {
    "duration": 28,
    "start_time": "2024-11-02T17:46:15.709Z"
   },
   {
    "duration": 15,
    "start_time": "2024-11-02T17:48:51.002Z"
   },
   {
    "duration": 6818,
    "start_time": "2024-11-04T08:04:40.567Z"
   },
   {
    "duration": 1001,
    "start_time": "2024-11-04T08:04:47.387Z"
   },
   {
    "duration": 905,
    "start_time": "2024-11-04T08:04:48.389Z"
   },
   {
    "duration": 4,
    "start_time": "2024-11-04T08:04:49.296Z"
   },
   {
    "duration": 1050,
    "start_time": "2024-11-04T08:04:49.302Z"
   },
   {
    "duration": 588,
    "start_time": "2024-11-04T08:04:50.354Z"
   },
   {
    "duration": 693,
    "start_time": "2024-11-04T08:04:50.944Z"
   },
   {
    "duration": 3,
    "start_time": "2024-11-04T08:04:51.639Z"
   },
   {
    "duration": 24,
    "start_time": "2024-11-04T08:04:51.644Z"
   },
   {
    "duration": 10,
    "start_time": "2024-11-04T09:41:42.505Z"
   },
   {
    "duration": 120,
    "start_time": "2024-11-04T09:41:43.489Z"
   },
   {
    "duration": 196,
    "start_time": "2024-11-04T09:41:53.805Z"
   },
   {
    "duration": 4,
    "start_time": "2024-11-04T09:42:25.750Z"
   },
   {
    "duration": 85,
    "start_time": "2024-11-04T09:42:27.117Z"
   },
   {
    "duration": 4,
    "start_time": "2024-11-04T09:42:54.982Z"
   },
   {
    "duration": 57,
    "start_time": "2024-11-04T09:42:56.043Z"
   },
   {
    "duration": 10,
    "start_time": "2024-11-04T09:44:05.163Z"
   },
   {
    "duration": 32,
    "start_time": "2024-11-04T09:44:13.069Z"
   },
   {
    "duration": 4,
    "start_time": "2024-11-04T09:45:04.885Z"
   },
   {
    "duration": 30,
    "start_time": "2024-11-04T09:46:32.569Z"
   },
   {
    "duration": 2912,
    "start_time": "2024-11-04T09:51:12.835Z"
   },
   {
    "duration": 4,
    "start_time": "2024-11-04T09:51:15.749Z"
   },
   {
    "duration": 429,
    "start_time": "2024-11-04T09:51:15.755Z"
   },
   {
    "duration": 4,
    "start_time": "2024-11-04T09:51:16.185Z"
   },
   {
    "duration": 672,
    "start_time": "2024-11-04T09:51:16.199Z"
   },
   {
    "duration": 603,
    "start_time": "2024-11-04T09:51:16.873Z"
   },
   {
    "duration": 647,
    "start_time": "2024-11-04T09:51:17.477Z"
   },
   {
    "duration": 3,
    "start_time": "2024-11-04T09:51:18.125Z"
   },
   {
    "duration": 16,
    "start_time": "2024-11-04T09:51:18.129Z"
   },
   {
    "duration": 5,
    "start_time": "2024-11-04T09:51:18.146Z"
   },
   {
    "duration": 252,
    "start_time": "2024-11-04T09:51:18.152Z"
   },
   {
    "duration": 94,
    "start_time": "2024-11-04T09:51:18.406Z"
   },
   {
    "duration": 115,
    "start_time": "2024-11-04T09:51:18.504Z"
   },
   {
    "duration": 2,
    "start_time": "2024-11-04T09:55:48.830Z"
   },
   {
    "duration": 4,
    "start_time": "2024-11-04T09:55:49.425Z"
   },
   {
    "duration": 8,
    "start_time": "2024-11-04T09:57:32.015Z"
   },
   {
    "duration": 5,
    "start_time": "2024-11-04T09:57:51.175Z"
   },
   {
    "duration": 9,
    "start_time": "2024-11-04T09:59:58.403Z"
   },
   {
    "duration": 7,
    "start_time": "2024-11-04T10:00:53.965Z"
   },
   {
    "duration": 8,
    "start_time": "2024-11-04T10:01:55.062Z"
   },
   {
    "duration": 4,
    "start_time": "2024-11-04T10:01:57.847Z"
   },
   {
    "duration": 3213,
    "start_time": "2024-11-04T10:04:48.005Z"
   },
   {
    "duration": 4,
    "start_time": "2024-11-04T10:04:51.220Z"
   },
   {
    "duration": 457,
    "start_time": "2024-11-04T10:04:51.225Z"
   },
   {
    "duration": 4,
    "start_time": "2024-11-04T10:04:51.684Z"
   },
   {
    "duration": 781,
    "start_time": "2024-11-04T10:04:51.689Z"
   },
   {
    "duration": 618,
    "start_time": "2024-11-04T10:04:52.472Z"
   },
   {
    "duration": 692,
    "start_time": "2024-11-04T10:04:53.091Z"
   },
   {
    "duration": 3,
    "start_time": "2024-11-04T10:04:53.785Z"
   },
   {
    "duration": 30,
    "start_time": "2024-11-04T10:04:53.789Z"
   },
   {
    "duration": 10,
    "start_time": "2024-11-04T10:04:53.821Z"
   },
   {
    "duration": 169,
    "start_time": "2024-11-04T10:04:53.833Z"
   },
   {
    "duration": 113,
    "start_time": "2024-11-04T10:04:54.010Z"
   },
   {
    "duration": 117,
    "start_time": "2024-11-04T10:04:54.204Z"
   },
   {
    "duration": 13,
    "start_time": "2024-11-04T10:04:54.399Z"
   },
   {
    "duration": 85,
    "start_time": "2024-11-04T10:04:54.422Z"
   },
   {
    "duration": 7,
    "start_time": "2024-11-04T10:04:54.512Z"
   },
   {
    "duration": 4,
    "start_time": "2024-11-04T10:07:15.696Z"
   },
   {
    "duration": 5,
    "start_time": "2024-11-04T10:09:04.425Z"
   },
   {
    "duration": 1471,
    "start_time": "2024-11-04T10:09:27.598Z"
   },
   {
    "duration": 1461,
    "start_time": "2024-11-04T10:09:38.368Z"
   },
   {
    "duration": 1452,
    "start_time": "2024-11-04T10:10:33.296Z"
   },
   {
    "duration": 1440,
    "start_time": "2024-11-04T10:11:15.047Z"
   },
   {
    "duration": 6,
    "start_time": "2024-11-04T10:12:16.109Z"
   },
   {
    "duration": 3099,
    "start_time": "2024-11-04T10:13:06.580Z"
   },
   {
    "duration": 4,
    "start_time": "2024-11-04T10:13:09.681Z"
   },
   {
    "duration": 466,
    "start_time": "2024-11-04T10:13:09.686Z"
   },
   {
    "duration": 4,
    "start_time": "2024-11-04T10:13:10.154Z"
   },
   {
    "duration": 782,
    "start_time": "2024-11-04T10:13:10.161Z"
   },
   {
    "duration": 649,
    "start_time": "2024-11-04T10:13:10.945Z"
   },
   {
    "duration": 640,
    "start_time": "2024-11-04T10:13:11.596Z"
   },
   {
    "duration": 3,
    "start_time": "2024-11-04T10:13:12.238Z"
   },
   {
    "duration": 21,
    "start_time": "2024-11-04T10:13:12.242Z"
   },
   {
    "duration": 4,
    "start_time": "2024-11-04T10:13:12.264Z"
   },
   {
    "duration": 244,
    "start_time": "2024-11-04T10:13:12.270Z"
   },
   {
    "duration": 100,
    "start_time": "2024-11-04T10:13:12.516Z"
   },
   {
    "duration": 186,
    "start_time": "2024-11-04T10:13:12.618Z"
   },
   {
    "duration": 3,
    "start_time": "2024-11-04T10:13:12.808Z"
   },
   {
    "duration": 91,
    "start_time": "2024-11-04T10:13:12.814Z"
   },
   {
    "duration": 12,
    "start_time": "2024-11-04T10:13:12.907Z"
   },
   {
    "duration": 4,
    "start_time": "2024-11-04T10:13:12.920Z"
   },
   {
    "duration": 9,
    "start_time": "2024-11-04T10:13:12.925Z"
   },
   {
    "duration": 1432,
    "start_time": "2024-11-04T10:13:12.935Z"
   },
   {
    "duration": 1405,
    "start_time": "2024-11-04T10:13:14.369Z"
   },
   {
    "duration": 1444,
    "start_time": "2024-11-04T10:13:15.776Z"
   },
   {
    "duration": 3222,
    "start_time": "2024-11-04T10:28:12.571Z"
   },
   {
    "duration": 5,
    "start_time": "2024-11-04T10:28:15.796Z"
   },
   {
    "duration": 468,
    "start_time": "2024-11-04T10:28:15.803Z"
   },
   {
    "duration": 3,
    "start_time": "2024-11-04T10:28:16.273Z"
   },
   {
    "duration": 701,
    "start_time": "2024-11-04T10:28:16.278Z"
   },
   {
    "duration": 780,
    "start_time": "2024-11-04T10:28:16.981Z"
   },
   {
    "duration": 653,
    "start_time": "2024-11-04T10:28:17.763Z"
   },
   {
    "duration": 3,
    "start_time": "2024-11-04T10:28:18.418Z"
   },
   {
    "duration": 44,
    "start_time": "2024-11-04T10:28:18.422Z"
   },
   {
    "duration": 11,
    "start_time": "2024-11-04T10:28:18.467Z"
   },
   {
    "duration": 55,
    "start_time": "2024-11-04T10:28:18.479Z"
   },
   {
    "duration": 122,
    "start_time": "2024-11-04T10:28:18.607Z"
   },
   {
    "duration": 186,
    "start_time": "2024-11-04T10:28:18.731Z"
   },
   {
    "duration": 81,
    "start_time": "2024-11-04T10:28:18.921Z"
   },
   {
    "duration": 90,
    "start_time": "2024-11-04T10:28:19.010Z"
   },
   {
    "duration": 11,
    "start_time": "2024-11-04T10:28:19.106Z"
   },
   {
    "duration": 3,
    "start_time": "2024-11-04T10:28:19.119Z"
   },
   {
    "duration": 7,
    "start_time": "2024-11-04T10:28:19.124Z"
   },
   {
    "duration": 1476,
    "start_time": "2024-11-04T10:28:19.132Z"
   },
   {
    "duration": 1515,
    "start_time": "2024-11-04T10:28:20.611Z"
   },
   {
    "duration": 1453,
    "start_time": "2024-11-04T10:28:22.128Z"
   },
   {
    "duration": 6745,
    "start_time": "2024-11-04T12:49:42.996Z"
   },
   {
    "duration": 869,
    "start_time": "2024-11-04T12:49:49.743Z"
   },
   {
    "duration": 862,
    "start_time": "2024-11-04T12:49:50.613Z"
   },
   {
    "duration": 3,
    "start_time": "2024-11-04T12:49:51.477Z"
   },
   {
    "duration": 932,
    "start_time": "2024-11-04T12:49:51.482Z"
   },
   {
    "duration": 502,
    "start_time": "2024-11-04T12:49:52.416Z"
   },
   {
    "duration": 590,
    "start_time": "2024-11-04T12:49:52.919Z"
   },
   {
    "duration": 3,
    "start_time": "2024-11-04T12:49:53.510Z"
   },
   {
    "duration": 16,
    "start_time": "2024-11-04T12:49:53.515Z"
   },
   {
    "duration": 6,
    "start_time": "2024-11-04T12:49:53.532Z"
   },
   {
    "duration": 125,
    "start_time": "2024-11-04T12:49:53.539Z"
   },
   {
    "duration": 193,
    "start_time": "2024-11-04T12:49:53.665Z"
   },
   {
    "duration": 115,
    "start_time": "2024-11-04T12:49:53.861Z"
   },
   {
    "duration": 81,
    "start_time": "2024-11-04T12:49:53.980Z"
   },
   {
    "duration": 96,
    "start_time": "2024-11-04T12:49:54.063Z"
   },
   {
    "duration": 6,
    "start_time": "2024-11-04T12:49:54.160Z"
   },
   {
    "duration": 2,
    "start_time": "2024-11-04T12:49:54.168Z"
   },
   {
    "duration": 4,
    "start_time": "2024-11-04T12:49:54.172Z"
   },
   {
    "duration": 1071,
    "start_time": "2024-11-04T12:49:54.177Z"
   },
   {
    "duration": 1008,
    "start_time": "2024-11-04T12:49:55.249Z"
   },
   {
    "duration": 1050,
    "start_time": "2024-11-04T12:49:56.259Z"
   },
   {
    "duration": 94,
    "start_time": "2024-11-04T12:52:23.864Z"
   }
  ],
  "kernelspec": {
   "display_name": "Python 3 (ipykernel)",
   "language": "python",
   "name": "python3"
  },
  "language_info": {
   "codemirror_mode": {
    "name": "ipython",
    "version": 3
   },
   "file_extension": ".py",
   "mimetype": "text/x-python",
   "name": "python",
   "nbconvert_exporter": "python",
   "pygments_lexer": "ipython3",
   "version": "3.11.9"
  },
  "toc": {
   "base_numbering": 1,
   "nav_menu": {},
   "number_sections": true,
   "sideBar": true,
   "skip_h1_title": true,
   "title_cell": "Table of Contents",
   "title_sidebar": "Contents",
   "toc_cell": false,
   "toc_position": {
    "height": "calc(100% - 180px)",
    "left": "10px",
    "top": "150px",
    "width": "343.594px"
   },
   "toc_section_display": true,
   "toc_window_display": true
  }
 },
 "nbformat": 4,
 "nbformat_minor": 4
}

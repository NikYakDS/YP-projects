{
 "cells": [
  {
   "cell_type": "markdown",
   "metadata": {
    "toc": true
   },
   "source": [
    "<h1>Содержание<span class=\"tocSkip\"></span></h1>\n",
    "<div class=\"toc\"><ul class=\"toc-item\"><li><span><a href=\"#Подготовка\" data-toc-modified-id=\"Подготовка-1\"><span class=\"toc-item-num\">1&nbsp;&nbsp;</span>Подготовка</a></span><ul class=\"toc-item\"><li><span><a href=\"#Вывод:\" data-toc-modified-id=\"Вывод:-1.1\"><span class=\"toc-item-num\">1.1&nbsp;&nbsp;</span><strong>Вывод:</strong></a></span></li></ul></li><li><span><a href=\"#Анализ\" data-toc-modified-id=\"Анализ-2\"><span class=\"toc-item-num\">2&nbsp;&nbsp;</span>Анализ</a></span><ul class=\"toc-item\"><li><span><a href=\"#Вывод:\" data-toc-modified-id=\"Вывод:-2.1\"><span class=\"toc-item-num\">2.1&nbsp;&nbsp;</span><strong>Вывод:</strong></a></span></li></ul></li><li><span><a href=\"#Обучение\" data-toc-modified-id=\"Обучение-3\"><span class=\"toc-item-num\">3&nbsp;&nbsp;</span>Обучение</a></span><ul class=\"toc-item\"><li><span><a href=\"#Вывод:\" data-toc-modified-id=\"Вывод:-3.1\"><span class=\"toc-item-num\">3.1&nbsp;&nbsp;</span><strong>Вывод:</strong></a></span></li></ul></li><li><span><a href=\"#Тестирование\" data-toc-modified-id=\"Тестирование-4\"><span class=\"toc-item-num\">4&nbsp;&nbsp;</span>Тестирование</a></span></li><li><span><a href=\"#ОБЩИЕ-ВЫВОДЫ:\" data-toc-modified-id=\"ОБЩИЕ-ВЫВОДЫ:-5\"><span class=\"toc-item-num\">5&nbsp;&nbsp;</span><strong>ОБЩИЕ ВЫВОДЫ:</strong></a></span></li><li><span><a href=\"#Чек-лист-проверки\" data-toc-modified-id=\"Чек-лист-проверки-6\"><span class=\"toc-item-num\">6&nbsp;&nbsp;</span>Чек-лист проверки</a></span></li></ul></div>"
   ]
  },
  {
   "cell_type": "markdown",
   "metadata": {},
   "source": [
    "#  Прогнозирование заказов такси"
   ]
  },
  {
   "cell_type": "markdown",
   "metadata": {},
   "source": [
    "Компания «Чётенькое такси» собрала исторические данные о заказах такси в аэропортах. Чтобы привлекать больше водителей в период пиковой нагрузки, нужно спрогнозировать количество заказов такси на следующий час. Постройте модель для такого предсказания.\n",
    "\n",
    "Значение метрики *RMSE* на тестовой выборке должно быть не больше 48.\n",
    "\n",
    "Вам нужно:\n",
    "\n",
    "1. Загрузить данные и выполнить их ресемплирование по одному часу.\n",
    "2. Проанализировать данные.\n",
    "3. Обучить разные модели с различными гиперпараметрами. Сделать тестовую выборку размером 10% от исходных данных.\n",
    "4. Проверить данные на тестовой выборке и сделать выводы.\n",
    "\n",
    "\n",
    "Данные лежат в файле `taxi.csv`. Количество заказов находится в столбце `num_orders` (от англ. *number of orders*, «число заказов»)."
   ]
  },
  {
   "cell_type": "markdown",
   "metadata": {},
   "source": [
    "## Подготовка"
   ]
  },
  {
   "cell_type": "code",
   "execution_count": 113,
   "metadata": {},
   "outputs": [],
   "source": [
    "import pandas as pd\n",
    "import numpy as np\n",
    "from sklearn.metrics import mean_absolute_error,mean_squared_error\n",
    "from sklearn.model_selection import train_test_split\n",
    "from sklearn.linear_model import LinearRegression\n",
    "from sklearn.preprocessing import StandardScaler\n",
    "from sklearn.metrics import r2_score\n",
    "from tqdm.notebook import tqdm\n",
    "import matplotlib.pyplot as plt\n",
    "import seaborn as sns\n",
    "from sklearn.model_selection import GridSearchCV\n",
    "import lightgbm as lgbm\n",
    "from catboost import CatBoostRegressor\n",
    "from sklearn.ensemble import RandomForestRegressor\n",
    "from sklearn.metrics import make_scorer\n",
    "from sklearn.preprocessing import OrdinalEncoder\n",
    "import time\n",
    "from statsmodels.tsa.seasonal import seasonal_decompose\n",
    "from sklearn.model_selection import TimeSeriesSplit\n",
    "\n",
    "import warnings\n",
    "warnings.filterwarnings('ignore')"
   ]
  },
  {
   "cell_type": "code",
   "execution_count": 114,
   "metadata": {},
   "outputs": [],
   "source": [
    "def info_about(data):\n",
    "    display(data.head())\n",
    "    display(data.info())\n",
    "    display(data.describe())\n",
    "    display(data.duplicated().sum())\n",
    "    display(data.isna().sum())\n",
    "    display(data.corr())\n",
    "    data.hist(figsize=(12, 12))"
   ]
  },
  {
   "cell_type": "code",
   "execution_count": 115,
   "metadata": {},
   "outputs": [
    {
     "data": {
      "text/html": [
       "<div>\n",
       "<style scoped>\n",
       "    .dataframe tbody tr th:only-of-type {\n",
       "        vertical-align: middle;\n",
       "    }\n",
       "\n",
       "    .dataframe tbody tr th {\n",
       "        vertical-align: top;\n",
       "    }\n",
       "\n",
       "    .dataframe thead th {\n",
       "        text-align: right;\n",
       "    }\n",
       "</style>\n",
       "<table border=\"1\" class=\"dataframe\">\n",
       "  <thead>\n",
       "    <tr style=\"text-align: right;\">\n",
       "      <th></th>\n",
       "      <th>datetime</th>\n",
       "      <th>num_orders</th>\n",
       "    </tr>\n",
       "  </thead>\n",
       "  <tbody>\n",
       "    <tr>\n",
       "      <th>0</th>\n",
       "      <td>2018-03-01 00:00:00</td>\n",
       "      <td>9</td>\n",
       "    </tr>\n",
       "    <tr>\n",
       "      <th>1</th>\n",
       "      <td>2018-03-01 00:10:00</td>\n",
       "      <td>14</td>\n",
       "    </tr>\n",
       "    <tr>\n",
       "      <th>2</th>\n",
       "      <td>2018-03-01 00:20:00</td>\n",
       "      <td>28</td>\n",
       "    </tr>\n",
       "    <tr>\n",
       "      <th>3</th>\n",
       "      <td>2018-03-01 00:30:00</td>\n",
       "      <td>20</td>\n",
       "    </tr>\n",
       "    <tr>\n",
       "      <th>4</th>\n",
       "      <td>2018-03-01 00:40:00</td>\n",
       "      <td>32</td>\n",
       "    </tr>\n",
       "  </tbody>\n",
       "</table>\n",
       "</div>"
      ],
      "text/plain": [
       "              datetime  num_orders\n",
       "0  2018-03-01 00:00:00           9\n",
       "1  2018-03-01 00:10:00          14\n",
       "2  2018-03-01 00:20:00          28\n",
       "3  2018-03-01 00:30:00          20\n",
       "4  2018-03-01 00:40:00          32"
      ]
     },
     "metadata": {},
     "output_type": "display_data"
    },
    {
     "name": "stdout",
     "output_type": "stream",
     "text": [
      "<class 'pandas.core.frame.DataFrame'>\n",
      "RangeIndex: 26496 entries, 0 to 26495\n",
      "Data columns (total 2 columns):\n",
      " #   Column      Non-Null Count  Dtype \n",
      "---  ------      --------------  ----- \n",
      " 0   datetime    26496 non-null  object\n",
      " 1   num_orders  26496 non-null  int64 \n",
      "dtypes: int64(1), object(1)\n",
      "memory usage: 414.1+ KB\n"
     ]
    },
    {
     "data": {
      "text/plain": [
       "None"
      ]
     },
     "metadata": {},
     "output_type": "display_data"
    },
    {
     "data": {
      "text/html": [
       "<div>\n",
       "<style scoped>\n",
       "    .dataframe tbody tr th:only-of-type {\n",
       "        vertical-align: middle;\n",
       "    }\n",
       "\n",
       "    .dataframe tbody tr th {\n",
       "        vertical-align: top;\n",
       "    }\n",
       "\n",
       "    .dataframe thead th {\n",
       "        text-align: right;\n",
       "    }\n",
       "</style>\n",
       "<table border=\"1\" class=\"dataframe\">\n",
       "  <thead>\n",
       "    <tr style=\"text-align: right;\">\n",
       "      <th></th>\n",
       "      <th>num_orders</th>\n",
       "    </tr>\n",
       "  </thead>\n",
       "  <tbody>\n",
       "    <tr>\n",
       "      <th>count</th>\n",
       "      <td>26496.000000</td>\n",
       "    </tr>\n",
       "    <tr>\n",
       "      <th>mean</th>\n",
       "      <td>14.070463</td>\n",
       "    </tr>\n",
       "    <tr>\n",
       "      <th>std</th>\n",
       "      <td>9.211330</td>\n",
       "    </tr>\n",
       "    <tr>\n",
       "      <th>min</th>\n",
       "      <td>0.000000</td>\n",
       "    </tr>\n",
       "    <tr>\n",
       "      <th>25%</th>\n",
       "      <td>8.000000</td>\n",
       "    </tr>\n",
       "    <tr>\n",
       "      <th>50%</th>\n",
       "      <td>13.000000</td>\n",
       "    </tr>\n",
       "    <tr>\n",
       "      <th>75%</th>\n",
       "      <td>19.000000</td>\n",
       "    </tr>\n",
       "    <tr>\n",
       "      <th>max</th>\n",
       "      <td>119.000000</td>\n",
       "    </tr>\n",
       "  </tbody>\n",
       "</table>\n",
       "</div>"
      ],
      "text/plain": [
       "         num_orders\n",
       "count  26496.000000\n",
       "mean      14.070463\n",
       "std        9.211330\n",
       "min        0.000000\n",
       "25%        8.000000\n",
       "50%       13.000000\n",
       "75%       19.000000\n",
       "max      119.000000"
      ]
     },
     "metadata": {},
     "output_type": "display_data"
    },
    {
     "data": {
      "text/plain": [
       "0"
      ]
     },
     "metadata": {},
     "output_type": "display_data"
    },
    {
     "data": {
      "text/plain": [
       "datetime      0\n",
       "num_orders    0\n",
       "dtype: int64"
      ]
     },
     "metadata": {},
     "output_type": "display_data"
    },
    {
     "data": {
      "text/html": [
       "<div>\n",
       "<style scoped>\n",
       "    .dataframe tbody tr th:only-of-type {\n",
       "        vertical-align: middle;\n",
       "    }\n",
       "\n",
       "    .dataframe tbody tr th {\n",
       "        vertical-align: top;\n",
       "    }\n",
       "\n",
       "    .dataframe thead th {\n",
       "        text-align: right;\n",
       "    }\n",
       "</style>\n",
       "<table border=\"1\" class=\"dataframe\">\n",
       "  <thead>\n",
       "    <tr style=\"text-align: right;\">\n",
       "      <th></th>\n",
       "      <th>num_orders</th>\n",
       "    </tr>\n",
       "  </thead>\n",
       "  <tbody>\n",
       "    <tr>\n",
       "      <th>num_orders</th>\n",
       "      <td>1.0</td>\n",
       "    </tr>\n",
       "  </tbody>\n",
       "</table>\n",
       "</div>"
      ],
      "text/plain": [
       "            num_orders\n",
       "num_orders         1.0"
      ]
     },
     "metadata": {},
     "output_type": "display_data"
    },
    {
     "data": {
      "image/png": "[encoded data removed]",
      "text/plain": [
       "<Figure size 864x864 with 1 Axes>"
      ]
     },
     "metadata": {},
     "output_type": "display_data"
    }
   ],
   "source": [
    "data = pd.read_csv('/datasets/taxi.csv')\n",
    "info_about(data)"
   ]
  },
  {
   "cell_type": "markdown",
   "metadata": {},
   "source": [
    "*Есть необходимость в замене типа данных в столбце **datetime**. Пропусков и дубликатов не замечено.*"
   ]
  },
  {
   "cell_type": "code",
   "execution_count": 116,
   "metadata": {},
   "outputs": [
    {
     "name": "stdout",
     "output_type": "stream",
     "text": [
      "<class 'pandas.core.frame.DataFrame'>\n",
      "RangeIndex: 26496 entries, 0 to 26495\n",
      "Data columns (total 2 columns):\n",
      " #   Column      Non-Null Count  Dtype         \n",
      "---  ------      --------------  -----         \n",
      " 0   datetime    26496 non-null  datetime64[ns]\n",
      " 1   num_orders  26496 non-null  int64         \n",
      "dtypes: datetime64[ns](1), int64(1)\n",
      "memory usage: 414.1 KB\n"
     ]
    }
   ],
   "source": [
    "data['datetime'] = data['datetime'].astype('datetime64')\n",
    "data.info()"
   ]
  },
  {
   "cell_type": "code",
   "execution_count": 117,
   "metadata": {},
   "outputs": [],
   "source": [
    "data = data.set_index('datetime')"
   ]
  },
  {
   "cell_type": "code",
   "execution_count": 118,
   "metadata": {},
   "outputs": [
    {
     "data": {
      "text/html": [
       "<div>\n",
       "<style scoped>\n",
       "    .dataframe tbody tr th:only-of-type {\n",
       "        vertical-align: middle;\n",
       "    }\n",
       "\n",
       "    .dataframe tbody tr th {\n",
       "        vertical-align: top;\n",
       "    }\n",
       "\n",
       "    .dataframe thead th {\n",
       "        text-align: right;\n",
       "    }\n",
       "</style>\n",
       "<table border=\"1\" class=\"dataframe\">\n",
       "  <thead>\n",
       "    <tr style=\"text-align: right;\">\n",
       "      <th></th>\n",
       "      <th>num_orders</th>\n",
       "    </tr>\n",
       "    <tr>\n",
       "      <th>datetime</th>\n",
       "      <th></th>\n",
       "    </tr>\n",
       "  </thead>\n",
       "  <tbody>\n",
       "    <tr>\n",
       "      <th>2018-03-01 00:00:00</th>\n",
       "      <td>124</td>\n",
       "    </tr>\n",
       "    <tr>\n",
       "      <th>2018-03-01 01:00:00</th>\n",
       "      <td>85</td>\n",
       "    </tr>\n",
       "    <tr>\n",
       "      <th>2018-03-01 02:00:00</th>\n",
       "      <td>71</td>\n",
       "    </tr>\n",
       "    <tr>\n",
       "      <th>2018-03-01 03:00:00</th>\n",
       "      <td>66</td>\n",
       "    </tr>\n",
       "    <tr>\n",
       "      <th>2018-03-01 04:00:00</th>\n",
       "      <td>43</td>\n",
       "    </tr>\n",
       "  </tbody>\n",
       "</table>\n",
       "</div>"
      ],
      "text/plain": [
       "                     num_orders\n",
       "datetime                       \n",
       "2018-03-01 00:00:00         124\n",
       "2018-03-01 01:00:00          85\n",
       "2018-03-01 02:00:00          71\n",
       "2018-03-01 03:00:00          66\n",
       "2018-03-01 04:00:00          43"
      ]
     },
     "execution_count": 118,
     "metadata": {},
     "output_type": "execute_result"
    }
   ],
   "source": [
    "data_1h = data.resample('1H').sum()\n",
    "data_1h = data_1h.sort_index(ascending=True)\n",
    "data_1h.head()"
   ]
  },
  {
   "cell_type": "code",
   "execution_count": 119,
   "metadata": {},
   "outputs": [
    {
     "data": {
      "text/plain": [
       "2018    4416\n",
       "Name: datetime, dtype: int64"
      ]
     },
     "execution_count": 119,
     "metadata": {},
     "output_type": "execute_result"
    }
   ],
   "source": [
    "data_1h.index.year.value_counts()"
   ]
  },
  {
   "cell_type": "markdown",
   "metadata": {},
   "source": [
    "### **Вывод:** \n",
    "\n",
    "*Пропусков не обнаружено.*\n",
    "\n",
    "*Дубликатов нет.*\n",
    "\n",
    "*Изменен тип данных в столбце datetime.*\n",
    "\n",
    "*Определили столбец datetime индексом data.*\n",
    "\n",
    "*Осуществили ресемплирование по одному часу.*"
   ]
  },
  {
   "cell_type": "markdown",
   "metadata": {},
   "source": [
    "## Анализ"
   ]
  },
  {
   "cell_type": "code",
   "execution_count": 120,
   "metadata": {},
   "outputs": [
    {
     "data": {
      "image/png": "[encoded data removed]",
      "text/plain": [
       "<Figure size 864x576 with 1 Axes>"
      ]
     },
     "metadata": {},
     "output_type": "display_data"
    }
   ],
   "source": [
    "sns.set_style(\"whitegrid\")\n",
    "data_1h.plot(ax=plt.gca(),figsize=(12,8))\n",
    "plt.legend(['Количество заказов'])\n",
    "plt.title('Количество заказов в час за весь период', y=1.05)\n",
    "plt.xlabel('Дата')\n",
    "plt.ylabel('Количество')\n",
    "plt.tight_layout()\n",
    "plt.show()"
   ]
  },
  {
   "cell_type": "markdown",
   "metadata": {},
   "source": [
    "*Замечен рост заказов с июня 2018 года. Посмотрим на тренд, сезонность и остатки.*"
   ]
  },
  {
   "cell_type": "code",
   "execution_count": 121,
   "metadata": {},
   "outputs": [
    {
     "data": {
      "image/png": "[encoded data removed]",
      "text/plain": [
       "<Figure size 864x576 with 1 Axes>"
      ]
     },
     "metadata": {},
     "output_type": "display_data"
    }
   ],
   "source": [
    "decompose = seasonal_decompose(data_1h)\n",
    "\n",
    "decompose.trend.plot(ax=plt.gca(),figsize=(12,8))\n",
    "decompose.trend.resample('1D').mean().rolling(7).mean().plot(ax=plt.gca(),figsize=(12,8))\n",
    "plt.legend(['Количество заказов', 'Скользящее среднее'])\n",
    "plt.title('Тренд', y=1.05)\n",
    "plt.xlabel('Дата')\n",
    "plt.ylabel('Количество')\n",
    "plt.tight_layout()"
   ]
  },
  {
   "cell_type": "markdown",
   "metadata": {},
   "source": [
    "*Видим рост, который в принципе начинается даже с марта 2018 года.*"
   ]
  },
  {
   "cell_type": "code",
   "execution_count": 122,
   "metadata": {},
   "outputs": [
    {
     "data": {
      "image/png": "[encoded data removed]",
      "text/plain": [
       "<Figure size 864x576 with 1 Axes>"
      ]
     },
     "metadata": {},
     "output_type": "display_data"
    }
   ],
   "source": [
    "decompose.seasonal['2018-03':'2018-03'].plot(ax=plt.gca(),figsize=(12,8))\n",
    "plt.legend(['Количество заказов'])\n",
    "plt.title('График сезонности', y=1.05)\n",
    "plt.xlabel('Месяц')\n",
    "plt.ylabel('Количество')\n",
    "plt.tight_layout()"
   ]
  },
  {
   "cell_type": "code",
   "execution_count": 123,
   "metadata": {},
   "outputs": [
    {
     "data": {
      "text/plain": [
       "26.158091620700056"
      ]
     },
     "metadata": {},
     "output_type": "display_data"
    },
    {
     "data": {
      "text/plain": [
       "-0.0"
      ]
     },
     "metadata": {},
     "output_type": "display_data"
    },
    {
     "data": {
      "text/plain": [
       "26.15954883376102"
      ]
     },
     "metadata": {},
     "output_type": "display_data"
    },
    {
     "data": {
      "text/plain": [
       "-0.0"
      ]
     },
     "metadata": {},
     "output_type": "display_data"
    }
   ],
   "source": [
    "display(decompose.seasonal['2018-03':'2018-06'].std(),\n",
    "        decompose.seasonal['2018-03':'2018-06'].mean().round(),\n",
    "        decompose.seasonal['2018-06':'2018-09'].std(),\n",
    "        decompose.seasonal['2018-06':'2018-09'].mean().round())"
   ]
  },
  {
   "cell_type": "markdown",
   "metadata": {},
   "source": [
    "*Сравнив стандартные отклонения и средние значения, которые не меняются, пришли к выводу что на графике сезонности стационарный временной ряд.*  "
   ]
  },
  {
   "cell_type": "code",
   "execution_count": 124,
   "metadata": {},
   "outputs": [
    {
     "data": {
      "image/png": "[encoded data removed]",
      "text/plain": [
       "<Figure size 864x576 with 1 Axes>"
      ]
     },
     "metadata": {},
     "output_type": "display_data"
    }
   ],
   "source": [
    "decompose.resid.plot(ax=plt.gca(),figsize=(12,8))\n",
    "plt.legend(['Количество заказов'])\n",
    "plt.title('График остатков', y=1.05)\n",
    "plt.xlabel('Дата')\n",
    "plt.ylabel('Количество')\n",
    "plt.tight_layout()"
   ]
  },
  {
   "cell_type": "markdown",
   "metadata": {},
   "source": [
    "*Шумные значения пожалуй оставим, для \"экономии\" данных. Посмотрим что из этого выльется.*"
   ]
  },
  {
   "cell_type": "markdown",
   "metadata": {},
   "source": [
    "### **Вывод:**\n",
    "\n",
    "*Изучили тренд, сезонность и остатки.*\n",
    "\n",
    "*Определили что на графике сезонности стационарный временной ряд.*\n",
    "\n",
    "*Шумные значения решили оставить*"
   ]
  },
  {
   "cell_type": "markdown",
   "metadata": {},
   "source": [
    "## Обучение"
   ]
  },
  {
   "cell_type": "code",
   "execution_count": 125,
   "metadata": {},
   "outputs": [],
   "source": [
    "#Функция для добавления признаков и отстающего значения\n",
    "def make_features(data, max_lag, rolling_mean_size):\n",
    "    data['year'] = data.index.year\n",
    "    data['month'] = data.index.month\n",
    "    data['day'] = data.index.day\n",
    "    \n",
    "    data['hour']= data.index.hour\n",
    "    for lag in range(1, max_lag + 1):\n",
    "        data['lag_{}'.format(lag)] = data['num_orders'].shift(lag)\n",
    "\n",
    "    data['rolling_mean'] = data['num_orders'].shift().rolling(rolling_mean_size).mean()"
   ]
  },
  {
   "cell_type": "code",
   "execution_count": 126,
   "metadata": {},
   "outputs": [],
   "source": [
    "#сдвиг в 9 столбцов и скользящее среднее с окном 5 часов\n",
    "make_features(data_1h, 9, 5)"
   ]
  },
  {
   "cell_type": "code",
   "execution_count": 127,
   "metadata": {},
   "outputs": [
    {
     "data": {
      "text/html": [
       "<div>\n",
       "<style scoped>\n",
       "    .dataframe tbody tr th:only-of-type {\n",
       "        vertical-align: middle;\n",
       "    }\n",
       "\n",
       "    .dataframe tbody tr th {\n",
       "        vertical-align: top;\n",
       "    }\n",
       "\n",
       "    .dataframe thead th {\n",
       "        text-align: right;\n",
       "    }\n",
       "</style>\n",
       "<table border=\"1\" class=\"dataframe\">\n",
       "  <thead>\n",
       "    <tr style=\"text-align: right;\">\n",
       "      <th></th>\n",
       "      <th>num_orders</th>\n",
       "      <th>year</th>\n",
       "      <th>month</th>\n",
       "      <th>day</th>\n",
       "      <th>hour</th>\n",
       "      <th>lag_1</th>\n",
       "      <th>lag_2</th>\n",
       "      <th>lag_3</th>\n",
       "      <th>lag_4</th>\n",
       "      <th>lag_5</th>\n",
       "      <th>lag_6</th>\n",
       "      <th>lag_7</th>\n",
       "      <th>lag_8</th>\n",
       "      <th>lag_9</th>\n",
       "      <th>rolling_mean</th>\n",
       "    </tr>\n",
       "    <tr>\n",
       "      <th>datetime</th>\n",
       "      <th></th>\n",
       "      <th></th>\n",
       "      <th></th>\n",
       "      <th></th>\n",
       "      <th></th>\n",
       "      <th></th>\n",
       "      <th></th>\n",
       "      <th></th>\n",
       "      <th></th>\n",
       "      <th></th>\n",
       "      <th></th>\n",
       "      <th></th>\n",
       "      <th></th>\n",
       "      <th></th>\n",
       "      <th></th>\n",
       "    </tr>\n",
       "  </thead>\n",
       "  <tbody>\n",
       "    <tr>\n",
       "      <th>2018-03-01 00:00:00</th>\n",
       "      <td>124</td>\n",
       "      <td>2018</td>\n",
       "      <td>3</td>\n",
       "      <td>1</td>\n",
       "      <td>0</td>\n",
       "      <td>NaN</td>\n",
       "      <td>NaN</td>\n",
       "      <td>NaN</td>\n",
       "      <td>NaN</td>\n",
       "      <td>NaN</td>\n",
       "      <td>NaN</td>\n",
       "      <td>NaN</td>\n",
       "      <td>NaN</td>\n",
       "      <td>NaN</td>\n",
       "      <td>NaN</td>\n",
       "    </tr>\n",
       "    <tr>\n",
       "      <th>2018-03-01 01:00:00</th>\n",
       "      <td>85</td>\n",
       "      <td>2018</td>\n",
       "      <td>3</td>\n",
       "      <td>1</td>\n",
       "      <td>1</td>\n",
       "      <td>124.0</td>\n",
       "      <td>NaN</td>\n",
       "      <td>NaN</td>\n",
       "      <td>NaN</td>\n",
       "      <td>NaN</td>\n",
       "      <td>NaN</td>\n",
       "      <td>NaN</td>\n",
       "      <td>NaN</td>\n",
       "      <td>NaN</td>\n",
       "      <td>NaN</td>\n",
       "    </tr>\n",
       "    <tr>\n",
       "      <th>2018-03-01 02:00:00</th>\n",
       "      <td>71</td>\n",
       "      <td>2018</td>\n",
       "      <td>3</td>\n",
       "      <td>1</td>\n",
       "      <td>2</td>\n",
       "      <td>85.0</td>\n",
       "      <td>124.0</td>\n",
       "      <td>NaN</td>\n",
       "      <td>NaN</td>\n",
       "      <td>NaN</td>\n",
       "      <td>NaN</td>\n",
       "      <td>NaN</td>\n",
       "      <td>NaN</td>\n",
       "      <td>NaN</td>\n",
       "      <td>NaN</td>\n",
       "    </tr>\n",
       "    <tr>\n",
       "      <th>2018-03-01 03:00:00</th>\n",
       "      <td>66</td>\n",
       "      <td>2018</td>\n",
       "      <td>3</td>\n",
       "      <td>1</td>\n",
       "      <td>3</td>\n",
       "      <td>71.0</td>\n",
       "      <td>85.0</td>\n",
       "      <td>124.0</td>\n",
       "      <td>NaN</td>\n",
       "      <td>NaN</td>\n",
       "      <td>NaN</td>\n",
       "      <td>NaN</td>\n",
       "      <td>NaN</td>\n",
       "      <td>NaN</td>\n",
       "      <td>NaN</td>\n",
       "    </tr>\n",
       "    <tr>\n",
       "      <th>2018-03-01 04:00:00</th>\n",
       "      <td>43</td>\n",
       "      <td>2018</td>\n",
       "      <td>3</td>\n",
       "      <td>1</td>\n",
       "      <td>4</td>\n",
       "      <td>66.0</td>\n",
       "      <td>71.0</td>\n",
       "      <td>85.0</td>\n",
       "      <td>124.0</td>\n",
       "      <td>NaN</td>\n",
       "      <td>NaN</td>\n",
       "      <td>NaN</td>\n",
       "      <td>NaN</td>\n",
       "      <td>NaN</td>\n",
       "      <td>NaN</td>\n",
       "    </tr>\n",
       "  </tbody>\n",
       "</table>\n",
       "</div>"
      ],
      "text/plain": [
       "                     num_orders  year  month  day  hour  lag_1  lag_2  lag_3  \\\n",
       "datetime                                                                       \n",
       "2018-03-01 00:00:00         124  2018      3    1     0    NaN    NaN    NaN   \n",
       "2018-03-01 01:00:00          85  2018      3    1     1  124.0    NaN    NaN   \n",
       "2018-03-01 02:00:00          71  2018      3    1     2   85.0  124.0    NaN   \n",
       "2018-03-01 03:00:00          66  2018      3    1     3   71.0   85.0  124.0   \n",
       "2018-03-01 04:00:00          43  2018      3    1     4   66.0   71.0   85.0   \n",
       "\n",
       "                     lag_4  lag_5  lag_6  lag_7  lag_8  lag_9  rolling_mean  \n",
       "datetime                                                                     \n",
       "2018-03-01 00:00:00    NaN    NaN    NaN    NaN    NaN    NaN           NaN  \n",
       "2018-03-01 01:00:00    NaN    NaN    NaN    NaN    NaN    NaN           NaN  \n",
       "2018-03-01 02:00:00    NaN    NaN    NaN    NaN    NaN    NaN           NaN  \n",
       "2018-03-01 03:00:00    NaN    NaN    NaN    NaN    NaN    NaN           NaN  \n",
       "2018-03-01 04:00:00  124.0    NaN    NaN    NaN    NaN    NaN           NaN  "
      ]
     },
     "execution_count": 127,
     "metadata": {},
     "output_type": "execute_result"
    }
   ],
   "source": [
    "data_1h.head()"
   ]
  },
  {
   "cell_type": "code",
   "execution_count": 128,
   "metadata": {},
   "outputs": [],
   "source": [
    "train, test = train_test_split(data_1h, shuffle=False, test_size=0.1)\n",
    "train = train.dropna()\n",
    "\n",
    "train_features = train.drop('num_orders',axis=1)\n",
    "train_target = train['num_orders']\n",
    "\n",
    "test_features = test.drop('num_orders',axis=1)\n",
    "test_target = test['num_orders']"
   ]
  },
  {
   "cell_type": "code",
   "execution_count": 129,
   "metadata": {},
   "outputs": [],
   "source": [
    "#Функция для расчёта RMSE\n",
    "def rmse(test,predict):\n",
    "    return ((mean_squared_error(test,predict))**0.5).round(2)"
   ]
  },
  {
   "cell_type": "markdown",
   "metadata": {},
   "source": [
    "**LinearRegression**"
   ]
  },
  {
   "cell_type": "code",
   "execution_count": 130,
   "metadata": {},
   "outputs": [
    {
     "data": {
      "text/plain": [
       "'MAE LinearRegression:'"
      ]
     },
     "metadata": {},
     "output_type": "display_data"
    },
    {
     "data": {
      "text/plain": [
       "40.59"
      ]
     },
     "metadata": {},
     "output_type": "display_data"
    },
    {
     "data": {
      "text/plain": [
       "'RMSE LinearRegression:'"
      ]
     },
     "metadata": {},
     "output_type": "display_data"
    },
    {
     "data": {
      "text/plain": [
       "53.48"
      ]
     },
     "metadata": {},
     "output_type": "display_data"
    }
   ],
   "source": [
    "model_lr = LinearRegression(normalize=True)\n",
    "model_lr.fit(train_features,train_target)\n",
    "predict_lr = model_lr.predict(test_features)\n",
    "predict_lr = predict_lr.round()\n",
    "mae_lr = mean_absolute_error(test_target, predict_lr)\n",
    "rmse_lr = rmse(test_target, predict_lr)\n",
    "display('MAE LinearRegression:', mae_lr.round(2),\n",
    "        'RMSE LinearRegression:', rmse_lr)"
   ]
  },
  {
   "cell_type": "markdown",
   "metadata": {},
   "source": [
    "**RandomForestRegressor**"
   ]
  },
  {
   "cell_type": "code",
   "execution_count": 131,
   "metadata": {},
   "outputs": [
    {
     "data": {
      "text/plain": [
       "'RMSE на обучающей выборке: 25.94'"
      ]
     },
     "metadata": {},
     "output_type": "display_data"
    },
    {
     "data": {
      "text/plain": [
       "'Максимальная глубина:'"
      ]
     },
     "metadata": {},
     "output_type": "display_data"
    },
    {
     "data": {
      "text/plain": [
       "18"
      ]
     },
     "metadata": {},
     "output_type": "display_data"
    },
    {
     "data": {
      "text/plain": [
       "'Количество деревьев:'"
      ]
     },
     "metadata": {},
     "output_type": "display_data"
    },
    {
     "data": {
      "text/plain": [
       "16"
      ]
     },
     "metadata": {},
     "output_type": "display_data"
    }
   ],
   "source": [
    "parametrs = { 'n_estimators': range (5, 18),\n",
    "              'max_depth': range (9, 21)}\n",
    "split_index = TimeSeriesSplit().split(train_features)\n",
    "model_rf = RandomForestRegressor(random_state=12345)\n",
    "grid_rf = GridSearchCV(model_rf, \n",
    "                       parametrs, \n",
    "                       cv = split_index, \n",
    "                       scoring = make_scorer(rmse, greater_is_better=False))\n",
    "grid_rf.fit(train_features, train_target)\n",
    "\n",
    "best_score_rf = -1*grid_rf.best_score_\n",
    "\n",
    "parametrs_r_gs_d = pd.Series(grid_rf.best_params_)[0]\n",
    "parametrs_r_gs_n = pd.Series(grid_rf.best_params_)[1]\n",
    "display('RMSE на обучающей выборке: {:.2f}'. format(best_score_rf), \n",
    "      'Максимальная глубина:', parametrs_r_gs_d, \n",
    "      'Количество деревьев:', parametrs_r_gs_n)"
   ]
  },
  {
   "cell_type": "code",
   "execution_count": 132,
   "metadata": {},
   "outputs": [
    {
     "name": "stdout",
     "output_type": "stream",
     "text": [
      "RMSE RandomForestRegressor: 44.41\n"
     ]
    }
   ],
   "source": [
    "predict_rf = grid_rf.predict(test_features)\n",
    "predict_rf = predict_rf.round()\n",
    "\n",
    "rmse_rf = rmse(test_target, predict_rf)\n",
    "print('RMSE RandomForestRegressor:', rmse_rf)"
   ]
  },
  {
   "cell_type": "markdown",
   "metadata": {},
   "source": [
    "**CatBoostRegressor**"
   ]
  },
  {
   "cell_type": "code",
   "execution_count": 133,
   "metadata": {},
   "outputs": [
    {
     "name": "stdout",
     "output_type": "stream",
     "text": [
      "0:\tlearn: 32.1693765\ttest: 73.5684094\tbest: 73.5684094 (0)\ttotal: 3.13ms\tremaining: 937ms\n",
      "100:\tlearn: 15.0380730\ttest: 44.2787512\tbest: 44.2787512 (100)\ttotal: 250ms\tremaining: 493ms\n",
      "200:\tlearn: 10.9378150\ttest: 44.6415226\tbest: 43.8501941 (141)\ttotal: 491ms\tremaining: 242ms\n",
      "299:\tlearn: 8.2583525\ttest: 44.7904088\tbest: 43.8501941 (141)\ttotal: 732ms\tremaining: 0us\n",
      "\n",
      "bestTest = 43.85019407\n",
      "bestIteration = 141\n",
      "\n",
      "Shrink model to first 142 iterations.\n"
     ]
    }
   ],
   "source": [
    "model_cat = CatBoostRegressor(random_state = 123, \n",
    "                              learning_rate = 0.4, \n",
    "                              verbose = 100, \n",
    "                              n_estimators = 300)\n",
    "model_cat.fit(train_features, train_target, eval_set = (test_features,test_target))\n",
    "predict_cat = model_cat.predict(test_features)\n",
    "predict_cat = predict_cat.round()\n",
    "rmse_cat=rmse(test_target, predict_cat)"
   ]
  },
  {
   "cell_type": "markdown",
   "metadata": {},
   "source": [
    "### **Вывод:**\n",
    "\n",
    "*Обучили такие модели как LinearRegression, RandomForestRegressor, CatBoostRegressor.*\n",
    "\n",
    "*Получили следующие значения RMSE:*\n",
    "\n",
    "- LinearRegression - 53.48\n",
    "\n",
    "- RandomForestRegressor - 44.41\n",
    "\n",
    "- CatBoostRegressor - 43.85"
   ]
  },
  {
   "cell_type": "markdown",
   "metadata": {},
   "source": [
    "## Тестирование"
   ]
  },
  {
   "cell_type": "code",
   "execution_count": 134,
   "metadata": {},
   "outputs": [
    {
     "data": {
      "text/html": [
       "<div>\n",
       "<style scoped>\n",
       "    .dataframe tbody tr th:only-of-type {\n",
       "        vertical-align: middle;\n",
       "    }\n",
       "\n",
       "    .dataframe tbody tr th {\n",
       "        vertical-align: top;\n",
       "    }\n",
       "\n",
       "    .dataframe thead th {\n",
       "        text-align: right;\n",
       "    }\n",
       "</style>\n",
       "<table border=\"1\" class=\"dataframe\">\n",
       "  <thead>\n",
       "    <tr style=\"text-align: right;\">\n",
       "      <th></th>\n",
       "      <th>LinearRegression</th>\n",
       "      <th>RandomForestRegressor</th>\n",
       "      <th>CatBoostRegressor</th>\n",
       "    </tr>\n",
       "  </thead>\n",
       "  <tbody>\n",
       "    <tr>\n",
       "      <th>RMSE модели</th>\n",
       "      <td>53.48</td>\n",
       "      <td>44.41</td>\n",
       "      <td>43.86</td>\n",
       "    </tr>\n",
       "  </tbody>\n",
       "</table>\n",
       "</div>"
      ],
      "text/plain": [
       "             LinearRegression  RandomForestRegressor  CatBoostRegressor\n",
       "RMSE модели             53.48                  44.41              43.86"
      ]
     },
     "execution_count": 134,
     "metadata": {},
     "output_type": "execute_result"
    }
   ],
   "source": [
    "table_wtm = pd.DataFrame(index=['RMSE модели',], columns = ['LinearRegression', \n",
    "                                                            'RandomForestRegressor', \n",
    "                                                            'CatBoostRegressor'])\n",
    "table_wtm['LinearRegression'] = rmse_lr\n",
    "table_wtm['RandomForestRegressor'] = rmse_rf\n",
    "table_wtm['CatBoostRegressor'] = rmse_cat\n",
    "\n",
    "table_wtm"
   ]
  },
  {
   "cell_type": "markdown",
   "metadata": {},
   "source": [
    "*Модели RandomForestRegressor и CatBoostRegressor показали себя с лучшей стороны. Но всё же RandomForestRegressor оказался чуть лучше*"
   ]
  },
  {
   "cell_type": "code",
   "execution_count": 135,
   "metadata": {},
   "outputs": [
    {
     "name": "stdout",
     "output_type": "stream",
     "text": [
      "RMSE RandomForestRegressor: 44.62\n"
     ]
    }
   ],
   "source": [
    "model_r = RandomForestRegressor(random_state=12345, n_estimators=16, max_depth=14)\n",
    "model_r.fit(train_features, train_target)\n",
    "predict_rf = model_r.predict(test_features)\n",
    "rmse_rf = rmse(test_target, predict_rf.round())\n",
    "print('RMSE RandomForestRegressor:', rmse_rf)"
   ]
  },
  {
   "cell_type": "markdown",
   "metadata": {},
   "source": [
    "*Итоговое значение RMSE на лучшей модели = 44.62*"
   ]
  },
  {
   "cell_type": "markdown",
   "metadata": {},
   "source": [
    "## **ОБЩИЕ ВЫВОДЫ:**"
   ]
  },
  {
   "cell_type": "markdown",
   "metadata": {},
   "source": [
    "У нас стояла задача построить модель для прогноза количества заказов такси на следующий час. Также необходимое для выполнения задания значение метрики RMSE не должно было быть 48.\n",
    "\n",
    "Был изучен, проанализирован датасет с историческими данными о заказах такси в аэропортах. Вот что было сделано:\n",
    "\n",
    "- Изменили тип данных в столбце datetime, определили столбец datetime индексом data, осуществили ресемплирование по одному часу;\n",
    "\n",
    "- Изучили тренд, сезонность и остатки, определили что на графике сезонности стационарный временной ряд, шумные значения решили оставить.\n",
    "\n",
    "Обучили такие модели как LinearRegression, RandomForestRegressor, CatBoostRegressor.\n",
    "\n",
    "Получили следующие значения RMSE:\n",
    "\n",
    "- LinearRegression - 53.48\n",
    "\n",
    "- RandomForestRegressor - 44.41\n",
    "\n",
    "- CatBoostRegressor - 43.85\n",
    "\n",
    "Получили итоговое значение RMSE на лучшей модели = 44.62.\n",
    "\n",
    "**Рекомендации заказчику:** для предсказания количества заказов такси на следующий час можно смело использовать модель RandomForestRegressor."
   ]
  },
  {
   "cell_type": "markdown",
   "metadata": {},
   "source": [
    "## Чек-лист проверки"
   ]
  },
  {
   "cell_type": "markdown",
   "metadata": {},
   "source": [
    "- [x]  Jupyter Notebook открыт\n",
    "- [ ]  Весь код выполняется без ошибок\n",
    "- [ ]  Ячейки с кодом расположены в порядке исполнения\n",
    "- [ ]  Данные загружены и подготовлены\n",
    "- [ ]  Данные проанализированы\n",
    "- [ ]  Модель обучена, гиперпараметры подобраны\n",
    "- [ ]  Качество моделей проверено, выводы сделаны\n",
    "- [ ]  Значение *RMSE* на тестовой выборке не больше 48"
   ]
  }
 ],
 "metadata": {
  "ExecuteTimeLog": [
   {
    "duration": 47,
    "start_time": "2024-12-13T09:22:41.693Z"
   },
   {
    "duration": 1592,
    "start_time": "2024-12-13T09:22:45.988Z"
   },
   {
    "duration": 161,
    "start_time": "2024-12-13T09:22:47.582Z"
   },
   {
    "duration": 46,
    "start_time": "2024-12-13T09:24:24.722Z"
   },
   {
    "duration": 46,
    "start_time": "2024-12-13T09:24:25.363Z"
   },
   {
    "duration": 39,
    "start_time": "2024-12-13T09:24:32.812Z"
   },
   {
    "duration": 4,
    "start_time": "2024-12-13T09:25:14.311Z"
   },
   {
    "duration": 9,
    "start_time": "2024-12-13T09:25:14.317Z"
   },
   {
    "duration": 248,
    "start_time": "2024-12-13T09:25:14.327Z"
   },
   {
    "duration": 8,
    "start_time": "2024-12-13T10:00:01.882Z"
   },
   {
    "duration": 10,
    "start_time": "2024-12-13T10:00:14.461Z"
   },
   {
    "duration": 87,
    "start_time": "2024-12-13T10:01:39.252Z"
   },
   {
    "duration": 3,
    "start_time": "2024-12-13T10:01:58.225Z"
   },
   {
    "duration": 59,
    "start_time": "2024-12-13T10:01:59.792Z"
   },
   {
    "duration": 5,
    "start_time": "2024-12-13T10:02:20.035Z"
   },
   {
    "duration": 10,
    "start_time": "2024-12-13T10:02:43.914Z"
   },
   {
    "duration": 4,
    "start_time": "2024-12-13T10:02:50.929Z"
   },
   {
    "duration": 4,
    "start_time": "2024-12-13T10:05:58.337Z"
   },
   {
    "duration": 4,
    "start_time": "2024-12-13T10:05:58.344Z"
   },
   {
    "duration": 258,
    "start_time": "2024-12-13T10:05:58.350Z"
   },
   {
    "duration": 15,
    "start_time": "2024-12-13T10:05:58.610Z"
   },
   {
    "duration": 26,
    "start_time": "2024-12-13T10:05:58.628Z"
   },
   {
    "duration": 62,
    "start_time": "2024-12-13T10:05:58.655Z"
   },
   {
    "duration": 70,
    "start_time": "2024-12-13T10:05:58.719Z"
   },
   {
    "duration": 4,
    "start_time": "2024-12-13T10:19:29.537Z"
   },
   {
    "duration": 13,
    "start_time": "2024-12-13T10:19:29.543Z"
   },
   {
    "duration": 250,
    "start_time": "2024-12-13T10:19:29.557Z"
   },
   {
    "duration": 15,
    "start_time": "2024-12-13T10:19:29.809Z"
   },
   {
    "duration": 3,
    "start_time": "2024-12-13T10:19:29.826Z"
   },
   {
    "duration": 9,
    "start_time": "2024-12-13T10:19:29.831Z"
   },
   {
    "duration": 4,
    "start_time": "2024-12-13T10:19:29.842Z"
   },
   {
    "duration": 495,
    "start_time": "2024-12-13T10:21:39.128Z"
   },
   {
    "duration": 408,
    "start_time": "2024-12-13T10:25:01.402Z"
   },
   {
    "duration": 408,
    "start_time": "2024-12-13T10:25:06.200Z"
   },
   {
    "duration": 410,
    "start_time": "2024-12-13T10:27:52.096Z"
   },
   {
    "duration": 496,
    "start_time": "2024-12-13T10:28:55.127Z"
   },
   {
    "duration": 404,
    "start_time": "2024-12-13T10:28:56.784Z"
   },
   {
    "duration": 409,
    "start_time": "2024-12-13T10:29:10.135Z"
   },
   {
    "duration": 400,
    "start_time": "2024-12-13T10:31:38.235Z"
   },
   {
    "duration": 11,
    "start_time": "2024-12-13T10:41:14.976Z"
   },
   {
    "duration": 13,
    "start_time": "2024-12-13T10:41:39.546Z"
   },
   {
    "duration": 4,
    "start_time": "2024-12-13T10:41:57.237Z"
   },
   {
    "duration": 10,
    "start_time": "2024-12-13T10:41:57.243Z"
   },
   {
    "duration": 255,
    "start_time": "2024-12-13T10:41:57.254Z"
   },
   {
    "duration": 15,
    "start_time": "2024-12-13T10:41:57.510Z"
   },
   {
    "duration": 3,
    "start_time": "2024-12-13T10:41:57.527Z"
   },
   {
    "duration": 9,
    "start_time": "2024-12-13T10:41:57.532Z"
   },
   {
    "duration": 4,
    "start_time": "2024-12-13T10:41:57.542Z"
   },
   {
    "duration": 418,
    "start_time": "2024-12-13T10:41:57.548Z"
   },
   {
    "duration": 428,
    "start_time": "2024-12-13T10:41:57.968Z"
   },
   {
    "duration": 413,
    "start_time": "2024-12-13T10:41:58.398Z"
   },
   {
    "duration": 11,
    "start_time": "2024-12-13T10:41:58.813Z"
   },
   {
    "duration": 12,
    "start_time": "2024-12-13T10:42:11.145Z"
   },
   {
    "duration": 16,
    "start_time": "2024-12-13T10:42:15.602Z"
   },
   {
    "duration": 14,
    "start_time": "2024-12-13T10:42:18.707Z"
   },
   {
    "duration": 14,
    "start_time": "2024-12-13T10:42:22.210Z"
   },
   {
    "duration": 15,
    "start_time": "2024-12-13T10:42:27.465Z"
   },
   {
    "duration": 13,
    "start_time": "2024-12-13T10:42:30.388Z"
   },
   {
    "duration": 12,
    "start_time": "2024-12-13T10:42:33.152Z"
   },
   {
    "duration": 13,
    "start_time": "2024-12-13T10:42:36.073Z"
   },
   {
    "duration": 13,
    "start_time": "2024-12-13T10:42:38.281Z"
   },
   {
    "duration": 13,
    "start_time": "2024-12-13T10:42:40.258Z"
   },
   {
    "duration": 12,
    "start_time": "2024-12-13T10:42:42.478Z"
   },
   {
    "duration": 4,
    "start_time": "2024-12-13T10:43:09.942Z"
   },
   {
    "duration": 35,
    "start_time": "2024-12-13T10:43:09.948Z"
   },
   {
    "duration": 271,
    "start_time": "2024-12-13T10:43:09.985Z"
   },
   {
    "duration": 16,
    "start_time": "2024-12-13T10:43:10.258Z"
   },
   {
    "duration": 3,
    "start_time": "2024-12-13T10:43:10.286Z"
   },
   {
    "duration": 24,
    "start_time": "2024-12-13T10:43:10.291Z"
   },
   {
    "duration": 12,
    "start_time": "2024-12-13T10:43:10.316Z"
   },
   {
    "duration": 498,
    "start_time": "2024-12-13T10:43:10.330Z"
   },
   {
    "duration": 389,
    "start_time": "2024-12-13T10:43:10.830Z"
   },
   {
    "duration": 422,
    "start_time": "2024-12-13T10:43:11.220Z"
   },
   {
    "duration": 12,
    "start_time": "2024-12-13T10:43:11.643Z"
   },
   {
    "duration": 11,
    "start_time": "2024-12-13T10:43:23.454Z"
   },
   {
    "duration": 389,
    "start_time": "2024-12-13T10:48:44.986Z"
   },
   {
    "duration": 384,
    "start_time": "2024-12-13T10:48:48.432Z"
   },
   {
    "duration": 5,
    "start_time": "2024-12-13T11:20:10.145Z"
   },
   {
    "duration": 5,
    "start_time": "2024-12-13T11:20:10.152Z"
   },
   {
    "duration": 270,
    "start_time": "2024-12-13T11:20:10.158Z"
   },
   {
    "duration": 15,
    "start_time": "2024-12-13T11:20:10.430Z"
   },
   {
    "duration": 29,
    "start_time": "2024-12-13T11:20:10.447Z"
   },
   {
    "duration": 17,
    "start_time": "2024-12-13T11:20:10.478Z"
   },
   {
    "duration": 5,
    "start_time": "2024-12-13T11:20:10.496Z"
   },
   {
    "duration": 457,
    "start_time": "2024-12-13T11:20:10.502Z"
   },
   {
    "duration": 418,
    "start_time": "2024-12-13T11:20:10.960Z"
   },
   {
    "duration": 399,
    "start_time": "2024-12-13T11:20:11.380Z"
   },
   {
    "duration": 16,
    "start_time": "2024-12-13T11:20:11.781Z"
   },
   {
    "duration": 403,
    "start_time": "2024-12-13T11:20:11.799Z"
   },
   {
    "duration": 4,
    "start_time": "2024-12-13T11:25:46.927Z"
   },
   {
    "duration": 12,
    "start_time": "2024-12-13T11:25:48.287Z"
   },
   {
    "duration": 11,
    "start_time": "2024-12-13T11:26:20.697Z"
   },
   {
    "duration": 13,
    "start_time": "2024-12-13T11:26:50.982Z"
   },
   {
    "duration": 9,
    "start_time": "2024-12-13T11:28:26.386Z"
   },
   {
    "duration": 3,
    "start_time": "2024-12-13T11:28:29.141Z"
   },
   {
    "duration": 5,
    "start_time": "2024-12-13T11:32:49.602Z"
   },
   {
    "duration": 4,
    "start_time": "2024-12-13T11:32:49.625Z"
   },
   {
    "duration": 273,
    "start_time": "2024-12-13T11:32:49.631Z"
   },
   {
    "duration": 16,
    "start_time": "2024-12-13T11:32:49.905Z"
   },
   {
    "duration": 32,
    "start_time": "2024-12-13T11:32:49.923Z"
   },
   {
    "duration": 21,
    "start_time": "2024-12-13T11:32:49.957Z"
   },
   {
    "duration": 4,
    "start_time": "2024-12-13T11:32:49.980Z"
   },
   {
    "duration": 779,
    "start_time": "2024-12-13T11:32:49.986Z"
   },
   {
    "duration": 19,
    "start_time": "2024-12-13T11:32:50.767Z"
   },
   {
    "duration": 0,
    "start_time": "2024-12-13T11:32:50.787Z"
   },
   {
    "duration": 0,
    "start_time": "2024-12-13T11:32:50.788Z"
   },
   {
    "duration": 0,
    "start_time": "2024-12-13T11:32:50.789Z"
   },
   {
    "duration": 0,
    "start_time": "2024-12-13T11:32:50.790Z"
   },
   {
    "duration": 0,
    "start_time": "2024-12-13T11:32:50.791Z"
   },
   {
    "duration": 0,
    "start_time": "2024-12-13T11:32:50.792Z"
   },
   {
    "duration": 0,
    "start_time": "2024-12-13T11:32:50.793Z"
   },
   {
    "duration": 5,
    "start_time": "2024-12-13T11:34:00.113Z"
   },
   {
    "duration": 65,
    "start_time": "2024-12-13T11:34:00.119Z"
   },
   {
    "duration": 304,
    "start_time": "2024-12-13T11:34:00.185Z"
   },
   {
    "duration": 15,
    "start_time": "2024-12-13T11:34:00.490Z"
   },
   {
    "duration": 22,
    "start_time": "2024-12-13T11:34:00.507Z"
   },
   {
    "duration": 37,
    "start_time": "2024-12-13T11:34:00.530Z"
   },
   {
    "duration": 21,
    "start_time": "2024-12-13T11:34:00.569Z"
   },
   {
    "duration": 790,
    "start_time": "2024-12-13T11:34:00.591Z"
   },
   {
    "duration": 13,
    "start_time": "2024-12-13T11:34:01.383Z"
   },
   {
    "duration": 0,
    "start_time": "2024-12-13T11:34:01.398Z"
   },
   {
    "duration": 0,
    "start_time": "2024-12-13T11:34:01.399Z"
   },
   {
    "duration": 0,
    "start_time": "2024-12-13T11:34:01.400Z"
   },
   {
    "duration": 0,
    "start_time": "2024-12-13T11:34:01.401Z"
   },
   {
    "duration": 0,
    "start_time": "2024-12-13T11:34:01.402Z"
   },
   {
    "duration": 0,
    "start_time": "2024-12-13T11:34:01.403Z"
   },
   {
    "duration": 0,
    "start_time": "2024-12-13T11:34:01.404Z"
   },
   {
    "duration": 5,
    "start_time": "2024-12-13T11:35:04.692Z"
   },
   {
    "duration": 20,
    "start_time": "2024-12-13T11:35:04.698Z"
   },
   {
    "duration": 259,
    "start_time": "2024-12-13T11:35:04.720Z"
   },
   {
    "duration": 15,
    "start_time": "2024-12-13T11:35:04.980Z"
   },
   {
    "duration": 21,
    "start_time": "2024-12-13T11:35:04.997Z"
   },
   {
    "duration": 38,
    "start_time": "2024-12-13T11:35:05.020Z"
   },
   {
    "duration": 13,
    "start_time": "2024-12-13T11:35:05.060Z"
   },
   {
    "duration": 827,
    "start_time": "2024-12-13T11:35:05.074Z"
   },
   {
    "duration": 12,
    "start_time": "2024-12-13T11:35:05.903Z"
   },
   {
    "duration": 0,
    "start_time": "2024-12-13T11:35:05.916Z"
   },
   {
    "duration": 0,
    "start_time": "2024-12-13T11:35:05.918Z"
   },
   {
    "duration": 0,
    "start_time": "2024-12-13T11:35:05.919Z"
   },
   {
    "duration": 0,
    "start_time": "2024-12-13T11:35:05.920Z"
   },
   {
    "duration": 0,
    "start_time": "2024-12-13T11:35:05.921Z"
   },
   {
    "duration": 0,
    "start_time": "2024-12-13T11:35:05.922Z"
   },
   {
    "duration": 0,
    "start_time": "2024-12-13T11:35:05.923Z"
   },
   {
    "duration": 1369,
    "start_time": "2024-12-13T11:36:06.717Z"
   },
   {
    "duration": 3,
    "start_time": "2024-12-13T11:36:08.089Z"
   },
   {
    "duration": 261,
    "start_time": "2024-12-13T11:36:08.093Z"
   },
   {
    "duration": 16,
    "start_time": "2024-12-13T11:36:08.355Z"
   },
   {
    "duration": 15,
    "start_time": "2024-12-13T11:36:08.373Z"
   },
   {
    "duration": 126,
    "start_time": "2024-12-13T11:36:08.389Z"
   },
   {
    "duration": 0,
    "start_time": "2024-12-13T11:36:08.517Z"
   },
   {
    "duration": 0,
    "start_time": "2024-12-13T11:36:08.518Z"
   },
   {
    "duration": 0,
    "start_time": "2024-12-13T11:36:08.519Z"
   },
   {
    "duration": 0,
    "start_time": "2024-12-13T11:36:08.520Z"
   },
   {
    "duration": 0,
    "start_time": "2024-12-13T11:36:08.521Z"
   },
   {
    "duration": 0,
    "start_time": "2024-12-13T11:36:08.522Z"
   },
   {
    "duration": 0,
    "start_time": "2024-12-13T11:36:08.523Z"
   },
   {
    "duration": 0,
    "start_time": "2024-12-13T11:36:08.524Z"
   },
   {
    "duration": 0,
    "start_time": "2024-12-13T11:36:08.525Z"
   },
   {
    "duration": 0,
    "start_time": "2024-12-13T11:36:08.526Z"
   },
   {
    "duration": 10,
    "start_time": "2024-12-13T11:36:24.222Z"
   },
   {
    "duration": 470,
    "start_time": "2024-12-13T11:36:26.701Z"
   },
   {
    "duration": 433,
    "start_time": "2024-12-13T11:36:30.486Z"
   },
   {
    "duration": 406,
    "start_time": "2024-12-13T11:36:33.788Z"
   },
   {
    "duration": 4,
    "start_time": "2024-12-13T11:36:43.338Z"
   },
   {
    "duration": 15,
    "start_time": "2024-12-13T11:36:43.344Z"
   },
   {
    "duration": 257,
    "start_time": "2024-12-13T11:36:43.360Z"
   },
   {
    "duration": 15,
    "start_time": "2024-12-13T11:36:43.619Z"
   },
   {
    "duration": 10,
    "start_time": "2024-12-13T11:36:43.636Z"
   },
   {
    "duration": 11,
    "start_time": "2024-12-13T11:36:43.648Z"
   },
   {
    "duration": 5,
    "start_time": "2024-12-13T11:36:43.660Z"
   },
   {
    "duration": 402,
    "start_time": "2024-12-13T11:36:43.666Z"
   },
   {
    "duration": 424,
    "start_time": "2024-12-13T11:36:44.069Z"
   },
   {
    "duration": 437,
    "start_time": "2024-12-13T11:36:44.494Z"
   },
   {
    "duration": 12,
    "start_time": "2024-12-13T11:36:44.932Z"
   },
   {
    "duration": 466,
    "start_time": "2024-12-13T11:36:44.945Z"
   },
   {
    "duration": 3,
    "start_time": "2024-12-13T11:36:45.414Z"
   },
   {
    "duration": 27,
    "start_time": "2024-12-13T11:36:45.418Z"
   },
   {
    "duration": 13,
    "start_time": "2024-12-13T11:36:45.446Z"
   },
   {
    "duration": 8,
    "start_time": "2024-12-13T11:36:45.460Z"
   },
   {
    "duration": 16,
    "start_time": "2024-12-13T11:37:47.814Z"
   },
   {
    "duration": 3,
    "start_time": "2024-12-13T11:38:08.708Z"
   },
   {
    "duration": 11,
    "start_time": "2024-12-13T11:38:09.372Z"
   },
   {
    "duration": 10,
    "start_time": "2024-12-13T11:39:27.931Z"
   },
   {
    "duration": 100683,
    "start_time": "2024-12-13T11:41:38.577Z"
   },
   {
    "duration": 13,
    "start_time": "2024-12-13T11:43:48.132Z"
   },
   {
    "duration": 13,
    "start_time": "2024-12-13T11:44:02.462Z"
   },
   {
    "duration": 101381,
    "start_time": "2024-12-13T11:44:37.194Z"
   },
   {
    "duration": 6,
    "start_time": "2024-12-13T11:46:29.974Z"
   },
   {
    "duration": 3,
    "start_time": "2024-12-13T11:46:33.572Z"
   },
   {
    "duration": 8,
    "start_time": "2024-12-13T11:48:38.349Z"
   },
   {
    "duration": 1515,
    "start_time": "2024-12-13T11:50:13.132Z"
   },
   {
    "duration": 1307,
    "start_time": "2024-12-13T11:50:49.371Z"
   },
   {
    "duration": 1372,
    "start_time": "2024-12-13T11:51:02.231Z"
   },
   {
    "duration": 4,
    "start_time": "2024-12-13T11:51:58.525Z"
   },
   {
    "duration": 6,
    "start_time": "2024-12-13T11:51:58.543Z"
   },
   {
    "duration": 265,
    "start_time": "2024-12-13T11:51:58.551Z"
   },
   {
    "duration": 14,
    "start_time": "2024-12-13T11:51:58.817Z"
   },
   {
    "duration": 13,
    "start_time": "2024-12-13T11:51:58.833Z"
   },
   {
    "duration": 51,
    "start_time": "2024-12-13T11:51:58.848Z"
   },
   {
    "duration": 8,
    "start_time": "2024-12-13T11:51:58.900Z"
   },
   {
    "duration": 408,
    "start_time": "2024-12-13T11:51:58.909Z"
   },
   {
    "duration": 415,
    "start_time": "2024-12-13T11:51:59.318Z"
   },
   {
    "duration": 404,
    "start_time": "2024-12-13T11:51:59.735Z"
   },
   {
    "duration": 13,
    "start_time": "2024-12-13T11:52:00.141Z"
   },
   {
    "duration": 449,
    "start_time": "2024-12-13T11:52:00.155Z"
   },
   {
    "duration": 4,
    "start_time": "2024-12-13T11:52:00.605Z"
   },
   {
    "duration": 37,
    "start_time": "2024-12-13T11:52:00.610Z"
   },
   {
    "duration": 20,
    "start_time": "2024-12-13T11:52:00.650Z"
   },
   {
    "duration": 13,
    "start_time": "2024-12-13T11:52:00.672Z"
   },
   {
    "duration": 6,
    "start_time": "2024-12-13T11:52:00.686Z"
   },
   {
    "duration": 49,
    "start_time": "2024-12-13T11:52:00.693Z"
   },
   {
    "duration": 101507,
    "start_time": "2024-12-13T11:52:00.743Z"
   },
   {
    "duration": 7,
    "start_time": "2024-12-13T11:53:42.251Z"
   },
   {
    "duration": 1594,
    "start_time": "2024-12-13T11:53:42.260Z"
   },
   {
    "duration": 12,
    "start_time": "2024-12-13T12:07:54.507Z"
   },
   {
    "duration": 12,
    "start_time": "2024-12-13T12:08:18.416Z"
   },
   {
    "duration": 1413,
    "start_time": "2024-12-13T12:08:37.860Z"
   },
   {
    "duration": 6,
    "start_time": "2024-12-13T12:08:50.017Z"
   },
   {
    "duration": 5,
    "start_time": "2024-12-13T12:08:55.372Z"
   },
   {
    "duration": 10,
    "start_time": "2024-12-13T12:09:09.168Z"
   },
   {
    "duration": 10,
    "start_time": "2024-12-13T12:09:29.841Z"
   },
   {
    "duration": 10,
    "start_time": "2024-12-13T12:10:55.903Z"
   },
   {
    "duration": 14,
    "start_time": "2024-12-13T12:10:59.444Z"
   },
   {
    "duration": 10,
    "start_time": "2024-12-13T12:11:02.043Z"
   },
   {
    "duration": 10,
    "start_time": "2024-12-13T12:11:37.900Z"
   },
   {
    "duration": 50,
    "start_time": "2024-12-13T12:13:16.900Z"
   },
   {
    "duration": 71,
    "start_time": "2024-12-13T12:13:27.410Z"
   },
   {
    "duration": 186,
    "start_time": "2024-12-13T12:13:42.969Z"
   },
   {
    "duration": 56,
    "start_time": "2024-12-13T12:14:05.543Z"
   },
   {
    "duration": 44,
    "start_time": "2024-12-13T12:14:16.876Z"
   },
   {
    "duration": 5,
    "start_time": "2024-12-13T12:14:20.205Z"
   },
   {
    "duration": 16,
    "start_time": "2024-12-13T12:14:20.211Z"
   },
   {
    "duration": 259,
    "start_time": "2024-12-13T12:14:20.229Z"
   },
   {
    "duration": 15,
    "start_time": "2024-12-13T12:14:20.489Z"
   },
   {
    "duration": 28,
    "start_time": "2024-12-13T12:14:20.506Z"
   },
   {
    "duration": 17,
    "start_time": "2024-12-13T12:14:20.536Z"
   },
   {
    "duration": 7,
    "start_time": "2024-12-13T12:14:20.554Z"
   },
   {
    "duration": 388,
    "start_time": "2024-12-13T12:14:20.562Z"
   },
   {
    "duration": 425,
    "start_time": "2024-12-13T12:14:20.952Z"
   },
   {
    "duration": 407,
    "start_time": "2024-12-13T12:14:21.379Z"
   },
   {
    "duration": 13,
    "start_time": "2024-12-13T12:14:21.788Z"
   },
   {
    "duration": 416,
    "start_time": "2024-12-13T12:14:21.802Z"
   },
   {
    "duration": 4,
    "start_time": "2024-12-13T12:14:22.220Z"
   },
   {
    "duration": 11,
    "start_time": "2024-12-13T12:14:22.226Z"
   },
   {
    "duration": 12,
    "start_time": "2024-12-13T12:14:22.239Z"
   },
   {
    "duration": 8,
    "start_time": "2024-12-13T12:14:22.253Z"
   },
   {
    "duration": 24,
    "start_time": "2024-12-13T12:14:22.263Z"
   },
   {
    "duration": 29,
    "start_time": "2024-12-13T12:14:22.288Z"
   },
   {
    "duration": 101446,
    "start_time": "2024-12-13T12:14:22.319Z"
   },
   {
    "duration": 20,
    "start_time": "2024-12-13T12:16:03.766Z"
   },
   {
    "duration": 1374,
    "start_time": "2024-12-13T12:16:03.788Z"
   },
   {
    "duration": 9,
    "start_time": "2024-12-13T12:16:05.164Z"
   },
   {
    "duration": 117,
    "start_time": "2024-12-13T12:16:05.175Z"
   },
   {
    "duration": 373,
    "start_time": "2024-12-13T12:18:23.855Z"
   },
   {
    "duration": 375,
    "start_time": "2024-12-13T12:18:37.234Z"
   },
   {
    "duration": 383,
    "start_time": "2024-12-13T12:19:22.510Z"
   },
   {
    "duration": 9,
    "start_time": "2024-12-13T12:21:20.034Z"
   },
   {
    "duration": 10,
    "start_time": "2024-12-13T12:21:32.761Z"
   },
   {
    "duration": 11,
    "start_time": "2024-12-13T12:26:51.969Z"
   },
   {
    "duration": 5,
    "start_time": "2024-12-13T12:27:42.534Z"
   },
   {
    "duration": 10,
    "start_time": "2024-12-13T12:28:02.002Z"
   },
   {
    "duration": 5,
    "start_time": "2024-12-13T12:28:11.891Z"
   },
   {
    "duration": 2,
    "start_time": "2024-12-13T12:29:05.455Z"
   },
   {
    "duration": 161,
    "start_time": "2024-12-13T12:29:39.446Z"
   },
   {
    "duration": 216,
    "start_time": "2024-12-13T12:30:09.556Z"
   },
   {
    "duration": 4,
    "start_time": "2024-12-13T12:43:48.141Z"
   },
   {
    "duration": 3,
    "start_time": "2024-12-13T12:43:48.163Z"
   },
   {
    "duration": 253,
    "start_time": "2024-12-13T12:43:48.168Z"
   },
   {
    "duration": 15,
    "start_time": "2024-12-13T12:43:48.423Z"
   },
   {
    "duration": 5,
    "start_time": "2024-12-13T12:43:48.439Z"
   },
   {
    "duration": 9,
    "start_time": "2024-12-13T12:43:48.446Z"
   },
   {
    "duration": 4,
    "start_time": "2024-12-13T12:43:48.456Z"
   },
   {
    "duration": 423,
    "start_time": "2024-12-13T12:43:48.462Z"
   },
   {
    "duration": 414,
    "start_time": "2024-12-13T12:43:48.887Z"
   },
   {
    "duration": 434,
    "start_time": "2024-12-13T12:43:49.303Z"
   },
   {
    "duration": 12,
    "start_time": "2024-12-13T12:43:49.738Z"
   },
   {
    "duration": 398,
    "start_time": "2024-12-13T12:43:49.751Z"
   },
   {
    "duration": 4,
    "start_time": "2024-12-13T12:43:50.150Z"
   },
   {
    "duration": 16,
    "start_time": "2024-12-13T12:43:50.155Z"
   },
   {
    "duration": 12,
    "start_time": "2024-12-13T12:43:50.186Z"
   },
   {
    "duration": 9,
    "start_time": "2024-12-13T12:43:50.199Z"
   },
   {
    "duration": 3,
    "start_time": "2024-12-13T12:43:50.210Z"
   },
   {
    "duration": 16,
    "start_time": "2024-12-13T12:43:50.214Z"
   },
   {
    "duration": 103341,
    "start_time": "2024-12-13T12:43:50.232Z"
   },
   {
    "duration": 17,
    "start_time": "2024-12-13T12:45:33.574Z"
   },
   {
    "duration": 1480,
    "start_time": "2024-12-13T12:45:33.592Z"
   },
   {
    "duration": 10,
    "start_time": "2024-12-13T12:45:35.073Z"
   },
   {
    "duration": 401,
    "start_time": "2024-12-13T12:45:35.085Z"
   }
  ],
  "kernelspec": {
   "display_name": "Python 3 (ipykernel)",
   "language": "python",
   "name": "python3"
  },
  "language_info": {
   "codemirror_mode": {
    "name": "ipython",
    "version": 3
   },
   "file_extension": ".py",
   "mimetype": "text/x-python",
   "name": "python",
   "nbconvert_exporter": "python",
   "pygments_lexer": "ipython3",
   "version": "3.11.9"
  },
  "toc": {
   "base_numbering": 1,
   "nav_menu": {},
   "number_sections": true,
   "sideBar": true,
   "skip_h1_title": true,
   "title_cell": "Содержание",
   "title_sidebar": "Contents",
   "toc_cell": true,
   "toc_position": {
    "height": "calc(100% - 180px)",
    "left": "10px",
    "top": "150px",
    "width": "205px"
   },
   "toc_section_display": true,
   "toc_window_display": true
  }
 },
 "nbformat": 4,
 "nbformat_minor": 4
}

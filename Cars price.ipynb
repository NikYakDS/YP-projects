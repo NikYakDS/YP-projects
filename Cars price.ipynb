{
 "cells": [
  {
   "cell_type": "markdown",
   "metadata": {},
   "source": [
    "# Определение стоимости автомобилей"
   ]
  },
  {
   "cell_type": "markdown",
   "metadata": {},
   "source": [
    "Сервис по продаже автомобилей с пробегом «Не бит, не крашен» разрабатывает приложение для привлечения новых клиентов. В нём можно быстро узнать рыночную стоимость своего автомобиля. В вашем распоряжении исторические данные: технические характеристики, комплектации и цены автомобилей. Вам нужно построить модель для определения стоимости. \n",
    "\n",
    "Заказчику важны:\n",
    "\n",
    "- качество предсказания;\n",
    "- скорость предсказания;\n",
    "- время обучения."
   ]
  },
  {
   "cell_type": "markdown",
   "metadata": {},
   "source": [
    "## Подготовка данных"
   ]
  },
  {
   "cell_type": "code",
   "execution_count": 1,
   "metadata": {},
   "outputs": [
    {
     "name": "stdout",
     "output_type": "stream",
     "text": [
      "Requirement already satisfied: lightgbm in /opt/conda/lib/python3.9/site-packages (3.3.1)\n",
      "Requirement already satisfied: numpy in /opt/conda/lib/python3.9/site-packages (from lightgbm) (1.21.1)\n",
      "Requirement already satisfied: scikit-learn!=0.22.0 in /opt/conda/lib/python3.9/site-packages (from lightgbm) (1.6.1)\n",
      "Requirement already satisfied: wheel in /opt/conda/lib/python3.9/site-packages (from lightgbm) (0.36.2)\n",
      "Requirement already satisfied: scipy in /opt/conda/lib/python3.9/site-packages (from lightgbm) (1.9.1)\n",
      "Requirement already satisfied: threadpoolctl>=3.1.0 in /opt/conda/lib/python3.9/site-packages (from scikit-learn!=0.22.0->lightgbm) (3.1.0)\n",
      "Requirement already satisfied: joblib>=1.2.0 in /opt/conda/lib/python3.9/site-packages (from scikit-learn!=0.22.0->lightgbm) (1.4.2)\n"
     ]
    }
   ],
   "source": [
    "!pip install -Uq scikit-learn\n",
    "!pip install lightgbm"
   ]
  },
  {
   "cell_type": "code",
   "execution_count": 2,
   "metadata": {},
   "outputs": [],
   "source": [
    "import pandas as pd\n",
    "import numpy as np\n",
    "from matplotlib import pyplot as plt\n",
    "import seaborn as sns\n",
    "from sklearn.linear_model import LinearRegression\n",
    "from sklearn.ensemble import RandomForestRegressor\n",
    "from sklearn.dummy import DummyRegressor\n",
    "from sklearn.model_selection import train_test_split\n",
    "from sklearn.preprocessing import StandardScaler\n",
    "from sklearn.metrics import mean_squared_error\n",
    "from sklearn.preprocessing import OrdinalEncoder\n",
    "from sklearn.tree import DecisionTreeRegressor\n",
    "from sklearn.ensemble import RandomForestRegressor\n",
    "import lightgbm as lgb\n",
    "from sklearn.model_selection import GridSearchCV\n",
    "\n",
    "import warnings\n",
    "warnings.filterwarnings(\"ignore\")"
   ]
  },
  {
   "cell_type": "code",
   "execution_count": 3,
   "metadata": {},
   "outputs": [],
   "source": [
    "auto_df = pd.read_csv('/datasets/autos.csv')"
   ]
  },
  {
   "cell_type": "code",
   "execution_count": 4,
   "metadata": {},
   "outputs": [],
   "source": [
    "def info_about(data):\n",
    "    display(data.head())\n",
    "    display(data.info())\n",
    "    display(data.describe())\n",
    "    display(data.duplicated().sum())\n",
    "    display(data.isna().sum())\n",
    "    display(data.corr())\n",
    "    data.hist(figsize=(12, 12))"
   ]
  },
  {
   "cell_type": "code",
   "execution_count": 5,
   "metadata": {
    "scrolled": true
   },
   "outputs": [
    {
     "data": {
      "text/html": [
       "<div>\n",
       "<style scoped>\n",
       "    .dataframe tbody tr th:only-of-type {\n",
       "        vertical-align: middle;\n",
       "    }\n",
       "\n",
       "    .dataframe tbody tr th {\n",
       "        vertical-align: top;\n",
       "    }\n",
       "\n",
       "    .dataframe thead th {\n",
       "        text-align: right;\n",
       "    }\n",
       "</style>\n",
       "<table border=\"1\" class=\"dataframe\">\n",
       "  <thead>\n",
       "    <tr style=\"text-align: right;\">\n",
       "      <th></th>\n",
       "      <th>DateCrawled</th>\n",
       "      <th>Price</th>\n",
       "      <th>VehicleType</th>\n",
       "      <th>RegistrationYear</th>\n",
       "      <th>Gearbox</th>\n",
       "      <th>Power</th>\n",
       "      <th>Model</th>\n",
       "      <th>Kilometer</th>\n",
       "      <th>RegistrationMonth</th>\n",
       "      <th>FuelType</th>\n",
       "      <th>Brand</th>\n",
       "      <th>Repaired</th>\n",
       "      <th>DateCreated</th>\n",
       "      <th>NumberOfPictures</th>\n",
       "      <th>PostalCode</th>\n",
       "      <th>LastSeen</th>\n",
       "    </tr>\n",
       "  </thead>\n",
       "  <tbody>\n",
       "    <tr>\n",
       "      <th>0</th>\n",
       "      <td>2016-03-24 11:52:17</td>\n",
       "      <td>480</td>\n",
       "      <td>NaN</td>\n",
       "      <td>1993</td>\n",
       "      <td>manual</td>\n",
       "      <td>0</td>\n",
       "      <td>golf</td>\n",
       "      <td>150000</td>\n",
       "      <td>0</td>\n",
       "      <td>petrol</td>\n",
       "      <td>volkswagen</td>\n",
       "      <td>NaN</td>\n",
       "      <td>2016-03-24 00:00:00</td>\n",
       "      <td>0</td>\n",
       "      <td>70435</td>\n",
       "      <td>2016-04-07 03:16:57</td>\n",
       "    </tr>\n",
       "    <tr>\n",
       "      <th>1</th>\n",
       "      <td>2016-03-24 10:58:45</td>\n",
       "      <td>18300</td>\n",
       "      <td>coupe</td>\n",
       "      <td>2011</td>\n",
       "      <td>manual</td>\n",
       "      <td>190</td>\n",
       "      <td>NaN</td>\n",
       "      <td>125000</td>\n",
       "      <td>5</td>\n",
       "      <td>gasoline</td>\n",
       "      <td>audi</td>\n",
       "      <td>yes</td>\n",
       "      <td>2016-03-24 00:00:00</td>\n",
       "      <td>0</td>\n",
       "      <td>66954</td>\n",
       "      <td>2016-04-07 01:46:50</td>\n",
       "    </tr>\n",
       "    <tr>\n",
       "      <th>2</th>\n",
       "      <td>2016-03-14 12:52:21</td>\n",
       "      <td>9800</td>\n",
       "      <td>suv</td>\n",
       "      <td>2004</td>\n",
       "      <td>auto</td>\n",
       "      <td>163</td>\n",
       "      <td>grand</td>\n",
       "      <td>125000</td>\n",
       "      <td>8</td>\n",
       "      <td>gasoline</td>\n",
       "      <td>jeep</td>\n",
       "      <td>NaN</td>\n",
       "      <td>2016-03-14 00:00:00</td>\n",
       "      <td>0</td>\n",
       "      <td>90480</td>\n",
       "      <td>2016-04-05 12:47:46</td>\n",
       "    </tr>\n",
       "    <tr>\n",
       "      <th>3</th>\n",
       "      <td>2016-03-17 16:54:04</td>\n",
       "      <td>1500</td>\n",
       "      <td>small</td>\n",
       "      <td>2001</td>\n",
       "      <td>manual</td>\n",
       "      <td>75</td>\n",
       "      <td>golf</td>\n",
       "      <td>150000</td>\n",
       "      <td>6</td>\n",
       "      <td>petrol</td>\n",
       "      <td>volkswagen</td>\n",
       "      <td>no</td>\n",
       "      <td>2016-03-17 00:00:00</td>\n",
       "      <td>0</td>\n",
       "      <td>91074</td>\n",
       "      <td>2016-03-17 17:40:17</td>\n",
       "    </tr>\n",
       "    <tr>\n",
       "      <th>4</th>\n",
       "      <td>2016-03-31 17:25:20</td>\n",
       "      <td>3600</td>\n",
       "      <td>small</td>\n",
       "      <td>2008</td>\n",
       "      <td>manual</td>\n",
       "      <td>69</td>\n",
       "      <td>fabia</td>\n",
       "      <td>90000</td>\n",
       "      <td>7</td>\n",
       "      <td>gasoline</td>\n",
       "      <td>skoda</td>\n",
       "      <td>no</td>\n",
       "      <td>2016-03-31 00:00:00</td>\n",
       "      <td>0</td>\n",
       "      <td>60437</td>\n",
       "      <td>2016-04-06 10:17:21</td>\n",
       "    </tr>\n",
       "  </tbody>\n",
       "</table>\n",
       "</div>"
      ],
      "text/plain": [
       "           DateCrawled  Price VehicleType  RegistrationYear Gearbox  Power  \\\n",
       "0  2016-03-24 11:52:17    480         NaN              1993  manual      0   \n",
       "1  2016-03-24 10:58:45  18300       coupe              2011  manual    190   \n",
       "2  2016-03-14 12:52:21   9800         suv              2004    auto    163   \n",
       "3  2016-03-17 16:54:04   1500       small              2001  manual     75   \n",
       "4  2016-03-31 17:25:20   3600       small              2008  manual     69   \n",
       "\n",
       "   Model  Kilometer  RegistrationMonth  FuelType       Brand Repaired  \\\n",
       "0   golf     150000                  0    petrol  volkswagen      NaN   \n",
       "1    NaN     125000                  5  gasoline        audi      yes   \n",
       "2  grand     125000                  8  gasoline        jeep      NaN   \n",
       "3   golf     150000                  6    petrol  volkswagen       no   \n",
       "4  fabia      90000                  7  gasoline       skoda       no   \n",
       "\n",
       "           DateCreated  NumberOfPictures  PostalCode             LastSeen  \n",
       "0  2016-03-24 00:00:00                 0       70435  2016-04-07 03:16:57  \n",
       "1  2016-03-24 00:00:00                 0       66954  2016-04-07 01:46:50  \n",
       "2  2016-03-14 00:00:00                 0       90480  2016-04-05 12:47:46  \n",
       "3  2016-03-17 00:00:00                 0       91074  2016-03-17 17:40:17  \n",
       "4  2016-03-31 00:00:00                 0       60437  2016-04-06 10:17:21  "
      ]
     },
     "metadata": {},
     "output_type": "display_data"
    },
    {
     "name": "stdout",
     "output_type": "stream",
     "text": [
      "<class 'pandas.core.frame.DataFrame'>\n",
      "RangeIndex: 354369 entries, 0 to 354368\n",
      "Data columns (total 16 columns):\n",
      " #   Column             Non-Null Count   Dtype \n",
      "---  ------             --------------   ----- \n",
      " 0   DateCrawled        354369 non-null  object\n",
      " 1   Price              354369 non-null  int64 \n",
      " 2   VehicleType        316879 non-null  object\n",
      " 3   RegistrationYear   354369 non-null  int64 \n",
      " 4   Gearbox            334536 non-null  object\n",
      " 5   Power              354369 non-null  int64 \n",
      " 6   Model              334664 non-null  object\n",
      " 7   Kilometer          354369 non-null  int64 \n",
      " 8   RegistrationMonth  354369 non-null  int64 \n",
      " 9   FuelType           321474 non-null  object\n",
      " 10  Brand              354369 non-null  object\n",
      " 11  Repaired           283215 non-null  object\n",
      " 12  DateCreated        354369 non-null  object\n",
      " 13  NumberOfPictures   354369 non-null  int64 \n",
      " 14  PostalCode         354369 non-null  int64 \n",
      " 15  LastSeen           354369 non-null  object\n",
      "dtypes: int64(7), object(9)\n",
      "memory usage: 43.3+ MB\n"
     ]
    },
    {
     "data": {
      "text/plain": [
       "None"
      ]
     },
     "metadata": {},
     "output_type": "display_data"
    },
    {
     "data": {
      "text/html": [
       "<div>\n",
       "<style scoped>\n",
       "    .dataframe tbody tr th:only-of-type {\n",
       "        vertical-align: middle;\n",
       "    }\n",
       "\n",
       "    .dataframe tbody tr th {\n",
       "        vertical-align: top;\n",
       "    }\n",
       "\n",
       "    .dataframe thead th {\n",
       "        text-align: right;\n",
       "    }\n",
       "</style>\n",
       "<table border=\"1\" class=\"dataframe\">\n",
       "  <thead>\n",
       "    <tr style=\"text-align: right;\">\n",
       "      <th></th>\n",
       "      <th>Price</th>\n",
       "      <th>RegistrationYear</th>\n",
       "      <th>Power</th>\n",
       "      <th>Kilometer</th>\n",
       "      <th>RegistrationMonth</th>\n",
       "      <th>NumberOfPictures</th>\n",
       "      <th>PostalCode</th>\n",
       "    </tr>\n",
       "  </thead>\n",
       "  <tbody>\n",
       "    <tr>\n",
       "      <th>count</th>\n",
       "      <td>354369.000000</td>\n",
       "      <td>354369.000000</td>\n",
       "      <td>354369.000000</td>\n",
       "      <td>354369.000000</td>\n",
       "      <td>354369.000000</td>\n",
       "      <td>354369.0</td>\n",
       "      <td>354369.000000</td>\n",
       "    </tr>\n",
       "    <tr>\n",
       "      <th>mean</th>\n",
       "      <td>4416.656776</td>\n",
       "      <td>2004.234448</td>\n",
       "      <td>110.094337</td>\n",
       "      <td>128211.172535</td>\n",
       "      <td>5.714645</td>\n",
       "      <td>0.0</td>\n",
       "      <td>50508.689087</td>\n",
       "    </tr>\n",
       "    <tr>\n",
       "      <th>std</th>\n",
       "      <td>4514.158514</td>\n",
       "      <td>90.227958</td>\n",
       "      <td>189.850405</td>\n",
       "      <td>37905.341530</td>\n",
       "      <td>3.726421</td>\n",
       "      <td>0.0</td>\n",
       "      <td>25783.096248</td>\n",
       "    </tr>\n",
       "    <tr>\n",
       "      <th>min</th>\n",
       "      <td>0.000000</td>\n",
       "      <td>1000.000000</td>\n",
       "      <td>0.000000</td>\n",
       "      <td>5000.000000</td>\n",
       "      <td>0.000000</td>\n",
       "      <td>0.0</td>\n",
       "      <td>1067.000000</td>\n",
       "    </tr>\n",
       "    <tr>\n",
       "      <th>25%</th>\n",
       "      <td>1050.000000</td>\n",
       "      <td>1999.000000</td>\n",
       "      <td>69.000000</td>\n",
       "      <td>125000.000000</td>\n",
       "      <td>3.000000</td>\n",
       "      <td>0.0</td>\n",
       "      <td>30165.000000</td>\n",
       "    </tr>\n",
       "    <tr>\n",
       "      <th>50%</th>\n",
       "      <td>2700.000000</td>\n",
       "      <td>2003.000000</td>\n",
       "      <td>105.000000</td>\n",
       "      <td>150000.000000</td>\n",
       "      <td>6.000000</td>\n",
       "      <td>0.0</td>\n",
       "      <td>49413.000000</td>\n",
       "    </tr>\n",
       "    <tr>\n",
       "      <th>75%</th>\n",
       "      <td>6400.000000</td>\n",
       "      <td>2008.000000</td>\n",
       "      <td>143.000000</td>\n",
       "      <td>150000.000000</td>\n",
       "      <td>9.000000</td>\n",
       "      <td>0.0</td>\n",
       "      <td>71083.000000</td>\n",
       "    </tr>\n",
       "    <tr>\n",
       "      <th>max</th>\n",
       "      <td>20000.000000</td>\n",
       "      <td>9999.000000</td>\n",
       "      <td>20000.000000</td>\n",
       "      <td>150000.000000</td>\n",
       "      <td>12.000000</td>\n",
       "      <td>0.0</td>\n",
       "      <td>99998.000000</td>\n",
       "    </tr>\n",
       "  </tbody>\n",
       "</table>\n",
       "</div>"
      ],
      "text/plain": [
       "               Price  RegistrationYear          Power      Kilometer  \\\n",
       "count  354369.000000     354369.000000  354369.000000  354369.000000   \n",
       "mean     4416.656776       2004.234448     110.094337  128211.172535   \n",
       "std      4514.158514         90.227958     189.850405   37905.341530   \n",
       "min         0.000000       1000.000000       0.000000    5000.000000   \n",
       "25%      1050.000000       1999.000000      69.000000  125000.000000   \n",
       "50%      2700.000000       2003.000000     105.000000  150000.000000   \n",
       "75%      6400.000000       2008.000000     143.000000  150000.000000   \n",
       "max     20000.000000       9999.000000   20000.000000  150000.000000   \n",
       "\n",
       "       RegistrationMonth  NumberOfPictures     PostalCode  \n",
       "count      354369.000000          354369.0  354369.000000  \n",
       "mean            5.714645               0.0   50508.689087  \n",
       "std             3.726421               0.0   25783.096248  \n",
       "min             0.000000               0.0    1067.000000  \n",
       "25%             3.000000               0.0   30165.000000  \n",
       "50%             6.000000               0.0   49413.000000  \n",
       "75%             9.000000               0.0   71083.000000  \n",
       "max            12.000000               0.0   99998.000000  "
      ]
     },
     "metadata": {},
     "output_type": "display_data"
    },
    {
     "data": {
      "text/plain": [
       "4"
      ]
     },
     "metadata": {},
     "output_type": "display_data"
    },
    {
     "data": {
      "text/plain": [
       "DateCrawled              0\n",
       "Price                    0\n",
       "VehicleType          37490\n",
       "RegistrationYear         0\n",
       "Gearbox              19833\n",
       "Power                    0\n",
       "Model                19705\n",
       "Kilometer                0\n",
       "RegistrationMonth        0\n",
       "FuelType             32895\n",
       "Brand                    0\n",
       "Repaired             71154\n",
       "DateCreated              0\n",
       "NumberOfPictures         0\n",
       "PostalCode               0\n",
       "LastSeen                 0\n",
       "dtype: int64"
      ]
     },
     "metadata": {},
     "output_type": "display_data"
    },
    {
     "data": {
      "text/html": [
       "<div>\n",
       "<style scoped>\n",
       "    .dataframe tbody tr th:only-of-type {\n",
       "        vertical-align: middle;\n",
       "    }\n",
       "\n",
       "    .dataframe tbody tr th {\n",
       "        vertical-align: top;\n",
       "    }\n",
       "\n",
       "    .dataframe thead th {\n",
       "        text-align: right;\n",
       "    }\n",
       "</style>\n",
       "<table border=\"1\" class=\"dataframe\">\n",
       "  <thead>\n",
       "    <tr style=\"text-align: right;\">\n",
       "      <th></th>\n",
       "      <th>Price</th>\n",
       "      <th>RegistrationYear</th>\n",
       "      <th>Power</th>\n",
       "      <th>Kilometer</th>\n",
       "      <th>RegistrationMonth</th>\n",
       "      <th>NumberOfPictures</th>\n",
       "      <th>PostalCode</th>\n",
       "    </tr>\n",
       "  </thead>\n",
       "  <tbody>\n",
       "    <tr>\n",
       "      <th>Price</th>\n",
       "      <td>1.000000</td>\n",
       "      <td>0.026916</td>\n",
       "      <td>0.158872</td>\n",
       "      <td>-0.333199</td>\n",
       "      <td>0.110581</td>\n",
       "      <td>NaN</td>\n",
       "      <td>0.076055</td>\n",
       "    </tr>\n",
       "    <tr>\n",
       "      <th>RegistrationYear</th>\n",
       "      <td>0.026916</td>\n",
       "      <td>1.000000</td>\n",
       "      <td>-0.000828</td>\n",
       "      <td>-0.053447</td>\n",
       "      <td>-0.011619</td>\n",
       "      <td>NaN</td>\n",
       "      <td>-0.003459</td>\n",
       "    </tr>\n",
       "    <tr>\n",
       "      <th>Power</th>\n",
       "      <td>0.158872</td>\n",
       "      <td>-0.000828</td>\n",
       "      <td>1.000000</td>\n",
       "      <td>0.024002</td>\n",
       "      <td>0.043380</td>\n",
       "      <td>NaN</td>\n",
       "      <td>0.021665</td>\n",
       "    </tr>\n",
       "    <tr>\n",
       "      <th>Kilometer</th>\n",
       "      <td>-0.333199</td>\n",
       "      <td>-0.053447</td>\n",
       "      <td>0.024002</td>\n",
       "      <td>1.000000</td>\n",
       "      <td>0.009571</td>\n",
       "      <td>NaN</td>\n",
       "      <td>-0.007698</td>\n",
       "    </tr>\n",
       "    <tr>\n",
       "      <th>RegistrationMonth</th>\n",
       "      <td>0.110581</td>\n",
       "      <td>-0.011619</td>\n",
       "      <td>0.043380</td>\n",
       "      <td>0.009571</td>\n",
       "      <td>1.000000</td>\n",
       "      <td>NaN</td>\n",
       "      <td>0.013995</td>\n",
       "    </tr>\n",
       "    <tr>\n",
       "      <th>NumberOfPictures</th>\n",
       "      <td>NaN</td>\n",
       "      <td>NaN</td>\n",
       "      <td>NaN</td>\n",
       "      <td>NaN</td>\n",
       "      <td>NaN</td>\n",
       "      <td>NaN</td>\n",
       "      <td>NaN</td>\n",
       "    </tr>\n",
       "    <tr>\n",
       "      <th>PostalCode</th>\n",
       "      <td>0.076055</td>\n",
       "      <td>-0.003459</td>\n",
       "      <td>0.021665</td>\n",
       "      <td>-0.007698</td>\n",
       "      <td>0.013995</td>\n",
       "      <td>NaN</td>\n",
       "      <td>1.000000</td>\n",
       "    </tr>\n",
       "  </tbody>\n",
       "</table>\n",
       "</div>"
      ],
      "text/plain": [
       "                      Price  RegistrationYear     Power  Kilometer  \\\n",
       "Price              1.000000          0.026916  0.158872  -0.333199   \n",
       "RegistrationYear   0.026916          1.000000 -0.000828  -0.053447   \n",
       "Power              0.158872         -0.000828  1.000000   0.024002   \n",
       "Kilometer         -0.333199         -0.053447  0.024002   1.000000   \n",
       "RegistrationMonth  0.110581         -0.011619  0.043380   0.009571   \n",
       "NumberOfPictures        NaN               NaN       NaN        NaN   \n",
       "PostalCode         0.076055         -0.003459  0.021665  -0.007698   \n",
       "\n",
       "                   RegistrationMonth  NumberOfPictures  PostalCode  \n",
       "Price                       0.110581               NaN    0.076055  \n",
       "RegistrationYear           -0.011619               NaN   -0.003459  \n",
       "Power                       0.043380               NaN    0.021665  \n",
       "Kilometer                   0.009571               NaN   -0.007698  \n",
       "RegistrationMonth           1.000000               NaN    0.013995  \n",
       "NumberOfPictures                 NaN               NaN         NaN  \n",
       "PostalCode                  0.013995               NaN    1.000000  "
      ]
     },
     "metadata": {},
     "output_type": "display_data"
    },
    {
     "data": {
      "image/png": "[encoded data removed]",
      "text/plain": [
       "<Figure size 864x864 with 9 Axes>"
      ]
     },
     "metadata": {
      "needs_background": "light"
     },
     "output_type": "display_data"
    }
   ],
   "source": [
    "info_about(auto_df)"
   ]
  },
  {
   "cell_type": "markdown",
   "metadata": {},
   "source": [
    "**ВЫВОДЫ:**\n",
    "\n",
    "Price - минимальная цена 0.\n",
    "\n",
    "RegistrationYear - есть некорректные значения.\n",
    "\n",
    "Power - есть некорректные значения мощности двигателя.\n",
    "\n",
    "RegistrationMonth - отсутствует месяц регистрации.\n",
    "\n",
    "Также много пропусков в таких признаках как *VehicleType*, *Gearbox*, *Model*, *FuelType*, *Repaired*. \n",
    "\n",
    "Присутствуют дубликаты.\n",
    "\n",
    "Типы данных в порядке."
   ]
  },
  {
   "cell_type": "markdown",
   "metadata": {},
   "source": [
    "## Предобработка данных"
   ]
  },
  {
   "cell_type": "code",
   "execution_count": 6,
   "metadata": {},
   "outputs": [
    {
     "data": {
      "text/plain": [
       "Index(['date_crawled', 'price', 'vehicle_type', 'registration_year', 'gearbox',\n",
       "       'power', 'model', 'kilometer', 'registration_month', 'fuel_type',\n",
       "       'brand', 'repaired', 'date_created', 'number_of_pictures',\n",
       "       'postal_code', 'last_seen'],\n",
       "      dtype='object')"
      ]
     },
     "execution_count": 6,
     "metadata": {},
     "output_type": "execute_result"
    }
   ],
   "source": [
    "#переведем в змеиный регистр\n",
    "auto_df.columns = auto_df.columns.str.replace(r\"([A-Z])\", r\" \\1\").str.lower().str.replace(' ', '_').str[1:]\n",
    "auto_df.columns"
   ]
  },
  {
   "cell_type": "code",
   "execution_count": 7,
   "metadata": {},
   "outputs": [
    {
     "data": {
      "text/plain": [
       "'2016-04-07 14:36:58'"
      ]
     },
     "execution_count": 7,
     "metadata": {},
     "output_type": "execute_result"
    }
   ],
   "source": [
    "auto_df.date_crawled.max()"
   ]
  },
  {
   "cell_type": "code",
   "execution_count": 8,
   "metadata": {},
   "outputs": [],
   "source": [
    "#удалим столбцы, которые нам не понадобятся\n",
    "auto_df = auto_df.drop(['number_of_pictures', 'postal_code', 'date_created', 'last_seen', 'registration_month', 'date_crawled'], axis=1)"
   ]
  },
  {
   "cell_type": "code",
   "execution_count": 9,
   "metadata": {},
   "outputs": [
    {
     "data": {
      "text/plain": [
       "'Доля пропусков в vehicle_type: 10.58%'"
      ]
     },
     "metadata": {},
     "output_type": "display_data"
    },
    {
     "data": {
      "text/plain": [
       "'Доля пропусков в gearbox: 5.60%'"
      ]
     },
     "metadata": {},
     "output_type": "display_data"
    },
    {
     "data": {
      "text/plain": [
       "'Доля пропусков в model: 5.56%'"
      ]
     },
     "metadata": {},
     "output_type": "display_data"
    },
    {
     "data": {
      "text/plain": [
       "'Доля пропусков в fuel_type: 9.28%'"
      ]
     },
     "metadata": {},
     "output_type": "display_data"
    },
    {
     "data": {
      "text/plain": [
       "'Доля пропусков в not_repaired: 20.08%'"
      ]
     },
     "metadata": {},
     "output_type": "display_data"
    }
   ],
   "source": [
    "display('Доля пропусков в vehicle_type: {:.2%}'.format(auto_df['vehicle_type'].isna().mean()),\n",
    "       'Доля пропусков в gearbox: {:.2%}'.format(auto_df['gearbox'].isna().mean()),\n",
    "       'Доля пропусков в model: {:.2%}'.format(auto_df['model'].isna().mean()),\n",
    "       'Доля пропусков в fuel_type: {:.2%}'.format(auto_df['fuel_type'].isna().mean()),\n",
    "       'Доля пропусков в not_repaired: {:.2%}'.format(auto_df['repaired'].isna().mean()))"
   ]
  },
  {
   "cell_type": "code",
   "execution_count": 10,
   "metadata": {},
   "outputs": [
    {
     "data": {
      "text/plain": [
       "no     247161\n",
       "yes     36054\n",
       "Name: repaired, dtype: int64"
      ]
     },
     "execution_count": 10,
     "metadata": {},
     "output_type": "execute_result"
    }
   ],
   "source": [
    "auto_df.repaired.value_counts()"
   ]
  },
  {
   "cell_type": "code",
   "execution_count": 11,
   "metadata": {},
   "outputs": [
    {
     "data": {
      "text/html": [
       "<div>\n",
       "<style scoped>\n",
       "    .dataframe tbody tr th:only-of-type {\n",
       "        vertical-align: middle;\n",
       "    }\n",
       "\n",
       "    .dataframe tbody tr th {\n",
       "        vertical-align: top;\n",
       "    }\n",
       "\n",
       "    .dataframe thead th {\n",
       "        text-align: right;\n",
       "    }\n",
       "</style>\n",
       "<table border=\"1\" class=\"dataframe\">\n",
       "  <thead>\n",
       "    <tr style=\"text-align: right;\">\n",
       "      <th></th>\n",
       "      <th>price</th>\n",
       "      <th>vehicle_type</th>\n",
       "      <th>registration_year</th>\n",
       "      <th>gearbox</th>\n",
       "      <th>power</th>\n",
       "      <th>model</th>\n",
       "      <th>kilometer</th>\n",
       "      <th>fuel_type</th>\n",
       "      <th>brand</th>\n",
       "      <th>repaired</th>\n",
       "    </tr>\n",
       "  </thead>\n",
       "  <tbody>\n",
       "    <tr>\n",
       "      <th>306</th>\n",
       "      <td>200</td>\n",
       "      <td>NaN</td>\n",
       "      <td>2009</td>\n",
       "      <td>NaN</td>\n",
       "      <td>0</td>\n",
       "      <td>NaN</td>\n",
       "      <td>10000</td>\n",
       "      <td>NaN</td>\n",
       "      <td>sonstige_autos</td>\n",
       "      <td>NaN</td>\n",
       "    </tr>\n",
       "    <tr>\n",
       "      <th>522</th>\n",
       "      <td>0</td>\n",
       "      <td>NaN</td>\n",
       "      <td>2000</td>\n",
       "      <td>NaN</td>\n",
       "      <td>0</td>\n",
       "      <td>NaN</td>\n",
       "      <td>150000</td>\n",
       "      <td>NaN</td>\n",
       "      <td>volvo</td>\n",
       "      <td>NaN</td>\n",
       "    </tr>\n",
       "    <tr>\n",
       "      <th>538</th>\n",
       "      <td>2600</td>\n",
       "      <td>NaN</td>\n",
       "      <td>2005</td>\n",
       "      <td>NaN</td>\n",
       "      <td>0</td>\n",
       "      <td>NaN</td>\n",
       "      <td>125000</td>\n",
       "      <td>NaN</td>\n",
       "      <td>chevrolet</td>\n",
       "      <td>NaN</td>\n",
       "    </tr>\n",
       "    <tr>\n",
       "      <th>552</th>\n",
       "      <td>50</td>\n",
       "      <td>NaN</td>\n",
       "      <td>1985</td>\n",
       "      <td>NaN</td>\n",
       "      <td>0</td>\n",
       "      <td>NaN</td>\n",
       "      <td>150000</td>\n",
       "      <td>NaN</td>\n",
       "      <td>trabant</td>\n",
       "      <td>NaN</td>\n",
       "    </tr>\n",
       "    <tr>\n",
       "      <th>622</th>\n",
       "      <td>0</td>\n",
       "      <td>NaN</td>\n",
       "      <td>1111</td>\n",
       "      <td>NaN</td>\n",
       "      <td>0</td>\n",
       "      <td>NaN</td>\n",
       "      <td>5000</td>\n",
       "      <td>NaN</td>\n",
       "      <td>opel</td>\n",
       "      <td>NaN</td>\n",
       "    </tr>\n",
       "    <tr>\n",
       "      <th>...</th>\n",
       "      <td>...</td>\n",
       "      <td>...</td>\n",
       "      <td>...</td>\n",
       "      <td>...</td>\n",
       "      <td>...</td>\n",
       "      <td>...</td>\n",
       "      <td>...</td>\n",
       "      <td>...</td>\n",
       "      <td>...</td>\n",
       "      <td>...</td>\n",
       "    </tr>\n",
       "    <tr>\n",
       "      <th>353727</th>\n",
       "      <td>1</td>\n",
       "      <td>NaN</td>\n",
       "      <td>2000</td>\n",
       "      <td>NaN</td>\n",
       "      <td>0</td>\n",
       "      <td>NaN</td>\n",
       "      <td>150000</td>\n",
       "      <td>NaN</td>\n",
       "      <td>bmw</td>\n",
       "      <td>NaN</td>\n",
       "    </tr>\n",
       "    <tr>\n",
       "      <th>354073</th>\n",
       "      <td>1750</td>\n",
       "      <td>NaN</td>\n",
       "      <td>1995</td>\n",
       "      <td>NaN</td>\n",
       "      <td>0</td>\n",
       "      <td>NaN</td>\n",
       "      <td>100000</td>\n",
       "      <td>NaN</td>\n",
       "      <td>sonstige_autos</td>\n",
       "      <td>NaN</td>\n",
       "    </tr>\n",
       "    <tr>\n",
       "      <th>354083</th>\n",
       "      <td>0</td>\n",
       "      <td>NaN</td>\n",
       "      <td>2000</td>\n",
       "      <td>NaN</td>\n",
       "      <td>0</td>\n",
       "      <td>NaN</td>\n",
       "      <td>150000</td>\n",
       "      <td>NaN</td>\n",
       "      <td>sonstige_autos</td>\n",
       "      <td>NaN</td>\n",
       "    </tr>\n",
       "    <tr>\n",
       "      <th>354162</th>\n",
       "      <td>1500</td>\n",
       "      <td>NaN</td>\n",
       "      <td>1995</td>\n",
       "      <td>NaN</td>\n",
       "      <td>0</td>\n",
       "      <td>NaN</td>\n",
       "      <td>150000</td>\n",
       "      <td>NaN</td>\n",
       "      <td>volkswagen</td>\n",
       "      <td>NaN</td>\n",
       "    </tr>\n",
       "    <tr>\n",
       "      <th>354365</th>\n",
       "      <td>2200</td>\n",
       "      <td>NaN</td>\n",
       "      <td>2005</td>\n",
       "      <td>NaN</td>\n",
       "      <td>0</td>\n",
       "      <td>NaN</td>\n",
       "      <td>20000</td>\n",
       "      <td>NaN</td>\n",
       "      <td>sonstige_autos</td>\n",
       "      <td>NaN</td>\n",
       "    </tr>\n",
       "  </tbody>\n",
       "</table>\n",
       "<p>2237 rows × 10 columns</p>\n",
       "</div>"
      ],
      "text/plain": [
       "        price vehicle_type  registration_year gearbox  power model  kilometer  \\\n",
       "306       200          NaN               2009     NaN      0   NaN      10000   \n",
       "522         0          NaN               2000     NaN      0   NaN     150000   \n",
       "538      2600          NaN               2005     NaN      0   NaN     125000   \n",
       "552        50          NaN               1985     NaN      0   NaN     150000   \n",
       "622         0          NaN               1111     NaN      0   NaN       5000   \n",
       "...       ...          ...                ...     ...    ...   ...        ...   \n",
       "353727      1          NaN               2000     NaN      0   NaN     150000   \n",
       "354073   1750          NaN               1995     NaN      0   NaN     100000   \n",
       "354083      0          NaN               2000     NaN      0   NaN     150000   \n",
       "354162   1500          NaN               1995     NaN      0   NaN     150000   \n",
       "354365   2200          NaN               2005     NaN      0   NaN      20000   \n",
       "\n",
       "       fuel_type           brand repaired  \n",
       "306          NaN  sonstige_autos      NaN  \n",
       "522          NaN           volvo      NaN  \n",
       "538          NaN       chevrolet      NaN  \n",
       "552          NaN         trabant      NaN  \n",
       "622          NaN            opel      NaN  \n",
       "...          ...             ...      ...  \n",
       "353727       NaN             bmw      NaN  \n",
       "354073       NaN  sonstige_autos      NaN  \n",
       "354083       NaN  sonstige_autos      NaN  \n",
       "354162       NaN      volkswagen      NaN  \n",
       "354365       NaN  sonstige_autos      NaN  \n",
       "\n",
       "[2237 rows x 10 columns]"
      ]
     },
     "execution_count": 11,
     "metadata": {},
     "output_type": "execute_result"
    }
   ],
   "source": [
    "#выведем столбцы с пропусками\n",
    "auto_df[auto_df['vehicle_type'].isna() \n",
    "     & auto_df['fuel_type'].isna() \n",
    "     & auto_df['model'].isna()\n",
    "     & auto_df['repaired'].isna()\n",
    "     & auto_df['gearbox'].isna()]"
   ]
  },
  {
   "cell_type": "code",
   "execution_count": 12,
   "metadata": {},
   "outputs": [
    {
     "data": {
      "text/html": [
       "<div>\n",
       "<style scoped>\n",
       "    .dataframe tbody tr th:only-of-type {\n",
       "        vertical-align: middle;\n",
       "    }\n",
       "\n",
       "    .dataframe tbody tr th {\n",
       "        vertical-align: top;\n",
       "    }\n",
       "\n",
       "    .dataframe thead th {\n",
       "        text-align: right;\n",
       "    }\n",
       "</style>\n",
       "<table border=\"1\" class=\"dataframe\">\n",
       "  <thead>\n",
       "    <tr style=\"text-align: right;\">\n",
       "      <th></th>\n",
       "      <th>price</th>\n",
       "      <th>vehicle_type</th>\n",
       "      <th>registration_year</th>\n",
       "      <th>gearbox</th>\n",
       "      <th>power</th>\n",
       "      <th>model</th>\n",
       "      <th>kilometer</th>\n",
       "      <th>fuel_type</th>\n",
       "      <th>brand</th>\n",
       "      <th>repaired</th>\n",
       "    </tr>\n",
       "  </thead>\n",
       "  <tbody>\n",
       "    <tr>\n",
       "      <th>0</th>\n",
       "      <td>480</td>\n",
       "      <td>NaN</td>\n",
       "      <td>1993</td>\n",
       "      <td>manual</td>\n",
       "      <td>0</td>\n",
       "      <td>golf</td>\n",
       "      <td>150000</td>\n",
       "      <td>petrol</td>\n",
       "      <td>volkswagen</td>\n",
       "      <td>NaN</td>\n",
       "    </tr>\n",
       "    <tr>\n",
       "      <th>1</th>\n",
       "      <td>18300</td>\n",
       "      <td>coupe</td>\n",
       "      <td>2011</td>\n",
       "      <td>manual</td>\n",
       "      <td>190</td>\n",
       "      <td>NaN</td>\n",
       "      <td>125000</td>\n",
       "      <td>gasoline</td>\n",
       "      <td>audi</td>\n",
       "      <td>yes</td>\n",
       "    </tr>\n",
       "    <tr>\n",
       "      <th>2</th>\n",
       "      <td>9800</td>\n",
       "      <td>suv</td>\n",
       "      <td>2004</td>\n",
       "      <td>auto</td>\n",
       "      <td>163</td>\n",
       "      <td>grand</td>\n",
       "      <td>125000</td>\n",
       "      <td>gasoline</td>\n",
       "      <td>jeep</td>\n",
       "      <td>NaN</td>\n",
       "    </tr>\n",
       "    <tr>\n",
       "      <th>3</th>\n",
       "      <td>1500</td>\n",
       "      <td>small</td>\n",
       "      <td>2001</td>\n",
       "      <td>manual</td>\n",
       "      <td>75</td>\n",
       "      <td>golf</td>\n",
       "      <td>150000</td>\n",
       "      <td>petrol</td>\n",
       "      <td>volkswagen</td>\n",
       "      <td>no</td>\n",
       "    </tr>\n",
       "    <tr>\n",
       "      <th>4</th>\n",
       "      <td>3600</td>\n",
       "      <td>small</td>\n",
       "      <td>2008</td>\n",
       "      <td>manual</td>\n",
       "      <td>69</td>\n",
       "      <td>fabia</td>\n",
       "      <td>90000</td>\n",
       "      <td>gasoline</td>\n",
       "      <td>skoda</td>\n",
       "      <td>no</td>\n",
       "    </tr>\n",
       "    <tr>\n",
       "      <th>5</th>\n",
       "      <td>650</td>\n",
       "      <td>sedan</td>\n",
       "      <td>1995</td>\n",
       "      <td>manual</td>\n",
       "      <td>102</td>\n",
       "      <td>3er</td>\n",
       "      <td>150000</td>\n",
       "      <td>petrol</td>\n",
       "      <td>bmw</td>\n",
       "      <td>yes</td>\n",
       "    </tr>\n",
       "    <tr>\n",
       "      <th>6</th>\n",
       "      <td>2200</td>\n",
       "      <td>convertible</td>\n",
       "      <td>2004</td>\n",
       "      <td>manual</td>\n",
       "      <td>109</td>\n",
       "      <td>2_reihe</td>\n",
       "      <td>150000</td>\n",
       "      <td>petrol</td>\n",
       "      <td>peugeot</td>\n",
       "      <td>no</td>\n",
       "    </tr>\n",
       "    <tr>\n",
       "      <th>7</th>\n",
       "      <td>0</td>\n",
       "      <td>sedan</td>\n",
       "      <td>1980</td>\n",
       "      <td>manual</td>\n",
       "      <td>50</td>\n",
       "      <td>other</td>\n",
       "      <td>40000</td>\n",
       "      <td>petrol</td>\n",
       "      <td>volkswagen</td>\n",
       "      <td>no</td>\n",
       "    </tr>\n",
       "    <tr>\n",
       "      <th>8</th>\n",
       "      <td>14500</td>\n",
       "      <td>bus</td>\n",
       "      <td>2014</td>\n",
       "      <td>manual</td>\n",
       "      <td>125</td>\n",
       "      <td>c_max</td>\n",
       "      <td>30000</td>\n",
       "      <td>petrol</td>\n",
       "      <td>ford</td>\n",
       "      <td>NaN</td>\n",
       "    </tr>\n",
       "    <tr>\n",
       "      <th>9</th>\n",
       "      <td>999</td>\n",
       "      <td>small</td>\n",
       "      <td>1998</td>\n",
       "      <td>manual</td>\n",
       "      <td>101</td>\n",
       "      <td>golf</td>\n",
       "      <td>150000</td>\n",
       "      <td>NaN</td>\n",
       "      <td>volkswagen</td>\n",
       "      <td>NaN</td>\n",
       "    </tr>\n",
       "  </tbody>\n",
       "</table>\n",
       "</div>"
      ],
      "text/plain": [
       "   price vehicle_type  registration_year gearbox  power    model  kilometer  \\\n",
       "0    480          NaN               1993  manual      0     golf     150000   \n",
       "1  18300        coupe               2011  manual    190      NaN     125000   \n",
       "2   9800          suv               2004    auto    163    grand     125000   \n",
       "3   1500        small               2001  manual     75     golf     150000   \n",
       "4   3600        small               2008  manual     69    fabia      90000   \n",
       "5    650        sedan               1995  manual    102      3er     150000   \n",
       "6   2200  convertible               2004  manual    109  2_reihe     150000   \n",
       "7      0        sedan               1980  manual     50    other      40000   \n",
       "8  14500          bus               2014  manual    125    c_max      30000   \n",
       "9    999        small               1998  manual    101     golf     150000   \n",
       "\n",
       "  fuel_type       brand repaired  \n",
       "0    petrol  volkswagen      NaN  \n",
       "1  gasoline        audi      yes  \n",
       "2  gasoline        jeep      NaN  \n",
       "3    petrol  volkswagen       no  \n",
       "4  gasoline       skoda       no  \n",
       "5    petrol         bmw      yes  \n",
       "6    petrol     peugeot       no  \n",
       "7    petrol  volkswagen       no  \n",
       "8    petrol        ford      NaN  \n",
       "9       NaN  volkswagen      NaN  "
      ]
     },
     "execution_count": 12,
     "metadata": {},
     "output_type": "execute_result"
    }
   ],
   "source": [
    "#удалим строки так, чтобы из 5 столбцов c пропусками, удалились 3 с пропусками из этого списка чтобы сильно не терять данные\n",
    "auto_df = auto_df.dropna(subset=['vehicle_type', 'fuel_type', 'model', 'repaired','gearbox'], thresh = 3)\n",
    "auto_df.head(10)"
   ]
  },
  {
   "cell_type": "markdown",
   "metadata": {},
   "source": [
    "\n",
    "<div class=\"alert alert-block alert-success\">\n",
    "<b>Успех:</b> Допустимое решение, выглядит резонным\n",
    "</div>\n"
   ]
  },
  {
   "cell_type": "code",
   "execution_count": 13,
   "metadata": {},
   "outputs": [
    {
     "data": {
      "text/plain": [
       "petrol      213687\n",
       "gasoline     97814\n",
       "lpg           5254\n",
       "cng            561\n",
       "hybrid         230\n",
       "other          169\n",
       "electric        86\n",
       "Name: fuel_type, dtype: int64"
      ]
     },
     "execution_count": 13,
     "metadata": {},
     "output_type": "execute_result"
    }
   ],
   "source": [
    "#уникальные значения столбца fuel_type\n",
    "auto_df.fuel_type.value_counts()"
   ]
  },
  {
   "cell_type": "code",
   "execution_count": 14,
   "metadata": {},
   "outputs": [],
   "source": [
    "#переименуем gasoline в petrol - и то и то бензин\n",
    "auto_df['fuel_type'] = auto_df['fuel_type'].replace(['gasoline'],'petrol')\n",
    "\n",
    "#заполним пропуски значением other\n",
    "auto_df.fuel_type.fillna('other', inplace=True)"
   ]
  },
  {
   "cell_type": "markdown",
   "metadata": {},
   "source": [
    "\n",
    "\n",
    "<div class=\"alert alert-block alert-success\">\n",
    "<b>Успех:</b> Правильное наблюдение, правда меня удивляет, что  среди категорий  нет дизеля\n",
    "</div>"
   ]
  },
  {
   "cell_type": "code",
   "execution_count": 15,
   "metadata": {},
   "outputs": [
    {
     "data": {
      "text/plain": [
       "sedan          90870\n",
       "small          79059\n",
       "wagon          64683\n",
       "bus            28570\n",
       "convertible    20010\n",
       "coupe          15995\n",
       "suv            11896\n",
       "other           3136\n",
       "Name: vehicle_type, dtype: int64"
      ]
     },
     "execution_count": 15,
     "metadata": {},
     "output_type": "execute_result"
    }
   ],
   "source": [
    "#уникальные значения в столбце vehicle_type\n",
    "auto_df.vehicle_type.value_counts()"
   ]
  },
  {
   "cell_type": "code",
   "execution_count": 16,
   "metadata": {},
   "outputs": [],
   "source": [
    "#заменим пропуски на other\n",
    "auto_df.vehicle_type.fillna('other', inplace=True)"
   ]
  },
  {
   "cell_type": "code",
   "execution_count": 17,
   "metadata": {},
   "outputs": [
    {
     "data": {
      "text/plain": [
       "manual    262289\n",
       "auto       65098\n",
       "Name: gearbox, dtype: int64"
      ]
     },
     "execution_count": 17,
     "metadata": {},
     "output_type": "execute_result"
    }
   ],
   "source": [
    "#уникальные значения столбца gearbox\n",
    "auto_df.gearbox.value_counts()"
   ]
  },
  {
   "cell_type": "code",
   "execution_count": 18,
   "metadata": {},
   "outputs": [],
   "source": [
    "#заполним пропуски значением unknown\n",
    "auto_df.gearbox.fillna('unknown', inplace=True)\n",
    "\n",
    "#в столбце model и repaired тоже заполним пропуски на unknown\n",
    "auto_df.model.fillna('unknown', inplace=True)\n",
    "auto_df.repaired.fillna('unknown', inplace=True)"
   ]
  },
  {
   "cell_type": "code",
   "execution_count": 19,
   "metadata": {
    "scrolled": true
   },
   "outputs": [
    {
     "data": {
      "text/plain": [
       "price                0\n",
       "vehicle_type         0\n",
       "registration_year    0\n",
       "gearbox              0\n",
       "power                0\n",
       "model                0\n",
       "kilometer            0\n",
       "fuel_type            0\n",
       "brand                0\n",
       "repaired             0\n",
       "dtype: int64"
      ]
     },
     "execution_count": 19,
     "metadata": {},
     "output_type": "execute_result"
    }
   ],
   "source": [
    "#проверka\n",
    "auto_df.isna().sum()"
   ]
  },
  {
   "cell_type": "code",
   "execution_count": 20,
   "metadata": {},
   "outputs": [
    {
     "data": {
      "text/plain": [
       "array([1993, 2011, 2004, 2001, 2008, 1995, 1980, 2014, 1998, 2005, 1910,\n",
       "       2007, 2009, 2002, 2018, 1997, 1990, 2017, 1981, 2003, 2016, 1994,\n",
       "       1991, 1984, 2006, 1999, 2012, 2010, 2000, 1992, 2013, 1996, 1989,\n",
       "       2015, 1985, 1982, 1976, 1983, 1973, 1969, 1971, 1987, 1986, 1988,\n",
       "       1965, 1970, 1945, 1974, 1979, 1955, 1978, 1972, 1968, 1977, 1961,\n",
       "       1960, 1966, 1975, 1963, 1964, 1954, 1958, 1967, 1959, 1956, 1941,\n",
       "       1962, 1929, 1957, 1940, 1949, 1937, 1951, 1953, 2019, 2900, 6000,\n",
       "       1400, 1950, 4000, 1948, 1952, 1200, 1932, 3700, 5000, 1942, 1935,\n",
       "       1933, 1936, 6500, 1923, 1930, 1943, 1934, 1938, 9000, 1000, 1919,\n",
       "       1928, 1931, 1602, 1927, 1947, 1946, 7500, 1944, 1600])"
      ]
     },
     "execution_count": 20,
     "metadata": {},
     "output_type": "execute_result"
    }
   ],
   "source": [
    "#уникальные значения в столбце registration_year\n",
    "auto_df['registration_year'].unique()"
   ]
  },
  {
   "cell_type": "code",
   "execution_count": 21,
   "metadata": {},
   "outputs": [],
   "source": [
    "#так как последний год выгрузки 2016 и авто до 1900 это скорее всего аномалии, целесообразно будет укоротить период\n",
    "auto_df = auto_df.loc[(auto_df['registration_year'] <= 2016) & (auto_df['registration_year'] >= 1900)]"
   ]
  },
  {
   "cell_type": "code",
   "execution_count": 22,
   "metadata": {},
   "outputs": [
    {
     "data": {
      "text/plain": [
       "0        27732\n",
       "75       22234\n",
       "60       14739\n",
       "150      13922\n",
       "101      12496\n",
       "         ...  \n",
       "584          1\n",
       "15001        1\n",
       "8011         1\n",
       "1436         1\n",
       "2172         1\n",
       "Name: power, Length: 691, dtype: int64"
      ]
     },
     "execution_count": 22,
     "metadata": {},
     "output_type": "execute_result"
    }
   ],
   "source": [
    "#уникальные значения в столбце power\n",
    "auto_df.power.value_counts()"
   ]
  },
  {
   "cell_type": "code",
   "execution_count": 23,
   "metadata": {},
   "outputs": [
    {
     "data": {
      "text/plain": [
       "<AxesSubplot:>"
      ]
     },
     "execution_count": 23,
     "metadata": {},
     "output_type": "execute_result"
    },
    {
     "data": {
      "image/png": "[encoded data removed]",
      "text/plain": [
       "<Figure size 432x288 with 1 Axes>"
      ]
     },
     "metadata": {
      "needs_background": "light"
     },
     "output_type": "display_data"
    }
   ],
   "source": [
    "# удалим аномалии - скорость больше 700 лошадиных сил\n",
    "auto_df = auto_df.loc[auto_df['power'] <= 700]\n",
    "\n",
    "# заменим нули медианой \n",
    "power_med = auto_df['power'].median()\n",
    "\n",
    "auto_df['power'] = auto_df['power'].replace(0, power_med)\n",
    "\n",
    "auto_df.power.hist()"
   ]
  },
  {
   "cell_type": "code",
   "execution_count": 24,
   "metadata": {},
   "outputs": [
    {
     "data": {
      "text/plain": [
       "0        7565\n",
       "500      5061\n",
       "1500     4863\n",
       "1200     4127\n",
       "2500     4085\n",
       "         ... \n",
       "1035        1\n",
       "5385        1\n",
       "15232       1\n",
       "6788        1\n",
       "8188        1\n",
       "Name: price, Length: 3651, dtype: int64"
      ]
     },
     "execution_count": 24,
     "metadata": {},
     "output_type": "execute_result"
    }
   ],
   "source": [
    "#проверим значения столбца price\n",
    "auto_df.price.value_counts()"
   ]
  },
  {
   "cell_type": "code",
   "execution_count": 25,
   "metadata": {},
   "outputs": [],
   "source": [
    "#удалим нулевые значения\n",
    "auto_df = auto_df.loc[auto_df['price'] > 0]"
   ]
  },
  {
   "cell_type": "code",
   "execution_count": 26,
   "metadata": {},
   "outputs": [
    {
     "data": {
      "text/plain": [
       "42531"
      ]
     },
     "execution_count": 26,
     "metadata": {},
     "output_type": "execute_result"
    }
   ],
   "source": [
    "# проверим данные на дубликаты\n",
    "auto_df.duplicated().sum()"
   ]
  },
  {
   "cell_type": "code",
   "execution_count": 27,
   "metadata": {
    "scrolled": true
   },
   "outputs": [
    {
     "data": {
      "text/plain": [
       "0"
      ]
     },
     "execution_count": 27,
     "metadata": {},
     "output_type": "execute_result"
    }
   ],
   "source": [
    "#удалим дубликаты(с удалением старых индексов и формированием новых)\n",
    "auto_df = auto_df.drop_duplicates().reset_index(drop=True)\n",
    "\n",
    "auto_df.duplicated().sum()"
   ]
  },
  {
   "cell_type": "code",
   "execution_count": 28,
   "metadata": {},
   "outputs": [
    {
     "data": {
      "text/plain": [
       "<bound method DataFrame.info of         price vehicle_type  registration_year gearbox  power        model  \\\n",
       "0         480        other               1993  manual  105.0         golf   \n",
       "1       18300        coupe               2011  manual  190.0      unknown   \n",
       "2        9800          suv               2004    auto  163.0        grand   \n",
       "3        1500        small               2001  manual   75.0         golf   \n",
       "4        3600        small               2008  manual   69.0        fabia   \n",
       "...       ...          ...                ...     ...    ...          ...   \n",
       "275488   5250        other               2016    auto  150.0          159   \n",
       "275489   3200        sedan               2004  manual  225.0         leon   \n",
       "275490   1199  convertible               2000    auto  101.0       fortwo   \n",
       "275491   9200          bus               1996  manual  102.0  transporter   \n",
       "275492   3400        wagon               2002  manual  100.0         golf   \n",
       "\n",
       "        kilometer fuel_type       brand repaired  \n",
       "0          150000    petrol  volkswagen  unknown  \n",
       "1          125000    petrol        audi      yes  \n",
       "2          125000    petrol        jeep  unknown  \n",
       "3          150000    petrol  volkswagen       no  \n",
       "4           90000    petrol       skoda       no  \n",
       "...           ...       ...         ...      ...  \n",
       "275488     150000     other  alfa_romeo       no  \n",
       "275489     150000    petrol        seat      yes  \n",
       "275490     125000    petrol       smart       no  \n",
       "275491     150000    petrol  volkswagen       no  \n",
       "275492     150000    petrol  volkswagen  unknown  \n",
       "\n",
       "[275493 rows x 10 columns]>"
      ]
     },
     "execution_count": 28,
     "metadata": {},
     "output_type": "execute_result"
    }
   ],
   "source": [
    "auto_df.info"
   ]
  },
  {
   "cell_type": "markdown",
   "metadata": {},
   "source": [
    "**ВЫВОДЫ:**\n",
    "\n",
    "Избавились от признаков не влияющих на целевой.\n",
    "\n",
    "Привели к змеиному регистру.\n",
    "\n",
    "Избавились от выбросов, дубликатов.\n",
    "\n",
    "Заполнены пропуски в gearbox, repaired, vehicle_type, model, fuel_type.\n",
    "\n",
    "Обработали датафрейм."
   ]
  },
  {
   "cell_type": "markdown",
   "metadata": {},
   "source": [
    "## Обучение моделей"
   ]
  },
  {
   "cell_type": "code",
   "execution_count": 29,
   "metadata": {},
   "outputs": [],
   "source": [
    "#переведем категориальные значения столбцов в количественные\n",
    "data_ohe = pd.get_dummies(auto_df, drop_first=True)"
   ]
  },
  {
   "cell_type": "code",
   "execution_count": 30,
   "metadata": {
    "scrolled": true
   },
   "outputs": [
    {
     "data": {
      "text/plain": [
       "['price',\n",
       " 'registration_year',\n",
       " 'power',\n",
       " 'kilometer',\n",
       " 'vehicle_type_convertible',\n",
       " 'vehicle_type_coupe',\n",
       " 'vehicle_type_other',\n",
       " 'vehicle_type_sedan',\n",
       " 'vehicle_type_small',\n",
       " 'vehicle_type_suv',\n",
       " 'vehicle_type_wagon',\n",
       " 'gearbox_manual',\n",
       " 'gearbox_unknown',\n",
       " 'model_145',\n",
       " 'model_147',\n",
       " 'model_156',\n",
       " 'model_159',\n",
       " 'model_1_reihe',\n",
       " 'model_1er',\n",
       " 'model_200',\n",
       " 'model_2_reihe',\n",
       " 'model_300c',\n",
       " 'model_3_reihe',\n",
       " 'model_3er',\n",
       " 'model_4_reihe',\n",
       " 'model_500',\n",
       " 'model_5_reihe',\n",
       " 'model_5er',\n",
       " 'model_601',\n",
       " 'model_6_reihe',\n",
       " 'model_6er',\n",
       " 'model_7er',\n",
       " 'model_80',\n",
       " 'model_850',\n",
       " 'model_90',\n",
       " 'model_900',\n",
       " 'model_9000',\n",
       " 'model_911',\n",
       " 'model_a1',\n",
       " 'model_a2',\n",
       " 'model_a3',\n",
       " 'model_a4',\n",
       " 'model_a5',\n",
       " 'model_a6',\n",
       " 'model_a8',\n",
       " 'model_a_klasse',\n",
       " 'model_accord',\n",
       " 'model_agila',\n",
       " 'model_alhambra',\n",
       " 'model_almera',\n",
       " 'model_altea',\n",
       " 'model_amarok',\n",
       " 'model_antara',\n",
       " 'model_arosa',\n",
       " 'model_astra',\n",
       " 'model_auris',\n",
       " 'model_avensis',\n",
       " 'model_aveo',\n",
       " 'model_aygo',\n",
       " 'model_b_klasse',\n",
       " 'model_b_max',\n",
       " 'model_beetle',\n",
       " 'model_berlingo',\n",
       " 'model_bora',\n",
       " 'model_boxster',\n",
       " 'model_bravo',\n",
       " 'model_c1',\n",
       " 'model_c2',\n",
       " 'model_c3',\n",
       " 'model_c4',\n",
       " 'model_c5',\n",
       " 'model_c_klasse',\n",
       " 'model_c_max',\n",
       " 'model_c_reihe',\n",
       " 'model_caddy',\n",
       " 'model_calibra',\n",
       " 'model_captiva',\n",
       " 'model_carisma',\n",
       " 'model_carnival',\n",
       " 'model_cayenne',\n",
       " 'model_cc',\n",
       " 'model_ceed',\n",
       " 'model_charade',\n",
       " 'model_cherokee',\n",
       " 'model_citigo',\n",
       " 'model_civic',\n",
       " 'model_cl',\n",
       " 'model_clio',\n",
       " 'model_clk',\n",
       " 'model_clubman',\n",
       " 'model_colt',\n",
       " 'model_combo',\n",
       " 'model_cooper',\n",
       " 'model_cordoba',\n",
       " 'model_corolla',\n",
       " 'model_corsa',\n",
       " 'model_cr_reihe',\n",
       " 'model_croma',\n",
       " 'model_crossfire',\n",
       " 'model_cuore',\n",
       " 'model_cx_reihe',\n",
       " 'model_defender',\n",
       " 'model_delta',\n",
       " 'model_discovery',\n",
       " 'model_doblo',\n",
       " 'model_ducato',\n",
       " 'model_duster',\n",
       " 'model_e_klasse',\n",
       " 'model_elefantino',\n",
       " 'model_eos',\n",
       " 'model_escort',\n",
       " 'model_espace',\n",
       " 'model_exeo',\n",
       " 'model_fabia',\n",
       " 'model_fiesta',\n",
       " 'model_focus',\n",
       " 'model_forester',\n",
       " 'model_forfour',\n",
       " 'model_fortwo',\n",
       " 'model_fox',\n",
       " 'model_freelander',\n",
       " 'model_fusion',\n",
       " 'model_g_klasse',\n",
       " 'model_galant',\n",
       " 'model_galaxy',\n",
       " 'model_getz',\n",
       " 'model_gl',\n",
       " 'model_glk',\n",
       " 'model_golf',\n",
       " 'model_grand',\n",
       " 'model_i3',\n",
       " 'model_i_reihe',\n",
       " 'model_ibiza',\n",
       " 'model_impreza',\n",
       " 'model_insignia',\n",
       " 'model_jazz',\n",
       " 'model_jetta',\n",
       " 'model_jimny',\n",
       " 'model_juke',\n",
       " 'model_justy',\n",
       " 'model_ka',\n",
       " 'model_kadett',\n",
       " 'model_kaefer',\n",
       " 'model_kalina',\n",
       " 'model_kalos',\n",
       " 'model_kangoo',\n",
       " 'model_kappa',\n",
       " 'model_kuga',\n",
       " 'model_laguna',\n",
       " 'model_lancer',\n",
       " 'model_lanos',\n",
       " 'model_legacy',\n",
       " 'model_leon',\n",
       " 'model_lodgy',\n",
       " 'model_logan',\n",
       " 'model_lupo',\n",
       " 'model_lybra',\n",
       " 'model_m_klasse',\n",
       " 'model_m_reihe',\n",
       " 'model_materia',\n",
       " 'model_matiz',\n",
       " 'model_megane',\n",
       " 'model_meriva',\n",
       " 'model_micra',\n",
       " 'model_mii',\n",
       " 'model_modus',\n",
       " 'model_mondeo',\n",
       " 'model_move',\n",
       " 'model_musa',\n",
       " 'model_mustang',\n",
       " 'model_mx_reihe',\n",
       " 'model_navara',\n",
       " 'model_niva',\n",
       " 'model_note',\n",
       " 'model_nubira',\n",
       " 'model_octavia',\n",
       " 'model_omega',\n",
       " 'model_one',\n",
       " 'model_other',\n",
       " 'model_outlander',\n",
       " 'model_pajero',\n",
       " 'model_panda',\n",
       " 'model_passat',\n",
       " 'model_phaeton',\n",
       " 'model_picanto',\n",
       " 'model_polo',\n",
       " 'model_primera',\n",
       " 'model_ptcruiser',\n",
       " 'model_punto',\n",
       " 'model_q3',\n",
       " 'model_q5',\n",
       " 'model_q7',\n",
       " 'model_qashqai',\n",
       " 'model_r19',\n",
       " 'model_range_rover',\n",
       " 'model_range_rover_evoque',\n",
       " 'model_range_rover_sport',\n",
       " 'model_rangerover',\n",
       " 'model_rav',\n",
       " 'model_rio',\n",
       " 'model_roadster',\n",
       " 'model_roomster',\n",
       " 'model_rx_reihe',\n",
       " 'model_s60',\n",
       " 'model_s_klasse',\n",
       " 'model_s_max',\n",
       " 'model_s_type',\n",
       " 'model_samara',\n",
       " 'model_sandero',\n",
       " 'model_santa',\n",
       " 'model_scenic',\n",
       " 'model_scirocco',\n",
       " 'model_seicento',\n",
       " 'model_serie_1',\n",
       " 'model_serie_2',\n",
       " 'model_serie_3',\n",
       " 'model_sharan',\n",
       " 'model_signum',\n",
       " 'model_sirion',\n",
       " 'model_sl',\n",
       " 'model_slk',\n",
       " 'model_sorento',\n",
       " 'model_spark',\n",
       " 'model_spider',\n",
       " 'model_sportage',\n",
       " 'model_sprinter',\n",
       " 'model_stilo',\n",
       " 'model_superb',\n",
       " 'model_swift',\n",
       " 'model_terios',\n",
       " 'model_tigra',\n",
       " 'model_tiguan',\n",
       " 'model_toledo',\n",
       " 'model_touareg',\n",
       " 'model_touran',\n",
       " 'model_transit',\n",
       " 'model_transporter',\n",
       " 'model_tt',\n",
       " 'model_tucson',\n",
       " 'model_twingo',\n",
       " 'model_unknown',\n",
       " 'model_up',\n",
       " 'model_v40',\n",
       " 'model_v50',\n",
       " 'model_v60',\n",
       " 'model_v70',\n",
       " 'model_v_klasse',\n",
       " 'model_vectra',\n",
       " 'model_verso',\n",
       " 'model_viano',\n",
       " 'model_vito',\n",
       " 'model_vivaro',\n",
       " 'model_voyager',\n",
       " 'model_wrangler',\n",
       " 'model_x_reihe',\n",
       " 'model_x_trail',\n",
       " 'model_x_type',\n",
       " 'model_xc_reihe',\n",
       " 'model_yaris',\n",
       " 'model_yeti',\n",
       " 'model_ypsilon',\n",
       " 'model_z_reihe',\n",
       " 'model_zafira',\n",
       " 'fuel_type_electric',\n",
       " 'fuel_type_hybrid',\n",
       " 'fuel_type_lpg',\n",
       " 'fuel_type_other',\n",
       " 'fuel_type_petrol',\n",
       " 'brand_audi',\n",
       " 'brand_bmw',\n",
       " 'brand_chevrolet',\n",
       " 'brand_chrysler',\n",
       " 'brand_citroen',\n",
       " 'brand_dacia',\n",
       " 'brand_daewoo',\n",
       " 'brand_daihatsu',\n",
       " 'brand_fiat',\n",
       " 'brand_ford',\n",
       " 'brand_honda',\n",
       " 'brand_hyundai',\n",
       " 'brand_jaguar',\n",
       " 'brand_jeep',\n",
       " 'brand_kia',\n",
       " 'brand_lada',\n",
       " 'brand_lancia',\n",
       " 'brand_land_rover',\n",
       " 'brand_mazda',\n",
       " 'brand_mercedes_benz',\n",
       " 'brand_mini',\n",
       " 'brand_mitsubishi',\n",
       " 'brand_nissan',\n",
       " 'brand_opel',\n",
       " 'brand_peugeot',\n",
       " 'brand_porsche',\n",
       " 'brand_renault',\n",
       " 'brand_rover',\n",
       " 'brand_saab',\n",
       " 'brand_seat',\n",
       " 'brand_skoda',\n",
       " 'brand_smart',\n",
       " 'brand_sonstige_autos',\n",
       " 'brand_subaru',\n",
       " 'brand_suzuki',\n",
       " 'brand_toyota',\n",
       " 'brand_trabant',\n",
       " 'brand_volkswagen',\n",
       " 'brand_volvo',\n",
       " 'repaired_unknown',\n",
       " 'repaired_yes']"
      ]
     },
     "execution_count": 30,
     "metadata": {},
     "output_type": "execute_result"
    }
   ],
   "source": [
    "list(data_ohe.columns.values)"
   ]
  },
  {
   "cell_type": "code",
   "execution_count": 31,
   "metadata": {
    "scrolled": true
   },
   "outputs": [
    {
     "name": "stdout",
     "output_type": "stream",
     "text": [
      "['registration_year', 'power', 'kilometer', 'vehicle_type_convertible', 'vehicle_type_coupe', 'vehicle_type_other', 'vehicle_type_sedan', 'vehicle_type_small', 'vehicle_type_suv', 'vehicle_type_wagon', 'gearbox_manual', 'gearbox_unknown', 'model_145', 'model_147', 'model_156', 'model_159', 'model_1_reihe', 'model_1er', 'model_200', 'model_2_reihe', 'model_300c', 'model_3_reihe', 'model_3er', 'model_4_reihe', 'model_500', 'model_5_reihe', 'model_5er', 'model_601', 'model_6_reihe', 'model_6er', 'model_7er', 'model_80', 'model_850', 'model_90', 'model_900', 'model_9000', 'model_911', 'model_a1', 'model_a2', 'model_a3', 'model_a4', 'model_a5', 'model_a6', 'model_a8', 'model_a_klasse', 'model_accord', 'model_agila', 'model_alhambra', 'model_almera', 'model_altea', 'model_amarok', 'model_antara', 'model_arosa', 'model_astra', 'model_auris', 'model_avensis', 'model_aveo', 'model_aygo', 'model_b_klasse', 'model_b_max', 'model_beetle', 'model_berlingo', 'model_bora', 'model_boxster', 'model_bravo', 'model_c1', 'model_c2', 'model_c3', 'model_c4', 'model_c5', 'model_c_klasse', 'model_c_max', 'model_c_reihe', 'model_caddy', 'model_calibra', 'model_captiva', 'model_carisma', 'model_carnival', 'model_cayenne', 'model_cc', 'model_ceed', 'model_charade', 'model_cherokee', 'model_citigo', 'model_civic', 'model_cl', 'model_clio', 'model_clk', 'model_clubman', 'model_colt', 'model_combo', 'model_cooper', 'model_cordoba', 'model_corolla', 'model_corsa', 'model_cr_reihe', 'model_croma', 'model_crossfire', 'model_cuore', 'model_cx_reihe', 'model_defender', 'model_delta', 'model_discovery', 'model_doblo', 'model_ducato', 'model_duster', 'model_e_klasse', 'model_elefantino', 'model_eos', 'model_escort', 'model_espace', 'model_exeo', 'model_fabia', 'model_fiesta', 'model_focus', 'model_forester', 'model_forfour', 'model_fortwo', 'model_fox', 'model_freelander', 'model_fusion', 'model_g_klasse', 'model_galant', 'model_galaxy', 'model_getz', 'model_gl', 'model_glk', 'model_golf', 'model_grand', 'model_i3', 'model_i_reihe', 'model_ibiza', 'model_impreza', 'model_insignia', 'model_jazz', 'model_jetta', 'model_jimny', 'model_juke', 'model_justy', 'model_ka', 'model_kadett', 'model_kaefer', 'model_kalina', 'model_kalos', 'model_kangoo', 'model_kappa', 'model_kuga', 'model_laguna', 'model_lancer', 'model_lanos', 'model_legacy', 'model_leon', 'model_lodgy', 'model_logan', 'model_lupo', 'model_lybra', 'model_m_klasse', 'model_m_reihe', 'model_materia', 'model_matiz', 'model_megane', 'model_meriva', 'model_micra', 'model_mii', 'model_modus', 'model_mondeo', 'model_move', 'model_musa', 'model_mustang', 'model_mx_reihe', 'model_navara', 'model_niva', 'model_note', 'model_nubira', 'model_octavia', 'model_omega', 'model_one', 'model_other', 'model_outlander', 'model_pajero', 'model_panda', 'model_passat', 'model_phaeton', 'model_picanto', 'model_polo', 'model_primera', 'model_ptcruiser', 'model_punto', 'model_q3', 'model_q5', 'model_q7', 'model_qashqai', 'model_r19', 'model_range_rover', 'model_range_rover_evoque', 'model_range_rover_sport', 'model_rangerover', 'model_rav', 'model_rio', 'model_roadster', 'model_roomster', 'model_rx_reihe', 'model_s60', 'model_s_klasse', 'model_s_max', 'model_s_type', 'model_samara', 'model_sandero', 'model_santa', 'model_scenic', 'model_scirocco', 'model_seicento', 'model_serie_1', 'model_serie_2', 'model_serie_3', 'model_sharan', 'model_signum', 'model_sirion', 'model_sl', 'model_slk', 'model_sorento', 'model_spark', 'model_spider', 'model_sportage', 'model_sprinter', 'model_stilo', 'model_superb', 'model_swift', 'model_terios', 'model_tigra', 'model_tiguan', 'model_toledo', 'model_touareg', 'model_touran', 'model_transit', 'model_transporter', 'model_tt', 'model_tucson', 'model_twingo', 'model_unknown', 'model_up', 'model_v40', 'model_v50', 'model_v60', 'model_v70', 'model_v_klasse', 'model_vectra', 'model_verso', 'model_viano', 'model_vito', 'model_vivaro', 'model_voyager', 'model_wrangler', 'model_x_reihe', 'model_x_trail', 'model_x_type', 'model_xc_reihe', 'model_yaris', 'model_yeti', 'model_ypsilon', 'model_z_reihe', 'model_zafira', 'fuel_type_electric', 'fuel_type_hybrid', 'fuel_type_lpg', 'fuel_type_other', 'fuel_type_petrol', 'brand_audi', 'brand_bmw', 'brand_chevrolet', 'brand_chrysler', 'brand_citroen', 'brand_dacia', 'brand_daewoo', 'brand_daihatsu', 'brand_fiat', 'brand_ford', 'brand_honda', 'brand_hyundai', 'brand_jaguar', 'brand_jeep', 'brand_kia', 'brand_lada', 'brand_lancia', 'brand_land_rover', 'brand_mazda', 'brand_mercedes_benz', 'brand_mini', 'brand_mitsubishi', 'brand_nissan', 'brand_opel', 'brand_peugeot', 'brand_porsche', 'brand_renault', 'brand_rover', 'brand_saab', 'brand_seat', 'brand_skoda', 'brand_smart', 'brand_sonstige_autos', 'brand_subaru', 'brand_suzuki', 'brand_toyota', 'brand_trabant', 'brand_volkswagen', 'brand_volvo', 'repaired_unknown', 'repaired_yes']\n"
     ]
    }
   ],
   "source": [
    "numeric = list(data_ohe)\n",
    "numeric.remove('price')\n",
    "print(numeric)"
   ]
  },
  {
   "cell_type": "code",
   "execution_count": 32,
   "metadata": {},
   "outputs": [],
   "source": [
    "#Разделим признаки и целевой признак\n",
    "target = data_ohe['price']\n",
    "features = data_ohe.drop(['price'], axis=1) "
   ]
  },
  {
   "cell_type": "code",
   "execution_count": 33,
   "metadata": {},
   "outputs": [
    {
     "name": "stdout",
     "output_type": "stream",
     "text": [
      "(165295, 308)\n",
      "(55099, 308)\n",
      "(55099, 308)\n"
     ]
    }
   ],
   "source": [
    "features_train, features_valid, target_train, target_valid = train_test_split(features,\n",
    "                                                                                       target,\n",
    "                                                                                       test_size=.4,\n",
    "                                                                                       random_state=12345)\n",
    "features_test, features_valid, target_test, target_valid = train_test_split(features_valid,\n",
    "                                                                                            target_valid,\n",
    "                                                                                            test_size=0.5,\n",
    "                                                                                            random_state=12345)\n",
    "print(features_train.shape)\n",
    "print(features_valid.shape)\n",
    "print(features_test.shape)"
   ]
  },
  {
   "cell_type": "code",
   "execution_count": 34,
   "metadata": {},
   "outputs": [],
   "source": [
    "#масштабируем признаки\n",
    "scaler = StandardScaler()\n",
    "scaler.fit(features_train[numeric])\n",
    "features_train[numeric] = scaler.transform(features_train[numeric])\n",
    "features_valid[numeric] = scaler.transform(features_valid[numeric])"
   ]
  },
  {
   "cell_type": "markdown",
   "metadata": {},
   "source": [
    "**LinearRegression**"
   ]
  },
  {
   "cell_type": "code",
   "execution_count": 35,
   "metadata": {},
   "outputs": [
    {
     "name": "stdout",
     "output_type": "stream",
     "text": [
      "2729.3328869982593\n",
      "CPU times: user 10.9 s, sys: 3.42 s, total: 14.3 s\n",
      "Wall time: 14.3 s\n"
     ]
    }
   ],
   "source": [
    "%%time\n",
    "\n",
    "model = LinearRegression()\n",
    "model.fit(features_train, target_train)\n",
    "\n",
    "predictions_valid = model.predict(features_valid)\n",
    "\n",
    "rmse = mean_squared_error(target_valid, predictions_valid)**0.5\n",
    "print(rmse)"
   ]
  },
  {
   "cell_type": "markdown",
   "metadata": {},
   "source": [
    "**DecisionTreeRegressor**"
   ]
  },
  {
   "cell_type": "code",
   "execution_count": 38,
   "metadata": {},
   "outputs": [
    {
     "name": "stdout",
     "output_type": "stream",
     "text": [
      "(165295, 9)\n",
      "(55099, 9)\n",
      "(55099, 9)\n"
     ]
    }
   ],
   "source": [
    "target_oe = auto_df['price']\n",
    "features_oe = auto_df.drop('price', axis=1)\n",
    "features_train_oe, features_valid_oe, target_train_oe, target_valid_oe = train_test_split(features_oe,\n",
    "                                                                                       target_oe,\n",
    "                                                                                       test_size=.4,\n",
    "                                                                                       random_state=12345)\n",
    "features_test_oe, features_valid_oe, target_test_oe, target_valid_oe = train_test_split(features_valid_oe,\n",
    "                                                                                            target_valid_oe,\n",
    "                                                                                            test_size=0.5,\n",
    "                                                                                            random_state=12345)\n",
    "\n",
    "cat_features = ['vehicle_type',\n",
    "                'gearbox',\n",
    "                'model',\n",
    "                'fuel_type',\n",
    "                'brand',\n",
    "                'repaired']\n",
    "\n",
    "\n",
    "oe_encoder = OrdinalEncoder(handle_unknown='use_encoded_value', unknown_value=-1)\n",
    "\n",
    "oe_encoder.fit(features_train_oe[cat_features])\n",
    "features_train_oe[cat_features] = oe_encoder.transform(features_train_oe[cat_features])\n",
    "features_valid_oe[cat_features] = oe_encoder.transform(features_valid_oe[cat_features])\n",
    "features_test_oe[cat_features] = oe_encoder.transform(features_test_oe[cat_features])\n",
    "\n",
    "print(features_train_oe.shape)\n",
    "print(features_valid_oe.shape)\n",
    "print(features_test_oe.shape)"
   ]
  },
  {
   "cell_type": "code",
   "execution_count": 39,
   "metadata": {},
   "outputs": [
    {
     "name": "stdout",
     "output_type": "stream",
     "text": [
      "Глубина: 3\n",
      "RMSE DecisionTreeRegressor: 2975.860711614435\n",
      "\n",
      "Глубина: 6\n",
      "RMSE DecisionTreeRegressor: 2359.1077499542207\n",
      "\n",
      "Глубина: 9\n",
      "RMSE DecisionTreeRegressor: 2110.7120350252394\n",
      "\n",
      "Глубина: 12\n",
      "RMSE DecisionTreeRegressor: 1999.8431182174563\n",
      "\n",
      "Глубина: 15\n",
      "RMSE DecisionTreeRegressor: 1995.0939292209732\n",
      "\n",
      "Глубина: 18\n",
      "RMSE DecisionTreeRegressor: 2060.3477900458925\n",
      "\n",
      "\n",
      "CPU times: user 1.72 s, sys: 0 ns, total: 1.72 s\n",
      "Wall time: 1.74 s\n"
     ]
    }
   ],
   "source": [
    "%%time\n",
    "for depth in range(3, 20, 3):\n",
    "    model = DecisionTreeRegressor(random_state=12345, max_depth = depth)\n",
    "    model.fit(features_train_oe, target_train_oe)\n",
    "    predictions_valid_oe = model.predict(features_valid_oe)\n",
    "    rmse = mean_squared_error(target_valid_oe, predictions_valid_oe)**0.5\n",
    "    print('Глубина:', depth)\n",
    "    print('RMSE DecisionTreeRegressor:', rmse)\n",
    "    print('')\n",
    "print()"
   ]
  },
  {
   "cell_type": "markdown",
   "metadata": {},
   "source": [
    "Модель склонна к переобучению."
   ]
  },
  {
   "cell_type": "markdown",
   "metadata": {},
   "source": [
    "**RandomForestRegressor**"
   ]
  },
  {
   "cell_type": "code",
   "execution_count": 40,
   "metadata": {},
   "outputs": [
    {
     "name": "stdout",
     "output_type": "stream",
     "text": [
      "Количество: 100\n",
      "RMSE RandomForestRegressor: 2017.4753066855317\n",
      "\n",
      "Количество: 500\n",
      "RMSE RandomForestRegressor: 2016.7608481154716\n",
      "\n",
      "Количество: 1000\n",
      "RMSE RandomForestRegressor: 2016.283280851147\n",
      "\n",
      "\n",
      "CPU times: user 4min 42s, sys: 0 ns, total: 4min 42s\n",
      "Wall time: 4min 42s\n"
     ]
    }
   ],
   "source": [
    "%%time\n",
    "for est in [100, 500, 1000]:\n",
    "    model = RandomForestRegressor(random_state=12345, \n",
    "                                   n_estimators=est, \n",
    "                                   max_depth=9)\n",
    "    model.fit(features_train_oe, target_train_oe)\n",
    "    predictions_valid_oe = model.predict(features_valid_oe)\n",
    "    rmse = mean_squared_error(target_valid_oe, predictions_valid_oe)**0.5\n",
    "    print('Количество:', est)\n",
    "    print('RMSE RandomForestRegressor:', rmse)\n",
    "    print('')\n",
    "print()"
   ]
  },
  {
   "cell_type": "markdown",
   "metadata": {},
   "source": [
    "Разница оказалась небольшой. Глубина предпочтительнее."
   ]
  },
  {
   "cell_type": "markdown",
   "metadata": {},
   "source": [
    "**LightGBMRegressor**"
   ]
  },
  {
   "cell_type": "code",
   "execution_count": 41,
   "metadata": {},
   "outputs": [
    {
     "name": "stdout",
     "output_type": "stream",
     "text": [
      "(165295, 9)\n",
      "(55099, 9)\n",
      "(55099, 9)\n"
     ]
    }
   ],
   "source": [
    "target_l = auto_df['price']\n",
    "features_l = auto_df.drop('price', axis=1)\n",
    "\n",
    "#переведем категориальные признаки в тип category, который требуется для LightGBM\n",
    "for c in features_l.columns:\n",
    "  col_type = features_l[c].dtype\n",
    "  if col_type == 'object':\n",
    "    features_l[c] = features_l[c].astype('category')\n",
    "\n",
    "features_train_l, features_valid_l, target_train_l, target_valid_l = train_test_split(features_l,\n",
    "                                                                                       target_l,\n",
    "                                                                                       test_size=.4,\n",
    "                                                                                       random_state=12345)\n",
    "features_test_l, features_valid_l, target_test_l, target_valid_l = train_test_split(features_valid_l,\n",
    "                                                                                            target_valid_l,\n",
    "                                                                                            test_size=0.5,\n",
    "                                                                                            random_state=12345)\n",
    "\n",
    "print(features_train_l.shape)\n",
    "print(features_valid_l.shape)\n",
    "print(features_test_l.shape)"
   ]
  },
  {
   "cell_type": "code",
   "execution_count": 42,
   "metadata": {},
   "outputs": [
    {
     "data": {
      "text/plain": [
       "1678.9744472011037"
      ]
     },
     "execution_count": 42,
     "metadata": {},
     "output_type": "execute_result"
    }
   ],
   "source": [
    "model = lgb.LGBMRegressor(random_state=12345)\n",
    "model.fit(features_train_l, target_train_l)\n",
    "predictions_valid_l = model.predict(features_valid_l)\n",
    "rmse = mean_squared_error(target_valid_l, predictions_valid_l)**0.5\n",
    "rmse"
   ]
  },
  {
   "cell_type": "markdown",
   "metadata": {},
   "source": [
    "**ВЫВОДЫ:**\n",
    "\n",
    "Были обучены 4 модели на разных кодировках с подобранными гиперпараметрами: LinearRegression, DecisionTreeRegressor, RandomForestRegressor, LightGBMRegressor."
   ]
  },
  {
   "cell_type": "markdown",
   "metadata": {},
   "source": [
    "## Анализ моделей"
   ]
  },
  {
   "cell_type": "markdown",
   "metadata": {},
   "source": [
    "**LinearRegression**"
   ]
  },
  {
   "cell_type": "code",
   "execution_count": 44,
   "metadata": {},
   "outputs": [
    {
     "name": "stdout",
     "output_type": "stream",
     "text": [
      "CPU times: user 11.2 s, sys: 3.05 s, total: 14.2 s\n",
      "Wall time: 14.2 s\n"
     ]
    },
    {
     "data": {
      "text/html": [
       "<style>#sk-container-id-1 {\n",
       "  /* Definition of color scheme common for light and dark mode */\n",
       "  --sklearn-color-text: #000;\n",
       "  --sklearn-color-text-muted: #666;\n",
       "  --sklearn-color-line: gray;\n",
       "  /* Definition of color scheme for unfitted estimators */\n",
       "  --sklearn-color-unfitted-level-0: #fff5e6;\n",
       "  --sklearn-color-unfitted-level-1: #f6e4d2;\n",
       "  --sklearn-color-unfitted-level-2: #ffe0b3;\n",
       "  --sklearn-color-unfitted-level-3: chocolate;\n",
       "  /* Definition of color scheme for fitted estimators */\n",
       "  --sklearn-color-fitted-level-0: #f0f8ff;\n",
       "  --sklearn-color-fitted-level-1: #d4ebff;\n",
       "  --sklearn-color-fitted-level-2: #b3dbfd;\n",
       "  --sklearn-color-fitted-level-3: cornflowerblue;\n",
       "\n",
       "  /* Specific color for light theme */\n",
       "  --sklearn-color-text-on-default-background: var(--sg-text-color, var(--theme-code-foreground, var(--jp-content-font-color1, black)));\n",
       "  --sklearn-color-background: var(--sg-background-color, var(--theme-background, var(--jp-layout-color0, white)));\n",
       "  --sklearn-color-border-box: var(--sg-text-color, var(--theme-code-foreground, var(--jp-content-font-color1, black)));\n",
       "  --sklearn-color-icon: #696969;\n",
       "\n",
       "  @media (prefers-color-scheme: dark) {\n",
       "    /* Redefinition of color scheme for dark theme */\n",
       "    --sklearn-color-text-on-default-background: var(--sg-text-color, var(--theme-code-foreground, var(--jp-content-font-color1, white)));\n",
       "    --sklearn-color-background: var(--sg-background-color, var(--theme-background, var(--jp-layout-color0, #111)));\n",
       "    --sklearn-color-border-box: var(--sg-text-color, var(--theme-code-foreground, var(--jp-content-font-color1, white)));\n",
       "    --sklearn-color-icon: #878787;\n",
       "  }\n",
       "}\n",
       "\n",
       "#sk-container-id-1 {\n",
       "  color: var(--sklearn-color-text);\n",
       "}\n",
       "\n",
       "#sk-container-id-1 pre {\n",
       "  padding: 0;\n",
       "}\n",
       "\n",
       "#sk-container-id-1 input.sk-hidden--visually {\n",
       "  border: 0;\n",
       "  clip: rect(1px 1px 1px 1px);\n",
       "  clip: rect(1px, 1px, 1px, 1px);\n",
       "  height: 1px;\n",
       "  margin: -1px;\n",
       "  overflow: hidden;\n",
       "  padding: 0;\n",
       "  position: absolute;\n",
       "  width: 1px;\n",
       "}\n",
       "\n",
       "#sk-container-id-1 div.sk-dashed-wrapped {\n",
       "  border: 1px dashed var(--sklearn-color-line);\n",
       "  margin: 0 0.4em 0.5em 0.4em;\n",
       "  box-sizing: border-box;\n",
       "  padding-bottom: 0.4em;\n",
       "  background-color: var(--sklearn-color-background);\n",
       "}\n",
       "\n",
       "#sk-container-id-1 div.sk-container {\n",
       "  /* jupyter's `normalize.less` sets `[hidden] { display: none; }`\n",
       "     but bootstrap.min.css set `[hidden] { display: none !important; }`\n",
       "     so we also need the `!important` here to be able to override the\n",
       "     default hidden behavior on the sphinx rendered scikit-learn.org.\n",
       "     See: https://github.com/scikit-learn/scikit-learn/issues/21755 */\n",
       "  display: inline-block !important;\n",
       "  position: relative;\n",
       "}\n",
       "\n",
       "#sk-container-id-1 div.sk-text-repr-fallback {\n",
       "  display: none;\n",
       "}\n",
       "\n",
       "div.sk-parallel-item,\n",
       "div.sk-serial,\n",
       "div.sk-item {\n",
       "  /* draw centered vertical line to link estimators */\n",
       "  background-image: linear-gradient(var(--sklearn-color-text-on-default-background), var(--sklearn-color-text-on-default-background));\n",
       "  background-size: 2px 100%;\n",
       "  background-repeat: no-repeat;\n",
       "  background-position: center center;\n",
       "}\n",
       "\n",
       "/* Parallel-specific style estimator block */\n",
       "\n",
       "#sk-container-id-1 div.sk-parallel-item::after {\n",
       "  content: \"\";\n",
       "  width: 100%;\n",
       "  border-bottom: 2px solid var(--sklearn-color-text-on-default-background);\n",
       "  flex-grow: 1;\n",
       "}\n",
       "\n",
       "#sk-container-id-1 div.sk-parallel {\n",
       "  display: flex;\n",
       "  align-items: stretch;\n",
       "  justify-content: center;\n",
       "  background-color: var(--sklearn-color-background);\n",
       "  position: relative;\n",
       "}\n",
       "\n",
       "#sk-container-id-1 div.sk-parallel-item {\n",
       "  display: flex;\n",
       "  flex-direction: column;\n",
       "}\n",
       "\n",
       "#sk-container-id-1 div.sk-parallel-item:first-child::after {\n",
       "  align-self: flex-end;\n",
       "  width: 50%;\n",
       "}\n",
       "\n",
       "#sk-container-id-1 div.sk-parallel-item:last-child::after {\n",
       "  align-self: flex-start;\n",
       "  width: 50%;\n",
       "}\n",
       "\n",
       "#sk-container-id-1 div.sk-parallel-item:only-child::after {\n",
       "  width: 0;\n",
       "}\n",
       "\n",
       "/* Serial-specific style estimator block */\n",
       "\n",
       "#sk-container-id-1 div.sk-serial {\n",
       "  display: flex;\n",
       "  flex-direction: column;\n",
       "  align-items: center;\n",
       "  background-color: var(--sklearn-color-background);\n",
       "  padding-right: 1em;\n",
       "  padding-left: 1em;\n",
       "}\n",
       "\n",
       "\n",
       "/* Toggleable style: style used for estimator/Pipeline/ColumnTransformer box that is\n",
       "clickable and can be expanded/collapsed.\n",
       "- Pipeline and ColumnTransformer use this feature and define the default style\n",
       "- Estimators will overwrite some part of the style using the `sk-estimator` class\n",
       "*/\n",
       "\n",
       "/* Pipeline and ColumnTransformer style (default) */\n",
       "\n",
       "#sk-container-id-1 div.sk-toggleable {\n",
       "  /* Default theme specific background. It is overwritten whether we have a\n",
       "  specific estimator or a Pipeline/ColumnTransformer */\n",
       "  background-color: var(--sklearn-color-background);\n",
       "}\n",
       "\n",
       "/* Toggleable label */\n",
       "#sk-container-id-1 label.sk-toggleable__label {\n",
       "  cursor: pointer;\n",
       "  display: flex;\n",
       "  width: 100%;\n",
       "  margin-bottom: 0;\n",
       "  padding: 0.5em;\n",
       "  box-sizing: border-box;\n",
       "  text-align: center;\n",
       "  align-items: start;\n",
       "  justify-content: space-between;\n",
       "  gap: 0.5em;\n",
       "}\n",
       "\n",
       "#sk-container-id-1 label.sk-toggleable__label .caption {\n",
       "  font-size: 0.6rem;\n",
       "  font-weight: lighter;\n",
       "  color: var(--sklearn-color-text-muted);\n",
       "}\n",
       "\n",
       "#sk-container-id-1 label.sk-toggleable__label-arrow:before {\n",
       "  /* Arrow on the left of the label */\n",
       "  content: \"▸\";\n",
       "  float: left;\n",
       "  margin-right: 0.25em;\n",
       "  color: var(--sklearn-color-icon);\n",
       "}\n",
       "\n",
       "#sk-container-id-1 label.sk-toggleable__label-arrow:hover:before {\n",
       "  color: var(--sklearn-color-text);\n",
       "}\n",
       "\n",
       "/* Toggleable content - dropdown */\n",
       "\n",
       "#sk-container-id-1 div.sk-toggleable__content {\n",
       "  max-height: 0;\n",
       "  max-width: 0;\n",
       "  overflow: hidden;\n",
       "  text-align: left;\n",
       "  /* unfitted */\n",
       "  background-color: var(--sklearn-color-unfitted-level-0);\n",
       "}\n",
       "\n",
       "#sk-container-id-1 div.sk-toggleable__content.fitted {\n",
       "  /* fitted */\n",
       "  background-color: var(--sklearn-color-fitted-level-0);\n",
       "}\n",
       "\n",
       "#sk-container-id-1 div.sk-toggleable__content pre {\n",
       "  margin: 0.2em;\n",
       "  border-radius: 0.25em;\n",
       "  color: var(--sklearn-color-text);\n",
       "  /* unfitted */\n",
       "  background-color: var(--sklearn-color-unfitted-level-0);\n",
       "}\n",
       "\n",
       "#sk-container-id-1 div.sk-toggleable__content.fitted pre {\n",
       "  /* unfitted */\n",
       "  background-color: var(--sklearn-color-fitted-level-0);\n",
       "}\n",
       "\n",
       "#sk-container-id-1 input.sk-toggleable__control:checked~div.sk-toggleable__content {\n",
       "  /* Expand drop-down */\n",
       "  max-height: 200px;\n",
       "  max-width: 100%;\n",
       "  overflow: auto;\n",
       "}\n",
       "\n",
       "#sk-container-id-1 input.sk-toggleable__control:checked~label.sk-toggleable__label-arrow:before {\n",
       "  content: \"▾\";\n",
       "}\n",
       "\n",
       "/* Pipeline/ColumnTransformer-specific style */\n",
       "\n",
       "#sk-container-id-1 div.sk-label input.sk-toggleable__control:checked~label.sk-toggleable__label {\n",
       "  color: var(--sklearn-color-text);\n",
       "  background-color: var(--sklearn-color-unfitted-level-2);\n",
       "}\n",
       "\n",
       "#sk-container-id-1 div.sk-label.fitted input.sk-toggleable__control:checked~label.sk-toggleable__label {\n",
       "  background-color: var(--sklearn-color-fitted-level-2);\n",
       "}\n",
       "\n",
       "/* Estimator-specific style */\n",
       "\n",
       "/* Colorize estimator box */\n",
       "#sk-container-id-1 div.sk-estimator input.sk-toggleable__control:checked~label.sk-toggleable__label {\n",
       "  /* unfitted */\n",
       "  background-color: var(--sklearn-color-unfitted-level-2);\n",
       "}\n",
       "\n",
       "#sk-container-id-1 div.sk-estimator.fitted input.sk-toggleable__control:checked~label.sk-toggleable__label {\n",
       "  /* fitted */\n",
       "  background-color: var(--sklearn-color-fitted-level-2);\n",
       "}\n",
       "\n",
       "#sk-container-id-1 div.sk-label label.sk-toggleable__label,\n",
       "#sk-container-id-1 div.sk-label label {\n",
       "  /* The background is the default theme color */\n",
       "  color: var(--sklearn-color-text-on-default-background);\n",
       "}\n",
       "\n",
       "/* On hover, darken the color of the background */\n",
       "#sk-container-id-1 div.sk-label:hover label.sk-toggleable__label {\n",
       "  color: var(--sklearn-color-text);\n",
       "  background-color: var(--sklearn-color-unfitted-level-2);\n",
       "}\n",
       "\n",
       "/* Label box, darken color on hover, fitted */\n",
       "#sk-container-id-1 div.sk-label.fitted:hover label.sk-toggleable__label.fitted {\n",
       "  color: var(--sklearn-color-text);\n",
       "  background-color: var(--sklearn-color-fitted-level-2);\n",
       "}\n",
       "\n",
       "/* Estimator label */\n",
       "\n",
       "#sk-container-id-1 div.sk-label label {\n",
       "  font-family: monospace;\n",
       "  font-weight: bold;\n",
       "  display: inline-block;\n",
       "  line-height: 1.2em;\n",
       "}\n",
       "\n",
       "#sk-container-id-1 div.sk-label-container {\n",
       "  text-align: center;\n",
       "}\n",
       "\n",
       "/* Estimator-specific */\n",
       "#sk-container-id-1 div.sk-estimator {\n",
       "  font-family: monospace;\n",
       "  border: 1px dotted var(--sklearn-color-border-box);\n",
       "  border-radius: 0.25em;\n",
       "  box-sizing: border-box;\n",
       "  margin-bottom: 0.5em;\n",
       "  /* unfitted */\n",
       "  background-color: var(--sklearn-color-unfitted-level-0);\n",
       "}\n",
       "\n",
       "#sk-container-id-1 div.sk-estimator.fitted {\n",
       "  /* fitted */\n",
       "  background-color: var(--sklearn-color-fitted-level-0);\n",
       "}\n",
       "\n",
       "/* on hover */\n",
       "#sk-container-id-1 div.sk-estimator:hover {\n",
       "  /* unfitted */\n",
       "  background-color: var(--sklearn-color-unfitted-level-2);\n",
       "}\n",
       "\n",
       "#sk-container-id-1 div.sk-estimator.fitted:hover {\n",
       "  /* fitted */\n",
       "  background-color: var(--sklearn-color-fitted-level-2);\n",
       "}\n",
       "\n",
       "/* Specification for estimator info (e.g. \"i\" and \"?\") */\n",
       "\n",
       "/* Common style for \"i\" and \"?\" */\n",
       "\n",
       ".sk-estimator-doc-link,\n",
       "a:link.sk-estimator-doc-link,\n",
       "a:visited.sk-estimator-doc-link {\n",
       "  float: right;\n",
       "  font-size: smaller;\n",
       "  line-height: 1em;\n",
       "  font-family: monospace;\n",
       "  background-color: var(--sklearn-color-background);\n",
       "  border-radius: 1em;\n",
       "  height: 1em;\n",
       "  width: 1em;\n",
       "  text-decoration: none !important;\n",
       "  margin-left: 0.5em;\n",
       "  text-align: center;\n",
       "  /* unfitted */\n",
       "  border: var(--sklearn-color-unfitted-level-1) 1pt solid;\n",
       "  color: var(--sklearn-color-unfitted-level-1);\n",
       "}\n",
       "\n",
       ".sk-estimator-doc-link.fitted,\n",
       "a:link.sk-estimator-doc-link.fitted,\n",
       "a:visited.sk-estimator-doc-link.fitted {\n",
       "  /* fitted */\n",
       "  border: var(--sklearn-color-fitted-level-1) 1pt solid;\n",
       "  color: var(--sklearn-color-fitted-level-1);\n",
       "}\n",
       "\n",
       "/* On hover */\n",
       "div.sk-estimator:hover .sk-estimator-doc-link:hover,\n",
       ".sk-estimator-doc-link:hover,\n",
       "div.sk-label-container:hover .sk-estimator-doc-link:hover,\n",
       ".sk-estimator-doc-link:hover {\n",
       "  /* unfitted */\n",
       "  background-color: var(--sklearn-color-unfitted-level-3);\n",
       "  color: var(--sklearn-color-background);\n",
       "  text-decoration: none;\n",
       "}\n",
       "\n",
       "div.sk-estimator.fitted:hover .sk-estimator-doc-link.fitted:hover,\n",
       ".sk-estimator-doc-link.fitted:hover,\n",
       "div.sk-label-container:hover .sk-estimator-doc-link.fitted:hover,\n",
       ".sk-estimator-doc-link.fitted:hover {\n",
       "  /* fitted */\n",
       "  background-color: var(--sklearn-color-fitted-level-3);\n",
       "  color: var(--sklearn-color-background);\n",
       "  text-decoration: none;\n",
       "}\n",
       "\n",
       "/* Span, style for the box shown on hovering the info icon */\n",
       ".sk-estimator-doc-link span {\n",
       "  display: none;\n",
       "  z-index: 9999;\n",
       "  position: relative;\n",
       "  font-weight: normal;\n",
       "  right: .2ex;\n",
       "  padding: .5ex;\n",
       "  margin: .5ex;\n",
       "  width: min-content;\n",
       "  min-width: 20ex;\n",
       "  max-width: 50ex;\n",
       "  color: var(--sklearn-color-text);\n",
       "  box-shadow: 2pt 2pt 4pt #999;\n",
       "  /* unfitted */\n",
       "  background: var(--sklearn-color-unfitted-level-0);\n",
       "  border: .5pt solid var(--sklearn-color-unfitted-level-3);\n",
       "}\n",
       "\n",
       ".sk-estimator-doc-link.fitted span {\n",
       "  /* fitted */\n",
       "  background: var(--sklearn-color-fitted-level-0);\n",
       "  border: var(--sklearn-color-fitted-level-3);\n",
       "}\n",
       "\n",
       ".sk-estimator-doc-link:hover span {\n",
       "  display: block;\n",
       "}\n",
       "\n",
       "/* \"?\"-specific style due to the `<a>` HTML tag */\n",
       "\n",
       "#sk-container-id-1 a.estimator_doc_link {\n",
       "  float: right;\n",
       "  font-size: 1rem;\n",
       "  line-height: 1em;\n",
       "  font-family: monospace;\n",
       "  background-color: var(--sklearn-color-background);\n",
       "  border-radius: 1rem;\n",
       "  height: 1rem;\n",
       "  width: 1rem;\n",
       "  text-decoration: none;\n",
       "  /* unfitted */\n",
       "  color: var(--sklearn-color-unfitted-level-1);\n",
       "  border: var(--sklearn-color-unfitted-level-1) 1pt solid;\n",
       "}\n",
       "\n",
       "#sk-container-id-1 a.estimator_doc_link.fitted {\n",
       "  /* fitted */\n",
       "  border: var(--sklearn-color-fitted-level-1) 1pt solid;\n",
       "  color: var(--sklearn-color-fitted-level-1);\n",
       "}\n",
       "\n",
       "/* On hover */\n",
       "#sk-container-id-1 a.estimator_doc_link:hover {\n",
       "  /* unfitted */\n",
       "  background-color: var(--sklearn-color-unfitted-level-3);\n",
       "  color: var(--sklearn-color-background);\n",
       "  text-decoration: none;\n",
       "}\n",
       "\n",
       "#sk-container-id-1 a.estimator_doc_link.fitted:hover {\n",
       "  /* fitted */\n",
       "  background-color: var(--sklearn-color-fitted-level-3);\n",
       "}\n",
       "</style><div id=\"sk-container-id-1\" class=\"sk-top-container\"><div class=\"sk-text-repr-fallback\"><pre>LinearRegression()</pre><b>In a Jupyter environment, please rerun this cell to show the HTML representation or trust the notebook. <br />On GitHub, the HTML representation is unable to render, please try loading this page with nbviewer.org.</b></div><div class=\"sk-container\" hidden><div class=\"sk-item\"><div class=\"sk-estimator fitted sk-toggleable\"><input class=\"sk-toggleable__control sk-hidden--visually\" id=\"sk-estimator-id-1\" type=\"checkbox\" checked><label for=\"sk-estimator-id-1\" class=\"sk-toggleable__label fitted sk-toggleable__label-arrow\"><div><div>LinearRegression</div></div><div><a class=\"sk-estimator-doc-link fitted\" rel=\"noreferrer\" target=\"_blank\" href=\"https://scikit-learn.org/1.6/modules/generated/sklearn.linear_model.LinearRegression.html\">?<span>Documentation for LinearRegression</span></a><span class=\"sk-estimator-doc-link fitted\">i<span>Fitted</span></span></div></label><div class=\"sk-toggleable__content fitted\"><pre>LinearRegression()</pre></div> </div></div></div></div>"
      ],
      "text/plain": [
       "LinearRegression()"
      ]
     },
     "execution_count": 44,
     "metadata": {},
     "output_type": "execute_result"
    }
   ],
   "source": [
    "%%time\n",
    "\n",
    "model = LinearRegression()\n",
    "model.fit(features_train, target_train)"
   ]
  },
  {
   "cell_type": "code",
   "execution_count": 45,
   "metadata": {},
   "outputs": [
    {
     "name": "stdout",
     "output_type": "stream",
     "text": [
      "CPU times: user 65.9 ms, sys: 33.3 ms, total: 99.3 ms\n",
      "Wall time: 96.8 ms\n"
     ]
    }
   ],
   "source": [
    "%%time\n",
    "\n",
    "predictions_valid = model.predict(features_valid)"
   ]
  },
  {
   "cell_type": "markdown",
   "metadata": {},
   "source": [
    "**DecisionTreeRegressor**"
   ]
  },
  {
   "cell_type": "code",
   "execution_count": 46,
   "metadata": {},
   "outputs": [
    {
     "name": "stdout",
     "output_type": "stream",
     "text": [
      "CPU times: user 253 ms, sys: 0 ns, total: 253 ms\n",
      "Wall time: 252 ms\n"
     ]
    },
    {
     "data": {
      "text/html": [
       "<style>#sk-container-id-2 {\n",
       "  /* Definition of color scheme common for light and dark mode */\n",
       "  --sklearn-color-text: #000;\n",
       "  --sklearn-color-text-muted: #666;\n",
       "  --sklearn-color-line: gray;\n",
       "  /* Definition of color scheme for unfitted estimators */\n",
       "  --sklearn-color-unfitted-level-0: #fff5e6;\n",
       "  --sklearn-color-unfitted-level-1: #f6e4d2;\n",
       "  --sklearn-color-unfitted-level-2: #ffe0b3;\n",
       "  --sklearn-color-unfitted-level-3: chocolate;\n",
       "  /* Definition of color scheme for fitted estimators */\n",
       "  --sklearn-color-fitted-level-0: #f0f8ff;\n",
       "  --sklearn-color-fitted-level-1: #d4ebff;\n",
       "  --sklearn-color-fitted-level-2: #b3dbfd;\n",
       "  --sklearn-color-fitted-level-3: cornflowerblue;\n",
       "\n",
       "  /* Specific color for light theme */\n",
       "  --sklearn-color-text-on-default-background: var(--sg-text-color, var(--theme-code-foreground, var(--jp-content-font-color1, black)));\n",
       "  --sklearn-color-background: var(--sg-background-color, var(--theme-background, var(--jp-layout-color0, white)));\n",
       "  --sklearn-color-border-box: var(--sg-text-color, var(--theme-code-foreground, var(--jp-content-font-color1, black)));\n",
       "  --sklearn-color-icon: #696969;\n",
       "\n",
       "  @media (prefers-color-scheme: dark) {\n",
       "    /* Redefinition of color scheme for dark theme */\n",
       "    --sklearn-color-text-on-default-background: var(--sg-text-color, var(--theme-code-foreground, var(--jp-content-font-color1, white)));\n",
       "    --sklearn-color-background: var(--sg-background-color, var(--theme-background, var(--jp-layout-color0, #111)));\n",
       "    --sklearn-color-border-box: var(--sg-text-color, var(--theme-code-foreground, var(--jp-content-font-color1, white)));\n",
       "    --sklearn-color-icon: #878787;\n",
       "  }\n",
       "}\n",
       "\n",
       "#sk-container-id-2 {\n",
       "  color: var(--sklearn-color-text);\n",
       "}\n",
       "\n",
       "#sk-container-id-2 pre {\n",
       "  padding: 0;\n",
       "}\n",
       "\n",
       "#sk-container-id-2 input.sk-hidden--visually {\n",
       "  border: 0;\n",
       "  clip: rect(1px 1px 1px 1px);\n",
       "  clip: rect(1px, 1px, 1px, 1px);\n",
       "  height: 1px;\n",
       "  margin: -1px;\n",
       "  overflow: hidden;\n",
       "  padding: 0;\n",
       "  position: absolute;\n",
       "  width: 1px;\n",
       "}\n",
       "\n",
       "#sk-container-id-2 div.sk-dashed-wrapped {\n",
       "  border: 1px dashed var(--sklearn-color-line);\n",
       "  margin: 0 0.4em 0.5em 0.4em;\n",
       "  box-sizing: border-box;\n",
       "  padding-bottom: 0.4em;\n",
       "  background-color: var(--sklearn-color-background);\n",
       "}\n",
       "\n",
       "#sk-container-id-2 div.sk-container {\n",
       "  /* jupyter's `normalize.less` sets `[hidden] { display: none; }`\n",
       "     but bootstrap.min.css set `[hidden] { display: none !important; }`\n",
       "     so we also need the `!important` here to be able to override the\n",
       "     default hidden behavior on the sphinx rendered scikit-learn.org.\n",
       "     See: https://github.com/scikit-learn/scikit-learn/issues/21755 */\n",
       "  display: inline-block !important;\n",
       "  position: relative;\n",
       "}\n",
       "\n",
       "#sk-container-id-2 div.sk-text-repr-fallback {\n",
       "  display: none;\n",
       "}\n",
       "\n",
       "div.sk-parallel-item,\n",
       "div.sk-serial,\n",
       "div.sk-item {\n",
       "  /* draw centered vertical line to link estimators */\n",
       "  background-image: linear-gradient(var(--sklearn-color-text-on-default-background), var(--sklearn-color-text-on-default-background));\n",
       "  background-size: 2px 100%;\n",
       "  background-repeat: no-repeat;\n",
       "  background-position: center center;\n",
       "}\n",
       "\n",
       "/* Parallel-specific style estimator block */\n",
       "\n",
       "#sk-container-id-2 div.sk-parallel-item::after {\n",
       "  content: \"\";\n",
       "  width: 100%;\n",
       "  border-bottom: 2px solid var(--sklearn-color-text-on-default-background);\n",
       "  flex-grow: 1;\n",
       "}\n",
       "\n",
       "#sk-container-id-2 div.sk-parallel {\n",
       "  display: flex;\n",
       "  align-items: stretch;\n",
       "  justify-content: center;\n",
       "  background-color: var(--sklearn-color-background);\n",
       "  position: relative;\n",
       "}\n",
       "\n",
       "#sk-container-id-2 div.sk-parallel-item {\n",
       "  display: flex;\n",
       "  flex-direction: column;\n",
       "}\n",
       "\n",
       "#sk-container-id-2 div.sk-parallel-item:first-child::after {\n",
       "  align-self: flex-end;\n",
       "  width: 50%;\n",
       "}\n",
       "\n",
       "#sk-container-id-2 div.sk-parallel-item:last-child::after {\n",
       "  align-self: flex-start;\n",
       "  width: 50%;\n",
       "}\n",
       "\n",
       "#sk-container-id-2 div.sk-parallel-item:only-child::after {\n",
       "  width: 0;\n",
       "}\n",
       "\n",
       "/* Serial-specific style estimator block */\n",
       "\n",
       "#sk-container-id-2 div.sk-serial {\n",
       "  display: flex;\n",
       "  flex-direction: column;\n",
       "  align-items: center;\n",
       "  background-color: var(--sklearn-color-background);\n",
       "  padding-right: 1em;\n",
       "  padding-left: 1em;\n",
       "}\n",
       "\n",
       "\n",
       "/* Toggleable style: style used for estimator/Pipeline/ColumnTransformer box that is\n",
       "clickable and can be expanded/collapsed.\n",
       "- Pipeline and ColumnTransformer use this feature and define the default style\n",
       "- Estimators will overwrite some part of the style using the `sk-estimator` class\n",
       "*/\n",
       "\n",
       "/* Pipeline and ColumnTransformer style (default) */\n",
       "\n",
       "#sk-container-id-2 div.sk-toggleable {\n",
       "  /* Default theme specific background. It is overwritten whether we have a\n",
       "  specific estimator or a Pipeline/ColumnTransformer */\n",
       "  background-color: var(--sklearn-color-background);\n",
       "}\n",
       "\n",
       "/* Toggleable label */\n",
       "#sk-container-id-2 label.sk-toggleable__label {\n",
       "  cursor: pointer;\n",
       "  display: flex;\n",
       "  width: 100%;\n",
       "  margin-bottom: 0;\n",
       "  padding: 0.5em;\n",
       "  box-sizing: border-box;\n",
       "  text-align: center;\n",
       "  align-items: start;\n",
       "  justify-content: space-between;\n",
       "  gap: 0.5em;\n",
       "}\n",
       "\n",
       "#sk-container-id-2 label.sk-toggleable__label .caption {\n",
       "  font-size: 0.6rem;\n",
       "  font-weight: lighter;\n",
       "  color: var(--sklearn-color-text-muted);\n",
       "}\n",
       "\n",
       "#sk-container-id-2 label.sk-toggleable__label-arrow:before {\n",
       "  /* Arrow on the left of the label */\n",
       "  content: \"▸\";\n",
       "  float: left;\n",
       "  margin-right: 0.25em;\n",
       "  color: var(--sklearn-color-icon);\n",
       "}\n",
       "\n",
       "#sk-container-id-2 label.sk-toggleable__label-arrow:hover:before {\n",
       "  color: var(--sklearn-color-text);\n",
       "}\n",
       "\n",
       "/* Toggleable content - dropdown */\n",
       "\n",
       "#sk-container-id-2 div.sk-toggleable__content {\n",
       "  max-height: 0;\n",
       "  max-width: 0;\n",
       "  overflow: hidden;\n",
       "  text-align: left;\n",
       "  /* unfitted */\n",
       "  background-color: var(--sklearn-color-unfitted-level-0);\n",
       "}\n",
       "\n",
       "#sk-container-id-2 div.sk-toggleable__content.fitted {\n",
       "  /* fitted */\n",
       "  background-color: var(--sklearn-color-fitted-level-0);\n",
       "}\n",
       "\n",
       "#sk-container-id-2 div.sk-toggleable__content pre {\n",
       "  margin: 0.2em;\n",
       "  border-radius: 0.25em;\n",
       "  color: var(--sklearn-color-text);\n",
       "  /* unfitted */\n",
       "  background-color: var(--sklearn-color-unfitted-level-0);\n",
       "}\n",
       "\n",
       "#sk-container-id-2 div.sk-toggleable__content.fitted pre {\n",
       "  /* unfitted */\n",
       "  background-color: var(--sklearn-color-fitted-level-0);\n",
       "}\n",
       "\n",
       "#sk-container-id-2 input.sk-toggleable__control:checked~div.sk-toggleable__content {\n",
       "  /* Expand drop-down */\n",
       "  max-height: 200px;\n",
       "  max-width: 100%;\n",
       "  overflow: auto;\n",
       "}\n",
       "\n",
       "#sk-container-id-2 input.sk-toggleable__control:checked~label.sk-toggleable__label-arrow:before {\n",
       "  content: \"▾\";\n",
       "}\n",
       "\n",
       "/* Pipeline/ColumnTransformer-specific style */\n",
       "\n",
       "#sk-container-id-2 div.sk-label input.sk-toggleable__control:checked~label.sk-toggleable__label {\n",
       "  color: var(--sklearn-color-text);\n",
       "  background-color: var(--sklearn-color-unfitted-level-2);\n",
       "}\n",
       "\n",
       "#sk-container-id-2 div.sk-label.fitted input.sk-toggleable__control:checked~label.sk-toggleable__label {\n",
       "  background-color: var(--sklearn-color-fitted-level-2);\n",
       "}\n",
       "\n",
       "/* Estimator-specific style */\n",
       "\n",
       "/* Colorize estimator box */\n",
       "#sk-container-id-2 div.sk-estimator input.sk-toggleable__control:checked~label.sk-toggleable__label {\n",
       "  /* unfitted */\n",
       "  background-color: var(--sklearn-color-unfitted-level-2);\n",
       "}\n",
       "\n",
       "#sk-container-id-2 div.sk-estimator.fitted input.sk-toggleable__control:checked~label.sk-toggleable__label {\n",
       "  /* fitted */\n",
       "  background-color: var(--sklearn-color-fitted-level-2);\n",
       "}\n",
       "\n",
       "#sk-container-id-2 div.sk-label label.sk-toggleable__label,\n",
       "#sk-container-id-2 div.sk-label label {\n",
       "  /* The background is the default theme color */\n",
       "  color: var(--sklearn-color-text-on-default-background);\n",
       "}\n",
       "\n",
       "/* On hover, darken the color of the background */\n",
       "#sk-container-id-2 div.sk-label:hover label.sk-toggleable__label {\n",
       "  color: var(--sklearn-color-text);\n",
       "  background-color: var(--sklearn-color-unfitted-level-2);\n",
       "}\n",
       "\n",
       "/* Label box, darken color on hover, fitted */\n",
       "#sk-container-id-2 div.sk-label.fitted:hover label.sk-toggleable__label.fitted {\n",
       "  color: var(--sklearn-color-text);\n",
       "  background-color: var(--sklearn-color-fitted-level-2);\n",
       "}\n",
       "\n",
       "/* Estimator label */\n",
       "\n",
       "#sk-container-id-2 div.sk-label label {\n",
       "  font-family: monospace;\n",
       "  font-weight: bold;\n",
       "  display: inline-block;\n",
       "  line-height: 1.2em;\n",
       "}\n",
       "\n",
       "#sk-container-id-2 div.sk-label-container {\n",
       "  text-align: center;\n",
       "}\n",
       "\n",
       "/* Estimator-specific */\n",
       "#sk-container-id-2 div.sk-estimator {\n",
       "  font-family: monospace;\n",
       "  border: 1px dotted var(--sklearn-color-border-box);\n",
       "  border-radius: 0.25em;\n",
       "  box-sizing: border-box;\n",
       "  margin-bottom: 0.5em;\n",
       "  /* unfitted */\n",
       "  background-color: var(--sklearn-color-unfitted-level-0);\n",
       "}\n",
       "\n",
       "#sk-container-id-2 div.sk-estimator.fitted {\n",
       "  /* fitted */\n",
       "  background-color: var(--sklearn-color-fitted-level-0);\n",
       "}\n",
       "\n",
       "/* on hover */\n",
       "#sk-container-id-2 div.sk-estimator:hover {\n",
       "  /* unfitted */\n",
       "  background-color: var(--sklearn-color-unfitted-level-2);\n",
       "}\n",
       "\n",
       "#sk-container-id-2 div.sk-estimator.fitted:hover {\n",
       "  /* fitted */\n",
       "  background-color: var(--sklearn-color-fitted-level-2);\n",
       "}\n",
       "\n",
       "/* Specification for estimator info (e.g. \"i\" and \"?\") */\n",
       "\n",
       "/* Common style for \"i\" and \"?\" */\n",
       "\n",
       ".sk-estimator-doc-link,\n",
       "a:link.sk-estimator-doc-link,\n",
       "a:visited.sk-estimator-doc-link {\n",
       "  float: right;\n",
       "  font-size: smaller;\n",
       "  line-height: 1em;\n",
       "  font-family: monospace;\n",
       "  background-color: var(--sklearn-color-background);\n",
       "  border-radius: 1em;\n",
       "  height: 1em;\n",
       "  width: 1em;\n",
       "  text-decoration: none !important;\n",
       "  margin-left: 0.5em;\n",
       "  text-align: center;\n",
       "  /* unfitted */\n",
       "  border: var(--sklearn-color-unfitted-level-1) 1pt solid;\n",
       "  color: var(--sklearn-color-unfitted-level-1);\n",
       "}\n",
       "\n",
       ".sk-estimator-doc-link.fitted,\n",
       "a:link.sk-estimator-doc-link.fitted,\n",
       "a:visited.sk-estimator-doc-link.fitted {\n",
       "  /* fitted */\n",
       "  border: var(--sklearn-color-fitted-level-1) 1pt solid;\n",
       "  color: var(--sklearn-color-fitted-level-1);\n",
       "}\n",
       "\n",
       "/* On hover */\n",
       "div.sk-estimator:hover .sk-estimator-doc-link:hover,\n",
       ".sk-estimator-doc-link:hover,\n",
       "div.sk-label-container:hover .sk-estimator-doc-link:hover,\n",
       ".sk-estimator-doc-link:hover {\n",
       "  /* unfitted */\n",
       "  background-color: var(--sklearn-color-unfitted-level-3);\n",
       "  color: var(--sklearn-color-background);\n",
       "  text-decoration: none;\n",
       "}\n",
       "\n",
       "div.sk-estimator.fitted:hover .sk-estimator-doc-link.fitted:hover,\n",
       ".sk-estimator-doc-link.fitted:hover,\n",
       "div.sk-label-container:hover .sk-estimator-doc-link.fitted:hover,\n",
       ".sk-estimator-doc-link.fitted:hover {\n",
       "  /* fitted */\n",
       "  background-color: var(--sklearn-color-fitted-level-3);\n",
       "  color: var(--sklearn-color-background);\n",
       "  text-decoration: none;\n",
       "}\n",
       "\n",
       "/* Span, style for the box shown on hovering the info icon */\n",
       ".sk-estimator-doc-link span {\n",
       "  display: none;\n",
       "  z-index: 9999;\n",
       "  position: relative;\n",
       "  font-weight: normal;\n",
       "  right: .2ex;\n",
       "  padding: .5ex;\n",
       "  margin: .5ex;\n",
       "  width: min-content;\n",
       "  min-width: 20ex;\n",
       "  max-width: 50ex;\n",
       "  color: var(--sklearn-color-text);\n",
       "  box-shadow: 2pt 2pt 4pt #999;\n",
       "  /* unfitted */\n",
       "  background: var(--sklearn-color-unfitted-level-0);\n",
       "  border: .5pt solid var(--sklearn-color-unfitted-level-3);\n",
       "}\n",
       "\n",
       ".sk-estimator-doc-link.fitted span {\n",
       "  /* fitted */\n",
       "  background: var(--sklearn-color-fitted-level-0);\n",
       "  border: var(--sklearn-color-fitted-level-3);\n",
       "}\n",
       "\n",
       ".sk-estimator-doc-link:hover span {\n",
       "  display: block;\n",
       "}\n",
       "\n",
       "/* \"?\"-specific style due to the `<a>` HTML tag */\n",
       "\n",
       "#sk-container-id-2 a.estimator_doc_link {\n",
       "  float: right;\n",
       "  font-size: 1rem;\n",
       "  line-height: 1em;\n",
       "  font-family: monospace;\n",
       "  background-color: var(--sklearn-color-background);\n",
       "  border-radius: 1rem;\n",
       "  height: 1rem;\n",
       "  width: 1rem;\n",
       "  text-decoration: none;\n",
       "  /* unfitted */\n",
       "  color: var(--sklearn-color-unfitted-level-1);\n",
       "  border: var(--sklearn-color-unfitted-level-1) 1pt solid;\n",
       "}\n",
       "\n",
       "#sk-container-id-2 a.estimator_doc_link.fitted {\n",
       "  /* fitted */\n",
       "  border: var(--sklearn-color-fitted-level-1) 1pt solid;\n",
       "  color: var(--sklearn-color-fitted-level-1);\n",
       "}\n",
       "\n",
       "/* On hover */\n",
       "#sk-container-id-2 a.estimator_doc_link:hover {\n",
       "  /* unfitted */\n",
       "  background-color: var(--sklearn-color-unfitted-level-3);\n",
       "  color: var(--sklearn-color-background);\n",
       "  text-decoration: none;\n",
       "}\n",
       "\n",
       "#sk-container-id-2 a.estimator_doc_link.fitted:hover {\n",
       "  /* fitted */\n",
       "  background-color: var(--sklearn-color-fitted-level-3);\n",
       "}\n",
       "</style><div id=\"sk-container-id-2\" class=\"sk-top-container\"><div class=\"sk-text-repr-fallback\"><pre>DecisionTreeRegressor(max_depth=9, random_state=12345)</pre><b>In a Jupyter environment, please rerun this cell to show the HTML representation or trust the notebook. <br />On GitHub, the HTML representation is unable to render, please try loading this page with nbviewer.org.</b></div><div class=\"sk-container\" hidden><div class=\"sk-item\"><div class=\"sk-estimator fitted sk-toggleable\"><input class=\"sk-toggleable__control sk-hidden--visually\" id=\"sk-estimator-id-2\" type=\"checkbox\" checked><label for=\"sk-estimator-id-2\" class=\"sk-toggleable__label fitted sk-toggleable__label-arrow\"><div><div>DecisionTreeRegressor</div></div><div><a class=\"sk-estimator-doc-link fitted\" rel=\"noreferrer\" target=\"_blank\" href=\"https://scikit-learn.org/1.6/modules/generated/sklearn.tree.DecisionTreeRegressor.html\">?<span>Documentation for DecisionTreeRegressor</span></a><span class=\"sk-estimator-doc-link fitted\">i<span>Fitted</span></span></div></label><div class=\"sk-toggleable__content fitted\"><pre>DecisionTreeRegressor(max_depth=9, random_state=12345)</pre></div> </div></div></div></div>"
      ],
      "text/plain": [
       "DecisionTreeRegressor(max_depth=9, random_state=12345)"
      ]
     },
     "execution_count": 46,
     "metadata": {},
     "output_type": "execute_result"
    }
   ],
   "source": [
    "%%time\n",
    "\n",
    "model = DecisionTreeRegressor(random_state=12345, max_depth=9)\n",
    "model.fit(features_train_oe, target_train_oe)"
   ]
  },
  {
   "cell_type": "code",
   "execution_count": 47,
   "metadata": {},
   "outputs": [
    {
     "name": "stdout",
     "output_type": "stream",
     "text": [
      "CPU times: user 8.87 ms, sys: 64 µs, total: 8.94 ms\n",
      "Wall time: 7.09 ms\n"
     ]
    }
   ],
   "source": [
    "%%time\n",
    "\n",
    "predictions_valid_oe = model.predict(features_valid_oe)"
   ]
  },
  {
   "cell_type": "markdown",
   "metadata": {},
   "source": [
    "**RandomForestRegressor**"
   ]
  },
  {
   "cell_type": "code",
   "execution_count": 48,
   "metadata": {},
   "outputs": [
    {
     "name": "stdout",
     "output_type": "stream",
     "text": [
      "CPU times: user 2min 55s, sys: 23 ms, total: 2min 56s\n",
      "Wall time: 2min 56s\n"
     ]
    },
    {
     "data": {
      "text/html": [
       "<style>#sk-container-id-3 {\n",
       "  /* Definition of color scheme common for light and dark mode */\n",
       "  --sklearn-color-text: #000;\n",
       "  --sklearn-color-text-muted: #666;\n",
       "  --sklearn-color-line: gray;\n",
       "  /* Definition of color scheme for unfitted estimators */\n",
       "  --sklearn-color-unfitted-level-0: #fff5e6;\n",
       "  --sklearn-color-unfitted-level-1: #f6e4d2;\n",
       "  --sklearn-color-unfitted-level-2: #ffe0b3;\n",
       "  --sklearn-color-unfitted-level-3: chocolate;\n",
       "  /* Definition of color scheme for fitted estimators */\n",
       "  --sklearn-color-fitted-level-0: #f0f8ff;\n",
       "  --sklearn-color-fitted-level-1: #d4ebff;\n",
       "  --sklearn-color-fitted-level-2: #b3dbfd;\n",
       "  --sklearn-color-fitted-level-3: cornflowerblue;\n",
       "\n",
       "  /* Specific color for light theme */\n",
       "  --sklearn-color-text-on-default-background: var(--sg-text-color, var(--theme-code-foreground, var(--jp-content-font-color1, black)));\n",
       "  --sklearn-color-background: var(--sg-background-color, var(--theme-background, var(--jp-layout-color0, white)));\n",
       "  --sklearn-color-border-box: var(--sg-text-color, var(--theme-code-foreground, var(--jp-content-font-color1, black)));\n",
       "  --sklearn-color-icon: #696969;\n",
       "\n",
       "  @media (prefers-color-scheme: dark) {\n",
       "    /* Redefinition of color scheme for dark theme */\n",
       "    --sklearn-color-text-on-default-background: var(--sg-text-color, var(--theme-code-foreground, var(--jp-content-font-color1, white)));\n",
       "    --sklearn-color-background: var(--sg-background-color, var(--theme-background, var(--jp-layout-color0, #111)));\n",
       "    --sklearn-color-border-box: var(--sg-text-color, var(--theme-code-foreground, var(--jp-content-font-color1, white)));\n",
       "    --sklearn-color-icon: #878787;\n",
       "  }\n",
       "}\n",
       "\n",
       "#sk-container-id-3 {\n",
       "  color: var(--sklearn-color-text);\n",
       "}\n",
       "\n",
       "#sk-container-id-3 pre {\n",
       "  padding: 0;\n",
       "}\n",
       "\n",
       "#sk-container-id-3 input.sk-hidden--visually {\n",
       "  border: 0;\n",
       "  clip: rect(1px 1px 1px 1px);\n",
       "  clip: rect(1px, 1px, 1px, 1px);\n",
       "  height: 1px;\n",
       "  margin: -1px;\n",
       "  overflow: hidden;\n",
       "  padding: 0;\n",
       "  position: absolute;\n",
       "  width: 1px;\n",
       "}\n",
       "\n",
       "#sk-container-id-3 div.sk-dashed-wrapped {\n",
       "  border: 1px dashed var(--sklearn-color-line);\n",
       "  margin: 0 0.4em 0.5em 0.4em;\n",
       "  box-sizing: border-box;\n",
       "  padding-bottom: 0.4em;\n",
       "  background-color: var(--sklearn-color-background);\n",
       "}\n",
       "\n",
       "#sk-container-id-3 div.sk-container {\n",
       "  /* jupyter's `normalize.less` sets `[hidden] { display: none; }`\n",
       "     but bootstrap.min.css set `[hidden] { display: none !important; }`\n",
       "     so we also need the `!important` here to be able to override the\n",
       "     default hidden behavior on the sphinx rendered scikit-learn.org.\n",
       "     See: https://github.com/scikit-learn/scikit-learn/issues/21755 */\n",
       "  display: inline-block !important;\n",
       "  position: relative;\n",
       "}\n",
       "\n",
       "#sk-container-id-3 div.sk-text-repr-fallback {\n",
       "  display: none;\n",
       "}\n",
       "\n",
       "div.sk-parallel-item,\n",
       "div.sk-serial,\n",
       "div.sk-item {\n",
       "  /* draw centered vertical line to link estimators */\n",
       "  background-image: linear-gradient(var(--sklearn-color-text-on-default-background), var(--sklearn-color-text-on-default-background));\n",
       "  background-size: 2px 100%;\n",
       "  background-repeat: no-repeat;\n",
       "  background-position: center center;\n",
       "}\n",
       "\n",
       "/* Parallel-specific style estimator block */\n",
       "\n",
       "#sk-container-id-3 div.sk-parallel-item::after {\n",
       "  content: \"\";\n",
       "  width: 100%;\n",
       "  border-bottom: 2px solid var(--sklearn-color-text-on-default-background);\n",
       "  flex-grow: 1;\n",
       "}\n",
       "\n",
       "#sk-container-id-3 div.sk-parallel {\n",
       "  display: flex;\n",
       "  align-items: stretch;\n",
       "  justify-content: center;\n",
       "  background-color: var(--sklearn-color-background);\n",
       "  position: relative;\n",
       "}\n",
       "\n",
       "#sk-container-id-3 div.sk-parallel-item {\n",
       "  display: flex;\n",
       "  flex-direction: column;\n",
       "}\n",
       "\n",
       "#sk-container-id-3 div.sk-parallel-item:first-child::after {\n",
       "  align-self: flex-end;\n",
       "  width: 50%;\n",
       "}\n",
       "\n",
       "#sk-container-id-3 div.sk-parallel-item:last-child::after {\n",
       "  align-self: flex-start;\n",
       "  width: 50%;\n",
       "}\n",
       "\n",
       "#sk-container-id-3 div.sk-parallel-item:only-child::after {\n",
       "  width: 0;\n",
       "}\n",
       "\n",
       "/* Serial-specific style estimator block */\n",
       "\n",
       "#sk-container-id-3 div.sk-serial {\n",
       "  display: flex;\n",
       "  flex-direction: column;\n",
       "  align-items: center;\n",
       "  background-color: var(--sklearn-color-background);\n",
       "  padding-right: 1em;\n",
       "  padding-left: 1em;\n",
       "}\n",
       "\n",
       "\n",
       "/* Toggleable style: style used for estimator/Pipeline/ColumnTransformer box that is\n",
       "clickable and can be expanded/collapsed.\n",
       "- Pipeline and ColumnTransformer use this feature and define the default style\n",
       "- Estimators will overwrite some part of the style using the `sk-estimator` class\n",
       "*/\n",
       "\n",
       "/* Pipeline and ColumnTransformer style (default) */\n",
       "\n",
       "#sk-container-id-3 div.sk-toggleable {\n",
       "  /* Default theme specific background. It is overwritten whether we have a\n",
       "  specific estimator or a Pipeline/ColumnTransformer */\n",
       "  background-color: var(--sklearn-color-background);\n",
       "}\n",
       "\n",
       "/* Toggleable label */\n",
       "#sk-container-id-3 label.sk-toggleable__label {\n",
       "  cursor: pointer;\n",
       "  display: flex;\n",
       "  width: 100%;\n",
       "  margin-bottom: 0;\n",
       "  padding: 0.5em;\n",
       "  box-sizing: border-box;\n",
       "  text-align: center;\n",
       "  align-items: start;\n",
       "  justify-content: space-between;\n",
       "  gap: 0.5em;\n",
       "}\n",
       "\n",
       "#sk-container-id-3 label.sk-toggleable__label .caption {\n",
       "  font-size: 0.6rem;\n",
       "  font-weight: lighter;\n",
       "  color: var(--sklearn-color-text-muted);\n",
       "}\n",
       "\n",
       "#sk-container-id-3 label.sk-toggleable__label-arrow:before {\n",
       "  /* Arrow on the left of the label */\n",
       "  content: \"▸\";\n",
       "  float: left;\n",
       "  margin-right: 0.25em;\n",
       "  color: var(--sklearn-color-icon);\n",
       "}\n",
       "\n",
       "#sk-container-id-3 label.sk-toggleable__label-arrow:hover:before {\n",
       "  color: var(--sklearn-color-text);\n",
       "}\n",
       "\n",
       "/* Toggleable content - dropdown */\n",
       "\n",
       "#sk-container-id-3 div.sk-toggleable__content {\n",
       "  max-height: 0;\n",
       "  max-width: 0;\n",
       "  overflow: hidden;\n",
       "  text-align: left;\n",
       "  /* unfitted */\n",
       "  background-color: var(--sklearn-color-unfitted-level-0);\n",
       "}\n",
       "\n",
       "#sk-container-id-3 div.sk-toggleable__content.fitted {\n",
       "  /* fitted */\n",
       "  background-color: var(--sklearn-color-fitted-level-0);\n",
       "}\n",
       "\n",
       "#sk-container-id-3 div.sk-toggleable__content pre {\n",
       "  margin: 0.2em;\n",
       "  border-radius: 0.25em;\n",
       "  color: var(--sklearn-color-text);\n",
       "  /* unfitted */\n",
       "  background-color: var(--sklearn-color-unfitted-level-0);\n",
       "}\n",
       "\n",
       "#sk-container-id-3 div.sk-toggleable__content.fitted pre {\n",
       "  /* unfitted */\n",
       "  background-color: var(--sklearn-color-fitted-level-0);\n",
       "}\n",
       "\n",
       "#sk-container-id-3 input.sk-toggleable__control:checked~div.sk-toggleable__content {\n",
       "  /* Expand drop-down */\n",
       "  max-height: 200px;\n",
       "  max-width: 100%;\n",
       "  overflow: auto;\n",
       "}\n",
       "\n",
       "#sk-container-id-3 input.sk-toggleable__control:checked~label.sk-toggleable__label-arrow:before {\n",
       "  content: \"▾\";\n",
       "}\n",
       "\n",
       "/* Pipeline/ColumnTransformer-specific style */\n",
       "\n",
       "#sk-container-id-3 div.sk-label input.sk-toggleable__control:checked~label.sk-toggleable__label {\n",
       "  color: var(--sklearn-color-text);\n",
       "  background-color: var(--sklearn-color-unfitted-level-2);\n",
       "}\n",
       "\n",
       "#sk-container-id-3 div.sk-label.fitted input.sk-toggleable__control:checked~label.sk-toggleable__label {\n",
       "  background-color: var(--sklearn-color-fitted-level-2);\n",
       "}\n",
       "\n",
       "/* Estimator-specific style */\n",
       "\n",
       "/* Colorize estimator box */\n",
       "#sk-container-id-3 div.sk-estimator input.sk-toggleable__control:checked~label.sk-toggleable__label {\n",
       "  /* unfitted */\n",
       "  background-color: var(--sklearn-color-unfitted-level-2);\n",
       "}\n",
       "\n",
       "#sk-container-id-3 div.sk-estimator.fitted input.sk-toggleable__control:checked~label.sk-toggleable__label {\n",
       "  /* fitted */\n",
       "  background-color: var(--sklearn-color-fitted-level-2);\n",
       "}\n",
       "\n",
       "#sk-container-id-3 div.sk-label label.sk-toggleable__label,\n",
       "#sk-container-id-3 div.sk-label label {\n",
       "  /* The background is the default theme color */\n",
       "  color: var(--sklearn-color-text-on-default-background);\n",
       "}\n",
       "\n",
       "/* On hover, darken the color of the background */\n",
       "#sk-container-id-3 div.sk-label:hover label.sk-toggleable__label {\n",
       "  color: var(--sklearn-color-text);\n",
       "  background-color: var(--sklearn-color-unfitted-level-2);\n",
       "}\n",
       "\n",
       "/* Label box, darken color on hover, fitted */\n",
       "#sk-container-id-3 div.sk-label.fitted:hover label.sk-toggleable__label.fitted {\n",
       "  color: var(--sklearn-color-text);\n",
       "  background-color: var(--sklearn-color-fitted-level-2);\n",
       "}\n",
       "\n",
       "/* Estimator label */\n",
       "\n",
       "#sk-container-id-3 div.sk-label label {\n",
       "  font-family: monospace;\n",
       "  font-weight: bold;\n",
       "  display: inline-block;\n",
       "  line-height: 1.2em;\n",
       "}\n",
       "\n",
       "#sk-container-id-3 div.sk-label-container {\n",
       "  text-align: center;\n",
       "}\n",
       "\n",
       "/* Estimator-specific */\n",
       "#sk-container-id-3 div.sk-estimator {\n",
       "  font-family: monospace;\n",
       "  border: 1px dotted var(--sklearn-color-border-box);\n",
       "  border-radius: 0.25em;\n",
       "  box-sizing: border-box;\n",
       "  margin-bottom: 0.5em;\n",
       "  /* unfitted */\n",
       "  background-color: var(--sklearn-color-unfitted-level-0);\n",
       "}\n",
       "\n",
       "#sk-container-id-3 div.sk-estimator.fitted {\n",
       "  /* fitted */\n",
       "  background-color: var(--sklearn-color-fitted-level-0);\n",
       "}\n",
       "\n",
       "/* on hover */\n",
       "#sk-container-id-3 div.sk-estimator:hover {\n",
       "  /* unfitted */\n",
       "  background-color: var(--sklearn-color-unfitted-level-2);\n",
       "}\n",
       "\n",
       "#sk-container-id-3 div.sk-estimator.fitted:hover {\n",
       "  /* fitted */\n",
       "  background-color: var(--sklearn-color-fitted-level-2);\n",
       "}\n",
       "\n",
       "/* Specification for estimator info (e.g. \"i\" and \"?\") */\n",
       "\n",
       "/* Common style for \"i\" and \"?\" */\n",
       "\n",
       ".sk-estimator-doc-link,\n",
       "a:link.sk-estimator-doc-link,\n",
       "a:visited.sk-estimator-doc-link {\n",
       "  float: right;\n",
       "  font-size: smaller;\n",
       "  line-height: 1em;\n",
       "  font-family: monospace;\n",
       "  background-color: var(--sklearn-color-background);\n",
       "  border-radius: 1em;\n",
       "  height: 1em;\n",
       "  width: 1em;\n",
       "  text-decoration: none !important;\n",
       "  margin-left: 0.5em;\n",
       "  text-align: center;\n",
       "  /* unfitted */\n",
       "  border: var(--sklearn-color-unfitted-level-1) 1pt solid;\n",
       "  color: var(--sklearn-color-unfitted-level-1);\n",
       "}\n",
       "\n",
       ".sk-estimator-doc-link.fitted,\n",
       "a:link.sk-estimator-doc-link.fitted,\n",
       "a:visited.sk-estimator-doc-link.fitted {\n",
       "  /* fitted */\n",
       "  border: var(--sklearn-color-fitted-level-1) 1pt solid;\n",
       "  color: var(--sklearn-color-fitted-level-1);\n",
       "}\n",
       "\n",
       "/* On hover */\n",
       "div.sk-estimator:hover .sk-estimator-doc-link:hover,\n",
       ".sk-estimator-doc-link:hover,\n",
       "div.sk-label-container:hover .sk-estimator-doc-link:hover,\n",
       ".sk-estimator-doc-link:hover {\n",
       "  /* unfitted */\n",
       "  background-color: var(--sklearn-color-unfitted-level-3);\n",
       "  color: var(--sklearn-color-background);\n",
       "  text-decoration: none;\n",
       "}\n",
       "\n",
       "div.sk-estimator.fitted:hover .sk-estimator-doc-link.fitted:hover,\n",
       ".sk-estimator-doc-link.fitted:hover,\n",
       "div.sk-label-container:hover .sk-estimator-doc-link.fitted:hover,\n",
       ".sk-estimator-doc-link.fitted:hover {\n",
       "  /* fitted */\n",
       "  background-color: var(--sklearn-color-fitted-level-3);\n",
       "  color: var(--sklearn-color-background);\n",
       "  text-decoration: none;\n",
       "}\n",
       "\n",
       "/* Span, style for the box shown on hovering the info icon */\n",
       ".sk-estimator-doc-link span {\n",
       "  display: none;\n",
       "  z-index: 9999;\n",
       "  position: relative;\n",
       "  font-weight: normal;\n",
       "  right: .2ex;\n",
       "  padding: .5ex;\n",
       "  margin: .5ex;\n",
       "  width: min-content;\n",
       "  min-width: 20ex;\n",
       "  max-width: 50ex;\n",
       "  color: var(--sklearn-color-text);\n",
       "  box-shadow: 2pt 2pt 4pt #999;\n",
       "  /* unfitted */\n",
       "  background: var(--sklearn-color-unfitted-level-0);\n",
       "  border: .5pt solid var(--sklearn-color-unfitted-level-3);\n",
       "}\n",
       "\n",
       ".sk-estimator-doc-link.fitted span {\n",
       "  /* fitted */\n",
       "  background: var(--sklearn-color-fitted-level-0);\n",
       "  border: var(--sklearn-color-fitted-level-3);\n",
       "}\n",
       "\n",
       ".sk-estimator-doc-link:hover span {\n",
       "  display: block;\n",
       "}\n",
       "\n",
       "/* \"?\"-specific style due to the `<a>` HTML tag */\n",
       "\n",
       "#sk-container-id-3 a.estimator_doc_link {\n",
       "  float: right;\n",
       "  font-size: 1rem;\n",
       "  line-height: 1em;\n",
       "  font-family: monospace;\n",
       "  background-color: var(--sklearn-color-background);\n",
       "  border-radius: 1rem;\n",
       "  height: 1rem;\n",
       "  width: 1rem;\n",
       "  text-decoration: none;\n",
       "  /* unfitted */\n",
       "  color: var(--sklearn-color-unfitted-level-1);\n",
       "  border: var(--sklearn-color-unfitted-level-1) 1pt solid;\n",
       "}\n",
       "\n",
       "#sk-container-id-3 a.estimator_doc_link.fitted {\n",
       "  /* fitted */\n",
       "  border: var(--sklearn-color-fitted-level-1) 1pt solid;\n",
       "  color: var(--sklearn-color-fitted-level-1);\n",
       "}\n",
       "\n",
       "/* On hover */\n",
       "#sk-container-id-3 a.estimator_doc_link:hover {\n",
       "  /* unfitted */\n",
       "  background-color: var(--sklearn-color-unfitted-level-3);\n",
       "  color: var(--sklearn-color-background);\n",
       "  text-decoration: none;\n",
       "}\n",
       "\n",
       "#sk-container-id-3 a.estimator_doc_link.fitted:hover {\n",
       "  /* fitted */\n",
       "  background-color: var(--sklearn-color-fitted-level-3);\n",
       "}\n",
       "</style><div id=\"sk-container-id-3\" class=\"sk-top-container\"><div class=\"sk-text-repr-fallback\"><pre>RandomForestRegressor(max_depth=9, n_estimators=1000, random_state=12345)</pre><b>In a Jupyter environment, please rerun this cell to show the HTML representation or trust the notebook. <br />On GitHub, the HTML representation is unable to render, please try loading this page with nbviewer.org.</b></div><div class=\"sk-container\" hidden><div class=\"sk-item\"><div class=\"sk-estimator fitted sk-toggleable\"><input class=\"sk-toggleable__control sk-hidden--visually\" id=\"sk-estimator-id-3\" type=\"checkbox\" checked><label for=\"sk-estimator-id-3\" class=\"sk-toggleable__label fitted sk-toggleable__label-arrow\"><div><div>RandomForestRegressor</div></div><div><a class=\"sk-estimator-doc-link fitted\" rel=\"noreferrer\" target=\"_blank\" href=\"https://scikit-learn.org/1.6/modules/generated/sklearn.ensemble.RandomForestRegressor.html\">?<span>Documentation for RandomForestRegressor</span></a><span class=\"sk-estimator-doc-link fitted\">i<span>Fitted</span></span></div></label><div class=\"sk-toggleable__content fitted\"><pre>RandomForestRegressor(max_depth=9, n_estimators=1000, random_state=12345)</pre></div> </div></div></div></div>"
      ],
      "text/plain": [
       "RandomForestRegressor(max_depth=9, n_estimators=1000, random_state=12345)"
      ]
     },
     "execution_count": 48,
     "metadata": {},
     "output_type": "execute_result"
    }
   ],
   "source": [
    "%%time\n",
    "\n",
    "model = RandomForestRegressor(random_state=12345, max_depth=9, n_estimators=1000)\n",
    "model.fit(features_train_oe, target_train_oe)"
   ]
  },
  {
   "cell_type": "code",
   "execution_count": 49,
   "metadata": {},
   "outputs": [
    {
     "name": "stdout",
     "output_type": "stream",
     "text": [
      "CPU times: user 3.51 s, sys: 0 ns, total: 3.51 s\n",
      "Wall time: 3.51 s\n"
     ]
    }
   ],
   "source": [
    "%%time\n",
    "\n",
    "predictions_valid_oe = model.predict(features_valid_oe)"
   ]
  },
  {
   "cell_type": "markdown",
   "metadata": {},
   "source": [
    "**LightGBMRegressor**"
   ]
  },
  {
   "cell_type": "code",
   "execution_count": 50,
   "metadata": {},
   "outputs": [
    {
     "name": "stdout",
     "output_type": "stream",
     "text": [
      "CPU times: user 3.93 s, sys: 15.3 ms, total: 3.95 s\n",
      "Wall time: 3.97 s\n"
     ]
    },
    {
     "data": {
      "text/html": [
       "<style>#sk-container-id-4 {\n",
       "  /* Definition of color scheme common for light and dark mode */\n",
       "  --sklearn-color-text: #000;\n",
       "  --sklearn-color-text-muted: #666;\n",
       "  --sklearn-color-line: gray;\n",
       "  /* Definition of color scheme for unfitted estimators */\n",
       "  --sklearn-color-unfitted-level-0: #fff5e6;\n",
       "  --sklearn-color-unfitted-level-1: #f6e4d2;\n",
       "  --sklearn-color-unfitted-level-2: #ffe0b3;\n",
       "  --sklearn-color-unfitted-level-3: chocolate;\n",
       "  /* Definition of color scheme for fitted estimators */\n",
       "  --sklearn-color-fitted-level-0: #f0f8ff;\n",
       "  --sklearn-color-fitted-level-1: #d4ebff;\n",
       "  --sklearn-color-fitted-level-2: #b3dbfd;\n",
       "  --sklearn-color-fitted-level-3: cornflowerblue;\n",
       "\n",
       "  /* Specific color for light theme */\n",
       "  --sklearn-color-text-on-default-background: var(--sg-text-color, var(--theme-code-foreground, var(--jp-content-font-color1, black)));\n",
       "  --sklearn-color-background: var(--sg-background-color, var(--theme-background, var(--jp-layout-color0, white)));\n",
       "  --sklearn-color-border-box: var(--sg-text-color, var(--theme-code-foreground, var(--jp-content-font-color1, black)));\n",
       "  --sklearn-color-icon: #696969;\n",
       "\n",
       "  @media (prefers-color-scheme: dark) {\n",
       "    /* Redefinition of color scheme for dark theme */\n",
       "    --sklearn-color-text-on-default-background: var(--sg-text-color, var(--theme-code-foreground, var(--jp-content-font-color1, white)));\n",
       "    --sklearn-color-background: var(--sg-background-color, var(--theme-background, var(--jp-layout-color0, #111)));\n",
       "    --sklearn-color-border-box: var(--sg-text-color, var(--theme-code-foreground, var(--jp-content-font-color1, white)));\n",
       "    --sklearn-color-icon: #878787;\n",
       "  }\n",
       "}\n",
       "\n",
       "#sk-container-id-4 {\n",
       "  color: var(--sklearn-color-text);\n",
       "}\n",
       "\n",
       "#sk-container-id-4 pre {\n",
       "  padding: 0;\n",
       "}\n",
       "\n",
       "#sk-container-id-4 input.sk-hidden--visually {\n",
       "  border: 0;\n",
       "  clip: rect(1px 1px 1px 1px);\n",
       "  clip: rect(1px, 1px, 1px, 1px);\n",
       "  height: 1px;\n",
       "  margin: -1px;\n",
       "  overflow: hidden;\n",
       "  padding: 0;\n",
       "  position: absolute;\n",
       "  width: 1px;\n",
       "}\n",
       "\n",
       "#sk-container-id-4 div.sk-dashed-wrapped {\n",
       "  border: 1px dashed var(--sklearn-color-line);\n",
       "  margin: 0 0.4em 0.5em 0.4em;\n",
       "  box-sizing: border-box;\n",
       "  padding-bottom: 0.4em;\n",
       "  background-color: var(--sklearn-color-background);\n",
       "}\n",
       "\n",
       "#sk-container-id-4 div.sk-container {\n",
       "  /* jupyter's `normalize.less` sets `[hidden] { display: none; }`\n",
       "     but bootstrap.min.css set `[hidden] { display: none !important; }`\n",
       "     so we also need the `!important` here to be able to override the\n",
       "     default hidden behavior on the sphinx rendered scikit-learn.org.\n",
       "     See: https://github.com/scikit-learn/scikit-learn/issues/21755 */\n",
       "  display: inline-block !important;\n",
       "  position: relative;\n",
       "}\n",
       "\n",
       "#sk-container-id-4 div.sk-text-repr-fallback {\n",
       "  display: none;\n",
       "}\n",
       "\n",
       "div.sk-parallel-item,\n",
       "div.sk-serial,\n",
       "div.sk-item {\n",
       "  /* draw centered vertical line to link estimators */\n",
       "  background-image: linear-gradient(var(--sklearn-color-text-on-default-background), var(--sklearn-color-text-on-default-background));\n",
       "  background-size: 2px 100%;\n",
       "  background-repeat: no-repeat;\n",
       "  background-position: center center;\n",
       "}\n",
       "\n",
       "/* Parallel-specific style estimator block */\n",
       "\n",
       "#sk-container-id-4 div.sk-parallel-item::after {\n",
       "  content: \"\";\n",
       "  width: 100%;\n",
       "  border-bottom: 2px solid var(--sklearn-color-text-on-default-background);\n",
       "  flex-grow: 1;\n",
       "}\n",
       "\n",
       "#sk-container-id-4 div.sk-parallel {\n",
       "  display: flex;\n",
       "  align-items: stretch;\n",
       "  justify-content: center;\n",
       "  background-color: var(--sklearn-color-background);\n",
       "  position: relative;\n",
       "}\n",
       "\n",
       "#sk-container-id-4 div.sk-parallel-item {\n",
       "  display: flex;\n",
       "  flex-direction: column;\n",
       "}\n",
       "\n",
       "#sk-container-id-4 div.sk-parallel-item:first-child::after {\n",
       "  align-self: flex-end;\n",
       "  width: 50%;\n",
       "}\n",
       "\n",
       "#sk-container-id-4 div.sk-parallel-item:last-child::after {\n",
       "  align-self: flex-start;\n",
       "  width: 50%;\n",
       "}\n",
       "\n",
       "#sk-container-id-4 div.sk-parallel-item:only-child::after {\n",
       "  width: 0;\n",
       "}\n",
       "\n",
       "/* Serial-specific style estimator block */\n",
       "\n",
       "#sk-container-id-4 div.sk-serial {\n",
       "  display: flex;\n",
       "  flex-direction: column;\n",
       "  align-items: center;\n",
       "  background-color: var(--sklearn-color-background);\n",
       "  padding-right: 1em;\n",
       "  padding-left: 1em;\n",
       "}\n",
       "\n",
       "\n",
       "/* Toggleable style: style used for estimator/Pipeline/ColumnTransformer box that is\n",
       "clickable and can be expanded/collapsed.\n",
       "- Pipeline and ColumnTransformer use this feature and define the default style\n",
       "- Estimators will overwrite some part of the style using the `sk-estimator` class\n",
       "*/\n",
       "\n",
       "/* Pipeline and ColumnTransformer style (default) */\n",
       "\n",
       "#sk-container-id-4 div.sk-toggleable {\n",
       "  /* Default theme specific background. It is overwritten whether we have a\n",
       "  specific estimator or a Pipeline/ColumnTransformer */\n",
       "  background-color: var(--sklearn-color-background);\n",
       "}\n",
       "\n",
       "/* Toggleable label */\n",
       "#sk-container-id-4 label.sk-toggleable__label {\n",
       "  cursor: pointer;\n",
       "  display: flex;\n",
       "  width: 100%;\n",
       "  margin-bottom: 0;\n",
       "  padding: 0.5em;\n",
       "  box-sizing: border-box;\n",
       "  text-align: center;\n",
       "  align-items: start;\n",
       "  justify-content: space-between;\n",
       "  gap: 0.5em;\n",
       "}\n",
       "\n",
       "#sk-container-id-4 label.sk-toggleable__label .caption {\n",
       "  font-size: 0.6rem;\n",
       "  font-weight: lighter;\n",
       "  color: var(--sklearn-color-text-muted);\n",
       "}\n",
       "\n",
       "#sk-container-id-4 label.sk-toggleable__label-arrow:before {\n",
       "  /* Arrow on the left of the label */\n",
       "  content: \"▸\";\n",
       "  float: left;\n",
       "  margin-right: 0.25em;\n",
       "  color: var(--sklearn-color-icon);\n",
       "}\n",
       "\n",
       "#sk-container-id-4 label.sk-toggleable__label-arrow:hover:before {\n",
       "  color: var(--sklearn-color-text);\n",
       "}\n",
       "\n",
       "/* Toggleable content - dropdown */\n",
       "\n",
       "#sk-container-id-4 div.sk-toggleable__content {\n",
       "  max-height: 0;\n",
       "  max-width: 0;\n",
       "  overflow: hidden;\n",
       "  text-align: left;\n",
       "  /* unfitted */\n",
       "  background-color: var(--sklearn-color-unfitted-level-0);\n",
       "}\n",
       "\n",
       "#sk-container-id-4 div.sk-toggleable__content.fitted {\n",
       "  /* fitted */\n",
       "  background-color: var(--sklearn-color-fitted-level-0);\n",
       "}\n",
       "\n",
       "#sk-container-id-4 div.sk-toggleable__content pre {\n",
       "  margin: 0.2em;\n",
       "  border-radius: 0.25em;\n",
       "  color: var(--sklearn-color-text);\n",
       "  /* unfitted */\n",
       "  background-color: var(--sklearn-color-unfitted-level-0);\n",
       "}\n",
       "\n",
       "#sk-container-id-4 div.sk-toggleable__content.fitted pre {\n",
       "  /* unfitted */\n",
       "  background-color: var(--sklearn-color-fitted-level-0);\n",
       "}\n",
       "\n",
       "#sk-container-id-4 input.sk-toggleable__control:checked~div.sk-toggleable__content {\n",
       "  /* Expand drop-down */\n",
       "  max-height: 200px;\n",
       "  max-width: 100%;\n",
       "  overflow: auto;\n",
       "}\n",
       "\n",
       "#sk-container-id-4 input.sk-toggleable__control:checked~label.sk-toggleable__label-arrow:before {\n",
       "  content: \"▾\";\n",
       "}\n",
       "\n",
       "/* Pipeline/ColumnTransformer-specific style */\n",
       "\n",
       "#sk-container-id-4 div.sk-label input.sk-toggleable__control:checked~label.sk-toggleable__label {\n",
       "  color: var(--sklearn-color-text);\n",
       "  background-color: var(--sklearn-color-unfitted-level-2);\n",
       "}\n",
       "\n",
       "#sk-container-id-4 div.sk-label.fitted input.sk-toggleable__control:checked~label.sk-toggleable__label {\n",
       "  background-color: var(--sklearn-color-fitted-level-2);\n",
       "}\n",
       "\n",
       "/* Estimator-specific style */\n",
       "\n",
       "/* Colorize estimator box */\n",
       "#sk-container-id-4 div.sk-estimator input.sk-toggleable__control:checked~label.sk-toggleable__label {\n",
       "  /* unfitted */\n",
       "  background-color: var(--sklearn-color-unfitted-level-2);\n",
       "}\n",
       "\n",
       "#sk-container-id-4 div.sk-estimator.fitted input.sk-toggleable__control:checked~label.sk-toggleable__label {\n",
       "  /* fitted */\n",
       "  background-color: var(--sklearn-color-fitted-level-2);\n",
       "}\n",
       "\n",
       "#sk-container-id-4 div.sk-label label.sk-toggleable__label,\n",
       "#sk-container-id-4 div.sk-label label {\n",
       "  /* The background is the default theme color */\n",
       "  color: var(--sklearn-color-text-on-default-background);\n",
       "}\n",
       "\n",
       "/* On hover, darken the color of the background */\n",
       "#sk-container-id-4 div.sk-label:hover label.sk-toggleable__label {\n",
       "  color: var(--sklearn-color-text);\n",
       "  background-color: var(--sklearn-color-unfitted-level-2);\n",
       "}\n",
       "\n",
       "/* Label box, darken color on hover, fitted */\n",
       "#sk-container-id-4 div.sk-label.fitted:hover label.sk-toggleable__label.fitted {\n",
       "  color: var(--sklearn-color-text);\n",
       "  background-color: var(--sklearn-color-fitted-level-2);\n",
       "}\n",
       "\n",
       "/* Estimator label */\n",
       "\n",
       "#sk-container-id-4 div.sk-label label {\n",
       "  font-family: monospace;\n",
       "  font-weight: bold;\n",
       "  display: inline-block;\n",
       "  line-height: 1.2em;\n",
       "}\n",
       "\n",
       "#sk-container-id-4 div.sk-label-container {\n",
       "  text-align: center;\n",
       "}\n",
       "\n",
       "/* Estimator-specific */\n",
       "#sk-container-id-4 div.sk-estimator {\n",
       "  font-family: monospace;\n",
       "  border: 1px dotted var(--sklearn-color-border-box);\n",
       "  border-radius: 0.25em;\n",
       "  box-sizing: border-box;\n",
       "  margin-bottom: 0.5em;\n",
       "  /* unfitted */\n",
       "  background-color: var(--sklearn-color-unfitted-level-0);\n",
       "}\n",
       "\n",
       "#sk-container-id-4 div.sk-estimator.fitted {\n",
       "  /* fitted */\n",
       "  background-color: var(--sklearn-color-fitted-level-0);\n",
       "}\n",
       "\n",
       "/* on hover */\n",
       "#sk-container-id-4 div.sk-estimator:hover {\n",
       "  /* unfitted */\n",
       "  background-color: var(--sklearn-color-unfitted-level-2);\n",
       "}\n",
       "\n",
       "#sk-container-id-4 div.sk-estimator.fitted:hover {\n",
       "  /* fitted */\n",
       "  background-color: var(--sklearn-color-fitted-level-2);\n",
       "}\n",
       "\n",
       "/* Specification for estimator info (e.g. \"i\" and \"?\") */\n",
       "\n",
       "/* Common style for \"i\" and \"?\" */\n",
       "\n",
       ".sk-estimator-doc-link,\n",
       "a:link.sk-estimator-doc-link,\n",
       "a:visited.sk-estimator-doc-link {\n",
       "  float: right;\n",
       "  font-size: smaller;\n",
       "  line-height: 1em;\n",
       "  font-family: monospace;\n",
       "  background-color: var(--sklearn-color-background);\n",
       "  border-radius: 1em;\n",
       "  height: 1em;\n",
       "  width: 1em;\n",
       "  text-decoration: none !important;\n",
       "  margin-left: 0.5em;\n",
       "  text-align: center;\n",
       "  /* unfitted */\n",
       "  border: var(--sklearn-color-unfitted-level-1) 1pt solid;\n",
       "  color: var(--sklearn-color-unfitted-level-1);\n",
       "}\n",
       "\n",
       ".sk-estimator-doc-link.fitted,\n",
       "a:link.sk-estimator-doc-link.fitted,\n",
       "a:visited.sk-estimator-doc-link.fitted {\n",
       "  /* fitted */\n",
       "  border: var(--sklearn-color-fitted-level-1) 1pt solid;\n",
       "  color: var(--sklearn-color-fitted-level-1);\n",
       "}\n",
       "\n",
       "/* On hover */\n",
       "div.sk-estimator:hover .sk-estimator-doc-link:hover,\n",
       ".sk-estimator-doc-link:hover,\n",
       "div.sk-label-container:hover .sk-estimator-doc-link:hover,\n",
       ".sk-estimator-doc-link:hover {\n",
       "  /* unfitted */\n",
       "  background-color: var(--sklearn-color-unfitted-level-3);\n",
       "  color: var(--sklearn-color-background);\n",
       "  text-decoration: none;\n",
       "}\n",
       "\n",
       "div.sk-estimator.fitted:hover .sk-estimator-doc-link.fitted:hover,\n",
       ".sk-estimator-doc-link.fitted:hover,\n",
       "div.sk-label-container:hover .sk-estimator-doc-link.fitted:hover,\n",
       ".sk-estimator-doc-link.fitted:hover {\n",
       "  /* fitted */\n",
       "  background-color: var(--sklearn-color-fitted-level-3);\n",
       "  color: var(--sklearn-color-background);\n",
       "  text-decoration: none;\n",
       "}\n",
       "\n",
       "/* Span, style for the box shown on hovering the info icon */\n",
       ".sk-estimator-doc-link span {\n",
       "  display: none;\n",
       "  z-index: 9999;\n",
       "  position: relative;\n",
       "  font-weight: normal;\n",
       "  right: .2ex;\n",
       "  padding: .5ex;\n",
       "  margin: .5ex;\n",
       "  width: min-content;\n",
       "  min-width: 20ex;\n",
       "  max-width: 50ex;\n",
       "  color: var(--sklearn-color-text);\n",
       "  box-shadow: 2pt 2pt 4pt #999;\n",
       "  /* unfitted */\n",
       "  background: var(--sklearn-color-unfitted-level-0);\n",
       "  border: .5pt solid var(--sklearn-color-unfitted-level-3);\n",
       "}\n",
       "\n",
       ".sk-estimator-doc-link.fitted span {\n",
       "  /* fitted */\n",
       "  background: var(--sklearn-color-fitted-level-0);\n",
       "  border: var(--sklearn-color-fitted-level-3);\n",
       "}\n",
       "\n",
       ".sk-estimator-doc-link:hover span {\n",
       "  display: block;\n",
       "}\n",
       "\n",
       "/* \"?\"-specific style due to the `<a>` HTML tag */\n",
       "\n",
       "#sk-container-id-4 a.estimator_doc_link {\n",
       "  float: right;\n",
       "  font-size: 1rem;\n",
       "  line-height: 1em;\n",
       "  font-family: monospace;\n",
       "  background-color: var(--sklearn-color-background);\n",
       "  border-radius: 1rem;\n",
       "  height: 1rem;\n",
       "  width: 1rem;\n",
       "  text-decoration: none;\n",
       "  /* unfitted */\n",
       "  color: var(--sklearn-color-unfitted-level-1);\n",
       "  border: var(--sklearn-color-unfitted-level-1) 1pt solid;\n",
       "}\n",
       "\n",
       "#sk-container-id-4 a.estimator_doc_link.fitted {\n",
       "  /* fitted */\n",
       "  border: var(--sklearn-color-fitted-level-1) 1pt solid;\n",
       "  color: var(--sklearn-color-fitted-level-1);\n",
       "}\n",
       "\n",
       "/* On hover */\n",
       "#sk-container-id-4 a.estimator_doc_link:hover {\n",
       "  /* unfitted */\n",
       "  background-color: var(--sklearn-color-unfitted-level-3);\n",
       "  color: var(--sklearn-color-background);\n",
       "  text-decoration: none;\n",
       "}\n",
       "\n",
       "#sk-container-id-4 a.estimator_doc_link.fitted:hover {\n",
       "  /* fitted */\n",
       "  background-color: var(--sklearn-color-fitted-level-3);\n",
       "}\n",
       "</style><div id=\"sk-container-id-4\" class=\"sk-top-container\"><div class=\"sk-text-repr-fallback\"><pre>LGBMRegressor(random_state=12345)</pre><b>In a Jupyter environment, please rerun this cell to show the HTML representation or trust the notebook. <br />On GitHub, the HTML representation is unable to render, please try loading this page with nbviewer.org.</b></div><div class=\"sk-container\" hidden><div class=\"sk-item\"><div class=\"sk-estimator fitted sk-toggleable\"><input class=\"sk-toggleable__control sk-hidden--visually\" id=\"sk-estimator-id-4\" type=\"checkbox\" checked><label for=\"sk-estimator-id-4\" class=\"sk-toggleable__label fitted sk-toggleable__label-arrow\"><div><div>LGBMRegressor</div></div><div><span class=\"sk-estimator-doc-link fitted\">i<span>Fitted</span></span></div></label><div class=\"sk-toggleable__content fitted\"><pre>LGBMRegressor(random_state=12345)</pre></div> </div></div></div></div>"
      ],
      "text/plain": [
       "LGBMRegressor(random_state=12345)"
      ]
     },
     "execution_count": 50,
     "metadata": {},
     "output_type": "execute_result"
    }
   ],
   "source": [
    "%%time\n",
    "model = lgb.LGBMRegressor(random_state=12345)\n",
    "model.fit(features_train_l, target_train_l)"
   ]
  },
  {
   "cell_type": "code",
   "execution_count": 51,
   "metadata": {},
   "outputs": [
    {
     "name": "stdout",
     "output_type": "stream",
     "text": [
      "CPU times: user 573 ms, sys: 0 ns, total: 573 ms\n",
      "Wall time: 595 ms\n"
     ]
    }
   ],
   "source": [
    "%%time\n",
    "\n",
    "predictions_valid_l = model.predict(features_valid_l)"
   ]
  },
  {
   "cell_type": "code",
   "execution_count": 52,
   "metadata": {
    "scrolled": true
   },
   "outputs": [
    {
     "data": {
      "text/html": [
       "<div>\n",
       "<style scoped>\n",
       "    .dataframe tbody tr th:only-of-type {\n",
       "        vertical-align: middle;\n",
       "    }\n",
       "\n",
       "    .dataframe tbody tr th {\n",
       "        vertical-align: top;\n",
       "    }\n",
       "\n",
       "    .dataframe thead th {\n",
       "        text-align: right;\n",
       "    }\n",
       "</style>\n",
       "<table border=\"1\" class=\"dataframe\">\n",
       "  <thead>\n",
       "    <tr style=\"text-align: right;\">\n",
       "      <th></th>\n",
       "      <th>CPU-times</th>\n",
       "      <th>Wall time</th>\n",
       "      <th>RMSE</th>\n",
       "    </tr>\n",
       "  </thead>\n",
       "  <tbody>\n",
       "    <tr>\n",
       "      <th>LinearRegression: обучение</th>\n",
       "      <td>51 s</td>\n",
       "      <td>51.3 s</td>\n",
       "      <td>None</td>\n",
       "    </tr>\n",
       "    <tr>\n",
       "      <th>LinearRegression: предсказание</th>\n",
       "      <td>110 ms</td>\n",
       "      <td>99.1 ms</td>\n",
       "      <td>2729.33</td>\n",
       "    </tr>\n",
       "    <tr>\n",
       "      <th>DecisionTreeRegressor: обучение</th>\n",
       "      <td>389 ms</td>\n",
       "      <td>433 ms</td>\n",
       "      <td>None</td>\n",
       "    </tr>\n",
       "    <tr>\n",
       "      <th>DecisionTreeRegressor: предсказание</th>\n",
       "      <td>8.58 ms</td>\n",
       "      <td>7.1 ms</td>\n",
       "      <td>1994.49</td>\n",
       "    </tr>\n",
       "    <tr>\n",
       "      <th>RandomForestRegressor: обучение</th>\n",
       "      <td>3min 49s</td>\n",
       "      <td>3min 50s</td>\n",
       "      <td>None</td>\n",
       "    </tr>\n",
       "    <tr>\n",
       "      <th>RandomForestRegressor: предсказание</th>\n",
       "      <td>4.6 s</td>\n",
       "      <td>4.8 s</td>\n",
       "      <td>2016.79</td>\n",
       "    </tr>\n",
       "    <tr>\n",
       "      <th>LightGBMRegressor: обучение</th>\n",
       "      <td>42 s</td>\n",
       "      <td>42.8 s</td>\n",
       "      <td>None</td>\n",
       "    </tr>\n",
       "    <tr>\n",
       "      <th>LightGBMRegressor: предсказание</th>\n",
       "      <td>21.4 s</td>\n",
       "      <td>21.3 s</td>\n",
       "      <td>1758.41</td>\n",
       "    </tr>\n",
       "  </tbody>\n",
       "</table>\n",
       "</div>"
      ],
      "text/plain": [
       "                                    CPU-times Wall time     RMSE\n",
       "LinearRegression: обучение               51 s    51.3 s     None\n",
       "LinearRegression: предсказание         110 ms   99.1 ms  2729.33\n",
       "DecisionTreeRegressor: обучение        389 ms    433 ms     None\n",
       "DecisionTreeRegressor: предсказание   8.58 ms    7.1 ms  1994.49\n",
       "RandomForestRegressor: обучение      3min 49s  3min 50s     None\n",
       "RandomForestRegressor: предсказание     4.6 s     4.8 s  2016.79\n",
       "LightGBMRegressor: обучение              42 s    42.8 s     None\n",
       "LightGBMRegressor: предсказание        21.4 s    21.3 s  1758.41"
      ]
     },
     "execution_count": 52,
     "metadata": {},
     "output_type": "execute_result"
    }
   ],
   "source": [
    "#создадим сводную таблицу\n",
    "tabledata = [[\"LinearRegression: обучение\", \"51 s\", \"51.3 s\"],\n",
    "             [\"LinearRegression: предсказание\", \"110 ms\", \"99.1 ms\", \"2729.33\"],\n",
    "         [\"DecisionTreeRegressor: обучение\", \"389 ms\", \"433 ms\"],\n",
    "         [\"DecisionTreeRegressor: предсказание\", \"8.58 ms\", \"7.1 ms\", \"1994.49\"],\n",
    "         [\"RandomForestRegressor: обучение\", \"3min 49s\", \"3min 50s\"],\n",
    "         [\"RandomForestRegressor: предсказание\", \"4.6 s\", \"4.8 s\", \"2016.79\"],\n",
    "         [\"LightGBMRegressor: обучение\", \"42 s\", \"42.8 s\"],\n",
    "         [\"LightGBMRegressor: предсказание\", \"21.4 s\", \"21.3 s\", \"1758.41\"]]\n",
    "df= pd.DataFrame(tabledata, columns=[\"модель\",\"CPU-times\", \"Wall time\", \"RMSE\"])\n",
    "df = df.set_index('модель')\n",
    "df.index.names = [None]\n",
    "df"
   ]
  },
  {
   "cell_type": "code",
   "execution_count": 53,
   "metadata": {},
   "outputs": [
    {
     "data": {
      "text/plain": [
       "1658.8962162137088"
      ]
     },
     "execution_count": 53,
     "metadata": {},
     "output_type": "execute_result"
    }
   ],
   "source": [
    "#используем тестовую выборку на лучшей модели\n",
    "predictions_test = model.predict(features_test_l)\n",
    "rmse = mean_squared_error(target_test_l, predictions_test)**0.5\n",
    "rmse"
   ]
  },
  {
   "cell_type": "markdown",
   "metadata": {},
   "source": [
    "Самое длительное обучение происходит у модели RandomForestRegressor - почти 4 минуты.\n",
    "\n",
    "Самое быстрое же обучение у модели DecisionTreeRegressor 389 мс.\n",
    "\n",
    "Модель LightGBMRegressor имеет оптимальную скорость обучения и предсказания и наименьшую RSME, а именно 1758.41.\n",
    "\n",
    "Используя тестовую выборку на лучшей модели получили значение RMSE = 1658.89."
   ]
  },
  {
   "cell_type": "markdown",
   "metadata": {},
   "source": [
    "## Общий вывод"
   ]
  },
  {
   "cell_type": "markdown",
   "metadata": {},
   "source": [
    "Нами был изучен, обработан и подготовлен к обучению моделей датасет сервиса по продаже автомобилей с пробегом «Не бит, не крашен».\n",
    "\n",
    "В ходе исследования были выполнены следующие действия:\n",
    "\n",
    "- Избавились от признаков не влияющих на целевой.\n",
    "\n",
    "- Привели к змеиному регистру.\n",
    "\n",
    "- Избавились от выбросов, дубликатов.\n",
    "\n",
    "- Заполнены пропуски в gearbox, repaired, vehicle_type, model, fuel_type.\n",
    "\n",
    "Для модели LinearRegression перевели категориальные значения столбцов в количественные. Для моделей DecisionTreeRegressor и RandomForestRegressor применили порядковое кодирование. Мы обучили разные модели, подобрали гиперпараметры для них и обнаружили, что модель LightGBM с гиперпараметрами n_estimators: 1000, num_leaves: 60 дает наименьшее значение rmse: 1758.41.\n",
    "\n",
    "\n",
    "Самое длительное обучение происходит у модели RandomForestRegressor - почти 4 минуты.\n",
    "\n",
    "Самое быстрое же обучение у модели DecisionTreeRegressor 389 мс.\n",
    "\n",
    "Модель LightGBMRegressor имеет оптимальную скорость обучения и предсказания и наименьшую RSME на тестовой выборке, а именно 1758.41.\n",
    "\n",
    "Используя тестовую выборку на лучшей модели получили значение RMSE = 1658.89.\n",
    "\n",
    "\n",
    "**Рекомендации заказчику относительно его требований - модель LightGBMRegressor, самые оптимальные характеристики именно у нее.**"
   ]
  },
  {
   "cell_type": "markdown",
   "metadata": {},
   "source": [
    "## Чек-лист проверки"
   ]
  },
  {
   "cell_type": "markdown",
   "metadata": {},
   "source": [
    "Поставьте 'x' в выполненных пунктах. Далее нажмите Shift+Enter."
   ]
  },
  {
   "cell_type": "markdown",
   "metadata": {},
   "source": [
    "- [x]  Jupyter Notebook открыт\n",
    "- [ ]  Весь код выполняется без ошибок\n",
    "- [ ]  Ячейки с кодом расположены в порядке исполнения\n",
    "- [ ]  Выполнена загрузка и подготовка данных\n",
    "- [ ]  Выполнено обучение моделей\n",
    "- [ ]  Есть анализ скорости работы и качества моделей"
   ]
  },
  {
   "cell_type": "code",
   "execution_count": null,
   "metadata": {},
   "outputs": [],
   "source": []
  }
 ],
 "metadata": {
  "ExecuteTimeLog": [
   {
    "duration": 1274,
    "start_time": "2024-12-04T17:49:39.645Z"
   },
   {
    "duration": 1227,
    "start_time": "2024-12-04T17:50:06.869Z"
   },
   {
    "duration": 3,
    "start_time": "2024-12-04T17:50:21.538Z"
   },
   {
    "duration": 4,
    "start_time": "2024-12-04T17:50:32.879Z"
   },
   {
    "duration": 882,
    "start_time": "2024-12-04T17:50:32.884Z"
   },
   {
    "duration": 4,
    "start_time": "2024-12-04T17:50:33.768Z"
   },
   {
    "duration": 4,
    "start_time": "2024-12-04T17:50:45.688Z"
   },
   {
    "duration": 854,
    "start_time": "2024-12-04T17:50:45.693Z"
   },
   {
    "duration": 3,
    "start_time": "2024-12-04T17:50:46.548Z"
   },
   {
    "duration": 56,
    "start_time": "2024-12-04T17:51:05.822Z"
   },
   {
    "duration": 2067,
    "start_time": "2024-12-04T17:51:20.462Z"
   },
   {
    "duration": 1334,
    "start_time": "2024-12-05T07:21:26.621Z"
   },
   {
    "duration": 1176,
    "start_time": "2024-12-05T07:21:27.957Z"
   },
   {
    "duration": 3,
    "start_time": "2024-12-05T07:21:29.134Z"
   },
   {
    "duration": 2125,
    "start_time": "2024-12-05T07:21:29.139Z"
   },
   {
    "duration": 1856,
    "start_time": "2024-12-06T11:32:28.583Z"
   },
   {
    "duration": 0,
    "start_time": "2024-12-06T11:32:30.440Z"
   },
   {
    "duration": 0,
    "start_time": "2024-12-06T11:32:30.441Z"
   },
   {
    "duration": 0,
    "start_time": "2024-12-06T11:32:30.442Z"
   },
   {
    "duration": 0,
    "start_time": "2024-12-06T11:32:30.443Z"
   },
   {
    "duration": 2521,
    "start_time": "2024-12-06T11:32:59.536Z"
   },
   {
    "duration": 3,
    "start_time": "2024-12-06T11:33:02.060Z"
   },
   {
    "duration": 3201,
    "start_time": "2024-12-06T11:33:02.066Z"
   },
   {
    "duration": 5,
    "start_time": "2024-12-06T11:33:05.272Z"
   },
   {
    "duration": 1955,
    "start_time": "2024-12-06T11:33:05.279Z"
   },
   {
    "duration": 13,
    "start_time": "2024-12-06T11:35:20.650Z"
   },
   {
    "duration": 22,
    "start_time": "2024-12-06T11:35:43.820Z"
   },
   {
    "duration": 33,
    "start_time": "2024-12-06T11:36:35.837Z"
   },
   {
    "duration": 2415,
    "start_time": "2024-12-06T11:53:43.612Z"
   },
   {
    "duration": 2,
    "start_time": "2024-12-06T11:53:46.030Z"
   },
   {
    "duration": 901,
    "start_time": "2024-12-06T11:53:46.034Z"
   },
   {
    "duration": 4,
    "start_time": "2024-12-06T11:53:46.937Z"
   },
   {
    "duration": 1661,
    "start_time": "2024-12-06T11:53:46.942Z"
   },
   {
    "duration": 16,
    "start_time": "2024-12-06T11:53:48.605Z"
   },
   {
    "duration": 17,
    "start_time": "2024-12-06T11:54:22.767Z"
   },
   {
    "duration": 178,
    "start_time": "2024-12-06T11:54:59.907Z"
   },
   {
    "duration": 2388,
    "start_time": "2024-12-06T11:55:49.253Z"
   },
   {
    "duration": 3,
    "start_time": "2024-12-06T11:55:51.643Z"
   },
   {
    "duration": 884,
    "start_time": "2024-12-06T11:55:51.648Z"
   },
   {
    "duration": 4,
    "start_time": "2024-12-06T11:55:52.533Z"
   },
   {
    "duration": 1765,
    "start_time": "2024-12-06T11:55:52.538Z"
   },
   {
    "duration": 17,
    "start_time": "2024-12-06T11:55:54.304Z"
   },
   {
    "duration": 203,
    "start_time": "2024-12-06T11:55:54.323Z"
   },
   {
    "duration": 342,
    "start_time": "2024-12-06T11:55:54.528Z"
   },
   {
    "duration": 6,
    "start_time": "2024-12-06T12:12:29.060Z"
   },
   {
    "duration": 2391,
    "start_time": "2024-12-06T12:12:50.696Z"
   },
   {
    "duration": 3,
    "start_time": "2024-12-06T12:12:53.089Z"
   },
   {
    "duration": 909,
    "start_time": "2024-12-06T12:12:53.093Z"
   },
   {
    "duration": 3,
    "start_time": "2024-12-06T12:12:54.004Z"
   },
   {
    "duration": 1748,
    "start_time": "2024-12-06T12:12:54.008Z"
   },
   {
    "duration": 26,
    "start_time": "2024-12-06T12:12:55.757Z"
   },
   {
    "duration": 174,
    "start_time": "2024-12-06T12:12:55.785Z"
   },
   {
    "duration": 329,
    "start_time": "2024-12-06T12:12:55.961Z"
   },
   {
    "duration": 6,
    "start_time": "2024-12-06T12:12:56.292Z"
   },
   {
    "duration": 6,
    "start_time": "2024-12-06T12:13:31.970Z"
   },
   {
    "duration": 310,
    "start_time": "2024-12-06T12:14:02.514Z"
   },
   {
    "duration": 1393,
    "start_time": "2024-12-06T12:19:32.535Z"
   },
   {
    "duration": 2438,
    "start_time": "2024-12-06T12:22:46.977Z"
   },
   {
    "duration": 2,
    "start_time": "2024-12-06T12:22:49.418Z"
   },
   {
    "duration": 816,
    "start_time": "2024-12-06T12:22:49.422Z"
   },
   {
    "duration": 4,
    "start_time": "2024-12-06T12:22:50.240Z"
   },
   {
    "duration": 1826,
    "start_time": "2024-12-06T12:22:50.246Z"
   },
   {
    "duration": 17,
    "start_time": "2024-12-06T12:22:52.074Z"
   },
   {
    "duration": 17,
    "start_time": "2024-12-06T12:22:52.092Z"
   },
   {
    "duration": 201,
    "start_time": "2024-12-06T12:22:52.111Z"
   },
   {
    "duration": 335,
    "start_time": "2024-12-06T12:22:52.314Z"
   },
   {
    "duration": 45,
    "start_time": "2024-12-06T12:22:52.651Z"
   },
   {
    "duration": 1416,
    "start_time": "2024-12-06T12:24:41.575Z"
   },
   {
    "duration": 2530,
    "start_time": "2024-12-06T12:24:58.043Z"
   },
   {
    "duration": 4,
    "start_time": "2024-12-06T12:25:00.579Z"
   },
   {
    "duration": 901,
    "start_time": "2024-12-06T12:25:00.585Z"
   },
   {
    "duration": 4,
    "start_time": "2024-12-06T12:25:01.488Z"
   },
   {
    "duration": 1964,
    "start_time": "2024-12-06T12:25:01.494Z"
   },
   {
    "duration": 28,
    "start_time": "2024-12-06T12:25:03.460Z"
   },
   {
    "duration": 24,
    "start_time": "2024-12-06T12:25:03.490Z"
   },
   {
    "duration": 201,
    "start_time": "2024-12-06T12:25:03.515Z"
   },
   {
    "duration": 350,
    "start_time": "2024-12-06T12:25:03.717Z"
   },
   {
    "duration": 1349,
    "start_time": "2024-12-06T12:25:04.070Z"
   },
   {
    "duration": 2572,
    "start_time": "2024-12-06T12:26:23.093Z"
   },
   {
    "duration": 4,
    "start_time": "2024-12-06T12:26:25.667Z"
   },
   {
    "duration": 947,
    "start_time": "2024-12-06T12:26:25.674Z"
   },
   {
    "duration": 3,
    "start_time": "2024-12-06T12:26:26.623Z"
   },
   {
    "duration": 1776,
    "start_time": "2024-12-06T12:26:26.628Z"
   },
   {
    "duration": 16,
    "start_time": "2024-12-06T12:26:28.405Z"
   },
   {
    "duration": 37,
    "start_time": "2024-12-06T12:26:28.422Z"
   },
   {
    "duration": 179,
    "start_time": "2024-12-06T12:26:28.461Z"
   },
   {
    "duration": 367,
    "start_time": "2024-12-06T12:26:28.642Z"
   },
   {
    "duration": 1716,
    "start_time": "2024-12-06T12:26:29.011Z"
   },
   {
    "duration": 2467,
    "start_time": "2024-12-06T12:30:47.812Z"
   },
   {
    "duration": 3,
    "start_time": "2024-12-06T12:30:50.282Z"
   },
   {
    "duration": 1015,
    "start_time": "2024-12-06T12:30:50.287Z"
   },
   {
    "duration": 4,
    "start_time": "2024-12-06T12:30:51.304Z"
   },
   {
    "duration": 1910,
    "start_time": "2024-12-06T12:30:51.310Z"
   },
   {
    "duration": 16,
    "start_time": "2024-12-06T12:30:53.221Z"
   },
   {
    "duration": 34,
    "start_time": "2024-12-06T12:30:53.239Z"
   },
   {
    "duration": 204,
    "start_time": "2024-12-06T12:30:53.275Z"
   },
   {
    "duration": 352,
    "start_time": "2024-12-06T12:30:53.481Z"
   },
   {
    "duration": 1488,
    "start_time": "2024-12-06T12:30:53.835Z"
   },
   {
    "duration": 6,
    "start_time": "2024-12-06T12:31:47.696Z"
   },
   {
    "duration": 15,
    "start_time": "2024-12-06T12:31:49.378Z"
   },
   {
    "duration": 2579,
    "start_time": "2024-12-06T12:31:58.585Z"
   },
   {
    "duration": 6,
    "start_time": "2024-12-06T12:32:01.167Z"
   },
   {
    "duration": 868,
    "start_time": "2024-12-06T12:32:01.179Z"
   },
   {
    "duration": 3,
    "start_time": "2024-12-06T12:32:02.049Z"
   },
   {
    "duration": 1806,
    "start_time": "2024-12-06T12:32:02.054Z"
   },
   {
    "duration": 9,
    "start_time": "2024-12-06T12:32:03.868Z"
   },
   {
    "duration": 51,
    "start_time": "2024-12-06T12:32:03.879Z"
   },
   {
    "duration": 0,
    "start_time": "2024-12-06T12:32:03.932Z"
   },
   {
    "duration": 0,
    "start_time": "2024-12-06T12:32:03.933Z"
   },
   {
    "duration": 0,
    "start_time": "2024-12-06T12:32:03.934Z"
   },
   {
    "duration": 17,
    "start_time": "2024-12-06T12:33:23.032Z"
   },
   {
    "duration": 186,
    "start_time": "2024-12-06T12:33:29.640Z"
   },
   {
    "duration": 346,
    "start_time": "2024-12-06T12:33:30.998Z"
   },
   {
    "duration": 41,
    "start_time": "2024-12-06T12:33:32.540Z"
   },
   {
    "duration": 19,
    "start_time": "2024-12-06T12:34:20.909Z"
   },
   {
    "duration": 46,
    "start_time": "2024-12-06T12:34:30.490Z"
   },
   {
    "duration": 2433,
    "start_time": "2024-12-06T12:34:37.185Z"
   },
   {
    "duration": 2,
    "start_time": "2024-12-06T12:34:39.621Z"
   },
   {
    "duration": 818,
    "start_time": "2024-12-06T12:34:39.625Z"
   },
   {
    "duration": 4,
    "start_time": "2024-12-06T12:34:40.444Z"
   },
   {
    "duration": 1744,
    "start_time": "2024-12-06T12:34:40.451Z"
   },
   {
    "duration": 6,
    "start_time": "2024-12-06T12:34:42.197Z"
   },
   {
    "duration": 39,
    "start_time": "2024-12-06T12:34:42.204Z"
   },
   {
    "duration": 205,
    "start_time": "2024-12-06T12:34:42.245Z"
   },
   {
    "duration": 350,
    "start_time": "2024-12-06T12:34:42.452Z"
   },
   {
    "duration": 35,
    "start_time": "2024-12-06T12:34:42.803Z"
   },
   {
    "duration": 47,
    "start_time": "2024-12-06T12:34:42.840Z"
   },
   {
    "duration": 42,
    "start_time": "2024-12-06T12:34:42.888Z"
   },
   {
    "duration": 2492,
    "start_time": "2024-12-06T12:34:54.991Z"
   },
   {
    "duration": 3,
    "start_time": "2024-12-06T12:34:57.485Z"
   },
   {
    "duration": 906,
    "start_time": "2024-12-06T12:34:57.490Z"
   },
   {
    "duration": 3,
    "start_time": "2024-12-06T12:34:58.398Z"
   },
   {
    "duration": 1947,
    "start_time": "2024-12-06T12:34:58.403Z"
   },
   {
    "duration": 6,
    "start_time": "2024-12-06T12:35:00.351Z"
   },
   {
    "duration": 99,
    "start_time": "2024-12-06T12:35:00.359Z"
   },
   {
    "duration": 199,
    "start_time": "2024-12-06T12:35:00.460Z"
   },
   {
    "duration": 359,
    "start_time": "2024-12-06T12:35:00.661Z"
   },
   {
    "duration": 34,
    "start_time": "2024-12-06T12:35:01.022Z"
   },
   {
    "duration": 40,
    "start_time": "2024-12-06T12:35:01.058Z"
   },
   {
    "duration": 38,
    "start_time": "2024-12-06T12:35:32.029Z"
   },
   {
    "duration": 23,
    "start_time": "2024-12-06T12:35:47.756Z"
   },
   {
    "duration": 53,
    "start_time": "2024-12-06T12:36:30.958Z"
   },
   {
    "duration": 22,
    "start_time": "2024-12-06T12:36:39.775Z"
   },
   {
    "duration": 39,
    "start_time": "2024-12-06T12:36:48.495Z"
   },
   {
    "duration": 30,
    "start_time": "2024-12-06T12:36:58.662Z"
   },
   {
    "duration": 36,
    "start_time": "2024-12-06T12:37:06.013Z"
   },
   {
    "duration": 19,
    "start_time": "2024-12-06T12:37:48.309Z"
   },
   {
    "duration": 4,
    "start_time": "2024-12-06T12:38:52.334Z"
   },
   {
    "duration": 4,
    "start_time": "2024-12-06T12:39:05.828Z"
   },
   {
    "duration": 13,
    "start_time": "2024-12-06T12:39:23.801Z"
   },
   {
    "duration": 1444,
    "start_time": "2024-12-06T12:40:40.512Z"
   },
   {
    "duration": 2490,
    "start_time": "2024-12-06T12:43:35.883Z"
   },
   {
    "duration": 3,
    "start_time": "2024-12-06T12:43:38.377Z"
   },
   {
    "duration": 995,
    "start_time": "2024-12-06T12:43:38.383Z"
   },
   {
    "duration": 5,
    "start_time": "2024-12-06T12:43:39.380Z"
   },
   {
    "duration": 1937,
    "start_time": "2024-12-06T12:43:39.388Z"
   },
   {
    "duration": 6,
    "start_time": "2024-12-06T12:43:41.326Z"
   },
   {
    "duration": 32,
    "start_time": "2024-12-06T12:43:41.334Z"
   },
   {
    "duration": 191,
    "start_time": "2024-12-06T12:43:41.368Z"
   },
   {
    "duration": 355,
    "start_time": "2024-12-06T12:43:41.560Z"
   },
   {
    "duration": 35,
    "start_time": "2024-12-06T12:43:41.916Z"
   },
   {
    "duration": 35,
    "start_time": "2024-12-06T12:43:41.953Z"
   },
   {
    "duration": 49,
    "start_time": "2024-12-06T12:43:41.989Z"
   },
   {
    "duration": 28,
    "start_time": "2024-12-06T12:43:42.039Z"
   },
   {
    "duration": 55,
    "start_time": "2024-12-06T12:43:42.071Z"
   },
   {
    "duration": 16,
    "start_time": "2024-12-06T12:43:42.128Z"
   },
   {
    "duration": 45,
    "start_time": "2024-12-06T12:43:42.146Z"
   },
   {
    "duration": 30,
    "start_time": "2024-12-06T12:43:42.193Z"
   },
   {
    "duration": 42,
    "start_time": "2024-12-06T12:43:42.225Z"
   },
   {
    "duration": 32,
    "start_time": "2024-12-06T12:43:42.268Z"
   },
   {
    "duration": 13,
    "start_time": "2024-12-06T12:43:42.302Z"
   },
   {
    "duration": 17,
    "start_time": "2024-12-06T12:43:42.316Z"
   },
   {
    "duration": 1391,
    "start_time": "2024-12-06T12:43:42.335Z"
   },
   {
    "duration": 123,
    "start_time": "2024-12-06T12:46:42.782Z"
   },
   {
    "duration": 101,
    "start_time": "2024-12-06T12:47:26.316Z"
   },
   {
    "duration": 99,
    "start_time": "2024-12-06T12:49:29.630Z"
   },
   {
    "duration": 36,
    "start_time": "2024-12-06T12:50:03.282Z"
   },
   {
    "duration": 1493,
    "start_time": "2024-12-06T12:50:20.834Z"
   },
   {
    "duration": 2576,
    "start_time": "2024-12-06T12:50:52.684Z"
   },
   {
    "duration": 4,
    "start_time": "2024-12-06T12:50:55.262Z"
   },
   {
    "duration": 889,
    "start_time": "2024-12-06T12:50:55.267Z"
   },
   {
    "duration": 3,
    "start_time": "2024-12-06T12:50:56.158Z"
   },
   {
    "duration": 1927,
    "start_time": "2024-12-06T12:50:56.168Z"
   },
   {
    "duration": 6,
    "start_time": "2024-12-06T12:50:58.096Z"
   },
   {
    "duration": 21,
    "start_time": "2024-12-06T12:50:58.104Z"
   },
   {
    "duration": 200,
    "start_time": "2024-12-06T12:50:58.127Z"
   },
   {
    "duration": 367,
    "start_time": "2024-12-06T12:50:58.328Z"
   },
   {
    "duration": 36,
    "start_time": "2024-12-06T12:50:58.696Z"
   },
   {
    "duration": 23,
    "start_time": "2024-12-06T12:50:58.733Z"
   },
   {
    "duration": 53,
    "start_time": "2024-12-06T12:50:58.757Z"
   },
   {
    "duration": 17,
    "start_time": "2024-12-06T12:50:58.812Z"
   },
   {
    "duration": 59,
    "start_time": "2024-12-06T12:50:58.832Z"
   },
   {
    "duration": 17,
    "start_time": "2024-12-06T12:50:58.893Z"
   },
   {
    "duration": 42,
    "start_time": "2024-12-06T12:50:58.912Z"
   },
   {
    "duration": 37,
    "start_time": "2024-12-06T12:50:58.956Z"
   },
   {
    "duration": 43,
    "start_time": "2024-12-06T12:50:58.995Z"
   },
   {
    "duration": 55,
    "start_time": "2024-12-06T12:50:59.040Z"
   },
   {
    "duration": 73,
    "start_time": "2024-12-06T12:50:59.097Z"
   },
   {
    "duration": 22,
    "start_time": "2024-12-06T12:50:59.172Z"
   },
   {
    "duration": 1499,
    "start_time": "2024-12-06T12:50:59.196Z"
   },
   {
    "duration": 1426,
    "start_time": "2024-12-06T12:51:00.697Z"
   },
   {
    "duration": 2582,
    "start_time": "2024-12-06T12:55:48.811Z"
   },
   {
    "duration": 2,
    "start_time": "2024-12-06T12:55:51.396Z"
   },
   {
    "duration": 925,
    "start_time": "2024-12-06T12:55:51.400Z"
   },
   {
    "duration": 3,
    "start_time": "2024-12-06T12:55:52.327Z"
   },
   {
    "duration": 2069,
    "start_time": "2024-12-06T12:55:52.332Z"
   },
   {
    "duration": 6,
    "start_time": "2024-12-06T12:55:54.403Z"
   },
   {
    "duration": 20,
    "start_time": "2024-12-06T12:55:54.411Z"
   },
   {
    "duration": 231,
    "start_time": "2024-12-06T12:55:54.433Z"
   },
   {
    "duration": 359,
    "start_time": "2024-12-06T12:55:54.666Z"
   },
   {
    "duration": 58,
    "start_time": "2024-12-06T12:55:55.027Z"
   },
   {
    "duration": 57,
    "start_time": "2024-12-06T12:55:55.088Z"
   },
   {
    "duration": 46,
    "start_time": "2024-12-06T12:55:55.147Z"
   },
   {
    "duration": 17,
    "start_time": "2024-12-06T12:55:55.195Z"
   },
   {
    "duration": 41,
    "start_time": "2024-12-06T12:55:55.214Z"
   },
   {
    "duration": 24,
    "start_time": "2024-12-06T12:55:55.270Z"
   },
   {
    "duration": 45,
    "start_time": "2024-12-06T12:55:55.295Z"
   },
   {
    "duration": 30,
    "start_time": "2024-12-06T12:55:55.342Z"
   },
   {
    "duration": 44,
    "start_time": "2024-12-06T12:55:55.375Z"
   },
   {
    "duration": 177,
    "start_time": "2024-12-06T12:55:55.421Z"
   },
   {
    "duration": 7,
    "start_time": "2024-12-06T12:55:55.600Z"
   },
   {
    "duration": 17,
    "start_time": "2024-12-06T12:55:55.608Z"
   },
   {
    "duration": 1442,
    "start_time": "2024-12-06T12:55:55.627Z"
   },
   {
    "duration": 1364,
    "start_time": "2024-12-06T12:55:57.072Z"
   },
   {
    "duration": 18,
    "start_time": "2024-12-06T12:55:58.437Z"
   },
   {
    "duration": 18,
    "start_time": "2024-12-06T12:58:18.681Z"
   },
   {
    "duration": 95,
    "start_time": "2024-12-06T12:58:42.383Z"
   },
   {
    "duration": 11,
    "start_time": "2024-12-06T13:16:01.302Z"
   },
   {
    "duration": 14,
    "start_time": "2024-12-06T13:16:02.656Z"
   },
   {
    "duration": 1245,
    "start_time": "2024-12-06T13:16:44.980Z"
   },
   {
    "duration": 1355,
    "start_time": "2024-12-06T13:17:21.978Z"
   },
   {
    "duration": 2415,
    "start_time": "2024-12-06T13:17:37.025Z"
   },
   {
    "duration": 3,
    "start_time": "2024-12-06T13:17:39.442Z"
   },
   {
    "duration": 892,
    "start_time": "2024-12-06T13:17:39.447Z"
   },
   {
    "duration": 4,
    "start_time": "2024-12-06T13:17:40.341Z"
   },
   {
    "duration": 2073,
    "start_time": "2024-12-06T13:17:40.347Z"
   },
   {
    "duration": 7,
    "start_time": "2024-12-06T13:17:42.421Z"
   },
   {
    "duration": 23,
    "start_time": "2024-12-06T13:17:42.430Z"
   },
   {
    "duration": 193,
    "start_time": "2024-12-06T13:17:42.455Z"
   },
   {
    "duration": 336,
    "start_time": "2024-12-06T13:17:42.650Z"
   },
   {
    "duration": 36,
    "start_time": "2024-12-06T13:17:42.988Z"
   },
   {
    "duration": 30,
    "start_time": "2024-12-06T13:17:43.026Z"
   },
   {
    "duration": 61,
    "start_time": "2024-12-06T13:17:43.058Z"
   },
   {
    "duration": 20,
    "start_time": "2024-12-06T13:17:43.121Z"
   },
   {
    "duration": 142,
    "start_time": "2024-12-06T13:17:43.144Z"
   },
   {
    "duration": 24,
    "start_time": "2024-12-06T13:17:43.287Z"
   },
   {
    "duration": 60,
    "start_time": "2024-12-06T13:17:43.313Z"
   },
   {
    "duration": 28,
    "start_time": "2024-12-06T13:17:43.375Z"
   },
   {
    "duration": 66,
    "start_time": "2024-12-06T13:17:43.404Z"
   },
   {
    "duration": 31,
    "start_time": "2024-12-06T13:17:43.472Z"
   },
   {
    "duration": 12,
    "start_time": "2024-12-06T13:17:43.505Z"
   },
   {
    "duration": 22,
    "start_time": "2024-12-06T13:17:43.519Z"
   },
   {
    "duration": 1592,
    "start_time": "2024-12-06T13:17:43.543Z"
   },
   {
    "duration": 1354,
    "start_time": "2024-12-06T13:17:45.136Z"
   },
   {
    "duration": 23,
    "start_time": "2024-12-06T13:17:46.492Z"
   },
   {
    "duration": 1319,
    "start_time": "2024-12-06T13:17:46.518Z"
   },
   {
    "duration": 13,
    "start_time": "2024-12-06T13:17:47.838Z"
   },
   {
    "duration": 25,
    "start_time": "2024-12-06T13:17:47.852Z"
   },
   {
    "duration": 47,
    "start_time": "2024-12-06T13:17:47.878Z"
   },
   {
    "duration": 3,
    "start_time": "2024-12-06T13:17:47.926Z"
   },
   {
    "duration": 93,
    "start_time": "2024-12-06T13:17:47.931Z"
   },
   {
    "duration": 4,
    "start_time": "2024-12-06T13:17:48.026Z"
   },
   {
    "duration": 5,
    "start_time": "2024-12-06T13:17:48.031Z"
   },
   {
    "duration": 7,
    "start_time": "2024-12-06T13:17:48.037Z"
   },
   {
    "duration": 1389,
    "start_time": "2024-12-06T13:17:48.045Z"
   },
   {
    "duration": 1334,
    "start_time": "2024-12-06T13:18:04.775Z"
   },
   {
    "duration": 1256,
    "start_time": "2024-12-06T13:19:13.997Z"
   },
   {
    "duration": 1255,
    "start_time": "2024-12-06T13:19:21.534Z"
   },
   {
    "duration": 4351,
    "start_time": "2024-12-06T13:22:06.593Z"
   },
   {
    "duration": 4562,
    "start_time": "2024-12-06T13:23:04.233Z"
   },
   {
    "duration": 10,
    "start_time": "2024-12-06T13:23:49.761Z"
   },
   {
    "duration": 18,
    "start_time": "2024-12-06T13:29:00.164Z"
   },
   {
    "duration": 2424,
    "start_time": "2024-12-06T13:29:06.834Z"
   },
   {
    "duration": 3,
    "start_time": "2024-12-06T13:29:09.261Z"
   },
   {
    "duration": 909,
    "start_time": "2024-12-06T13:29:09.265Z"
   },
   {
    "duration": 4,
    "start_time": "2024-12-06T13:29:10.176Z"
   },
   {
    "duration": 1887,
    "start_time": "2024-12-06T13:29:10.182Z"
   },
   {
    "duration": 6,
    "start_time": "2024-12-06T13:29:12.071Z"
   },
   {
    "duration": 46,
    "start_time": "2024-12-06T13:29:12.078Z"
   },
   {
    "duration": 190,
    "start_time": "2024-12-06T13:29:12.126Z"
   },
   {
    "duration": 330,
    "start_time": "2024-12-06T13:29:12.317Z"
   },
   {
    "duration": 38,
    "start_time": "2024-12-06T13:29:12.649Z"
   },
   {
    "duration": 160,
    "start_time": "2024-12-06T13:29:12.689Z"
   },
   {
    "duration": 40,
    "start_time": "2024-12-06T13:29:12.850Z"
   },
   {
    "duration": 20,
    "start_time": "2024-12-06T13:29:12.892Z"
   },
   {
    "duration": 55,
    "start_time": "2024-12-06T13:29:12.915Z"
   },
   {
    "duration": 18,
    "start_time": "2024-12-06T13:29:12.972Z"
   },
   {
    "duration": 77,
    "start_time": "2024-12-06T13:29:12.991Z"
   },
   {
    "duration": 19,
    "start_time": "2024-12-06T13:29:13.069Z"
   },
   {
    "duration": 39,
    "start_time": "2024-12-06T13:29:13.090Z"
   },
   {
    "duration": 19,
    "start_time": "2024-12-06T13:29:13.131Z"
   },
   {
    "duration": 9,
    "start_time": "2024-12-06T13:29:13.152Z"
   },
   {
    "duration": 15,
    "start_time": "2024-12-06T13:29:13.169Z"
   },
   {
    "duration": 1534,
    "start_time": "2024-12-06T13:29:13.186Z"
   },
   {
    "duration": 1353,
    "start_time": "2024-12-06T13:29:14.722Z"
   },
   {
    "duration": 18,
    "start_time": "2024-12-06T13:29:16.077Z"
   },
   {
    "duration": 1305,
    "start_time": "2024-12-06T13:29:16.097Z"
   },
   {
    "duration": 4256,
    "start_time": "2024-12-06T13:29:17.404Z"
   },
   {
    "duration": 11,
    "start_time": "2024-12-06T13:29:21.662Z"
   },
   {
    "duration": 52,
    "start_time": "2024-12-06T13:29:21.675Z"
   },
   {
    "duration": 12,
    "start_time": "2024-12-06T13:29:21.729Z"
   },
   {
    "duration": 32,
    "start_time": "2024-12-06T13:29:21.742Z"
   },
   {
    "duration": 3,
    "start_time": "2024-12-06T13:29:21.776Z"
   },
   {
    "duration": 8,
    "start_time": "2024-12-06T13:29:21.780Z"
   },
   {
    "duration": 5,
    "start_time": "2024-12-06T13:29:21.789Z"
   },
   {
    "duration": 25,
    "start_time": "2024-12-06T13:29:21.795Z"
   },
   {
    "duration": 9,
    "start_time": "2024-12-06T13:29:21.821Z"
   },
   {
    "duration": 1239,
    "start_time": "2024-12-06T13:29:21.831Z"
   },
   {
    "duration": 2499,
    "start_time": "2024-12-06T13:30:23.174Z"
   },
   {
    "duration": 3,
    "start_time": "2024-12-06T13:30:25.676Z"
   },
   {
    "duration": 866,
    "start_time": "2024-12-06T13:30:25.680Z"
   },
   {
    "duration": 4,
    "start_time": "2024-12-06T13:30:26.548Z"
   },
   {
    "duration": 1882,
    "start_time": "2024-12-06T13:30:26.554Z"
   },
   {
    "duration": 6,
    "start_time": "2024-12-06T13:30:28.438Z"
   },
   {
    "duration": 32,
    "start_time": "2024-12-06T13:30:28.446Z"
   },
   {
    "duration": 175,
    "start_time": "2024-12-06T13:30:28.480Z"
   },
   {
    "duration": 330,
    "start_time": "2024-12-06T13:30:28.657Z"
   },
   {
    "duration": 34,
    "start_time": "2024-12-06T13:30:28.989Z"
   },
   {
    "duration": 38,
    "start_time": "2024-12-06T13:30:29.025Z"
   },
   {
    "duration": 36,
    "start_time": "2024-12-06T13:30:29.065Z"
   },
   {
    "duration": 29,
    "start_time": "2024-12-06T13:30:29.102Z"
   },
   {
    "duration": 68,
    "start_time": "2024-12-06T13:30:29.134Z"
   },
   {
    "duration": 36,
    "start_time": "2024-12-06T13:30:29.204Z"
   },
   {
    "duration": 38,
    "start_time": "2024-12-06T13:30:29.242Z"
   },
   {
    "duration": 32,
    "start_time": "2024-12-06T13:30:29.282Z"
   },
   {
    "duration": 63,
    "start_time": "2024-12-06T13:30:29.316Z"
   },
   {
    "duration": 29,
    "start_time": "2024-12-06T13:30:29.381Z"
   },
   {
    "duration": 27,
    "start_time": "2024-12-06T13:30:29.412Z"
   },
   {
    "duration": 28,
    "start_time": "2024-12-06T13:30:29.441Z"
   },
   {
    "duration": 1346,
    "start_time": "2024-12-06T13:30:29.470Z"
   },
   {
    "duration": 1330,
    "start_time": "2024-12-06T13:30:30.817Z"
   },
   {
    "duration": 26,
    "start_time": "2024-12-06T13:30:32.149Z"
   },
   {
    "duration": 1209,
    "start_time": "2024-12-06T13:30:32.177Z"
   },
   {
    "duration": 4366,
    "start_time": "2024-12-06T13:30:33.388Z"
   },
   {
    "duration": 18,
    "start_time": "2024-12-06T13:30:37.756Z"
   },
   {
    "duration": 23,
    "start_time": "2024-12-06T13:30:37.775Z"
   },
   {
    "duration": 13,
    "start_time": "2024-12-06T13:30:37.800Z"
   },
   {
    "duration": 35,
    "start_time": "2024-12-06T13:30:37.814Z"
   },
   {
    "duration": 16,
    "start_time": "2024-12-06T13:30:37.850Z"
   },
   {
    "duration": 26,
    "start_time": "2024-12-06T13:30:37.867Z"
   },
   {
    "duration": 0,
    "start_time": "2024-12-06T13:30:37.895Z"
   },
   {
    "duration": 0,
    "start_time": "2024-12-06T13:30:37.896Z"
   },
   {
    "duration": 0,
    "start_time": "2024-12-06T13:30:37.897Z"
   },
   {
    "duration": 0,
    "start_time": "2024-12-06T13:30:37.898Z"
   },
   {
    "duration": 3,
    "start_time": "2024-12-06T13:32:07.600Z"
   },
   {
    "duration": 3,
    "start_time": "2024-12-06T13:32:08.722Z"
   },
   {
    "duration": 3,
    "start_time": "2024-12-06T13:32:09.687Z"
   },
   {
    "duration": 3,
    "start_time": "2024-12-06T13:32:10.421Z"
   },
   {
    "duration": 1178,
    "start_time": "2024-12-06T13:32:11.037Z"
   },
   {
    "duration": 10,
    "start_time": "2024-12-06T13:36:59.924Z"
   },
   {
    "duration": 14,
    "start_time": "2024-12-06T13:37:27.463Z"
   },
   {
    "duration": 50,
    "start_time": "2024-12-06T13:37:53.198Z"
   },
   {
    "duration": 2421,
    "start_time": "2024-12-06T13:39:05.878Z"
   },
   {
    "duration": 4,
    "start_time": "2024-12-06T13:39:08.302Z"
   },
   {
    "duration": 861,
    "start_time": "2024-12-06T13:39:08.308Z"
   },
   {
    "duration": 4,
    "start_time": "2024-12-06T13:39:09.170Z"
   },
   {
    "duration": 1996,
    "start_time": "2024-12-06T13:39:09.176Z"
   },
   {
    "duration": 6,
    "start_time": "2024-12-06T13:39:11.174Z"
   },
   {
    "duration": 33,
    "start_time": "2024-12-06T13:39:11.182Z"
   },
   {
    "duration": 173,
    "start_time": "2024-12-06T13:39:11.217Z"
   },
   {
    "duration": 335,
    "start_time": "2024-12-06T13:39:11.391Z"
   },
   {
    "duration": 46,
    "start_time": "2024-12-06T13:39:11.728Z"
   },
   {
    "duration": 17,
    "start_time": "2024-12-06T13:39:11.775Z"
   },
   {
    "duration": 69,
    "start_time": "2024-12-06T13:39:11.794Z"
   },
   {
    "duration": 31,
    "start_time": "2024-12-06T13:39:11.865Z"
   },
   {
    "duration": 53,
    "start_time": "2024-12-06T13:39:11.899Z"
   },
   {
    "duration": 18,
    "start_time": "2024-12-06T13:39:11.953Z"
   },
   {
    "duration": 40,
    "start_time": "2024-12-06T13:39:11.972Z"
   },
   {
    "duration": 17,
    "start_time": "2024-12-06T13:39:12.013Z"
   },
   {
    "duration": 45,
    "start_time": "2024-12-06T13:39:12.032Z"
   },
   {
    "duration": 78,
    "start_time": "2024-12-06T13:39:12.079Z"
   },
   {
    "duration": 15,
    "start_time": "2024-12-06T13:39:12.158Z"
   },
   {
    "duration": 68,
    "start_time": "2024-12-06T13:39:12.174Z"
   },
   {
    "duration": 1340,
    "start_time": "2024-12-06T13:39:12.243Z"
   },
   {
    "duration": 1316,
    "start_time": "2024-12-06T13:39:13.585Z"
   },
   {
    "duration": 43,
    "start_time": "2024-12-06T13:39:14.903Z"
   },
   {
    "duration": 38,
    "start_time": "2024-12-06T13:39:14.948Z"
   },
   {
    "duration": 1203,
    "start_time": "2024-12-06T13:39:14.988Z"
   },
   {
    "duration": 4412,
    "start_time": "2024-12-06T13:39:16.193Z"
   },
   {
    "duration": 12,
    "start_time": "2024-12-06T13:39:20.607Z"
   },
   {
    "duration": 17,
    "start_time": "2024-12-06T13:39:20.621Z"
   },
   {
    "duration": 29,
    "start_time": "2024-12-06T13:39:20.640Z"
   },
   {
    "duration": 33,
    "start_time": "2024-12-06T13:39:20.671Z"
   },
   {
    "duration": 3,
    "start_time": "2024-12-06T13:39:20.706Z"
   },
   {
    "duration": 7,
    "start_time": "2024-12-06T13:39:20.711Z"
   },
   {
    "duration": 82,
    "start_time": "2024-12-06T13:39:20.719Z"
   },
   {
    "duration": 114,
    "start_time": "2024-12-06T13:39:20.803Z"
   },
   {
    "duration": 18,
    "start_time": "2024-12-06T13:39:20.919Z"
   },
   {
    "duration": 1174,
    "start_time": "2024-12-06T13:39:20.939Z"
   },
   {
    "duration": 2456,
    "start_time": "2024-12-06T13:41:13.415Z"
   },
   {
    "duration": 4,
    "start_time": "2024-12-06T13:41:15.874Z"
   },
   {
    "duration": 858,
    "start_time": "2024-12-06T13:41:15.879Z"
   },
   {
    "duration": 4,
    "start_time": "2024-12-06T13:41:16.739Z"
   },
   {
    "duration": 1941,
    "start_time": "2024-12-06T13:41:16.745Z"
   },
   {
    "duration": 7,
    "start_time": "2024-12-06T13:41:18.688Z"
   },
   {
    "duration": 26,
    "start_time": "2024-12-06T13:41:18.697Z"
   },
   {
    "duration": 190,
    "start_time": "2024-12-06T13:41:18.725Z"
   },
   {
    "duration": 338,
    "start_time": "2024-12-06T13:41:18.917Z"
   },
   {
    "duration": 40,
    "start_time": "2024-12-06T13:41:19.257Z"
   },
   {
    "duration": 31,
    "start_time": "2024-12-06T13:41:19.299Z"
   },
   {
    "duration": 43,
    "start_time": "2024-12-06T13:41:19.332Z"
   },
   {
    "duration": 28,
    "start_time": "2024-12-06T13:41:19.377Z"
   },
   {
    "duration": 59,
    "start_time": "2024-12-06T13:41:19.408Z"
   },
   {
    "duration": 21,
    "start_time": "2024-12-06T13:41:19.469Z"
   },
   {
    "duration": 140,
    "start_time": "2024-12-06T13:41:19.492Z"
   },
   {
    "duration": 17,
    "start_time": "2024-12-06T13:41:19.634Z"
   },
   {
    "duration": 47,
    "start_time": "2024-12-06T13:41:19.652Z"
   },
   {
    "duration": 107,
    "start_time": "2024-12-06T13:41:19.701Z"
   },
   {
    "duration": 5,
    "start_time": "2024-12-06T13:41:19.810Z"
   },
   {
    "duration": 27,
    "start_time": "2024-12-06T13:41:19.816Z"
   },
   {
    "duration": 1367,
    "start_time": "2024-12-06T13:41:19.845Z"
   },
   {
    "duration": 1360,
    "start_time": "2024-12-06T13:41:21.215Z"
   },
   {
    "duration": 47,
    "start_time": "2024-12-06T13:41:22.577Z"
   },
   {
    "duration": 32,
    "start_time": "2024-12-06T13:41:22.626Z"
   },
   {
    "duration": 1370,
    "start_time": "2024-12-06T13:41:22.660Z"
   },
   {
    "duration": 4323,
    "start_time": "2024-12-06T13:41:24.031Z"
   },
   {
    "duration": 18,
    "start_time": "2024-12-06T13:41:28.356Z"
   },
   {
    "duration": 32,
    "start_time": "2024-12-06T13:41:28.376Z"
   },
   {
    "duration": 57,
    "start_time": "2024-12-06T13:41:28.410Z"
   },
   {
    "duration": 491,
    "start_time": "2024-12-06T13:41:28.468Z"
   },
   {
    "duration": 20,
    "start_time": "2024-12-06T13:41:28.961Z"
   },
   {
    "duration": 0,
    "start_time": "2024-12-06T13:41:28.982Z"
   },
   {
    "duration": 0,
    "start_time": "2024-12-06T13:41:28.984Z"
   },
   {
    "duration": 0,
    "start_time": "2024-12-06T13:41:28.985Z"
   },
   {
    "duration": 0,
    "start_time": "2024-12-06T13:41:28.986Z"
   },
   {
    "duration": 2460,
    "start_time": "2024-12-06T13:41:38.941Z"
   },
   {
    "duration": 3,
    "start_time": "2024-12-06T13:41:41.405Z"
   },
   {
    "duration": 910,
    "start_time": "2024-12-06T13:41:41.410Z"
   },
   {
    "duration": 5,
    "start_time": "2024-12-06T13:41:42.322Z"
   },
   {
    "duration": 1931,
    "start_time": "2024-12-06T13:41:42.330Z"
   },
   {
    "duration": 12,
    "start_time": "2024-12-06T13:41:44.263Z"
   },
   {
    "duration": 19,
    "start_time": "2024-12-06T13:41:44.276Z"
   },
   {
    "duration": 206,
    "start_time": "2024-12-06T13:41:44.297Z"
   },
   {
    "duration": 357,
    "start_time": "2024-12-06T13:41:44.506Z"
   },
   {
    "duration": 37,
    "start_time": "2024-12-06T13:41:44.864Z"
   },
   {
    "duration": 84,
    "start_time": "2024-12-06T13:41:44.902Z"
   },
   {
    "duration": 52,
    "start_time": "2024-12-06T13:41:44.988Z"
   },
   {
    "duration": 46,
    "start_time": "2024-12-06T13:41:45.042Z"
   },
   {
    "duration": 54,
    "start_time": "2024-12-06T13:41:45.091Z"
   },
   {
    "duration": 42,
    "start_time": "2024-12-06T13:41:45.147Z"
   },
   {
    "duration": 64,
    "start_time": "2024-12-06T13:41:45.190Z"
   },
   {
    "duration": 87,
    "start_time": "2024-12-06T13:41:45.255Z"
   },
   {
    "duration": 64,
    "start_time": "2024-12-06T13:41:45.343Z"
   },
   {
    "duration": 24,
    "start_time": "2024-12-06T13:41:45.408Z"
   },
   {
    "duration": 12,
    "start_time": "2024-12-06T13:41:45.434Z"
   },
   {
    "duration": 18,
    "start_time": "2024-12-06T13:41:45.447Z"
   },
   {
    "duration": 1419,
    "start_time": "2024-12-06T13:41:45.467Z"
   },
   {
    "duration": 1383,
    "start_time": "2024-12-06T13:41:46.888Z"
   },
   {
    "duration": 58,
    "start_time": "2024-12-06T13:41:48.274Z"
   },
   {
    "duration": 24,
    "start_time": "2024-12-06T13:41:48.333Z"
   },
   {
    "duration": 1227,
    "start_time": "2024-12-06T13:41:48.359Z"
   },
   {
    "duration": 4532,
    "start_time": "2024-12-06T13:41:49.588Z"
   },
   {
    "duration": 11,
    "start_time": "2024-12-06T13:41:54.121Z"
   },
   {
    "duration": 87,
    "start_time": "2024-12-06T13:41:54.134Z"
   },
   {
    "duration": 668,
    "start_time": "2024-12-06T13:41:54.222Z"
   },
   {
    "duration": 428,
    "start_time": "2024-12-06T13:41:54.892Z"
   },
   {
    "duration": 5,
    "start_time": "2024-12-06T13:41:55.322Z"
   },
   {
    "duration": 18143,
    "start_time": "2024-12-06T13:41:55.328Z"
   },
   {
    "duration": 497,
    "start_time": "2024-12-06T13:42:13.473Z"
   },
   {
    "duration": 6,
    "start_time": "2024-12-06T13:42:13.972Z"
   },
   {
    "duration": 2425,
    "start_time": "2024-12-06T13:43:06.761Z"
   },
   {
    "duration": 3,
    "start_time": "2024-12-06T13:43:09.189Z"
   },
   {
    "duration": 872,
    "start_time": "2024-12-06T13:43:09.194Z"
   },
   {
    "duration": 4,
    "start_time": "2024-12-06T13:43:10.069Z"
   },
   {
    "duration": 1984,
    "start_time": "2024-12-06T13:43:10.075Z"
   },
   {
    "duration": 10,
    "start_time": "2024-12-06T13:43:12.060Z"
   },
   {
    "duration": 24,
    "start_time": "2024-12-06T13:43:12.071Z"
   },
   {
    "duration": 232,
    "start_time": "2024-12-06T13:43:12.097Z"
   },
   {
    "duration": 355,
    "start_time": "2024-12-06T13:43:12.330Z"
   },
   {
    "duration": 37,
    "start_time": "2024-12-06T13:43:12.687Z"
   },
   {
    "duration": 114,
    "start_time": "2024-12-06T13:43:12.726Z"
   },
   {
    "duration": 89,
    "start_time": "2024-12-06T13:43:12.842Z"
   },
   {
    "duration": 23,
    "start_time": "2024-12-06T13:43:12.932Z"
   },
   {
    "duration": 43,
    "start_time": "2024-12-06T13:43:12.958Z"
   },
   {
    "duration": 28,
    "start_time": "2024-12-06T13:43:13.002Z"
   },
   {
    "duration": 41,
    "start_time": "2024-12-06T13:43:13.032Z"
   },
   {
    "duration": 17,
    "start_time": "2024-12-06T13:43:13.074Z"
   },
   {
    "duration": 40,
    "start_time": "2024-12-06T13:43:13.092Z"
   },
   {
    "duration": 35,
    "start_time": "2024-12-06T13:43:13.134Z"
   },
   {
    "duration": 5,
    "start_time": "2024-12-06T13:43:13.171Z"
   },
   {
    "duration": 17,
    "start_time": "2024-12-06T13:43:13.177Z"
   },
   {
    "duration": 1419,
    "start_time": "2024-12-06T13:43:13.196Z"
   },
   {
    "duration": 1464,
    "start_time": "2024-12-06T13:43:14.618Z"
   },
   {
    "duration": 47,
    "start_time": "2024-12-06T13:43:16.084Z"
   },
   {
    "duration": 63,
    "start_time": "2024-12-06T13:43:16.133Z"
   },
   {
    "duration": 1362,
    "start_time": "2024-12-06T13:43:16.198Z"
   },
   {
    "duration": 4297,
    "start_time": "2024-12-06T13:43:17.562Z"
   },
   {
    "duration": 12,
    "start_time": "2024-12-06T13:43:21.868Z"
   },
   {
    "duration": 52,
    "start_time": "2024-12-06T13:43:21.881Z"
   },
   {
    "duration": 562,
    "start_time": "2024-12-06T13:43:21.934Z"
   },
   {
    "duration": 428,
    "start_time": "2024-12-06T13:43:22.497Z"
   },
   {
    "duration": 16652,
    "start_time": "2024-12-06T13:43:22.926Z"
   },
   {
    "duration": 498,
    "start_time": "2024-12-06T13:43:39.580Z"
   },
   {
    "duration": 92,
    "start_time": "2024-12-06T13:43:40.080Z"
   },
   {
    "duration": 48,
    "start_time": "2024-12-06T13:46:47.381Z"
   },
   {
    "duration": 1334,
    "start_time": "2024-12-06T13:47:28.571Z"
   },
   {
    "duration": 18,
    "start_time": "2024-12-06T13:48:40.064Z"
   },
   {
    "duration": 1230,
    "start_time": "2024-12-06T13:49:32.681Z"
   },
   {
    "duration": 2416,
    "start_time": "2024-12-06T13:49:50.789Z"
   },
   {
    "duration": 3,
    "start_time": "2024-12-06T13:49:53.208Z"
   },
   {
    "duration": 877,
    "start_time": "2024-12-06T13:49:53.213Z"
   },
   {
    "duration": 4,
    "start_time": "2024-12-06T13:49:54.092Z"
   },
   {
    "duration": 1971,
    "start_time": "2024-12-06T13:49:54.098Z"
   },
   {
    "duration": 7,
    "start_time": "2024-12-06T13:49:56.070Z"
   },
   {
    "duration": 43,
    "start_time": "2024-12-06T13:49:56.079Z"
   },
   {
    "duration": 176,
    "start_time": "2024-12-06T13:49:56.124Z"
   },
   {
    "duration": 340,
    "start_time": "2024-12-06T13:49:56.302Z"
   },
   {
    "duration": 40,
    "start_time": "2024-12-06T13:49:56.644Z"
   },
   {
    "duration": 25,
    "start_time": "2024-12-06T13:49:56.687Z"
   },
   {
    "duration": 51,
    "start_time": "2024-12-06T13:49:56.713Z"
   },
   {
    "duration": 27,
    "start_time": "2024-12-06T13:49:56.766Z"
   },
   {
    "duration": 170,
    "start_time": "2024-12-06T13:49:56.797Z"
   },
   {
    "duration": 42,
    "start_time": "2024-12-06T13:49:56.969Z"
   },
   {
    "duration": 59,
    "start_time": "2024-12-06T13:49:57.013Z"
   },
   {
    "duration": 64,
    "start_time": "2024-12-06T13:49:57.074Z"
   },
   {
    "duration": 54,
    "start_time": "2024-12-06T13:49:57.139Z"
   },
   {
    "duration": 40,
    "start_time": "2024-12-06T13:49:57.195Z"
   },
   {
    "duration": 86,
    "start_time": "2024-12-06T13:49:57.237Z"
   },
   {
    "duration": 49,
    "start_time": "2024-12-06T13:49:57.325Z"
   },
   {
    "duration": 1303,
    "start_time": "2024-12-06T13:49:57.375Z"
   },
   {
    "duration": 43,
    "start_time": "2024-12-06T13:49:58.680Z"
   },
   {
    "duration": 1583,
    "start_time": "2024-12-06T13:49:58.725Z"
   },
   {
    "duration": 19,
    "start_time": "2024-12-06T13:50:00.309Z"
   },
   {
    "duration": 1380,
    "start_time": "2024-12-06T13:50:00.329Z"
   },
   {
    "duration": 4492,
    "start_time": "2024-12-06T13:50:01.711Z"
   },
   {
    "duration": 12,
    "start_time": "2024-12-06T13:50:06.204Z"
   },
   {
    "duration": 68,
    "start_time": "2024-12-06T13:50:06.218Z"
   },
   {
    "duration": 638,
    "start_time": "2024-12-06T13:50:06.288Z"
   },
   {
    "duration": 404,
    "start_time": "2024-12-06T13:50:06.927Z"
   },
   {
    "duration": 17246,
    "start_time": "2024-12-06T13:50:07.332Z"
   },
   {
    "duration": 591,
    "start_time": "2024-12-06T13:50:24.580Z"
   },
   {
    "duration": 97,
    "start_time": "2024-12-06T13:50:25.173Z"
   },
   {
    "duration": 1274,
    "start_time": "2024-12-06T13:51:51.949Z"
   },
   {
    "duration": 2404,
    "start_time": "2024-12-06T13:51:56.912Z"
   },
   {
    "duration": 4,
    "start_time": "2024-12-06T13:51:59.318Z"
   },
   {
    "duration": 885,
    "start_time": "2024-12-06T13:51:59.323Z"
   },
   {
    "duration": 4,
    "start_time": "2024-12-06T13:52:00.210Z"
   },
   {
    "duration": 1994,
    "start_time": "2024-12-06T13:52:00.217Z"
   },
   {
    "duration": 7,
    "start_time": "2024-12-06T13:52:02.213Z"
   },
   {
    "duration": 57,
    "start_time": "2024-12-06T13:52:02.222Z"
   },
   {
    "duration": 207,
    "start_time": "2024-12-06T13:52:02.281Z"
   },
   {
    "duration": 352,
    "start_time": "2024-12-06T13:52:02.490Z"
   },
   {
    "duration": 41,
    "start_time": "2024-12-06T13:52:02.844Z"
   },
   {
    "duration": 80,
    "start_time": "2024-12-06T13:52:02.887Z"
   },
   {
    "duration": 51,
    "start_time": "2024-12-06T13:52:02.969Z"
   },
   {
    "duration": 48,
    "start_time": "2024-12-06T13:52:03.022Z"
   },
   {
    "duration": 91,
    "start_time": "2024-12-06T13:52:03.074Z"
   },
   {
    "duration": 36,
    "start_time": "2024-12-06T13:52:03.167Z"
   },
   {
    "duration": 68,
    "start_time": "2024-12-06T13:52:03.205Z"
   },
   {
    "duration": 87,
    "start_time": "2024-12-06T13:52:03.275Z"
   },
   {
    "duration": 79,
    "start_time": "2024-12-06T13:52:03.364Z"
   },
   {
    "duration": 55,
    "start_time": "2024-12-06T13:52:03.445Z"
   },
   {
    "duration": 33,
    "start_time": "2024-12-06T13:52:03.501Z"
   },
   {
    "duration": 64,
    "start_time": "2024-12-06T13:52:03.536Z"
   },
   {
    "duration": 1513,
    "start_time": "2024-12-06T13:52:03.601Z"
   },
   {
    "duration": 54,
    "start_time": "2024-12-06T13:52:05.116Z"
   },
   {
    "duration": 1290,
    "start_time": "2024-12-06T13:52:05.171Z"
   },
   {
    "duration": 23,
    "start_time": "2024-12-06T13:52:06.463Z"
   },
   {
    "duration": 1298,
    "start_time": "2024-12-06T13:52:06.487Z"
   },
   {
    "duration": 4467,
    "start_time": "2024-12-06T13:52:07.787Z"
   },
   {
    "duration": 25,
    "start_time": "2024-12-06T13:52:12.256Z"
   },
   {
    "duration": 52,
    "start_time": "2024-12-06T13:52:12.282Z"
   },
   {
    "duration": 617,
    "start_time": "2024-12-06T13:52:12.335Z"
   },
   {
    "duration": 403,
    "start_time": "2024-12-06T13:52:12.953Z"
   },
   {
    "duration": 17616,
    "start_time": "2024-12-06T13:52:13.358Z"
   },
   {
    "duration": 599,
    "start_time": "2024-12-06T13:52:30.975Z"
   },
   {
    "duration": 94,
    "start_time": "2024-12-06T13:52:31.576Z"
   },
   {
    "duration": 4024,
    "start_time": "2024-12-06T13:57:53.263Z"
   },
   {
    "duration": 3,
    "start_time": "2024-12-06T13:57:57.290Z"
   },
   {
    "duration": 864,
    "start_time": "2024-12-06T13:57:57.295Z"
   },
   {
    "duration": 12,
    "start_time": "2024-12-06T13:57:58.160Z"
   },
   {
    "duration": 2013,
    "start_time": "2024-12-06T13:57:58.175Z"
   },
   {
    "duration": 8,
    "start_time": "2024-12-06T13:58:00.189Z"
   },
   {
    "duration": 119,
    "start_time": "2024-12-06T13:58:00.199Z"
   },
   {
    "duration": 253,
    "start_time": "2024-12-06T13:58:00.320Z"
   },
   {
    "duration": 343,
    "start_time": "2024-12-06T13:58:00.576Z"
   },
   {
    "duration": 71,
    "start_time": "2024-12-06T13:58:00.921Z"
   },
   {
    "duration": 59,
    "start_time": "2024-12-06T13:58:00.994Z"
   },
   {
    "duration": 81,
    "start_time": "2024-12-06T13:58:01.055Z"
   },
   {
    "duration": 50,
    "start_time": "2024-12-06T13:58:01.138Z"
   },
   {
    "duration": 87,
    "start_time": "2024-12-06T13:58:01.193Z"
   },
   {
    "duration": 116,
    "start_time": "2024-12-06T13:58:01.282Z"
   },
   {
    "duration": 76,
    "start_time": "2024-12-06T13:58:01.400Z"
   },
   {
    "duration": 78,
    "start_time": "2024-12-06T13:58:01.478Z"
   },
   {
    "duration": 85,
    "start_time": "2024-12-06T13:58:01.558Z"
   },
   {
    "duration": 68,
    "start_time": "2024-12-06T13:58:01.644Z"
   },
   {
    "duration": 45,
    "start_time": "2024-12-06T13:58:01.714Z"
   },
   {
    "duration": 156,
    "start_time": "2024-12-06T13:58:01.761Z"
   },
   {
    "duration": 1389,
    "start_time": "2024-12-06T13:58:01.918Z"
   },
   {
    "duration": 62,
    "start_time": "2024-12-06T13:58:03.309Z"
   },
   {
    "duration": 1331,
    "start_time": "2024-12-06T13:58:03.373Z"
   },
   {
    "duration": 18,
    "start_time": "2024-12-06T13:58:04.706Z"
   },
   {
    "duration": 1264,
    "start_time": "2024-12-06T13:58:04.726Z"
   },
   {
    "duration": 4546,
    "start_time": "2024-12-06T13:58:05.992Z"
   },
   {
    "duration": 12,
    "start_time": "2024-12-06T13:58:10.540Z"
   },
   {
    "duration": 44,
    "start_time": "2024-12-06T13:58:10.569Z"
   },
   {
    "duration": 622,
    "start_time": "2024-12-06T13:58:10.615Z"
   },
   {
    "duration": 401,
    "start_time": "2024-12-06T13:58:11.239Z"
   },
   {
    "duration": 17429,
    "start_time": "2024-12-06T13:58:11.642Z"
   },
   {
    "duration": 599,
    "start_time": "2024-12-06T13:58:29.074Z"
   },
   {
    "duration": 6,
    "start_time": "2024-12-06T13:58:29.675Z"
   },
   {
    "duration": 7,
    "start_time": "2024-12-06T14:00:05.093Z"
   },
   {
    "duration": 102,
    "start_time": "2024-12-06T14:00:51.531Z"
   },
   {
    "duration": 27,
    "start_time": "2024-12-06T14:00:56.378Z"
   },
   {
    "duration": 18,
    "start_time": "2024-12-06T14:07:55.482Z"
   },
   {
    "duration": 81,
    "start_time": "2024-12-06T14:11:14.355Z"
   },
   {
    "duration": 2430,
    "start_time": "2024-12-06T14:12:43.601Z"
   },
   {
    "duration": 3,
    "start_time": "2024-12-06T14:12:46.034Z"
   },
   {
    "duration": 866,
    "start_time": "2024-12-06T14:12:46.038Z"
   },
   {
    "duration": 4,
    "start_time": "2024-12-06T14:12:46.906Z"
   },
   {
    "duration": 1940,
    "start_time": "2024-12-06T14:12:46.912Z"
   },
   {
    "duration": 6,
    "start_time": "2024-12-06T14:12:48.854Z"
   },
   {
    "duration": 17,
    "start_time": "2024-12-06T14:12:48.869Z"
   },
   {
    "duration": 181,
    "start_time": "2024-12-06T14:12:48.888Z"
   },
   {
    "duration": 322,
    "start_time": "2024-12-06T14:12:49.071Z"
   },
   {
    "duration": 35,
    "start_time": "2024-12-06T14:12:49.395Z"
   },
   {
    "duration": 21,
    "start_time": "2024-12-06T14:12:49.431Z"
   },
   {
    "duration": 47,
    "start_time": "2024-12-06T14:12:49.454Z"
   },
   {
    "duration": 17,
    "start_time": "2024-12-06T14:12:49.502Z"
   },
   {
    "duration": 53,
    "start_time": "2024-12-06T14:12:49.522Z"
   },
   {
    "duration": 17,
    "start_time": "2024-12-06T14:12:49.576Z"
   },
   {
    "duration": 37,
    "start_time": "2024-12-06T14:12:49.594Z"
   },
   {
    "duration": 38,
    "start_time": "2024-12-06T14:12:49.633Z"
   },
   {
    "duration": 35,
    "start_time": "2024-12-06T14:12:49.672Z"
   },
   {
    "duration": 21,
    "start_time": "2024-12-06T14:12:49.708Z"
   },
   {
    "duration": 21,
    "start_time": "2024-12-06T14:12:49.731Z"
   },
   {
    "duration": 21,
    "start_time": "2024-12-06T14:12:49.754Z"
   },
   {
    "duration": 1333,
    "start_time": "2024-12-06T14:12:49.776Z"
   },
   {
    "duration": 48,
    "start_time": "2024-12-06T14:12:51.110Z"
   },
   {
    "duration": 1289,
    "start_time": "2024-12-06T14:12:51.169Z"
   },
   {
    "duration": 27,
    "start_time": "2024-12-06T14:12:52.459Z"
   },
   {
    "duration": 1183,
    "start_time": "2024-12-06T14:12:52.487Z"
   },
   {
    "duration": 8,
    "start_time": "2024-12-06T14:12:53.673Z"
   },
   {
    "duration": 25,
    "start_time": "2024-12-06T14:12:53.682Z"
   },
   {
    "duration": 39,
    "start_time": "2024-12-06T14:12:53.709Z"
   },
   {
    "duration": 44,
    "start_time": "2024-12-06T14:12:53.749Z"
   },
   {
    "duration": 587,
    "start_time": "2024-12-06T14:12:53.794Z"
   },
   {
    "duration": 415,
    "start_time": "2024-12-06T14:12:54.383Z"
   },
   {
    "duration": 13275,
    "start_time": "2024-12-06T14:12:54.800Z"
   },
   {
    "duration": 594,
    "start_time": "2024-12-06T14:13:08.077Z"
   },
   {
    "duration": 7,
    "start_time": "2024-12-06T14:13:08.673Z"
   },
   {
    "duration": 7,
    "start_time": "2024-12-06T14:14:14.397Z"
   },
   {
    "duration": 2351,
    "start_time": "2024-12-06T14:17:50.753Z"
   },
   {
    "duration": 3,
    "start_time": "2024-12-06T14:17:53.106Z"
   },
   {
    "duration": 854,
    "start_time": "2024-12-06T14:17:53.111Z"
   },
   {
    "duration": 3,
    "start_time": "2024-12-06T14:17:53.969Z"
   },
   {
    "duration": 1984,
    "start_time": "2024-12-06T14:17:53.974Z"
   },
   {
    "duration": 11,
    "start_time": "2024-12-06T14:17:55.960Z"
   },
   {
    "duration": 19,
    "start_time": "2024-12-06T14:17:55.972Z"
   },
   {
    "duration": 182,
    "start_time": "2024-12-06T14:17:55.992Z"
   },
   {
    "duration": 328,
    "start_time": "2024-12-06T14:17:56.175Z"
   },
   {
    "duration": 34,
    "start_time": "2024-12-06T14:17:56.505Z"
   },
   {
    "duration": 35,
    "start_time": "2024-12-06T14:17:56.540Z"
   },
   {
    "duration": 35,
    "start_time": "2024-12-06T14:17:56.577Z"
   },
   {
    "duration": 18,
    "start_time": "2024-12-06T14:17:56.613Z"
   },
   {
    "duration": 55,
    "start_time": "2024-12-06T14:17:56.634Z"
   },
   {
    "duration": 16,
    "start_time": "2024-12-06T14:17:56.690Z"
   },
   {
    "duration": 36,
    "start_time": "2024-12-06T14:17:56.708Z"
   },
   {
    "duration": 35,
    "start_time": "2024-12-06T14:17:56.746Z"
   },
   {
    "duration": 32,
    "start_time": "2024-12-06T14:17:56.782Z"
   },
   {
    "duration": 17,
    "start_time": "2024-12-06T14:17:56.816Z"
   },
   {
    "duration": 4,
    "start_time": "2024-12-06T14:17:56.835Z"
   },
   {
    "duration": 35,
    "start_time": "2024-12-06T14:17:56.840Z"
   },
   {
    "duration": 1276,
    "start_time": "2024-12-06T14:17:56.876Z"
   },
   {
    "duration": 47,
    "start_time": "2024-12-06T14:17:58.153Z"
   },
   {
    "duration": 1314,
    "start_time": "2024-12-06T14:17:58.202Z"
   },
   {
    "duration": 18,
    "start_time": "2024-12-06T14:17:59.518Z"
   },
   {
    "duration": 1280,
    "start_time": "2024-12-06T14:17:59.538Z"
   },
   {
    "duration": 6,
    "start_time": "2024-12-06T14:18:00.819Z"
   },
   {
    "duration": 48,
    "start_time": "2024-12-06T14:18:00.827Z"
   },
   {
    "duration": 26,
    "start_time": "2024-12-06T14:18:00.876Z"
   },
   {
    "duration": 50,
    "start_time": "2024-12-06T14:18:00.904Z"
   },
   {
    "duration": 604,
    "start_time": "2024-12-06T14:18:00.956Z"
   },
   {
    "duration": 393,
    "start_time": "2024-12-06T14:18:01.562Z"
   },
   {
    "duration": 5,
    "start_time": "2024-12-06T14:18:01.957Z"
   },
   {
    "duration": 23,
    "start_time": "2024-12-06T14:18:01.969Z"
   },
   {
    "duration": 0,
    "start_time": "2024-12-06T14:18:01.994Z"
   },
   {
    "duration": 0,
    "start_time": "2024-12-06T14:18:01.995Z"
   },
   {
    "duration": 0,
    "start_time": "2024-12-06T14:18:01.996Z"
   },
   {
    "duration": 0,
    "start_time": "2024-12-06T14:18:01.997Z"
   },
   {
    "duration": 0,
    "start_time": "2024-12-06T14:18:01.999Z"
   },
   {
    "duration": 0,
    "start_time": "2024-12-06T14:18:02.000Z"
   },
   {
    "duration": 0,
    "start_time": "2024-12-06T14:18:02.002Z"
   },
   {
    "duration": 3,
    "start_time": "2024-12-06T14:18:43.605Z"
   },
   {
    "duration": 3,
    "start_time": "2024-12-06T14:18:51.349Z"
   },
   {
    "duration": 464,
    "start_time": "2024-12-06T14:18:55.512Z"
   },
   {
    "duration": 2434,
    "start_time": "2024-12-06T14:19:52.978Z"
   },
   {
    "duration": 3,
    "start_time": "2024-12-06T14:19:55.414Z"
   },
   {
    "duration": 894,
    "start_time": "2024-12-06T14:19:55.418Z"
   },
   {
    "duration": 3,
    "start_time": "2024-12-06T14:19:56.314Z"
   },
   {
    "duration": 1973,
    "start_time": "2024-12-06T14:19:56.319Z"
   },
   {
    "duration": 6,
    "start_time": "2024-12-06T14:19:58.293Z"
   },
   {
    "duration": 46,
    "start_time": "2024-12-06T14:19:58.300Z"
   },
   {
    "duration": 165,
    "start_time": "2024-12-06T14:19:58.348Z"
   },
   {
    "duration": 322,
    "start_time": "2024-12-06T14:19:58.514Z"
   },
   {
    "duration": 43,
    "start_time": "2024-12-06T14:19:58.837Z"
   },
   {
    "duration": 28,
    "start_time": "2024-12-06T14:19:58.882Z"
   },
   {
    "duration": 41,
    "start_time": "2024-12-06T14:19:58.912Z"
   },
   {
    "duration": 18,
    "start_time": "2024-12-06T14:19:58.954Z"
   },
   {
    "duration": 123,
    "start_time": "2024-12-06T14:19:58.975Z"
   },
   {
    "duration": 30,
    "start_time": "2024-12-06T14:19:59.099Z"
   },
   {
    "duration": 36,
    "start_time": "2024-12-06T14:19:59.131Z"
   },
   {
    "duration": 19,
    "start_time": "2024-12-06T14:19:59.168Z"
   },
   {
    "duration": 33,
    "start_time": "2024-12-06T14:19:59.189Z"
   },
   {
    "duration": 18,
    "start_time": "2024-12-06T14:19:59.223Z"
   },
   {
    "duration": 4,
    "start_time": "2024-12-06T14:19:59.243Z"
   },
   {
    "duration": 32,
    "start_time": "2024-12-06T14:19:59.249Z"
   },
   {
    "duration": 1321,
    "start_time": "2024-12-06T14:19:59.283Z"
   },
   {
    "duration": 44,
    "start_time": "2024-12-06T14:20:00.606Z"
   },
   {
    "duration": 1307,
    "start_time": "2024-12-06T14:20:00.652Z"
   },
   {
    "duration": 25,
    "start_time": "2024-12-06T14:20:01.961Z"
   },
   {
    "duration": 1218,
    "start_time": "2024-12-06T14:20:01.988Z"
   },
   {
    "duration": 7,
    "start_time": "2024-12-06T14:20:03.208Z"
   },
   {
    "duration": 27,
    "start_time": "2024-12-06T14:20:03.217Z"
   },
   {
    "duration": 30,
    "start_time": "2024-12-06T14:20:03.246Z"
   },
   {
    "duration": 55,
    "start_time": "2024-12-06T14:20:03.278Z"
   },
   {
    "duration": 599,
    "start_time": "2024-12-06T14:20:03.335Z"
   },
   {
    "duration": 393,
    "start_time": "2024-12-06T14:20:03.935Z"
   },
   {
    "duration": 6,
    "start_time": "2024-12-06T14:20:04.330Z"
   },
   {
    "duration": 142,
    "start_time": "2024-12-06T14:20:04.338Z"
   },
   {
    "duration": 0,
    "start_time": "2024-12-06T14:20:04.482Z"
   },
   {
    "duration": 0,
    "start_time": "2024-12-06T14:20:04.483Z"
   },
   {
    "duration": 0,
    "start_time": "2024-12-06T14:20:04.484Z"
   },
   {
    "duration": 0,
    "start_time": "2024-12-06T14:20:04.485Z"
   },
   {
    "duration": 0,
    "start_time": "2024-12-06T14:20:04.486Z"
   },
   {
    "duration": 0,
    "start_time": "2024-12-06T14:20:04.487Z"
   },
   {
    "duration": 0,
    "start_time": "2024-12-06T14:20:04.488Z"
   },
   {
    "duration": 2565,
    "start_time": "2024-12-06T14:20:40.630Z"
   },
   {
    "duration": 2395,
    "start_time": "2024-12-06T14:20:44.191Z"
   },
   {
    "duration": 3,
    "start_time": "2024-12-06T14:20:46.589Z"
   },
   {
    "duration": 894,
    "start_time": "2024-12-06T14:20:46.593Z"
   },
   {
    "duration": 3,
    "start_time": "2024-12-06T14:20:47.489Z"
   },
   {
    "duration": 1956,
    "start_time": "2024-12-06T14:20:47.494Z"
   },
   {
    "duration": 6,
    "start_time": "2024-12-06T14:20:49.452Z"
   },
   {
    "duration": 49,
    "start_time": "2024-12-06T14:20:49.469Z"
   },
   {
    "duration": 163,
    "start_time": "2024-12-06T14:20:49.520Z"
   },
   {
    "duration": 324,
    "start_time": "2024-12-06T14:20:49.685Z"
   },
   {
    "duration": 37,
    "start_time": "2024-12-06T14:20:50.011Z"
   },
   {
    "duration": 57,
    "start_time": "2024-12-06T14:20:50.050Z"
   },
   {
    "duration": 51,
    "start_time": "2024-12-06T14:20:50.108Z"
   },
   {
    "duration": 18,
    "start_time": "2024-12-06T14:20:50.161Z"
   },
   {
    "duration": 47,
    "start_time": "2024-12-06T14:20:50.182Z"
   },
   {
    "duration": 18,
    "start_time": "2024-12-06T14:20:50.231Z"
   },
   {
    "duration": 46,
    "start_time": "2024-12-06T14:20:50.250Z"
   },
   {
    "duration": 40,
    "start_time": "2024-12-06T14:20:50.297Z"
   },
   {
    "duration": 66,
    "start_time": "2024-12-06T14:20:50.338Z"
   },
   {
    "duration": 73,
    "start_time": "2024-12-06T14:20:50.405Z"
   },
   {
    "duration": 12,
    "start_time": "2024-12-06T14:20:50.481Z"
   },
   {
    "duration": 18,
    "start_time": "2024-12-06T14:20:50.495Z"
   },
   {
    "duration": 1359,
    "start_time": "2024-12-06T14:20:50.514Z"
   },
   {
    "duration": 46,
    "start_time": "2024-12-06T14:20:51.874Z"
   },
   {
    "duration": 1330,
    "start_time": "2024-12-06T14:20:51.922Z"
   },
   {
    "duration": 23,
    "start_time": "2024-12-06T14:20:53.253Z"
   },
   {
    "duration": 1195,
    "start_time": "2024-12-06T14:20:53.278Z"
   },
   {
    "duration": 9,
    "start_time": "2024-12-06T14:20:54.476Z"
   },
   {
    "duration": 38,
    "start_time": "2024-12-06T14:20:54.488Z"
   },
   {
    "duration": 13,
    "start_time": "2024-12-06T14:20:54.527Z"
   },
   {
    "duration": 65,
    "start_time": "2024-12-06T14:20:54.542Z"
   },
   {
    "duration": 613,
    "start_time": "2024-12-06T14:20:54.609Z"
   },
   {
    "duration": 398,
    "start_time": "2024-12-06T14:20:55.224Z"
   },
   {
    "duration": 6,
    "start_time": "2024-12-06T14:20:55.623Z"
   },
   {
    "duration": 13,
    "start_time": "2024-12-06T14:20:55.631Z"
   },
   {
    "duration": 0,
    "start_time": "2024-12-06T14:20:55.646Z"
   },
   {
    "duration": 0,
    "start_time": "2024-12-06T14:20:55.647Z"
   },
   {
    "duration": 0,
    "start_time": "2024-12-06T14:20:55.648Z"
   },
   {
    "duration": 0,
    "start_time": "2024-12-06T14:20:55.650Z"
   },
   {
    "duration": 0,
    "start_time": "2024-12-06T14:20:55.651Z"
   },
   {
    "duration": 0,
    "start_time": "2024-12-06T14:20:55.652Z"
   },
   {
    "duration": 0,
    "start_time": "2024-12-06T14:20:55.653Z"
   },
   {
    "duration": 5,
    "start_time": "2024-12-06T14:21:57.892Z"
   },
   {
    "duration": 176,
    "start_time": "2024-12-06T14:22:09.292Z"
   },
   {
    "duration": 13361,
    "start_time": "2024-12-06T14:22:18.211Z"
   },
   {
    "duration": 2354,
    "start_time": "2024-12-06T14:22:38.156Z"
   },
   {
    "duration": 3,
    "start_time": "2024-12-06T14:22:40.513Z"
   },
   {
    "duration": 878,
    "start_time": "2024-12-06T14:22:40.518Z"
   },
   {
    "duration": 4,
    "start_time": "2024-12-06T14:22:41.398Z"
   },
   {
    "duration": 1808,
    "start_time": "2024-12-06T14:22:41.404Z"
   },
   {
    "duration": 6,
    "start_time": "2024-12-06T14:22:43.214Z"
   },
   {
    "duration": 35,
    "start_time": "2024-12-06T14:22:43.221Z"
   },
   {
    "duration": 177,
    "start_time": "2024-12-06T14:22:43.258Z"
   },
   {
    "duration": 323,
    "start_time": "2024-12-06T14:22:43.436Z"
   },
   {
    "duration": 38,
    "start_time": "2024-12-06T14:22:43.761Z"
   },
   {
    "duration": 18,
    "start_time": "2024-12-06T14:22:43.800Z"
   },
   {
    "duration": 47,
    "start_time": "2024-12-06T14:22:43.820Z"
   },
   {
    "duration": 48,
    "start_time": "2024-12-06T14:22:43.869Z"
   },
   {
    "duration": 198,
    "start_time": "2024-12-06T14:22:43.920Z"
   },
   {
    "duration": 17,
    "start_time": "2024-12-06T14:22:44.120Z"
   },
   {
    "duration": 49,
    "start_time": "2024-12-06T14:22:44.138Z"
   },
   {
    "duration": 22,
    "start_time": "2024-12-06T14:22:44.189Z"
   },
   {
    "duration": 33,
    "start_time": "2024-12-06T14:22:44.212Z"
   },
   {
    "duration": 33,
    "start_time": "2024-12-06T14:22:44.247Z"
   },
   {
    "duration": 6,
    "start_time": "2024-12-06T14:22:44.282Z"
   },
   {
    "duration": 18,
    "start_time": "2024-12-06T14:22:44.290Z"
   },
   {
    "duration": 1352,
    "start_time": "2024-12-06T14:22:44.310Z"
   },
   {
    "duration": 47,
    "start_time": "2024-12-06T14:22:45.663Z"
   },
   {
    "duration": 1337,
    "start_time": "2024-12-06T14:22:45.711Z"
   },
   {
    "duration": 23,
    "start_time": "2024-12-06T14:22:47.049Z"
   },
   {
    "duration": 1282,
    "start_time": "2024-12-06T14:22:47.074Z"
   },
   {
    "duration": 13,
    "start_time": "2024-12-06T14:22:48.357Z"
   },
   {
    "duration": 80,
    "start_time": "2024-12-06T14:22:48.372Z"
   },
   {
    "duration": 27,
    "start_time": "2024-12-06T14:22:48.454Z"
   },
   {
    "duration": 39,
    "start_time": "2024-12-06T14:22:48.483Z"
   },
   {
    "duration": 596,
    "start_time": "2024-12-06T14:22:48.524Z"
   },
   {
    "duration": 398,
    "start_time": "2024-12-06T14:22:49.121Z"
   },
   {
    "duration": 5,
    "start_time": "2024-12-06T14:22:49.521Z"
   },
   {
    "duration": 12953,
    "start_time": "2024-12-06T14:22:49.527Z"
   },
   {
    "duration": 592,
    "start_time": "2024-12-06T14:23:02.482Z"
   },
   {
    "duration": 95,
    "start_time": "2024-12-06T14:23:03.076Z"
   },
   {
    "duration": 75,
    "start_time": "2024-12-06T14:23:03.172Z"
   },
   {
    "duration": 23,
    "start_time": "2024-12-06T14:23:03.249Z"
   },
   {
    "duration": 195,
    "start_time": "2024-12-06T14:23:03.274Z"
   },
   {
    "duration": 3906,
    "start_time": "2024-12-06T14:25:12.626Z"
   },
   {
    "duration": 2,
    "start_time": "2024-12-06T14:25:16.535Z"
   },
   {
    "duration": 846,
    "start_time": "2024-12-06T14:25:16.539Z"
   },
   {
    "duration": 3,
    "start_time": "2024-12-06T14:25:17.387Z"
   },
   {
    "duration": 1877,
    "start_time": "2024-12-06T14:25:17.392Z"
   },
   {
    "duration": 7,
    "start_time": "2024-12-06T14:25:19.270Z"
   },
   {
    "duration": 26,
    "start_time": "2024-12-06T14:25:19.278Z"
   },
   {
    "duration": 205,
    "start_time": "2024-12-06T14:25:19.306Z"
   },
   {
    "duration": 368,
    "start_time": "2024-12-06T14:25:19.512Z"
   },
   {
    "duration": 34,
    "start_time": "2024-12-06T14:25:19.882Z"
   },
   {
    "duration": 59,
    "start_time": "2024-12-06T14:25:19.917Z"
   },
   {
    "duration": 44,
    "start_time": "2024-12-06T14:25:19.978Z"
   },
   {
    "duration": 28,
    "start_time": "2024-12-06T14:25:20.023Z"
   },
   {
    "duration": 73,
    "start_time": "2024-12-06T14:25:20.054Z"
   },
   {
    "duration": 25,
    "start_time": "2024-12-06T14:25:20.128Z"
   },
   {
    "duration": 51,
    "start_time": "2024-12-06T14:25:20.155Z"
   },
   {
    "duration": 26,
    "start_time": "2024-12-06T14:25:20.207Z"
   },
   {
    "duration": 57,
    "start_time": "2024-12-06T14:25:20.234Z"
   },
   {
    "duration": 19,
    "start_time": "2024-12-06T14:25:20.292Z"
   },
   {
    "duration": 13,
    "start_time": "2024-12-06T14:25:20.313Z"
   },
   {
    "duration": 48,
    "start_time": "2024-12-06T14:25:20.327Z"
   },
   {
    "duration": 1325,
    "start_time": "2024-12-06T14:25:20.377Z"
   },
   {
    "duration": 28,
    "start_time": "2024-12-06T14:25:21.703Z"
   },
   {
    "duration": 1310,
    "start_time": "2024-12-06T14:25:21.732Z"
   },
   {
    "duration": 27,
    "start_time": "2024-12-06T14:25:23.043Z"
   },
   {
    "duration": 1286,
    "start_time": "2024-12-06T14:25:23.072Z"
   },
   {
    "duration": 12,
    "start_time": "2024-12-06T14:25:24.360Z"
   },
   {
    "duration": 106,
    "start_time": "2024-12-06T14:25:24.374Z"
   },
   {
    "duration": 12,
    "start_time": "2024-12-06T14:25:24.482Z"
   },
   {
    "duration": 50,
    "start_time": "2024-12-06T14:25:24.496Z"
   },
   {
    "duration": 609,
    "start_time": "2024-12-06T14:25:24.547Z"
   },
   {
    "duration": 400,
    "start_time": "2024-12-06T14:25:25.158Z"
   },
   {
    "duration": 9,
    "start_time": "2024-12-06T14:25:25.560Z"
   },
   {
    "duration": 13303,
    "start_time": "2024-12-06T14:25:25.570Z"
   },
   {
    "duration": 596,
    "start_time": "2024-12-06T14:25:38.875Z"
   },
   {
    "duration": 6,
    "start_time": "2024-12-06T14:25:39.472Z"
   },
   {
    "duration": 133,
    "start_time": "2024-12-06T14:25:39.480Z"
   },
   {
    "duration": 64,
    "start_time": "2024-12-06T14:25:39.615Z"
   },
   {
    "duration": 20,
    "start_time": "2024-12-06T14:25:39.771Z"
   },
   {
    "duration": 54082,
    "start_time": "2024-12-06T14:25:39.793Z"
   },
   {
    "duration": 988,
    "start_time": "2024-12-06T14:26:33.880Z"
   },
   {
    "duration": 2423,
    "start_time": "2024-12-06T14:30:24.079Z"
   },
   {
    "duration": 3,
    "start_time": "2024-12-06T14:30:26.504Z"
   },
   {
    "duration": 833,
    "start_time": "2024-12-06T14:30:26.509Z"
   },
   {
    "duration": 4,
    "start_time": "2024-12-06T14:30:27.343Z"
   },
   {
    "duration": 1855,
    "start_time": "2024-12-06T14:30:27.349Z"
   },
   {
    "duration": 5,
    "start_time": "2024-12-06T14:30:29.206Z"
   },
   {
    "duration": 41,
    "start_time": "2024-12-06T14:30:29.213Z"
   },
   {
    "duration": 172,
    "start_time": "2024-12-06T14:30:29.256Z"
   },
   {
    "duration": 335,
    "start_time": "2024-12-06T14:30:29.430Z"
   },
   {
    "duration": 35,
    "start_time": "2024-12-06T14:30:29.769Z"
   },
   {
    "duration": 17,
    "start_time": "2024-12-06T14:30:29.806Z"
   },
   {
    "duration": 52,
    "start_time": "2024-12-06T14:30:29.825Z"
   },
   {
    "duration": 71,
    "start_time": "2024-12-06T14:30:29.879Z"
   },
   {
    "duration": 38,
    "start_time": "2024-12-06T14:30:29.953Z"
   },
   {
    "duration": 19,
    "start_time": "2024-12-06T14:30:29.993Z"
   },
   {
    "duration": 103,
    "start_time": "2024-12-06T14:30:30.014Z"
   },
   {
    "duration": 69,
    "start_time": "2024-12-06T14:30:30.119Z"
   },
   {
    "duration": 67,
    "start_time": "2024-12-06T14:30:30.189Z"
   },
   {
    "duration": 70,
    "start_time": "2024-12-06T14:30:30.258Z"
   },
   {
    "duration": 43,
    "start_time": "2024-12-06T14:30:30.331Z"
   },
   {
    "duration": 45,
    "start_time": "2024-12-06T14:30:30.375Z"
   },
   {
    "duration": 1455,
    "start_time": "2024-12-06T14:30:30.423Z"
   },
   {
    "duration": 27,
    "start_time": "2024-12-06T14:30:31.880Z"
   },
   {
    "duration": 1384,
    "start_time": "2024-12-06T14:30:31.908Z"
   },
   {
    "duration": 18,
    "start_time": "2024-12-06T14:30:33.294Z"
   },
   {
    "duration": 1320,
    "start_time": "2024-12-06T14:30:33.314Z"
   },
   {
    "duration": 8,
    "start_time": "2024-12-06T14:30:34.636Z"
   },
   {
    "duration": 44,
    "start_time": "2024-12-06T14:30:34.645Z"
   },
   {
    "duration": 15,
    "start_time": "2024-12-06T14:30:34.691Z"
   },
   {
    "duration": 48,
    "start_time": "2024-12-06T14:30:34.708Z"
   },
   {
    "duration": 607,
    "start_time": "2024-12-06T14:30:34.758Z"
   },
   {
    "duration": 391,
    "start_time": "2024-12-06T14:30:35.369Z"
   },
   {
    "duration": 9,
    "start_time": "2024-12-06T14:30:35.762Z"
   },
   {
    "duration": 3883,
    "start_time": "2024-12-06T14:31:08.084Z"
   },
   {
    "duration": 841,
    "start_time": "2024-12-06T14:31:11.969Z"
   },
   {
    "duration": 4,
    "start_time": "2024-12-06T14:31:12.811Z"
   },
   {
    "duration": 1970,
    "start_time": "2024-12-06T14:31:12.817Z"
   },
   {
    "duration": 6,
    "start_time": "2024-12-06T14:31:14.789Z"
   },
   {
    "duration": 32,
    "start_time": "2024-12-06T14:31:14.797Z"
   },
   {
    "duration": 204,
    "start_time": "2024-12-06T14:31:14.830Z"
   },
   {
    "duration": 378,
    "start_time": "2024-12-06T14:31:15.035Z"
   },
   {
    "duration": 36,
    "start_time": "2024-12-06T14:31:15.415Z"
   },
   {
    "duration": 92,
    "start_time": "2024-12-06T14:31:15.453Z"
   },
   {
    "duration": 76,
    "start_time": "2024-12-06T14:31:15.546Z"
   },
   {
    "duration": 48,
    "start_time": "2024-12-06T14:31:15.623Z"
   },
   {
    "duration": 72,
    "start_time": "2024-12-06T14:31:15.673Z"
   },
   {
    "duration": 26,
    "start_time": "2024-12-06T14:31:15.748Z"
   },
   {
    "duration": 45,
    "start_time": "2024-12-06T14:31:15.775Z"
   },
   {
    "duration": 33,
    "start_time": "2024-12-06T14:31:15.821Z"
   },
   {
    "duration": 39,
    "start_time": "2024-12-06T14:31:15.856Z"
   },
   {
    "duration": 81,
    "start_time": "2024-12-06T14:31:15.897Z"
   },
   {
    "duration": 4,
    "start_time": "2024-12-06T14:31:15.980Z"
   },
   {
    "duration": 19,
    "start_time": "2024-12-06T14:31:15.985Z"
   },
   {
    "duration": 1304,
    "start_time": "2024-12-06T14:31:16.006Z"
   },
   {
    "duration": 32,
    "start_time": "2024-12-06T14:31:17.312Z"
   },
   {
    "duration": 1292,
    "start_time": "2024-12-06T14:31:17.345Z"
   },
   {
    "duration": 30,
    "start_time": "2024-12-06T14:31:18.639Z"
   },
   {
    "duration": 1217,
    "start_time": "2024-12-06T14:31:18.671Z"
   },
   {
    "duration": 6,
    "start_time": "2024-12-06T14:31:19.890Z"
   },
   {
    "duration": 97,
    "start_time": "2024-12-06T14:31:19.897Z"
   },
   {
    "duration": 48,
    "start_time": "2024-12-06T14:31:19.995Z"
   },
   {
    "duration": 79,
    "start_time": "2024-12-06T14:31:20.045Z"
   },
   {
    "duration": 631,
    "start_time": "2024-12-06T14:31:20.126Z"
   },
   {
    "duration": 389,
    "start_time": "2024-12-06T14:31:20.758Z"
   },
   {
    "duration": 5,
    "start_time": "2024-12-06T14:31:21.148Z"
   },
   {
    "duration": 13319,
    "start_time": "2024-12-06T14:31:21.155Z"
   },
   {
    "duration": 494,
    "start_time": "2024-12-06T14:31:34.477Z"
   },
   {
    "duration": 97,
    "start_time": "2024-12-06T14:31:34.973Z"
   },
   {
    "duration": 43,
    "start_time": "2024-12-06T14:31:35.072Z"
   },
   {
    "duration": 56,
    "start_time": "2024-12-06T14:31:35.117Z"
   },
   {
    "duration": 104,
    "start_time": "2024-12-06T14:31:35.175Z"
   },
   {
    "duration": 54804,
    "start_time": "2024-12-06T14:31:35.280Z"
   },
   {
    "duration": 898,
    "start_time": "2024-12-06T14:32:30.170Z"
   },
   {
    "duration": 3904,
    "start_time": "2024-12-06T14:36:59.102Z"
   },
   {
    "duration": 863,
    "start_time": "2024-12-06T14:37:03.008Z"
   },
   {
    "duration": 4,
    "start_time": "2024-12-06T14:37:03.872Z"
   },
   {
    "duration": 1845,
    "start_time": "2024-12-06T14:37:03.878Z"
   },
   {
    "duration": 6,
    "start_time": "2024-12-06T14:37:05.725Z"
   },
   {
    "duration": 45,
    "start_time": "2024-12-06T14:37:05.733Z"
   },
   {
    "duration": 239,
    "start_time": "2024-12-06T14:37:05.780Z"
   },
   {
    "duration": 387,
    "start_time": "2024-12-06T14:37:06.020Z"
   },
   {
    "duration": 40,
    "start_time": "2024-12-06T14:37:06.408Z"
   },
   {
    "duration": 149,
    "start_time": "2024-12-06T14:37:06.450Z"
   },
   {
    "duration": 54,
    "start_time": "2024-12-06T14:37:06.600Z"
   },
   {
    "duration": 37,
    "start_time": "2024-12-06T14:37:06.655Z"
   },
   {
    "duration": 47,
    "start_time": "2024-12-06T14:37:06.694Z"
   },
   {
    "duration": 17,
    "start_time": "2024-12-06T14:37:06.744Z"
   },
   {
    "duration": 60,
    "start_time": "2024-12-06T14:37:06.762Z"
   },
   {
    "duration": 38,
    "start_time": "2024-12-06T14:37:06.824Z"
   },
   {
    "duration": 57,
    "start_time": "2024-12-06T14:37:06.863Z"
   },
   {
    "duration": 52,
    "start_time": "2024-12-06T14:37:06.922Z"
   },
   {
    "duration": 42,
    "start_time": "2024-12-06T14:37:06.976Z"
   },
   {
    "duration": 27,
    "start_time": "2024-12-06T14:37:07.019Z"
   },
   {
    "duration": 1281,
    "start_time": "2024-12-06T14:37:07.047Z"
   },
   {
    "duration": 40,
    "start_time": "2024-12-06T14:37:08.330Z"
   },
   {
    "duration": 1271,
    "start_time": "2024-12-06T14:37:08.372Z"
   },
   {
    "duration": 30,
    "start_time": "2024-12-06T14:37:09.644Z"
   },
   {
    "duration": 1246,
    "start_time": "2024-12-06T14:37:09.675Z"
   },
   {
    "duration": 6,
    "start_time": "2024-12-06T14:37:10.922Z"
   },
   {
    "duration": 49,
    "start_time": "2024-12-06T14:37:10.930Z"
   },
   {
    "duration": 11,
    "start_time": "2024-12-06T14:37:10.981Z"
   },
   {
    "duration": 45,
    "start_time": "2024-12-06T14:37:10.994Z"
   },
   {
    "duration": 623,
    "start_time": "2024-12-06T14:37:11.041Z"
   },
   {
    "duration": 389,
    "start_time": "2024-12-06T14:37:11.668Z"
   },
   {
    "duration": 10,
    "start_time": "2024-12-06T14:37:12.059Z"
   },
   {
    "duration": 13005,
    "start_time": "2024-12-06T14:37:12.070Z"
   },
   {
    "duration": 501,
    "start_time": "2024-12-06T14:37:25.077Z"
   },
   {
    "duration": 5,
    "start_time": "2024-12-06T14:37:25.670Z"
   },
   {
    "duration": 95,
    "start_time": "2024-12-06T14:37:25.677Z"
   },
   {
    "duration": 10,
    "start_time": "2024-12-06T14:37:25.774Z"
   },
   {
    "duration": 102,
    "start_time": "2024-12-06T14:37:25.868Z"
   },
   {
    "duration": 54101,
    "start_time": "2024-12-06T14:37:25.972Z"
   },
   {
    "duration": 995,
    "start_time": "2024-12-06T14:38:20.076Z"
   },
   {
    "duration": 279290,
    "start_time": "2024-12-06T14:38:21.077Z"
   },
   {
    "duration": 20700,
    "start_time": "2024-12-06T14:43:00.368Z"
   },
   {
    "duration": 127,
    "start_time": "2024-12-06T14:43:21.070Z"
   },
   {
    "duration": 5,
    "start_time": "2024-12-06T14:43:21.198Z"
   },
   {
    "duration": 275000,
    "start_time": "2024-12-06T14:43:21.205Z"
   },
   {
    "duration": 21000,
    "start_time": "2024-12-06T14:47:56.207Z"
   },
   {
    "duration": 55,
    "start_time": "2024-12-06T14:48:17.208Z"
   },
   {
    "duration": 5,
    "start_time": "2024-12-06T14:48:17.264Z"
   },
   {
    "duration": 3887,
    "start_time": "2024-12-06T15:06:20.403Z"
   },
   {
    "duration": 909,
    "start_time": "2024-12-06T15:06:24.293Z"
   },
   {
    "duration": 4,
    "start_time": "2024-12-06T15:06:25.204Z"
   },
   {
    "duration": 1903,
    "start_time": "2024-12-06T15:06:25.209Z"
   },
   {
    "duration": 6,
    "start_time": "2024-12-06T15:06:27.114Z"
   },
   {
    "duration": 23,
    "start_time": "2024-12-06T15:06:27.122Z"
   },
   {
    "duration": 223,
    "start_time": "2024-12-06T15:06:27.147Z"
   },
   {
    "duration": 386,
    "start_time": "2024-12-06T15:06:27.371Z"
   },
   {
    "duration": 41,
    "start_time": "2024-12-06T15:06:27.758Z"
   },
   {
    "duration": 17,
    "start_time": "2024-12-06T15:06:27.800Z"
   },
   {
    "duration": 53,
    "start_time": "2024-12-06T15:06:27.818Z"
   },
   {
    "duration": 20,
    "start_time": "2024-12-06T15:06:27.872Z"
   },
   {
    "duration": 40,
    "start_time": "2024-12-06T15:06:27.893Z"
   },
   {
    "duration": 34,
    "start_time": "2024-12-06T15:06:27.935Z"
   },
   {
    "duration": 37,
    "start_time": "2024-12-06T15:06:27.971Z"
   },
   {
    "duration": 23,
    "start_time": "2024-12-06T15:06:28.010Z"
   },
   {
    "duration": 65,
    "start_time": "2024-12-06T15:06:28.034Z"
   },
   {
    "duration": 18,
    "start_time": "2024-12-06T15:06:28.101Z"
   },
   {
    "duration": 8,
    "start_time": "2024-12-06T15:06:28.121Z"
   },
   {
    "duration": 21,
    "start_time": "2024-12-06T15:06:28.130Z"
   },
   {
    "duration": 1264,
    "start_time": "2024-12-06T15:06:28.153Z"
   },
   {
    "duration": 28,
    "start_time": "2024-12-06T15:06:29.419Z"
   },
   {
    "duration": 1355,
    "start_time": "2024-12-06T15:06:29.449Z"
   },
   {
    "duration": 19,
    "start_time": "2024-12-06T15:06:30.805Z"
   },
   {
    "duration": 1263,
    "start_time": "2024-12-06T15:06:30.825Z"
   },
   {
    "duration": 7,
    "start_time": "2024-12-06T15:06:32.090Z"
   },
   {
    "duration": 36,
    "start_time": "2024-12-06T15:06:32.099Z"
   },
   {
    "duration": 32,
    "start_time": "2024-12-06T15:06:32.137Z"
   },
   {
    "duration": 79,
    "start_time": "2024-12-06T15:06:32.171Z"
   },
   {
    "duration": 638,
    "start_time": "2024-12-06T15:06:32.252Z"
   },
   {
    "duration": 392,
    "start_time": "2024-12-06T15:06:32.892Z"
   },
   {
    "duration": 6,
    "start_time": "2024-12-06T15:06:33.286Z"
   },
   {
    "duration": 13180,
    "start_time": "2024-12-06T15:06:33.293Z"
   },
   {
    "duration": 504,
    "start_time": "2024-12-06T15:06:46.476Z"
   },
   {
    "duration": 90,
    "start_time": "2024-12-06T15:06:46.983Z"
   },
   {
    "duration": 52,
    "start_time": "2024-12-06T15:06:47.074Z"
   },
   {
    "duration": 45,
    "start_time": "2024-12-06T15:06:47.128Z"
   },
   {
    "duration": 96,
    "start_time": "2024-12-06T15:06:47.175Z"
   },
   {
    "duration": 55900,
    "start_time": "2024-12-06T15:06:47.273Z"
   },
   {
    "duration": 921,
    "start_time": "2024-12-06T15:07:43.175Z"
   },
   {
    "duration": 279610,
    "start_time": "2024-12-06T15:07:44.176Z"
   },
   {
    "duration": 21013,
    "start_time": "2024-12-06T15:12:23.787Z"
   },
   {
    "duration": 115,
    "start_time": "2024-12-06T15:12:44.802Z"
   },
   {
    "duration": 5,
    "start_time": "2024-12-06T15:12:44.919Z"
   },
   {
    "duration": 277398,
    "start_time": "2024-12-06T15:12:44.926Z"
   },
   {
    "duration": 20997,
    "start_time": "2024-12-06T15:17:22.326Z"
   },
   {
    "duration": 57,
    "start_time": "2024-12-06T15:17:43.325Z"
   },
   {
    "duration": 5,
    "start_time": "2024-12-06T15:17:43.383Z"
   },
   {
    "duration": 437787,
    "start_time": "2024-12-06T15:17:43.390Z"
   },
   {
    "duration": 11009,
    "start_time": "2024-12-06T15:25:01.178Z"
   },
   {
    "duration": 882,
    "start_time": "2024-12-06T15:25:12.188Z"
   },
   {
    "duration": 5,
    "start_time": "2024-12-06T15:25:13.072Z"
   },
   {
    "duration": 354805,
    "start_time": "2024-12-06T15:25:13.079Z"
   },
   {
    "duration": 5798,
    "start_time": "2024-12-06T15:31:07.885Z"
   },
   {
    "duration": 489,
    "start_time": "2024-12-06T15:31:13.685Z"
   },
   {
    "duration": 5,
    "start_time": "2024-12-06T15:31:14.176Z"
   },
   {
    "duration": 159,
    "start_time": "2024-12-06T15:31:14.183Z"
   },
   {
    "duration": 0,
    "start_time": "2024-12-06T15:31:14.344Z"
   },
   {
    "duration": 0,
    "start_time": "2024-12-06T15:31:14.345Z"
   },
   {
    "duration": 0,
    "start_time": "2024-12-06T15:31:14.347Z"
   },
   {
    "duration": 0,
    "start_time": "2024-12-06T15:31:14.348Z"
   },
   {
    "duration": 0,
    "start_time": "2024-12-06T15:31:14.349Z"
   },
   {
    "duration": 0,
    "start_time": "2024-12-06T15:31:14.350Z"
   },
   {
    "duration": 0,
    "start_time": "2024-12-06T15:31:14.351Z"
   },
   {
    "duration": 0,
    "start_time": "2024-12-06T15:31:14.353Z"
   },
   {
    "duration": 3919,
    "start_time": "2024-12-06T16:46:55.854Z"
   },
   {
    "duration": 947,
    "start_time": "2024-12-06T16:46:59.775Z"
   },
   {
    "duration": 4,
    "start_time": "2024-12-06T16:47:00.724Z"
   },
   {
    "duration": 1922,
    "start_time": "2024-12-06T16:47:00.729Z"
   },
   {
    "duration": 6,
    "start_time": "2024-12-06T16:47:02.653Z"
   },
   {
    "duration": 56,
    "start_time": "2024-12-06T16:47:02.661Z"
   },
   {
    "duration": 273,
    "start_time": "2024-12-06T16:47:02.721Z"
   },
   {
    "duration": 397,
    "start_time": "2024-12-06T16:47:02.996Z"
   },
   {
    "duration": 36,
    "start_time": "2024-12-06T16:47:03.395Z"
   },
   {
    "duration": 84,
    "start_time": "2024-12-06T16:47:03.432Z"
   },
   {
    "duration": 54,
    "start_time": "2024-12-06T16:47:03.518Z"
   },
   {
    "duration": 47,
    "start_time": "2024-12-06T16:47:03.573Z"
   },
   {
    "duration": 80,
    "start_time": "2024-12-06T16:47:03.622Z"
   },
   {
    "duration": 67,
    "start_time": "2024-12-06T16:47:03.705Z"
   },
   {
    "duration": 51,
    "start_time": "2024-12-06T16:47:03.774Z"
   },
   {
    "duration": 125,
    "start_time": "2024-12-06T16:47:03.826Z"
   },
   {
    "duration": 97,
    "start_time": "2024-12-06T16:47:03.953Z"
   },
   {
    "duration": 38,
    "start_time": "2024-12-06T16:47:04.051Z"
   },
   {
    "duration": 38,
    "start_time": "2024-12-06T16:47:04.091Z"
   },
   {
    "duration": 36,
    "start_time": "2024-12-06T16:47:04.131Z"
   },
   {
    "duration": 1257,
    "start_time": "2024-12-06T16:47:04.169Z"
   },
   {
    "duration": 29,
    "start_time": "2024-12-06T16:47:05.427Z"
   },
   {
    "duration": 1296,
    "start_time": "2024-12-06T16:47:05.458Z"
   },
   {
    "duration": 33,
    "start_time": "2024-12-06T16:47:06.755Z"
   },
   {
    "duration": 1305,
    "start_time": "2024-12-06T16:47:06.790Z"
   },
   {
    "duration": 6,
    "start_time": "2024-12-06T16:47:08.096Z"
   },
   {
    "duration": 38,
    "start_time": "2024-12-06T16:47:08.104Z"
   },
   {
    "duration": 21,
    "start_time": "2024-12-06T16:47:08.143Z"
   },
   {
    "duration": 44,
    "start_time": "2024-12-06T16:47:08.166Z"
   },
   {
    "duration": 618,
    "start_time": "2024-12-06T16:47:08.212Z"
   },
   {
    "duration": 401,
    "start_time": "2024-12-06T16:47:08.832Z"
   },
   {
    "duration": 5,
    "start_time": "2024-12-06T16:47:09.234Z"
   },
   {
    "duration": 13716,
    "start_time": "2024-12-06T16:47:09.241Z"
   },
   {
    "duration": 233,
    "start_time": "2024-12-06T16:47:22.959Z"
   },
   {
    "duration": 11,
    "start_time": "2024-12-06T16:47:23.195Z"
   },
   {
    "duration": 0,
    "start_time": "2024-12-06T16:47:23.209Z"
   },
   {
    "duration": 0,
    "start_time": "2024-12-06T16:47:23.210Z"
   },
   {
    "duration": 0,
    "start_time": "2024-12-06T16:47:23.212Z"
   },
   {
    "duration": 1,
    "start_time": "2024-12-06T16:47:23.213Z"
   },
   {
    "duration": 0,
    "start_time": "2024-12-06T16:47:23.215Z"
   },
   {
    "duration": 0,
    "start_time": "2024-12-06T16:47:23.216Z"
   },
   {
    "duration": 0,
    "start_time": "2024-12-06T16:47:23.218Z"
   },
   {
    "duration": 0,
    "start_time": "2024-12-06T16:47:23.219Z"
   },
   {
    "duration": 0,
    "start_time": "2024-12-06T16:47:23.221Z"
   },
   {
    "duration": 0,
    "start_time": "2024-12-06T16:47:23.222Z"
   },
   {
    "duration": 0,
    "start_time": "2024-12-06T16:47:23.223Z"
   },
   {
    "duration": 0,
    "start_time": "2024-12-06T16:47:23.224Z"
   },
   {
    "duration": 0,
    "start_time": "2024-12-06T16:47:23.226Z"
   },
   {
    "duration": 0,
    "start_time": "2024-12-06T16:47:23.227Z"
   },
   {
    "duration": 0,
    "start_time": "2024-12-06T16:47:23.229Z"
   },
   {
    "duration": 1,
    "start_time": "2024-12-06T16:47:23.230Z"
   },
   {
    "duration": 0,
    "start_time": "2024-12-06T16:47:23.232Z"
   },
   {
    "duration": 0,
    "start_time": "2024-12-06T16:47:23.234Z"
   },
   {
    "duration": 0,
    "start_time": "2024-12-06T16:47:23.235Z"
   },
   {
    "duration": 0,
    "start_time": "2024-12-06T16:47:23.237Z"
   },
   {
    "duration": 0,
    "start_time": "2024-12-06T16:47:23.269Z"
   },
   {
    "duration": 0,
    "start_time": "2024-12-06T16:47:23.271Z"
   },
   {
    "duration": 0,
    "start_time": "2024-12-06T16:47:23.273Z"
   },
   {
    "duration": 0,
    "start_time": "2024-12-06T16:47:23.274Z"
   },
   {
    "duration": 0,
    "start_time": "2024-12-06T16:47:23.276Z"
   },
   {
    "duration": 0,
    "start_time": "2024-12-06T16:47:23.278Z"
   },
   {
    "duration": 0,
    "start_time": "2024-12-06T16:47:23.279Z"
   },
   {
    "duration": 0,
    "start_time": "2024-12-06T16:47:23.281Z"
   },
   {
    "duration": 0,
    "start_time": "2024-12-06T16:47:23.282Z"
   },
   {
    "duration": 0,
    "start_time": "2024-12-06T16:47:23.284Z"
   },
   {
    "duration": 3841,
    "start_time": "2024-12-06T16:50:25.311Z"
   },
   {
    "duration": 897,
    "start_time": "2024-12-06T16:50:29.155Z"
   },
   {
    "duration": 4,
    "start_time": "2024-12-06T16:50:30.054Z"
   },
   {
    "duration": 1975,
    "start_time": "2024-12-06T16:50:30.059Z"
   },
   {
    "duration": 6,
    "start_time": "2024-12-06T16:50:32.036Z"
   },
   {
    "duration": 35,
    "start_time": "2024-12-06T16:50:32.044Z"
   },
   {
    "duration": 220,
    "start_time": "2024-12-06T16:50:32.082Z"
   },
   {
    "duration": 392,
    "start_time": "2024-12-06T16:50:32.303Z"
   },
   {
    "duration": 36,
    "start_time": "2024-12-06T16:50:32.697Z"
   },
   {
    "duration": 22,
    "start_time": "2024-12-06T16:50:32.735Z"
   },
   {
    "duration": 67,
    "start_time": "2024-12-06T16:50:32.768Z"
   },
   {
    "duration": 28,
    "start_time": "2024-12-06T16:50:32.837Z"
   },
   {
    "duration": 55,
    "start_time": "2024-12-06T16:50:32.867Z"
   },
   {
    "duration": 24,
    "start_time": "2024-12-06T16:50:32.926Z"
   },
   {
    "duration": 58,
    "start_time": "2024-12-06T16:50:32.951Z"
   },
   {
    "duration": 17,
    "start_time": "2024-12-06T16:50:33.011Z"
   },
   {
    "duration": 43,
    "start_time": "2024-12-06T16:50:33.030Z"
   },
   {
    "duration": 23,
    "start_time": "2024-12-06T16:50:33.075Z"
   },
   {
    "duration": 44,
    "start_time": "2024-12-06T16:50:33.100Z"
   },
   {
    "duration": 31,
    "start_time": "2024-12-06T16:50:33.146Z"
   },
   {
    "duration": 1348,
    "start_time": "2024-12-06T16:50:33.179Z"
   },
   {
    "duration": 28,
    "start_time": "2024-12-06T16:50:34.529Z"
   },
   {
    "duration": 1347,
    "start_time": "2024-12-06T16:50:34.569Z"
   },
   {
    "duration": 23,
    "start_time": "2024-12-06T16:50:35.917Z"
   },
   {
    "duration": 1380,
    "start_time": "2024-12-06T16:50:35.942Z"
   },
   {
    "duration": 6,
    "start_time": "2024-12-06T16:50:37.324Z"
   },
   {
    "duration": 51,
    "start_time": "2024-12-06T16:50:37.332Z"
   },
   {
    "duration": 16,
    "start_time": "2024-12-06T16:50:37.385Z"
   },
   {
    "duration": 46,
    "start_time": "2024-12-06T16:50:37.402Z"
   },
   {
    "duration": 648,
    "start_time": "2024-12-06T16:50:37.450Z"
   },
   {
    "duration": 399,
    "start_time": "2024-12-06T16:50:38.100Z"
   },
   {
    "duration": 6,
    "start_time": "2024-12-06T16:50:38.501Z"
   },
   {
    "duration": 13362,
    "start_time": "2024-12-06T16:50:38.509Z"
   },
   {
    "duration": 498,
    "start_time": "2024-12-06T16:50:51.873Z"
   },
   {
    "duration": 100,
    "start_time": "2024-12-06T16:50:52.375Z"
   },
   {
    "duration": 82,
    "start_time": "2024-12-06T16:50:52.477Z"
   },
   {
    "duration": 13,
    "start_time": "2024-12-06T16:50:52.561Z"
   },
   {
    "duration": 228,
    "start_time": "2024-12-06T16:50:52.579Z"
   },
   {
    "duration": 55264,
    "start_time": "2024-12-06T16:50:52.808Z"
   },
   {
    "duration": 994,
    "start_time": "2024-12-06T16:51:48.074Z"
   },
   {
    "duration": 273075,
    "start_time": "2024-12-06T16:51:49.075Z"
   },
   {
    "duration": 20446,
    "start_time": "2024-12-06T16:56:22.151Z"
   },
   {
    "duration": 117,
    "start_time": "2024-12-06T16:56:42.598Z"
   },
   {
    "duration": 5,
    "start_time": "2024-12-06T16:56:42.717Z"
   },
   {
    "duration": 275409,
    "start_time": "2024-12-06T16:56:42.724Z"
   },
   {
    "duration": 20982,
    "start_time": "2024-12-06T17:01:18.134Z"
   },
   {
    "duration": 55,
    "start_time": "2024-12-06T17:01:39.118Z"
   },
   {
    "duration": 5,
    "start_time": "2024-12-06T17:01:39.174Z"
   },
   {
    "duration": 4792,
    "start_time": "2024-12-06T17:01:39.181Z"
   },
   {
    "duration": 91,
    "start_time": "2024-12-06T17:01:43.975Z"
   },
   {
    "duration": 44,
    "start_time": "2024-12-06T17:01:44.068Z"
   },
   {
    "duration": 3983,
    "start_time": "2024-12-06T17:07:22.479Z"
   },
   {
    "duration": 887,
    "start_time": "2024-12-06T17:07:26.465Z"
   },
   {
    "duration": 4,
    "start_time": "2024-12-06T17:07:27.356Z"
   },
   {
    "duration": 1949,
    "start_time": "2024-12-06T17:07:27.370Z"
   },
   {
    "duration": 6,
    "start_time": "2024-12-06T17:07:29.321Z"
   },
   {
    "duration": 34,
    "start_time": "2024-12-06T17:07:29.329Z"
   },
   {
    "duration": 211,
    "start_time": "2024-12-06T17:07:29.364Z"
   },
   {
    "duration": 398,
    "start_time": "2024-12-06T17:07:29.577Z"
   },
   {
    "duration": 39,
    "start_time": "2024-12-06T17:07:29.977Z"
   },
   {
    "duration": 125,
    "start_time": "2024-12-06T17:07:30.018Z"
   },
   {
    "duration": 107,
    "start_time": "2024-12-06T17:07:30.146Z"
   },
   {
    "duration": 53,
    "start_time": "2024-12-06T17:07:30.255Z"
   },
   {
    "duration": 126,
    "start_time": "2024-12-06T17:07:30.312Z"
   },
   {
    "duration": 40,
    "start_time": "2024-12-06T17:07:30.439Z"
   },
   {
    "duration": 139,
    "start_time": "2024-12-06T17:07:30.481Z"
   },
   {
    "duration": 29,
    "start_time": "2024-12-06T17:07:30.621Z"
   },
   {
    "duration": 68,
    "start_time": "2024-12-06T17:07:30.652Z"
   },
   {
    "duration": 47,
    "start_time": "2024-12-06T17:07:30.721Z"
   },
   {
    "duration": 21,
    "start_time": "2024-12-06T17:07:30.769Z"
   },
   {
    "duration": 29,
    "start_time": "2024-12-06T17:07:30.791Z"
   },
   {
    "duration": 1315,
    "start_time": "2024-12-06T17:07:30.822Z"
   },
   {
    "duration": 36,
    "start_time": "2024-12-06T17:07:32.139Z"
   },
   {
    "duration": 1330,
    "start_time": "2024-12-06T17:07:32.177Z"
   },
   {
    "duration": 19,
    "start_time": "2024-12-06T17:07:33.508Z"
   },
   {
    "duration": 1302,
    "start_time": "2024-12-06T17:07:33.528Z"
   },
   {
    "duration": 5,
    "start_time": "2024-12-06T17:07:34.832Z"
   },
   {
    "duration": 34,
    "start_time": "2024-12-06T17:07:34.839Z"
   },
   {
    "duration": 27,
    "start_time": "2024-12-06T17:07:34.875Z"
   },
   {
    "duration": 72,
    "start_time": "2024-12-06T17:07:34.904Z"
   },
   {
    "duration": 663,
    "start_time": "2024-12-06T17:07:34.978Z"
   },
   {
    "duration": 383,
    "start_time": "2024-12-06T17:07:35.642Z"
   },
   {
    "duration": 6,
    "start_time": "2024-12-06T17:07:36.027Z"
   },
   {
    "duration": 12941,
    "start_time": "2024-12-06T17:07:36.034Z"
   },
   {
    "duration": 593,
    "start_time": "2024-12-06T17:07:48.977Z"
   },
   {
    "duration": 5,
    "start_time": "2024-12-06T17:07:49.572Z"
   },
   {
    "duration": 119,
    "start_time": "2024-12-06T17:07:49.578Z"
   },
   {
    "duration": 10,
    "start_time": "2024-12-06T17:07:49.700Z"
   },
   {
    "duration": 162,
    "start_time": "2024-12-06T17:07:49.711Z"
   },
   {
    "duration": 57098,
    "start_time": "2024-12-06T17:07:49.874Z"
   },
   {
    "duration": 916,
    "start_time": "2024-12-06T17:08:46.979Z"
   },
   {
    "duration": 277931,
    "start_time": "2024-12-06T17:08:47.977Z"
   },
   {
    "duration": 20402,
    "start_time": "2024-12-06T17:13:25.910Z"
   },
   {
    "duration": 119,
    "start_time": "2024-12-06T17:13:46.313Z"
   },
   {
    "duration": 6,
    "start_time": "2024-12-06T17:13:46.433Z"
   },
   {
    "duration": 274671,
    "start_time": "2024-12-06T17:13:46.442Z"
   },
   {
    "duration": 20554,
    "start_time": "2024-12-06T17:18:21.115Z"
   },
   {
    "duration": 55,
    "start_time": "2024-12-06T17:18:41.671Z"
   },
   {
    "duration": 6,
    "start_time": "2024-12-06T17:18:41.728Z"
   },
   {
    "duration": 465943,
    "start_time": "2024-12-06T17:18:41.735Z"
   },
   {
    "duration": 11697,
    "start_time": "2024-12-06T17:26:27.679Z"
   },
   {
    "duration": 802,
    "start_time": "2024-12-06T17:26:39.378Z"
   },
   {
    "duration": 4,
    "start_time": "2024-12-06T17:26:40.182Z"
   },
   {
    "duration": 139916,
    "start_time": "2024-12-06T17:26:40.187Z"
   },
   {
    "duration": 7264,
    "start_time": "2024-12-06T17:29:00.106Z"
   },
   {
    "duration": 402,
    "start_time": "2024-12-06T17:29:07.372Z"
   },
   {
    "duration": 5,
    "start_time": "2024-12-06T17:29:07.776Z"
   },
   {
    "duration": 16,
    "start_time": "2024-12-06T17:29:07.782Z"
   },
   {
    "duration": 285,
    "start_time": "2024-12-06T17:29:07.799Z"
   },
   {
    "duration": 4,
    "start_time": "2024-12-06T17:29:08.086Z"
   },
   {
    "duration": 12184,
    "start_time": "2024-12-06T17:29:08.092Z"
   },
   {
    "duration": 696,
    "start_time": "2024-12-06T17:29:20.278Z"
   },
   {
    "duration": 10101,
    "start_time": "2024-12-06T17:29:20.976Z"
   },
   {
    "duration": 699,
    "start_time": "2024-12-06T17:29:31.078Z"
   },
   {
    "duration": 4,
    "start_time": "2024-12-06T17:29:31.779Z"
   },
   {
    "duration": 14,
    "start_time": "2024-12-06T17:29:31.785Z"
   },
   {
    "duration": 2492,
    "start_time": "2024-12-06T17:31:18.530Z"
   },
   {
    "duration": 861,
    "start_time": "2024-12-06T17:31:21.024Z"
   },
   {
    "duration": 4,
    "start_time": "2024-12-06T17:31:21.886Z"
   },
   {
    "duration": 1809,
    "start_time": "2024-12-06T17:31:21.891Z"
   },
   {
    "duration": 6,
    "start_time": "2024-12-06T17:31:23.702Z"
   },
   {
    "duration": 25,
    "start_time": "2024-12-06T17:31:23.710Z"
   },
   {
    "duration": 181,
    "start_time": "2024-12-06T17:31:23.737Z"
   },
   {
    "duration": 337,
    "start_time": "2024-12-06T17:31:23.920Z"
   },
   {
    "duration": 40,
    "start_time": "2024-12-06T17:31:24.259Z"
   },
   {
    "duration": 21,
    "start_time": "2024-12-06T17:31:24.300Z"
   },
   {
    "duration": 48,
    "start_time": "2024-12-06T17:31:24.322Z"
   },
   {
    "duration": 42,
    "start_time": "2024-12-06T17:31:24.372Z"
   },
   {
    "duration": 58,
    "start_time": "2024-12-06T17:31:24.416Z"
   },
   {
    "duration": 17,
    "start_time": "2024-12-06T17:31:24.478Z"
   },
   {
    "duration": 46,
    "start_time": "2024-12-06T17:31:24.497Z"
   },
   {
    "duration": 26,
    "start_time": "2024-12-06T17:31:24.545Z"
   },
   {
    "duration": 120,
    "start_time": "2024-12-06T17:31:24.573Z"
   },
   {
    "duration": 26,
    "start_time": "2024-12-06T17:31:24.695Z"
   },
   {
    "duration": 8,
    "start_time": "2024-12-06T17:31:24.723Z"
   },
   {
    "duration": 19,
    "start_time": "2024-12-06T17:31:24.732Z"
   },
   {
    "duration": 1309,
    "start_time": "2024-12-06T17:31:24.753Z"
   },
   {
    "duration": 28,
    "start_time": "2024-12-06T17:31:26.064Z"
   },
   {
    "duration": 1339,
    "start_time": "2024-12-06T17:31:26.094Z"
   },
   {
    "duration": 19,
    "start_time": "2024-12-06T17:31:27.434Z"
   },
   {
    "duration": 1232,
    "start_time": "2024-12-06T17:31:27.454Z"
   },
   {
    "duration": 6,
    "start_time": "2024-12-06T17:31:28.687Z"
   },
   {
    "duration": 31,
    "start_time": "2024-12-06T17:31:28.695Z"
   },
   {
    "duration": 23,
    "start_time": "2024-12-06T17:31:28.728Z"
   },
   {
    "duration": 49,
    "start_time": "2024-12-06T17:31:28.752Z"
   },
   {
    "duration": 607,
    "start_time": "2024-12-06T17:31:28.802Z"
   },
   {
    "duration": 376,
    "start_time": "2024-12-06T17:31:29.410Z"
   },
   {
    "duration": 4,
    "start_time": "2024-12-06T17:31:29.788Z"
   },
   {
    "duration": 13480,
    "start_time": "2024-12-06T17:31:29.794Z"
   },
   {
    "duration": 494,
    "start_time": "2024-12-06T17:31:43.276Z"
   },
   {
    "duration": 97,
    "start_time": "2024-12-06T17:31:43.773Z"
   },
   {
    "duration": 41,
    "start_time": "2024-12-06T17:31:43.872Z"
   },
   {
    "duration": 58,
    "start_time": "2024-12-06T17:31:43.915Z"
   },
   {
    "duration": 97,
    "start_time": "2024-12-06T17:31:43.975Z"
   },
   {
    "duration": 58299,
    "start_time": "2024-12-06T17:31:44.074Z"
   },
   {
    "duration": 993,
    "start_time": "2024-12-06T17:32:42.378Z"
   },
   {
    "duration": 280469,
    "start_time": "2024-12-06T17:32:43.379Z"
   },
   {
    "duration": 21120,
    "start_time": "2024-12-06T17:37:23.849Z"
   },
   {
    "duration": 126,
    "start_time": "2024-12-06T17:37:44.970Z"
   },
   {
    "duration": 5,
    "start_time": "2024-12-06T17:37:45.098Z"
   },
   {
    "duration": 275335,
    "start_time": "2024-12-06T17:37:45.105Z"
   },
   {
    "duration": 20685,
    "start_time": "2024-12-06T17:42:20.442Z"
   },
   {
    "duration": 57,
    "start_time": "2024-12-06T17:42:41.129Z"
   },
   {
    "duration": 4,
    "start_time": "2024-12-06T17:42:41.188Z"
   },
   {
    "duration": 4154,
    "start_time": "2024-12-06T17:55:47.638Z"
   },
   {
    "duration": 928,
    "start_time": "2024-12-06T17:55:51.794Z"
   },
   {
    "duration": 4,
    "start_time": "2024-12-06T17:55:52.723Z"
   },
   {
    "duration": 2030,
    "start_time": "2024-12-06T17:55:52.728Z"
   },
   {
    "duration": 16,
    "start_time": "2024-12-06T17:55:54.760Z"
   },
   {
    "duration": 26,
    "start_time": "2024-12-06T17:55:54.781Z"
   },
   {
    "duration": 221,
    "start_time": "2024-12-06T17:55:54.809Z"
   },
   {
    "duration": 429,
    "start_time": "2024-12-06T17:55:55.032Z"
   },
   {
    "duration": 43,
    "start_time": "2024-12-06T17:55:55.468Z"
   },
   {
    "duration": 87,
    "start_time": "2024-12-06T17:55:55.513Z"
   },
   {
    "duration": 47,
    "start_time": "2024-12-06T17:55:55.601Z"
   },
   {
    "duration": 46,
    "start_time": "2024-12-06T17:55:55.650Z"
   },
   {
    "duration": 50,
    "start_time": "2024-12-06T17:55:55.698Z"
   },
   {
    "duration": 41,
    "start_time": "2024-12-06T17:55:55.752Z"
   },
   {
    "duration": 52,
    "start_time": "2024-12-06T17:55:55.795Z"
   },
   {
    "duration": 36,
    "start_time": "2024-12-06T17:55:55.849Z"
   },
   {
    "duration": 73,
    "start_time": "2024-12-06T17:55:55.887Z"
   },
   {
    "duration": 30,
    "start_time": "2024-12-06T17:55:55.962Z"
   },
   {
    "duration": 28,
    "start_time": "2024-12-06T17:55:55.993Z"
   },
   {
    "duration": 32,
    "start_time": "2024-12-06T17:55:56.023Z"
   },
   {
    "duration": 1286,
    "start_time": "2024-12-06T17:55:56.057Z"
   },
   {
    "duration": 45,
    "start_time": "2024-12-06T17:55:57.344Z"
   },
   {
    "duration": 1408,
    "start_time": "2024-12-06T17:55:57.390Z"
   },
   {
    "duration": 22,
    "start_time": "2024-12-06T17:55:58.800Z"
   },
   {
    "duration": 1366,
    "start_time": "2024-12-06T17:55:58.823Z"
   },
   {
    "duration": 7,
    "start_time": "2024-12-06T17:56:00.191Z"
   },
   {
    "duration": 80,
    "start_time": "2024-12-06T17:56:00.200Z"
   },
   {
    "duration": 221,
    "start_time": "2024-12-06T17:56:00.282Z"
   },
   {
    "duration": 52,
    "start_time": "2024-12-06T17:56:00.505Z"
   },
   {
    "duration": 664,
    "start_time": "2024-12-06T17:56:00.558Z"
   },
   {
    "duration": 428,
    "start_time": "2024-12-06T17:56:01.223Z"
   },
   {
    "duration": 5,
    "start_time": "2024-12-06T17:56:01.654Z"
   },
   {
    "duration": 22729,
    "start_time": "2024-12-06T17:56:01.660Z"
   },
   {
    "duration": 509,
    "start_time": "2024-12-06T17:56:24.470Z"
   },
   {
    "duration": 9,
    "start_time": "2024-12-06T17:56:24.981Z"
   },
   {
    "duration": 54,
    "start_time": "2024-12-06T17:56:25.070Z"
   },
   {
    "duration": 55,
    "start_time": "2024-12-06T17:56:25.126Z"
   },
   {
    "duration": 7,
    "start_time": "2024-12-06T17:56:25.183Z"
   },
   {
    "duration": 99499,
    "start_time": "2024-12-06T17:56:25.192Z"
   },
   {
    "duration": 998,
    "start_time": "2024-12-06T17:58:04.770Z"
   },
   {
    "duration": 291904,
    "start_time": "2024-12-06T17:58:05.778Z"
   },
   {
    "duration": 21739,
    "start_time": "2024-12-06T18:02:57.684Z"
   },
   {
    "duration": 124,
    "start_time": "2024-12-06T18:03:19.425Z"
   },
   {
    "duration": 5,
    "start_time": "2024-12-06T18:03:19.551Z"
   },
   {
    "duration": 4111,
    "start_time": "2024-12-06T18:23:03.753Z"
   },
   {
    "duration": 918,
    "start_time": "2024-12-06T18:23:07.867Z"
   },
   {
    "duration": 4,
    "start_time": "2024-12-06T18:23:08.786Z"
   },
   {
    "duration": 2014,
    "start_time": "2024-12-06T18:23:08.792Z"
   },
   {
    "duration": 6,
    "start_time": "2024-12-06T18:23:10.807Z"
   },
   {
    "duration": 29,
    "start_time": "2024-12-06T18:23:10.815Z"
   },
   {
    "duration": 242,
    "start_time": "2024-12-06T18:23:10.845Z"
   },
   {
    "duration": 406,
    "start_time": "2024-12-06T18:23:11.088Z"
   },
   {
    "duration": 35,
    "start_time": "2024-12-06T18:23:11.496Z"
   },
   {
    "duration": 20,
    "start_time": "2024-12-06T18:23:11.533Z"
   },
   {
    "duration": 61,
    "start_time": "2024-12-06T18:23:11.555Z"
   },
   {
    "duration": 38,
    "start_time": "2024-12-06T18:23:11.617Z"
   },
   {
    "duration": 51,
    "start_time": "2024-12-06T18:23:11.656Z"
   },
   {
    "duration": 16,
    "start_time": "2024-12-06T18:23:11.709Z"
   },
   {
    "duration": 56,
    "start_time": "2024-12-06T18:23:11.727Z"
   },
   {
    "duration": 18,
    "start_time": "2024-12-06T18:23:11.785Z"
   },
   {
    "duration": 37,
    "start_time": "2024-12-06T18:23:11.804Z"
   },
   {
    "duration": 40,
    "start_time": "2024-12-06T18:23:11.843Z"
   },
   {
    "duration": 12,
    "start_time": "2024-12-06T18:23:11.885Z"
   },
   {
    "duration": 22,
    "start_time": "2024-12-06T18:23:11.899Z"
   },
   {
    "duration": 1335,
    "start_time": "2024-12-06T18:23:11.922Z"
   },
   {
    "duration": 44,
    "start_time": "2024-12-06T18:23:13.259Z"
   },
   {
    "duration": 1417,
    "start_time": "2024-12-06T18:23:13.305Z"
   },
   {
    "duration": 24,
    "start_time": "2024-12-06T18:23:14.723Z"
   },
   {
    "duration": 1283,
    "start_time": "2024-12-06T18:23:14.748Z"
   },
   {
    "duration": 6,
    "start_time": "2024-12-06T18:23:16.032Z"
   },
   {
    "duration": 45,
    "start_time": "2024-12-06T18:23:16.040Z"
   },
   {
    "duration": 30,
    "start_time": "2024-12-06T18:23:16.088Z"
   },
   {
    "duration": 49,
    "start_time": "2024-12-06T18:23:16.119Z"
   },
   {
    "duration": 634,
    "start_time": "2024-12-06T18:23:16.182Z"
   },
   {
    "duration": 399,
    "start_time": "2024-12-06T18:23:16.818Z"
   },
   {
    "duration": 5,
    "start_time": "2024-12-06T18:23:17.218Z"
   },
   {
    "duration": 22753,
    "start_time": "2024-12-06T18:23:17.225Z"
   },
   {
    "duration": 496,
    "start_time": "2024-12-06T18:23:39.982Z"
   },
   {
    "duration": 6,
    "start_time": "2024-12-06T18:23:40.479Z"
   },
   {
    "duration": 221,
    "start_time": "2024-12-06T18:23:40.487Z"
   },
   {
    "duration": 68,
    "start_time": "2024-12-06T18:23:40.710Z"
   },
   {
    "duration": 90,
    "start_time": "2024-12-06T18:23:40.781Z"
   },
   {
    "duration": 91604,
    "start_time": "2024-12-06T18:23:40.874Z"
   },
   {
    "duration": 991,
    "start_time": "2024-12-06T18:25:12.480Z"
   },
   {
    "duration": 292342,
    "start_time": "2024-12-06T18:25:13.476Z"
   },
   {
    "duration": 21477,
    "start_time": "2024-12-06T18:30:05.820Z"
   },
   {
    "duration": 125,
    "start_time": "2024-12-06T18:30:27.299Z"
   },
   {
    "duration": 5,
    "start_time": "2024-12-06T18:30:27.425Z"
   },
   {
    "duration": 291317,
    "start_time": "2024-12-06T18:30:27.431Z"
   },
   {
    "duration": 22418,
    "start_time": "2024-12-06T18:35:18.749Z"
   },
   {
    "duration": 65,
    "start_time": "2024-12-06T18:35:41.173Z"
   },
   {
    "duration": 8,
    "start_time": "2024-12-06T18:35:41.240Z"
   },
   {
    "duration": 1674391,
    "start_time": "2024-12-06T18:35:41.250Z"
   },
   {
    "duration": 4032,
    "start_time": "2024-12-06T19:05:45.659Z"
   },
   {
    "duration": 923,
    "start_time": "2024-12-06T19:05:49.694Z"
   },
   {
    "duration": 4,
    "start_time": "2024-12-06T19:05:50.619Z"
   },
   {
    "duration": 2073,
    "start_time": "2024-12-06T19:05:50.624Z"
   },
   {
    "duration": 7,
    "start_time": "2024-12-06T19:05:52.699Z"
   },
   {
    "duration": 77,
    "start_time": "2024-12-06T19:05:52.707Z"
   },
   {
    "duration": 210,
    "start_time": "2024-12-06T19:05:52.786Z"
   },
   {
    "duration": 401,
    "start_time": "2024-12-06T19:05:52.997Z"
   },
   {
    "duration": 36,
    "start_time": "2024-12-06T19:05:53.400Z"
   },
   {
    "duration": 34,
    "start_time": "2024-12-06T19:05:53.437Z"
   },
   {
    "duration": 55,
    "start_time": "2024-12-06T19:05:53.473Z"
   },
   {
    "duration": 27,
    "start_time": "2024-12-06T19:05:53.529Z"
   },
   {
    "duration": 56,
    "start_time": "2024-12-06T19:05:53.557Z"
   },
   {
    "duration": 20,
    "start_time": "2024-12-06T19:05:53.616Z"
   },
   {
    "duration": 51,
    "start_time": "2024-12-06T19:05:53.638Z"
   },
   {
    "duration": 32,
    "start_time": "2024-12-06T19:05:53.691Z"
   },
   {
    "duration": 51,
    "start_time": "2024-12-06T19:05:53.725Z"
   },
   {
    "duration": 120,
    "start_time": "2024-12-06T19:05:53.778Z"
   },
   {
    "duration": 9,
    "start_time": "2024-12-06T19:05:53.899Z"
   },
   {
    "duration": 21,
    "start_time": "2024-12-06T19:05:53.910Z"
   },
   {
    "duration": 1408,
    "start_time": "2024-12-06T19:05:53.933Z"
   },
   {
    "duration": 49,
    "start_time": "2024-12-06T19:05:55.344Z"
   },
   {
    "duration": 1335,
    "start_time": "2024-12-06T19:05:55.395Z"
   },
   {
    "duration": 22,
    "start_time": "2024-12-06T19:05:56.732Z"
   },
   {
    "duration": 1292,
    "start_time": "2024-12-06T19:05:56.770Z"
   },
   {
    "duration": 22,
    "start_time": "2024-12-06T19:05:58.063Z"
   },
   {
    "duration": 27,
    "start_time": "2024-12-06T19:05:58.086Z"
   },
   {
    "duration": 12,
    "start_time": "2024-12-06T19:05:58.114Z"
   },
   {
    "duration": 66,
    "start_time": "2024-12-06T19:05:58.128Z"
   },
   {
    "duration": 635,
    "start_time": "2024-12-06T19:05:58.196Z"
   },
   {
    "duration": 415,
    "start_time": "2024-12-06T19:05:58.833Z"
   },
   {
    "duration": 5,
    "start_time": "2024-12-06T19:05:59.250Z"
   },
   {
    "duration": 24617,
    "start_time": "2024-12-06T19:05:59.256Z"
   },
   {
    "duration": 511,
    "start_time": "2024-12-06T19:06:23.874Z"
   },
   {
    "duration": 89,
    "start_time": "2024-12-06T19:06:24.387Z"
   },
   {
    "duration": 46,
    "start_time": "2024-12-06T19:06:24.479Z"
   },
   {
    "duration": 53,
    "start_time": "2024-12-06T19:06:24.527Z"
   },
   {
    "duration": 108,
    "start_time": "2024-12-06T19:06:24.582Z"
   },
   {
    "duration": 101683,
    "start_time": "2024-12-06T19:06:24.693Z"
   },
   {
    "duration": 996,
    "start_time": "2024-12-06T19:08:06.384Z"
   },
   {
    "duration": 308307,
    "start_time": "2024-12-06T19:08:07.391Z"
   },
   {
    "duration": 4206,
    "start_time": "2024-12-06T19:15:40.895Z"
   },
   {
    "duration": 1012,
    "start_time": "2024-12-06T19:15:45.103Z"
   },
   {
    "duration": 3,
    "start_time": "2024-12-06T19:15:46.117Z"
   },
   {
    "duration": 2150,
    "start_time": "2024-12-06T19:15:46.122Z"
   },
   {
    "duration": 13,
    "start_time": "2024-12-06T19:15:48.277Z"
   },
   {
    "duration": 25,
    "start_time": "2024-12-06T19:15:48.297Z"
   },
   {
    "duration": 236,
    "start_time": "2024-12-06T19:15:48.324Z"
   },
   {
    "duration": 450,
    "start_time": "2024-12-06T19:15:48.562Z"
   },
   {
    "duration": 40,
    "start_time": "2024-12-06T19:15:49.014Z"
   },
   {
    "duration": 41,
    "start_time": "2024-12-06T19:15:49.055Z"
   },
   {
    "duration": 39,
    "start_time": "2024-12-06T19:15:49.100Z"
   },
   {
    "duration": 23,
    "start_time": "2024-12-06T19:15:49.141Z"
   },
   {
    "duration": 60,
    "start_time": "2024-12-06T19:15:49.171Z"
   },
   {
    "duration": 19,
    "start_time": "2024-12-06T19:15:49.234Z"
   },
   {
    "duration": 65,
    "start_time": "2024-12-06T19:15:49.255Z"
   },
   {
    "duration": 24,
    "start_time": "2024-12-06T19:15:49.322Z"
   },
   {
    "duration": 57,
    "start_time": "2024-12-06T19:15:49.348Z"
   },
   {
    "duration": 19,
    "start_time": "2024-12-06T19:15:49.407Z"
   },
   {
    "duration": 6,
    "start_time": "2024-12-06T19:15:49.428Z"
   },
   {
    "duration": 16,
    "start_time": "2024-12-06T19:15:49.435Z"
   },
   {
    "duration": 1482,
    "start_time": "2024-12-06T19:15:49.468Z"
   },
   {
    "duration": 57,
    "start_time": "2024-12-06T19:15:50.952Z"
   },
   {
    "duration": 1469,
    "start_time": "2024-12-06T19:15:51.011Z"
   },
   {
    "duration": 23,
    "start_time": "2024-12-06T19:15:52.487Z"
   },
   {
    "duration": 1363,
    "start_time": "2024-12-06T19:15:52.512Z"
   },
   {
    "duration": 14,
    "start_time": "2024-12-06T19:15:53.877Z"
   },
   {
    "duration": 65,
    "start_time": "2024-12-06T19:15:53.892Z"
   },
   {
    "duration": 21,
    "start_time": "2024-12-06T19:15:53.960Z"
   },
   {
    "duration": 49,
    "start_time": "2024-12-06T19:15:53.994Z"
   },
   {
    "duration": 708,
    "start_time": "2024-12-06T19:15:54.044Z"
   },
   {
    "duration": 454,
    "start_time": "2024-12-06T19:15:54.754Z"
   },
   {
    "duration": 5,
    "start_time": "2024-12-06T19:15:55.210Z"
   },
   {
    "duration": 20270,
    "start_time": "2024-12-06T19:15:55.216Z"
   },
   {
    "duration": 581,
    "start_time": "2024-12-06T19:16:15.492Z"
   },
   {
    "duration": 9,
    "start_time": "2024-12-06T19:16:16.076Z"
   },
   {
    "duration": 141,
    "start_time": "2024-12-06T19:16:16.088Z"
   },
   {
    "duration": 59,
    "start_time": "2024-12-06T19:16:16.230Z"
   },
   {
    "duration": 92,
    "start_time": "2024-12-06T19:16:16.294Z"
   },
   {
    "duration": 95782,
    "start_time": "2024-12-06T19:16:16.390Z"
   },
   {
    "duration": 1015,
    "start_time": "2024-12-06T19:17:52.174Z"
   },
   {
    "duration": 312164,
    "start_time": "2024-12-06T19:17:53.200Z"
   },
   {
    "duration": 23330,
    "start_time": "2024-12-06T19:23:05.365Z"
   },
   {
    "duration": 131,
    "start_time": "2024-12-06T19:23:28.697Z"
   },
   {
    "duration": 5,
    "start_time": "2024-12-06T19:23:28.830Z"
   },
   {
    "duration": 307779,
    "start_time": "2024-12-06T19:23:28.837Z"
   },
   {
    "duration": 23009,
    "start_time": "2024-12-06T19:28:36.618Z"
   },
   {
    "duration": 69,
    "start_time": "2024-12-06T19:28:59.628Z"
   },
   {
    "duration": 5,
    "start_time": "2024-12-06T19:28:59.699Z"
   },
   {
    "duration": 2174778,
    "start_time": "2024-12-06T19:28:59.705Z"
   },
   {
    "duration": 4926,
    "start_time": "2024-12-06T20:05:27.715Z"
   },
   {
    "duration": 1677,
    "start_time": "2024-12-06T20:05:32.644Z"
   },
   {
    "duration": 942,
    "start_time": "2024-12-06T20:05:34.322Z"
   },
   {
    "duration": 18,
    "start_time": "2024-12-06T20:05:35.265Z"
   },
   {
    "duration": 1977,
    "start_time": "2024-12-06T20:05:35.286Z"
   },
   {
    "duration": 16,
    "start_time": "2024-12-06T20:05:37.270Z"
   },
   {
    "duration": 21,
    "start_time": "2024-12-06T20:05:37.287Z"
   },
   {
    "duration": 229,
    "start_time": "2024-12-06T20:05:37.310Z"
   },
   {
    "duration": 412,
    "start_time": "2024-12-06T20:05:37.541Z"
   },
   {
    "duration": 47,
    "start_time": "2024-12-06T20:05:37.955Z"
   },
   {
    "duration": 52,
    "start_time": "2024-12-06T20:05:38.003Z"
   },
   {
    "duration": 65,
    "start_time": "2024-12-06T20:05:38.057Z"
   },
   {
    "duration": 18,
    "start_time": "2024-12-06T20:05:38.124Z"
   },
   {
    "duration": 56,
    "start_time": "2024-12-06T20:05:38.145Z"
   },
   {
    "duration": 16,
    "start_time": "2024-12-06T20:05:38.202Z"
   },
   {
    "duration": 37,
    "start_time": "2024-12-06T20:05:38.219Z"
   },
   {
    "duration": 33,
    "start_time": "2024-12-06T20:05:38.257Z"
   },
   {
    "duration": 35,
    "start_time": "2024-12-06T20:05:38.291Z"
   },
   {
    "duration": 18,
    "start_time": "2024-12-06T20:05:38.327Z"
   },
   {
    "duration": 33,
    "start_time": "2024-12-06T20:05:38.346Z"
   },
   {
    "duration": 38,
    "start_time": "2024-12-06T20:05:38.381Z"
   },
   {
    "duration": 1329,
    "start_time": "2024-12-06T20:05:38.420Z"
   },
   {
    "duration": 44,
    "start_time": "2024-12-06T20:05:39.750Z"
   },
   {
    "duration": 1417,
    "start_time": "2024-12-06T20:05:39.795Z"
   },
   {
    "duration": 27,
    "start_time": "2024-12-06T20:05:41.215Z"
   },
   {
    "duration": 1298,
    "start_time": "2024-12-06T20:05:41.244Z"
   },
   {
    "duration": 7,
    "start_time": "2024-12-06T20:05:42.543Z"
   },
   {
    "duration": 60,
    "start_time": "2024-12-06T20:05:42.551Z"
   },
   {
    "duration": 21,
    "start_time": "2024-12-06T20:05:42.613Z"
   },
   {
    "duration": 46,
    "start_time": "2024-12-06T20:05:42.635Z"
   },
   {
    "duration": 641,
    "start_time": "2024-12-06T20:05:42.683Z"
   },
   {
    "duration": 411,
    "start_time": "2024-12-06T20:05:43.325Z"
   },
   {
    "duration": 6,
    "start_time": "2024-12-06T20:05:43.737Z"
   },
   {
    "duration": 22831,
    "start_time": "2024-12-06T20:05:43.744Z"
   },
   {
    "duration": 498,
    "start_time": "2024-12-06T20:06:06.579Z"
   },
   {
    "duration": 7,
    "start_time": "2024-12-06T20:06:07.079Z"
   },
   {
    "duration": 200,
    "start_time": "2024-12-06T20:06:07.088Z"
   },
   {
    "duration": 81,
    "start_time": "2024-12-06T20:06:07.289Z"
   },
   {
    "duration": 102,
    "start_time": "2024-12-06T20:06:07.374Z"
   },
   {
    "duration": 93607,
    "start_time": "2024-12-06T20:06:07.478Z"
   },
   {
    "duration": 902,
    "start_time": "2024-12-06T20:07:41.091Z"
   },
   {
    "duration": 300369,
    "start_time": "2024-12-06T20:07:42.070Z"
   },
   {
    "duration": 21891,
    "start_time": "2024-12-06T20:12:42.440Z"
   },
   {
    "duration": 148,
    "start_time": "2024-12-06T20:13:04.333Z"
   },
   {
    "duration": 5,
    "start_time": "2024-12-06T20:13:04.483Z"
   },
   {
    "duration": 296258,
    "start_time": "2024-12-06T20:13:04.490Z"
   },
   {
    "duration": 23267,
    "start_time": "2024-12-06T20:18:00.749Z"
   },
   {
    "duration": 67,
    "start_time": "2024-12-06T20:18:24.018Z"
   },
   {
    "duration": 6,
    "start_time": "2024-12-06T20:18:24.086Z"
   },
   {
    "duration": 2061431,
    "start_time": "2024-12-06T20:18:24.094Z"
   },
   {
    "duration": 613158,
    "start_time": "2024-12-06T20:52:45.527Z"
   },
   {
    "duration": 811,
    "start_time": "2024-12-06T21:02:58.689Z"
   },
   {
    "duration": 6,
    "start_time": "2024-12-06T21:02:59.502Z"
   },
   {
    "duration": 2557,
    "start_time": "2024-12-06T21:06:05.091Z"
   },
   {
    "duration": 1453,
    "start_time": "2024-12-06T21:06:07.651Z"
   },
   {
    "duration": 929,
    "start_time": "2024-12-06T21:06:09.105Z"
   },
   {
    "duration": 4,
    "start_time": "2024-12-06T21:06:10.036Z"
   },
   {
    "duration": 2189,
    "start_time": "2024-12-06T21:06:10.043Z"
   },
   {
    "duration": 6,
    "start_time": "2024-12-06T21:06:12.234Z"
   },
   {
    "duration": 70,
    "start_time": "2024-12-06T21:06:12.241Z"
   },
   {
    "duration": 140,
    "start_time": "2024-12-06T21:06:12.313Z"
   },
   {
    "duration": 57,
    "start_time": "2024-12-06T21:06:12.454Z"
   },
   {
    "duration": 1587,
    "start_time": "2024-12-06T21:06:12.513Z"
   },
   {
    "duration": 0,
    "start_time": "2024-12-06T21:06:14.101Z"
   },
   {
    "duration": 111,
    "start_time": "2024-12-06T21:06:20.599Z"
   },
   {
    "duration": 155,
    "start_time": "2024-12-06T21:06:23.043Z"
   },
   {
    "duration": 9,
    "start_time": "2024-12-06T21:08:07.196Z"
   },
   {
    "duration": 36,
    "start_time": "2024-12-06T21:08:15.031Z"
   },
   {
    "duration": 47,
    "start_time": "2024-12-06T21:09:26.159Z"
   },
   {
    "duration": 9,
    "start_time": "2024-12-06T21:10:01.798Z"
   },
   {
    "duration": 36,
    "start_time": "2024-12-06T21:10:09.366Z"
   },
   {
    "duration": 2438,
    "start_time": "2024-12-06T21:11:37.422Z"
   },
   {
    "duration": 1514,
    "start_time": "2024-12-06T21:11:39.863Z"
   },
   {
    "duration": 888,
    "start_time": "2024-12-06T21:11:41.381Z"
   },
   {
    "duration": 3,
    "start_time": "2024-12-06T21:11:42.272Z"
   },
   {
    "duration": 1883,
    "start_time": "2024-12-06T21:11:42.277Z"
   },
   {
    "duration": 10,
    "start_time": "2024-12-06T21:11:44.162Z"
   },
   {
    "duration": 46,
    "start_time": "2024-12-06T21:11:44.174Z"
   },
   {
    "duration": 99,
    "start_time": "2024-12-06T21:11:44.222Z"
   },
   {
    "duration": 49,
    "start_time": "2024-12-06T21:11:44.322Z"
   },
   {
    "duration": 160,
    "start_time": "2024-12-06T21:11:44.373Z"
   },
   {
    "duration": 144,
    "start_time": "2024-12-06T21:11:44.534Z"
   },
   {
    "duration": 37,
    "start_time": "2024-12-06T21:11:44.679Z"
   },
   {
    "duration": 96,
    "start_time": "2024-12-06T21:11:44.719Z"
   },
   {
    "duration": 36,
    "start_time": "2024-12-06T21:11:44.817Z"
   },
   {
    "duration": 19,
    "start_time": "2024-12-06T21:12:25.418Z"
   },
   {
    "duration": 38,
    "start_time": "2024-12-06T21:12:54.178Z"
   },
   {
    "duration": 65,
    "start_time": "2024-12-06T21:14:17.780Z"
   },
   {
    "duration": 88,
    "start_time": "2024-12-06T21:14:35.480Z"
   },
   {
    "duration": 7,
    "start_time": "2024-12-06T21:15:10.354Z"
   },
   {
    "duration": 107,
    "start_time": "2024-12-06T21:17:44.886Z"
   },
   {
    "duration": 12,
    "start_time": "2024-12-06T21:17:50.364Z"
   },
   {
    "duration": 10,
    "start_time": "2024-12-06T21:18:13.908Z"
   },
   {
    "duration": 9,
    "start_time": "2024-12-06T21:18:37.922Z"
   },
   {
    "duration": 10,
    "start_time": "2024-12-06T21:18:52.814Z"
   },
   {
    "duration": 2478,
    "start_time": "2024-12-06T21:18:59.548Z"
   },
   {
    "duration": 1465,
    "start_time": "2024-12-06T21:19:02.029Z"
   },
   {
    "duration": 918,
    "start_time": "2024-12-06T21:19:03.496Z"
   },
   {
    "duration": 5,
    "start_time": "2024-12-06T21:19:04.417Z"
   },
   {
    "duration": 1959,
    "start_time": "2024-12-06T21:19:04.426Z"
   },
   {
    "duration": 7,
    "start_time": "2024-12-06T21:19:06.386Z"
   },
   {
    "duration": 66,
    "start_time": "2024-12-06T21:19:06.395Z"
   },
   {
    "duration": 52,
    "start_time": "2024-12-06T21:19:06.463Z"
   },
   {
    "duration": 85,
    "start_time": "2024-12-06T21:19:06.516Z"
   },
   {
    "duration": 36,
    "start_time": "2024-12-06T21:19:06.602Z"
   },
   {
    "duration": 109,
    "start_time": "2024-12-06T21:19:06.640Z"
   },
   {
    "duration": 143,
    "start_time": "2024-12-06T21:19:06.751Z"
   },
   {
    "duration": 36,
    "start_time": "2024-12-06T21:19:06.895Z"
   },
   {
    "duration": 79,
    "start_time": "2024-12-06T21:19:06.934Z"
   },
   {
    "duration": 35,
    "start_time": "2024-12-06T21:19:07.015Z"
   },
   {
    "duration": 30,
    "start_time": "2024-12-06T21:19:07.052Z"
   },
   {
    "duration": 72,
    "start_time": "2024-12-06T21:19:07.084Z"
   },
   {
    "duration": 131,
    "start_time": "2024-12-06T21:19:07.157Z"
   },
   {
    "duration": 303,
    "start_time": "2024-12-06T21:19:07.290Z"
   },
   {
    "duration": 16,
    "start_time": "2024-12-06T21:19:07.595Z"
   },
   {
    "duration": 32,
    "start_time": "2024-12-06T21:19:07.612Z"
   },
   {
    "duration": 29,
    "start_time": "2024-12-06T21:21:19.921Z"
   },
   {
    "duration": 8,
    "start_time": "2024-12-06T21:21:51.575Z"
   },
   {
    "duration": 91,
    "start_time": "2024-12-06T21:25:15.612Z"
   },
   {
    "duration": 144,
    "start_time": "2024-12-06T21:25:25.263Z"
   },
   {
    "duration": 174,
    "start_time": "2024-12-06T21:25:30.636Z"
   },
   {
    "duration": 10,
    "start_time": "2024-12-06T21:26:03.719Z"
   },
   {
    "duration": 22,
    "start_time": "2024-12-06T21:26:49.179Z"
   },
   {
    "duration": 137,
    "start_time": "2024-12-06T21:27:17.028Z"
   },
   {
    "duration": 10,
    "start_time": "2024-12-06T21:27:45.568Z"
   },
   {
    "duration": 306,
    "start_time": "2024-12-06T21:28:00.409Z"
   },
   {
    "duration": 12,
    "start_time": "2024-12-06T21:29:11.764Z"
   },
   {
    "duration": 2513,
    "start_time": "2024-12-06T21:30:23.711Z"
   },
   {
    "duration": 1444,
    "start_time": "2024-12-06T21:30:26.227Z"
   },
   {
    "duration": 877,
    "start_time": "2024-12-06T21:30:27.673Z"
   },
   {
    "duration": 3,
    "start_time": "2024-12-06T21:30:28.552Z"
   },
   {
    "duration": 1902,
    "start_time": "2024-12-06T21:30:28.557Z"
   },
   {
    "duration": 12,
    "start_time": "2024-12-06T21:30:30.462Z"
   },
   {
    "duration": 94,
    "start_time": "2024-12-06T21:30:30.476Z"
   },
   {
    "duration": 71,
    "start_time": "2024-12-06T21:30:30.572Z"
   },
   {
    "duration": 105,
    "start_time": "2024-12-06T21:30:30.645Z"
   },
   {
    "duration": 43,
    "start_time": "2024-12-06T21:30:30.752Z"
   },
   {
    "duration": 136,
    "start_time": "2024-12-06T21:30:30.797Z"
   },
   {
    "duration": 141,
    "start_time": "2024-12-06T21:30:30.935Z"
   },
   {
    "duration": 39,
    "start_time": "2024-12-06T21:30:31.078Z"
   },
   {
    "duration": 63,
    "start_time": "2024-12-06T21:30:31.120Z"
   },
   {
    "duration": 36,
    "start_time": "2024-12-06T21:30:31.185Z"
   },
   {
    "duration": 34,
    "start_time": "2024-12-06T21:30:31.222Z"
   },
   {
    "duration": 70,
    "start_time": "2024-12-06T21:30:31.258Z"
   },
   {
    "duration": 215,
    "start_time": "2024-12-06T21:30:31.330Z"
   },
   {
    "duration": 108,
    "start_time": "2024-12-06T21:30:31.546Z"
   },
   {
    "duration": 16,
    "start_time": "2024-12-06T21:30:31.655Z"
   },
   {
    "duration": 57,
    "start_time": "2024-12-06T21:30:31.673Z"
   },
   {
    "duration": 10,
    "start_time": "2024-12-06T21:30:31.732Z"
   },
   {
    "duration": 267,
    "start_time": "2024-12-06T21:30:31.744Z"
   },
   {
    "duration": 9,
    "start_time": "2024-12-06T21:30:32.014Z"
   },
   {
    "duration": 44,
    "start_time": "2024-12-06T21:30:32.025Z"
   },
   {
    "duration": 142,
    "start_time": "2024-12-06T21:30:32.071Z"
   },
   {
    "duration": 288,
    "start_time": "2024-12-06T21:30:32.215Z"
   },
   {
    "duration": 11,
    "start_time": "2024-12-06T21:30:32.505Z"
   },
   {
    "duration": 623,
    "start_time": "2024-12-06T21:31:15.362Z"
   },
   {
    "duration": 418,
    "start_time": "2024-12-06T21:32:05.547Z"
   },
   {
    "duration": 6,
    "start_time": "2024-12-06T21:32:33.461Z"
   },
   {
    "duration": 5,
    "start_time": "2024-12-06T21:32:52.202Z"
   },
   {
    "duration": 18568,
    "start_time": "2024-12-06T21:33:14.986Z"
   },
   {
    "duration": 694,
    "start_time": "2024-12-06T21:33:33.556Z"
   },
   {
    "duration": 439,
    "start_time": "2024-12-06T21:33:34.252Z"
   },
   {
    "duration": 6,
    "start_time": "2024-12-06T21:33:34.693Z"
   },
   {
    "duration": 14,
    "start_time": "2024-12-06T21:33:34.701Z"
   },
   {
    "duration": 17021,
    "start_time": "2024-12-06T21:33:34.717Z"
   },
   {
    "duration": 3,
    "start_time": "2024-12-06T21:34:06.178Z"
   },
   {
    "duration": 2407,
    "start_time": "2024-12-06T21:34:41.332Z"
   },
   {
    "duration": 1520,
    "start_time": "2024-12-06T21:34:43.742Z"
   },
   {
    "duration": 1273,
    "start_time": "2024-12-06T21:34:45.265Z"
   },
   {
    "duration": 4,
    "start_time": "2024-12-06T21:34:46.540Z"
   },
   {
    "duration": 1889,
    "start_time": "2024-12-06T21:34:46.546Z"
   },
   {
    "duration": 6,
    "start_time": "2024-12-06T21:34:48.437Z"
   },
   {
    "duration": 73,
    "start_time": "2024-12-06T21:34:48.445Z"
   },
   {
    "duration": 68,
    "start_time": "2024-12-06T21:34:48.520Z"
   },
   {
    "duration": 80,
    "start_time": "2024-12-06T21:34:48.590Z"
   },
   {
    "duration": 33,
    "start_time": "2024-12-06T21:34:48.672Z"
   },
   {
    "duration": 103,
    "start_time": "2024-12-06T21:34:48.707Z"
   },
   {
    "duration": 146,
    "start_time": "2024-12-06T21:34:48.811Z"
   },
   {
    "duration": 37,
    "start_time": "2024-12-06T21:34:48.969Z"
   },
   {
    "duration": 61,
    "start_time": "2024-12-06T21:34:49.007Z"
   },
   {
    "duration": 35,
    "start_time": "2024-12-06T21:34:49.070Z"
   },
   {
    "duration": 28,
    "start_time": "2024-12-06T21:34:49.106Z"
   },
   {
    "duration": 60,
    "start_time": "2024-12-06T21:34:49.136Z"
   },
   {
    "duration": 55,
    "start_time": "2024-12-06T21:34:49.198Z"
   },
   {
    "duration": 89,
    "start_time": "2024-12-06T21:34:49.255Z"
   },
   {
    "duration": 42,
    "start_time": "2024-12-06T21:34:49.346Z"
   },
   {
    "duration": 21,
    "start_time": "2024-12-06T21:34:49.390Z"
   },
   {
    "duration": 174,
    "start_time": "2024-12-06T21:34:49.413Z"
   },
   {
    "duration": 280,
    "start_time": "2024-12-06T21:34:49.589Z"
   },
   {
    "duration": 9,
    "start_time": "2024-12-06T21:34:49.870Z"
   },
   {
    "duration": 21,
    "start_time": "2024-12-06T21:34:49.880Z"
   },
   {
    "duration": 148,
    "start_time": "2024-12-06T21:34:49.903Z"
   },
   {
    "duration": 290,
    "start_time": "2024-12-06T21:34:50.052Z"
   },
   {
    "duration": 11,
    "start_time": "2024-12-06T21:34:50.343Z"
   },
   {
    "duration": 633,
    "start_time": "2024-12-06T21:34:50.356Z"
   },
   {
    "duration": 429,
    "start_time": "2024-12-06T21:34:50.991Z"
   },
   {
    "duration": 7,
    "start_time": "2024-12-06T21:34:51.421Z"
   },
   {
    "duration": 156,
    "start_time": "2024-12-06T21:34:51.429Z"
   },
   {
    "duration": 18206,
    "start_time": "2024-12-06T21:34:51.587Z"
   },
   {
    "duration": 18477,
    "start_time": "2024-12-06T21:35:09.794Z"
   },
   {
    "duration": 2303,
    "start_time": "2024-12-06T21:38:07.586Z"
   },
   {
    "duration": 1463,
    "start_time": "2024-12-06T21:38:09.891Z"
   },
   {
    "duration": 875,
    "start_time": "2024-12-06T21:38:11.356Z"
   },
   {
    "duration": 4,
    "start_time": "2024-12-06T21:38:12.233Z"
   },
   {
    "duration": 1858,
    "start_time": "2024-12-06T21:38:12.240Z"
   },
   {
    "duration": 6,
    "start_time": "2024-12-06T21:38:14.100Z"
   },
   {
    "duration": 33,
    "start_time": "2024-12-06T21:38:14.108Z"
   },
   {
    "duration": 59,
    "start_time": "2024-12-06T21:38:14.143Z"
   },
   {
    "duration": 84,
    "start_time": "2024-12-06T21:38:14.204Z"
   },
   {
    "duration": 35,
    "start_time": "2024-12-06T21:38:14.290Z"
   },
   {
    "duration": 135,
    "start_time": "2024-12-06T21:38:14.327Z"
   },
   {
    "duration": 138,
    "start_time": "2024-12-06T21:38:14.468Z"
   },
   {
    "duration": 34,
    "start_time": "2024-12-06T21:38:14.608Z"
   },
   {
    "duration": 62,
    "start_time": "2024-12-06T21:38:14.645Z"
   },
   {
    "duration": 33,
    "start_time": "2024-12-06T21:38:14.709Z"
   },
   {
    "duration": 27,
    "start_time": "2024-12-06T21:38:14.744Z"
   },
   {
    "duration": 95,
    "start_time": "2024-12-06T21:38:14.773Z"
   },
   {
    "duration": 54,
    "start_time": "2024-12-06T21:38:14.870Z"
   },
   {
    "duration": 91,
    "start_time": "2024-12-06T21:38:14.926Z"
   },
   {
    "duration": 55,
    "start_time": "2024-12-06T21:38:15.019Z"
   },
   {
    "duration": 61,
    "start_time": "2024-12-06T21:38:15.075Z"
   },
   {
    "duration": 59,
    "start_time": "2024-12-06T21:38:15.137Z"
   },
   {
    "duration": 254,
    "start_time": "2024-12-06T21:38:15.198Z"
   },
   {
    "duration": 16,
    "start_time": "2024-12-06T21:38:15.453Z"
   },
   {
    "duration": 157,
    "start_time": "2024-12-06T21:38:15.471Z"
   },
   {
    "duration": 131,
    "start_time": "2024-12-06T21:38:15.630Z"
   },
   {
    "duration": 287,
    "start_time": "2024-12-06T21:38:15.763Z"
   },
   {
    "duration": 19,
    "start_time": "2024-12-06T21:38:16.052Z"
   },
   {
    "duration": 566,
    "start_time": "2024-12-06T21:38:16.072Z"
   },
   {
    "duration": 416,
    "start_time": "2024-12-06T21:38:16.639Z"
   },
   {
    "duration": 14,
    "start_time": "2024-12-06T21:38:17.056Z"
   },
   {
    "duration": 10,
    "start_time": "2024-12-06T21:38:17.072Z"
   },
   {
    "duration": 17975,
    "start_time": "2024-12-06T21:38:17.083Z"
   },
   {
    "duration": 18812,
    "start_time": "2024-12-06T21:38:35.059Z"
   },
   {
    "duration": 1401,
    "start_time": "2024-12-06T21:38:53.873Z"
   },
   {
    "duration": 48,
    "start_time": "2024-12-06T21:38:55.276Z"
   },
   {
    "duration": 2427,
    "start_time": "2024-12-06T21:38:55.326Z"
   },
   {
    "duration": 2491,
    "start_time": "2024-12-06T21:39:24.217Z"
   },
   {
    "duration": 394929,
    "start_time": "2024-12-06T21:41:28.533Z"
   },
   {
    "duration": 40,
    "start_time": "2024-12-06T21:48:03.469Z"
   },
   {
    "duration": 5573,
    "start_time": "2024-12-06T21:48:03.511Z"
   },
   {
    "duration": 2363,
    "start_time": "2024-12-06T22:08:15.476Z"
   },
   {
    "duration": 1525,
    "start_time": "2024-12-06T22:08:17.842Z"
   },
   {
    "duration": 872,
    "start_time": "2024-12-06T22:08:19.368Z"
   },
   {
    "duration": 4,
    "start_time": "2024-12-06T22:08:20.242Z"
   },
   {
    "duration": 1978,
    "start_time": "2024-12-06T22:08:20.247Z"
   },
   {
    "duration": 6,
    "start_time": "2024-12-06T22:08:22.227Z"
   },
   {
    "duration": 45,
    "start_time": "2024-12-06T22:08:22.234Z"
   },
   {
    "duration": 48,
    "start_time": "2024-12-06T22:08:22.281Z"
   },
   {
    "duration": 87,
    "start_time": "2024-12-06T22:08:22.331Z"
   },
   {
    "duration": 52,
    "start_time": "2024-12-06T22:08:22.420Z"
   },
   {
    "duration": 96,
    "start_time": "2024-12-06T22:08:22.474Z"
   },
   {
    "duration": 141,
    "start_time": "2024-12-06T22:08:22.572Z"
   },
   {
    "duration": 36,
    "start_time": "2024-12-06T22:08:22.715Z"
   },
   {
    "duration": 47,
    "start_time": "2024-12-06T22:08:22.768Z"
   },
   {
    "duration": 35,
    "start_time": "2024-12-06T22:08:22.817Z"
   },
   {
    "duration": 39,
    "start_time": "2024-12-06T22:08:22.870Z"
   },
   {
    "duration": 42,
    "start_time": "2024-12-06T22:08:22.911Z"
   },
   {
    "duration": 54,
    "start_time": "2024-12-06T22:08:22.954Z"
   },
   {
    "duration": 97,
    "start_time": "2024-12-06T22:08:23.010Z"
   },
   {
    "duration": 13,
    "start_time": "2024-12-06T22:08:23.108Z"
   },
   {
    "duration": 21,
    "start_time": "2024-12-06T22:08:23.123Z"
   },
   {
    "duration": 24,
    "start_time": "2024-12-06T22:08:23.146Z"
   },
   {
    "duration": 252,
    "start_time": "2024-12-06T22:08:23.172Z"
   },
   {
    "duration": 8,
    "start_time": "2024-12-06T22:08:23.426Z"
   },
   {
    "duration": 39,
    "start_time": "2024-12-06T22:08:23.435Z"
   },
   {
    "duration": 142,
    "start_time": "2024-12-06T22:08:23.476Z"
   },
   {
    "duration": 282,
    "start_time": "2024-12-06T22:08:23.620Z"
   },
   {
    "duration": 11,
    "start_time": "2024-12-06T22:08:23.904Z"
   },
   {
    "duration": 604,
    "start_time": "2024-12-06T22:08:23.916Z"
   },
   {
    "duration": 420,
    "start_time": "2024-12-06T22:08:24.521Z"
   },
   {
    "duration": 6,
    "start_time": "2024-12-06T22:08:24.943Z"
   },
   {
    "duration": 21,
    "start_time": "2024-12-06T22:08:24.951Z"
   },
   {
    "duration": 18165,
    "start_time": "2024-12-06T22:08:24.974Z"
   },
   {
    "duration": 17830,
    "start_time": "2024-12-06T22:08:43.141Z"
   },
   {
    "duration": 1414,
    "start_time": "2024-12-06T22:09:00.973Z"
   },
   {
    "duration": 50,
    "start_time": "2024-12-06T22:09:02.388Z"
   },
   {
    "duration": 2427,
    "start_time": "2024-12-06T22:09:02.439Z"
   },
   {
    "duration": 391077,
    "start_time": "2024-12-06T22:09:04.870Z"
   },
   {
    "duration": 54,
    "start_time": "2024-12-06T22:15:35.949Z"
   },
   {
    "duration": 5776,
    "start_time": "2024-12-06T22:15:36.004Z"
   },
   {
    "duration": 5432397,
    "start_time": "2024-12-06T22:15:41.784Z"
   },
   {
    "duration": 17139,
    "start_time": "2024-12-06T23:48:07.732Z"
   },
   {
    "duration": 196,
    "start_time": "2024-12-06T23:48:26.974Z"
   },
   {
    "duration": 360,
    "start_time": "2024-12-06T23:48:29.962Z"
   },
   {
    "duration": 24,
    "start_time": "2024-12-06T23:48:32.359Z"
   },
   {
    "duration": 226081,
    "start_time": "2024-12-06T23:48:35.234Z"
   },
   {
    "duration": 14111,
    "start_time": "2024-12-06T23:52:29.078Z"
   },
   {
    "duration": 42912,
    "start_time": "2024-12-06T23:53:18.058Z"
   },
   {
    "duration": 21337,
    "start_time": "2024-12-06T23:54:21.052Z"
   },
   {
    "duration": 7148,
    "start_time": "2024-12-06T23:55:02.344Z"
   },
   {
    "duration": 10,
    "start_time": "2024-12-06T23:55:47.830Z"
   },
   {
    "duration": 5787,
    "start_time": "2024-12-08T19:46:57.882Z"
   },
   {
    "duration": 2450,
    "start_time": "2024-12-08T19:47:03.672Z"
   },
   {
    "duration": 1294,
    "start_time": "2024-12-08T19:47:06.124Z"
   },
   {
    "duration": 4,
    "start_time": "2024-12-08T19:47:07.420Z"
   },
   {
    "duration": 2061,
    "start_time": "2024-12-08T19:47:07.426Z"
   },
   {
    "duration": 14,
    "start_time": "2024-12-08T19:47:09.488Z"
   },
   {
    "duration": 31,
    "start_time": "2024-12-08T19:47:09.513Z"
   },
   {
    "duration": 38,
    "start_time": "2024-12-08T19:47:09.546Z"
   },
   {
    "duration": 129,
    "start_time": "2024-12-08T19:47:09.586Z"
   },
   {
    "duration": 35,
    "start_time": "2024-12-08T19:47:09.717Z"
   },
   {
    "duration": 100,
    "start_time": "2024-12-08T19:47:09.754Z"
   },
   {
    "duration": 149,
    "start_time": "2024-12-08T19:47:09.856Z"
   },
   {
    "duration": 39,
    "start_time": "2024-12-08T19:47:10.011Z"
   },
   {
    "duration": 70,
    "start_time": "2024-12-08T19:47:10.054Z"
   },
   {
    "duration": 36,
    "start_time": "2024-12-08T19:47:10.126Z"
   },
   {
    "duration": 48,
    "start_time": "2024-12-08T19:47:10.164Z"
   },
   {
    "duration": 35,
    "start_time": "2024-12-08T19:47:10.216Z"
   },
   {
    "duration": 63,
    "start_time": "2024-12-08T19:47:10.252Z"
   },
   {
    "duration": 102,
    "start_time": "2024-12-08T19:47:10.316Z"
   },
   {
    "duration": 10,
    "start_time": "2024-12-08T19:47:10.419Z"
   },
   {
    "duration": 20,
    "start_time": "2024-12-08T19:47:10.431Z"
   },
   {
    "duration": 9,
    "start_time": "2024-12-08T19:47:10.452Z"
   },
   {
    "duration": 303,
    "start_time": "2024-12-08T19:47:10.463Z"
   },
   {
    "duration": 8,
    "start_time": "2024-12-08T19:47:10.768Z"
   },
   {
    "duration": 42,
    "start_time": "2024-12-08T19:47:10.777Z"
   },
   {
    "duration": 170,
    "start_time": "2024-12-08T19:47:10.822Z"
   },
   {
    "duration": 341,
    "start_time": "2024-12-08T19:47:10.993Z"
   },
   {
    "duration": 11,
    "start_time": "2024-12-08T19:47:11.336Z"
   },
   {
    "duration": 556,
    "start_time": "2024-12-08T19:47:11.349Z"
   },
   {
    "duration": 446,
    "start_time": "2024-12-08T19:47:11.906Z"
   },
   {
    "duration": 7,
    "start_time": "2024-12-08T19:47:12.353Z"
   },
   {
    "duration": 5,
    "start_time": "2024-12-08T19:47:12.362Z"
   },
   {
    "duration": 136,
    "start_time": "2024-12-08T19:47:41.873Z"
   },
   {
    "duration": 7,
    "start_time": "2024-12-08T19:47:45.953Z"
   },
   {
    "duration": 8,
    "start_time": "2024-12-08T19:47:49.846Z"
   },
   {
    "duration": 7,
    "start_time": "2024-12-08T19:47:53.051Z"
   },
   {
    "duration": 8,
    "start_time": "2024-12-08T19:47:54.431Z"
   },
   {
    "duration": 6,
    "start_time": "2024-12-08T19:47:56.087Z"
   },
   {
    "duration": 5712,
    "start_time": "2024-12-08T19:48:17.465Z"
   },
   {
    "duration": 2031,
    "start_time": "2024-12-08T19:48:23.181Z"
   },
   {
    "duration": 1239,
    "start_time": "2024-12-08T19:48:25.215Z"
   },
   {
    "duration": 3,
    "start_time": "2024-12-08T19:48:26.456Z"
   },
   {
    "duration": 2108,
    "start_time": "2024-12-08T19:48:26.461Z"
   },
   {
    "duration": 7,
    "start_time": "2024-12-08T19:48:28.570Z"
   },
   {
    "duration": 53,
    "start_time": "2024-12-08T19:48:28.578Z"
   },
   {
    "duration": 41,
    "start_time": "2024-12-08T19:48:28.633Z"
   },
   {
    "duration": 104,
    "start_time": "2024-12-08T19:48:28.676Z"
   },
   {
    "duration": 50,
    "start_time": "2024-12-08T19:48:28.782Z"
   },
   {
    "duration": 111,
    "start_time": "2024-12-08T19:48:28.833Z"
   },
   {
    "duration": 168,
    "start_time": "2024-12-08T19:48:28.945Z"
   },
   {
    "duration": 43,
    "start_time": "2024-12-08T19:48:29.114Z"
   },
   {
    "duration": 83,
    "start_time": "2024-12-08T19:48:29.162Z"
   },
   {
    "duration": 40,
    "start_time": "2024-12-08T19:48:29.247Z"
   },
   {
    "duration": 50,
    "start_time": "2024-12-08T19:48:29.289Z"
   },
   {
    "duration": 76,
    "start_time": "2024-12-08T19:48:29.341Z"
   },
   {
    "duration": 65,
    "start_time": "2024-12-08T19:48:29.419Z"
   },
   {
    "duration": 113,
    "start_time": "2024-12-08T19:48:29.486Z"
   },
   {
    "duration": 10,
    "start_time": "2024-12-08T19:48:29.601Z"
   },
   {
    "duration": 20,
    "start_time": "2024-12-08T19:48:29.617Z"
   },
   {
    "duration": 8,
    "start_time": "2024-12-08T19:48:29.639Z"
   },
   {
    "duration": 283,
    "start_time": "2024-12-08T19:48:29.649Z"
   },
   {
    "duration": 10,
    "start_time": "2024-12-08T19:48:29.933Z"
   },
   {
    "duration": 21,
    "start_time": "2024-12-08T19:48:29.945Z"
   },
   {
    "duration": 183,
    "start_time": "2024-12-08T19:48:29.968Z"
   },
   {
    "duration": 360,
    "start_time": "2024-12-08T19:48:30.153Z"
   },
   {
    "duration": 12,
    "start_time": "2024-12-08T19:48:30.515Z"
   },
   {
    "duration": 635,
    "start_time": "2024-12-08T19:48:30.528Z"
   },
   {
    "duration": 452,
    "start_time": "2024-12-08T19:48:31.165Z"
   },
   {
    "duration": 7,
    "start_time": "2024-12-08T19:48:31.619Z"
   },
   {
    "duration": 26,
    "start_time": "2024-12-08T19:48:31.628Z"
   },
   {
    "duration": 2588,
    "start_time": "2024-12-08T19:50:54.431Z"
   },
   {
    "duration": 2660,
    "start_time": "2024-12-08T19:50:57.021Z"
   },
   {
    "duration": 1294,
    "start_time": "2024-12-08T19:50:59.683Z"
   },
   {
    "duration": 4,
    "start_time": "2024-12-08T19:51:00.979Z"
   },
   {
    "duration": 2097,
    "start_time": "2024-12-08T19:51:00.985Z"
   },
   {
    "duration": 6,
    "start_time": "2024-12-08T19:51:03.084Z"
   },
   {
    "duration": 49,
    "start_time": "2024-12-08T19:51:03.101Z"
   },
   {
    "duration": 44,
    "start_time": "2024-12-08T19:51:03.151Z"
   },
   {
    "duration": 111,
    "start_time": "2024-12-08T19:51:03.197Z"
   },
   {
    "duration": 37,
    "start_time": "2024-12-08T19:51:03.310Z"
   },
   {
    "duration": 112,
    "start_time": "2024-12-08T19:51:03.348Z"
   },
   {
    "duration": 153,
    "start_time": "2024-12-08T19:51:03.462Z"
   },
   {
    "duration": 39,
    "start_time": "2024-12-08T19:51:03.617Z"
   },
   {
    "duration": 72,
    "start_time": "2024-12-08T19:51:03.658Z"
   },
   {
    "duration": 37,
    "start_time": "2024-12-08T19:51:03.731Z"
   },
   {
    "duration": 38,
    "start_time": "2024-12-08T19:51:03.769Z"
   },
   {
    "duration": 41,
    "start_time": "2024-12-08T19:51:03.813Z"
   },
   {
    "duration": 70,
    "start_time": "2024-12-08T19:51:03.856Z"
   },
   {
    "duration": 127,
    "start_time": "2024-12-08T19:51:03.928Z"
   },
   {
    "duration": 15,
    "start_time": "2024-12-08T19:51:04.056Z"
   },
   {
    "duration": 57,
    "start_time": "2024-12-08T19:51:04.073Z"
   },
   {
    "duration": 11,
    "start_time": "2024-12-08T19:51:04.132Z"
   },
   {
    "duration": 271,
    "start_time": "2024-12-08T19:51:04.145Z"
   },
   {
    "duration": 10,
    "start_time": "2024-12-08T19:51:04.418Z"
   },
   {
    "duration": 23,
    "start_time": "2024-12-08T19:51:04.430Z"
   },
   {
    "duration": 200,
    "start_time": "2024-12-08T19:51:04.455Z"
   },
   {
    "duration": 318,
    "start_time": "2024-12-08T19:51:04.657Z"
   },
   {
    "duration": 12,
    "start_time": "2024-12-08T19:51:04.977Z"
   },
   {
    "duration": 625,
    "start_time": "2024-12-08T19:51:05.000Z"
   },
   {
    "duration": 438,
    "start_time": "2024-12-08T19:51:05.627Z"
   },
   {
    "duration": 7,
    "start_time": "2024-12-08T19:51:06.066Z"
   },
   {
    "duration": 14,
    "start_time": "2024-12-08T19:51:06.075Z"
   },
   {
    "duration": 131,
    "start_time": "2024-12-08T19:51:44.155Z"
   },
   {
    "duration": 10,
    "start_time": "2024-12-08T19:51:46.207Z"
   },
   {
    "duration": 2535,
    "start_time": "2024-12-08T20:49:42.123Z"
   },
   {
    "duration": 2010,
    "start_time": "2024-12-08T20:49:44.660Z"
   },
   {
    "duration": 1293,
    "start_time": "2024-12-08T20:49:46.672Z"
   },
   {
    "duration": 3,
    "start_time": "2024-12-08T20:49:47.967Z"
   },
   {
    "duration": 2153,
    "start_time": "2024-12-08T20:49:47.972Z"
   },
   {
    "duration": 7,
    "start_time": "2024-12-08T20:49:50.127Z"
   },
   {
    "duration": 37,
    "start_time": "2024-12-08T20:49:50.135Z"
   },
   {
    "duration": 74,
    "start_time": "2024-12-08T20:49:50.173Z"
   },
   {
    "duration": 96,
    "start_time": "2024-12-08T20:49:50.248Z"
   },
   {
    "duration": 38,
    "start_time": "2024-12-08T20:49:50.346Z"
   },
   {
    "duration": 118,
    "start_time": "2024-12-08T20:49:50.385Z"
   },
   {
    "duration": 145,
    "start_time": "2024-12-08T20:49:50.512Z"
   },
   {
    "duration": 51,
    "start_time": "2024-12-08T20:49:50.659Z"
   },
   {
    "duration": 58,
    "start_time": "2024-12-08T20:49:50.719Z"
   },
   {
    "duration": 58,
    "start_time": "2024-12-08T20:49:50.778Z"
   },
   {
    "duration": 23,
    "start_time": "2024-12-08T20:49:50.838Z"
   },
   {
    "duration": 51,
    "start_time": "2024-12-08T20:49:50.863Z"
   },
   {
    "duration": 52,
    "start_time": "2024-12-08T20:49:50.916Z"
   },
   {
    "duration": 105,
    "start_time": "2024-12-08T20:49:50.970Z"
   },
   {
    "duration": 6,
    "start_time": "2024-12-08T20:49:51.076Z"
   },
   {
    "duration": 48,
    "start_time": "2024-12-08T20:49:51.083Z"
   },
   {
    "duration": 15,
    "start_time": "2024-12-08T20:49:51.133Z"
   },
   {
    "duration": 269,
    "start_time": "2024-12-08T20:49:51.150Z"
   },
   {
    "duration": 8,
    "start_time": "2024-12-08T20:49:51.421Z"
   },
   {
    "duration": 51,
    "start_time": "2024-12-08T20:49:51.431Z"
   },
   {
    "duration": 156,
    "start_time": "2024-12-08T20:49:51.484Z"
   },
   {
    "duration": 301,
    "start_time": "2024-12-08T20:49:51.641Z"
   },
   {
    "duration": 10,
    "start_time": "2024-12-08T20:49:51.943Z"
   },
   {
    "duration": 604,
    "start_time": "2024-12-08T20:49:51.954Z"
   },
   {
    "duration": 452,
    "start_time": "2024-12-08T20:49:52.560Z"
   },
   {
    "duration": 13,
    "start_time": "2024-12-08T20:49:53.013Z"
   },
   {
    "duration": 12,
    "start_time": "2024-12-08T20:49:53.028Z"
   },
   {
    "duration": 2582,
    "start_time": "2024-12-08T20:51:31.738Z"
   },
   {
    "duration": 2363,
    "start_time": "2024-12-08T20:51:34.323Z"
   },
   {
    "duration": 1292,
    "start_time": "2024-12-08T20:51:36.687Z"
   },
   {
    "duration": 4,
    "start_time": "2024-12-08T20:51:37.980Z"
   },
   {
    "duration": 2156,
    "start_time": "2024-12-08T20:51:37.986Z"
   },
   {
    "duration": 8,
    "start_time": "2024-12-08T20:51:40.144Z"
   },
   {
    "duration": 55,
    "start_time": "2024-12-08T20:51:40.153Z"
   },
   {
    "duration": 67,
    "start_time": "2024-12-08T20:51:40.210Z"
   },
   {
    "duration": 92,
    "start_time": "2024-12-08T20:51:40.278Z"
   },
   {
    "duration": 58,
    "start_time": "2024-12-08T20:51:40.371Z"
   },
   {
    "duration": 110,
    "start_time": "2024-12-08T20:51:40.431Z"
   },
   {
    "duration": 173,
    "start_time": "2024-12-08T20:51:40.543Z"
   },
   {
    "duration": 38,
    "start_time": "2024-12-08T20:51:40.722Z"
   },
   {
    "duration": 66,
    "start_time": "2024-12-08T20:51:40.763Z"
   },
   {
    "duration": 37,
    "start_time": "2024-12-08T20:51:40.831Z"
   },
   {
    "duration": 40,
    "start_time": "2024-12-08T20:51:40.870Z"
   },
   {
    "duration": 44,
    "start_time": "2024-12-08T20:51:40.912Z"
   },
   {
    "duration": 67,
    "start_time": "2024-12-08T20:51:40.957Z"
   },
   {
    "duration": 102,
    "start_time": "2024-12-08T20:51:41.026Z"
   },
   {
    "duration": 13,
    "start_time": "2024-12-08T20:51:41.130Z"
   },
   {
    "duration": 23,
    "start_time": "2024-12-08T20:51:41.145Z"
   },
   {
    "duration": 8,
    "start_time": "2024-12-08T20:51:41.170Z"
   },
   {
    "duration": 265,
    "start_time": "2024-12-08T20:51:41.180Z"
   },
   {
    "duration": 8,
    "start_time": "2024-12-08T20:51:41.446Z"
   },
   {
    "duration": 21,
    "start_time": "2024-12-08T20:51:41.455Z"
   },
   {
    "duration": 178,
    "start_time": "2024-12-08T20:51:41.477Z"
   },
   {
    "duration": 317,
    "start_time": "2024-12-08T20:51:41.657Z"
   },
   {
    "duration": 10,
    "start_time": "2024-12-08T20:51:41.976Z"
   },
   {
    "duration": 592,
    "start_time": "2024-12-08T20:51:41.987Z"
   },
   {
    "duration": 454,
    "start_time": "2024-12-08T20:51:42.581Z"
   },
   {
    "duration": 7,
    "start_time": "2024-12-08T20:51:43.036Z"
   },
   {
    "duration": 4,
    "start_time": "2024-12-08T20:51:43.044Z"
   },
   {
    "duration": 55,
    "start_time": "2024-12-08T20:51:47.965Z"
   },
   {
    "duration": 128,
    "start_time": "2024-12-08T20:51:53.212Z"
   },
   {
    "duration": 5894,
    "start_time": "2024-12-08T20:52:28.340Z"
   },
   {
    "duration": 1375,
    "start_time": "2024-12-08T20:52:34.236Z"
   },
   {
    "duration": 965,
    "start_time": "2024-12-08T20:52:35.616Z"
   },
   {
    "duration": 3,
    "start_time": "2024-12-08T20:52:36.583Z"
   },
   {
    "duration": 2051,
    "start_time": "2024-12-08T20:52:36.588Z"
   },
   {
    "duration": 7,
    "start_time": "2024-12-08T20:52:38.642Z"
   },
   {
    "duration": 75,
    "start_time": "2024-12-08T20:52:38.650Z"
   },
   {
    "duration": 39,
    "start_time": "2024-12-08T20:52:38.727Z"
   },
   {
    "duration": 106,
    "start_time": "2024-12-08T20:52:38.767Z"
   },
   {
    "duration": 57,
    "start_time": "2024-12-08T20:52:38.875Z"
   },
   {
    "duration": 118,
    "start_time": "2024-12-08T20:52:38.934Z"
   },
   {
    "duration": 169,
    "start_time": "2024-12-08T20:52:39.053Z"
   },
   {
    "duration": 46,
    "start_time": "2024-12-08T20:52:39.224Z"
   },
   {
    "duration": 72,
    "start_time": "2024-12-08T20:52:39.273Z"
   },
   {
    "duration": 36,
    "start_time": "2024-12-08T20:52:39.346Z"
   },
   {
    "duration": 43,
    "start_time": "2024-12-08T20:52:39.384Z"
   },
   {
    "duration": 37,
    "start_time": "2024-12-08T20:52:39.430Z"
   },
   {
    "duration": 79,
    "start_time": "2024-12-08T20:52:39.469Z"
   },
   {
    "duration": 102,
    "start_time": "2024-12-08T20:52:39.550Z"
   },
   {
    "duration": 5,
    "start_time": "2024-12-08T20:52:39.653Z"
   },
   {
    "duration": 19,
    "start_time": "2024-12-08T20:52:39.660Z"
   },
   {
    "duration": 31,
    "start_time": "2024-12-08T20:52:39.680Z"
   },
   {
    "duration": 275,
    "start_time": "2024-12-08T20:52:39.713Z"
   },
   {
    "duration": 23,
    "start_time": "2024-12-08T20:52:39.997Z"
   },
   {
    "duration": 28,
    "start_time": "2024-12-08T20:52:40.022Z"
   },
   {
    "duration": 163,
    "start_time": "2024-12-08T20:52:40.052Z"
   },
   {
    "duration": 341,
    "start_time": "2024-12-08T20:52:40.217Z"
   },
   {
    "duration": 12,
    "start_time": "2024-12-08T20:52:40.560Z"
   },
   {
    "duration": 620,
    "start_time": "2024-12-08T20:52:40.573Z"
   },
   {
    "duration": 454,
    "start_time": "2024-12-08T20:52:41.194Z"
   },
   {
    "duration": 7,
    "start_time": "2024-12-08T20:52:41.650Z"
   },
   {
    "duration": 6,
    "start_time": "2024-12-08T20:52:41.658Z"
   },
   {
    "duration": 157,
    "start_time": "2024-12-08T20:52:41.666Z"
   },
   {
    "duration": 5923,
    "start_time": "2024-12-08T20:56:56.218Z"
   },
   {
    "duration": 2122,
    "start_time": "2024-12-08T20:57:02.143Z"
   },
   {
    "duration": 1312,
    "start_time": "2024-12-08T20:57:04.266Z"
   },
   {
    "duration": 3,
    "start_time": "2024-12-08T20:57:05.580Z"
   },
   {
    "duration": 2148,
    "start_time": "2024-12-08T20:57:05.586Z"
   },
   {
    "duration": 6,
    "start_time": "2024-12-08T20:57:07.736Z"
   },
   {
    "duration": 31,
    "start_time": "2024-12-08T20:57:07.743Z"
   },
   {
    "duration": 65,
    "start_time": "2024-12-08T20:57:07.776Z"
   },
   {
    "duration": 102,
    "start_time": "2024-12-08T20:57:07.843Z"
   },
   {
    "duration": 55,
    "start_time": "2024-12-08T20:57:07.947Z"
   },
   {
    "duration": 120,
    "start_time": "2024-12-08T20:57:08.003Z"
   },
   {
    "duration": 143,
    "start_time": "2024-12-08T20:57:08.124Z"
   },
   {
    "duration": 65,
    "start_time": "2024-12-08T20:57:08.269Z"
   },
   {
    "duration": 48,
    "start_time": "2024-12-08T20:57:08.337Z"
   },
   {
    "duration": 60,
    "start_time": "2024-12-08T20:57:08.387Z"
   },
   {
    "duration": 20,
    "start_time": "2024-12-08T20:57:08.449Z"
   },
   {
    "duration": 86,
    "start_time": "2024-12-08T20:57:08.471Z"
   },
   {
    "duration": 72,
    "start_time": "2024-12-08T20:57:08.559Z"
   },
   {
    "duration": 106,
    "start_time": "2024-12-08T20:57:08.632Z"
   },
   {
    "duration": 16,
    "start_time": "2024-12-08T20:57:08.739Z"
   },
   {
    "duration": 26,
    "start_time": "2024-12-08T20:57:08.757Z"
   },
   {
    "duration": 16,
    "start_time": "2024-12-08T20:57:08.785Z"
   },
   {
    "duration": 285,
    "start_time": "2024-12-08T20:57:08.803Z"
   },
   {
    "duration": 20,
    "start_time": "2024-12-08T20:57:09.097Z"
   },
   {
    "duration": 24,
    "start_time": "2024-12-08T20:57:09.118Z"
   },
   {
    "duration": 177,
    "start_time": "2024-12-08T20:57:09.144Z"
   },
   {
    "duration": 321,
    "start_time": "2024-12-08T20:57:09.323Z"
   },
   {
    "duration": 10,
    "start_time": "2024-12-08T20:57:09.646Z"
   },
   {
    "duration": 620,
    "start_time": "2024-12-08T20:57:12.861Z"
   },
   {
    "duration": 317,
    "start_time": "2024-12-08T20:57:17.428Z"
   },
   {
    "duration": 457,
    "start_time": "2024-12-08T20:57:51.911Z"
   },
   {
    "duration": 11,
    "start_time": "2024-12-08T20:58:15.221Z"
   },
   {
    "duration": 4,
    "start_time": "2024-12-08T20:58:19.876Z"
   },
   {
    "duration": 15825,
    "start_time": "2024-12-08T20:58:29.924Z"
   },
   {
    "duration": 46529,
    "start_time": "2024-12-08T20:59:14.377Z"
   },
   {
    "duration": 54956,
    "start_time": "2024-12-08T21:02:47.759Z"
   },
   {
    "duration": 95,
    "start_time": "2024-12-08T21:13:51.507Z"
   },
   {
    "duration": 400,
    "start_time": "2024-12-08T21:14:42.422Z"
   },
   {
    "duration": 7,
    "start_time": "2024-12-08T21:14:50.722Z"
   },
   {
    "duration": 3,
    "start_time": "2024-12-08T21:14:52.562Z"
   },
   {
    "duration": 15660,
    "start_time": "2024-12-08T21:15:12.582Z"
   },
   {
    "duration": 24658,
    "start_time": "2024-12-08T21:15:37.466Z"
   },
   {
    "duration": 20,
    "start_time": "2024-12-08T21:18:34.891Z"
   },
   {
    "duration": 14,
    "start_time": "2024-12-08T21:18:50.167Z"
   },
   {
    "duration": 110,
    "start_time": "2024-12-08T21:20:43.876Z"
   },
   {
    "duration": 114,
    "start_time": "2024-12-08T21:20:59.315Z"
   },
   {
    "duration": 5977,
    "start_time": "2024-12-08T21:21:43.790Z"
   },
   {
    "duration": 5,
    "start_time": "2024-12-08T21:21:49.769Z"
   },
   {
    "duration": 1149,
    "start_time": "2024-12-08T21:21:49.776Z"
   },
   {
    "duration": 4,
    "start_time": "2024-12-08T21:21:50.927Z"
   },
   {
    "duration": 1882,
    "start_time": "2024-12-08T21:21:50.932Z"
   },
   {
    "duration": 7,
    "start_time": "2024-12-08T21:21:52.816Z"
   },
   {
    "duration": 48,
    "start_time": "2024-12-08T21:21:52.824Z"
   },
   {
    "duration": 46,
    "start_time": "2024-12-08T21:21:52.874Z"
   },
   {
    "duration": 97,
    "start_time": "2024-12-08T21:21:52.922Z"
   },
   {
    "duration": 36,
    "start_time": "2024-12-08T21:21:53.020Z"
   },
   {
    "duration": 106,
    "start_time": "2024-12-08T21:21:53.058Z"
   },
   {
    "duration": 123,
    "start_time": "2024-12-08T21:21:53.165Z"
   },
   {
    "duration": 47,
    "start_time": "2024-12-08T21:21:53.290Z"
   },
   {
    "duration": 65,
    "start_time": "2024-12-08T21:21:53.340Z"
   },
   {
    "duration": 38,
    "start_time": "2024-12-08T21:21:53.406Z"
   },
   {
    "duration": 19,
    "start_time": "2024-12-08T21:21:53.445Z"
   },
   {
    "duration": 52,
    "start_time": "2024-12-08T21:21:53.465Z"
   },
   {
    "duration": 62,
    "start_time": "2024-12-08T21:21:53.518Z"
   },
   {
    "duration": 102,
    "start_time": "2024-12-08T21:21:53.582Z"
   },
   {
    "duration": 25,
    "start_time": "2024-12-08T21:21:53.686Z"
   },
   {
    "duration": 21,
    "start_time": "2024-12-08T21:21:53.713Z"
   },
   {
    "duration": 8,
    "start_time": "2024-12-08T21:21:53.735Z"
   },
   {
    "duration": 267,
    "start_time": "2024-12-08T21:21:53.745Z"
   },
   {
    "duration": 9,
    "start_time": "2024-12-08T21:21:54.013Z"
   },
   {
    "duration": 26,
    "start_time": "2024-12-08T21:21:54.023Z"
   },
   {
    "duration": 141,
    "start_time": "2024-12-08T21:21:54.050Z"
   },
   {
    "duration": 308,
    "start_time": "2024-12-08T21:21:54.193Z"
   },
   {
    "duration": 16,
    "start_time": "2024-12-08T21:21:54.505Z"
   },
   {
    "duration": 600,
    "start_time": "2024-12-08T21:21:54.522Z"
   },
   {
    "duration": 2,
    "start_time": "2024-12-08T21:21:55.124Z"
   },
   {
    "duration": 512,
    "start_time": "2024-12-08T21:21:55.127Z"
   },
   {
    "duration": 6,
    "start_time": "2024-12-08T21:21:55.641Z"
   },
   {
    "duration": 5,
    "start_time": "2024-12-08T21:21:55.648Z"
   },
   {
    "duration": 59,
    "start_time": "2024-12-08T21:22:34.354Z"
   },
   {
    "duration": 8,
    "start_time": "2024-12-08T21:22:55.476Z"
   },
   {
    "duration": 86,
    "start_time": "2024-12-08T21:23:00.720Z"
   },
   {
    "duration": 5707,
    "start_time": "2024-12-08T21:23:12.344Z"
   },
   {
    "duration": 2008,
    "start_time": "2024-12-08T21:23:18.053Z"
   },
   {
    "duration": 1260,
    "start_time": "2024-12-08T21:23:20.063Z"
   },
   {
    "duration": 3,
    "start_time": "2024-12-08T21:23:21.325Z"
   },
   {
    "duration": 1992,
    "start_time": "2024-12-08T21:23:21.330Z"
   },
   {
    "duration": 7,
    "start_time": "2024-12-08T21:23:23.324Z"
   },
   {
    "duration": 37,
    "start_time": "2024-12-08T21:23:23.332Z"
   },
   {
    "duration": 55,
    "start_time": "2024-12-08T21:23:23.371Z"
   },
   {
    "duration": 91,
    "start_time": "2024-12-08T21:23:23.428Z"
   },
   {
    "duration": 36,
    "start_time": "2024-12-08T21:23:23.521Z"
   },
   {
    "duration": 116,
    "start_time": "2024-12-08T21:23:23.559Z"
   },
   {
    "duration": 154,
    "start_time": "2024-12-08T21:23:23.676Z"
   },
   {
    "duration": 37,
    "start_time": "2024-12-08T21:23:23.832Z"
   },
   {
    "duration": 68,
    "start_time": "2024-12-08T21:23:23.872Z"
   },
   {
    "duration": 36,
    "start_time": "2024-12-08T21:23:23.942Z"
   },
   {
    "duration": 38,
    "start_time": "2024-12-08T21:23:23.980Z"
   },
   {
    "duration": 53,
    "start_time": "2024-12-08T21:23:24.020Z"
   },
   {
    "duration": 59,
    "start_time": "2024-12-08T21:23:24.074Z"
   },
   {
    "duration": 97,
    "start_time": "2024-12-08T21:23:24.134Z"
   },
   {
    "duration": 8,
    "start_time": "2024-12-08T21:23:24.233Z"
   },
   {
    "duration": 19,
    "start_time": "2024-12-08T21:23:24.242Z"
   },
   {
    "duration": 8,
    "start_time": "2024-12-08T21:23:24.262Z"
   },
   {
    "duration": 283,
    "start_time": "2024-12-08T21:23:24.272Z"
   },
   {
    "duration": 8,
    "start_time": "2024-12-08T21:23:24.557Z"
   },
   {
    "duration": 44,
    "start_time": "2024-12-08T21:23:24.566Z"
   },
   {
    "duration": 152,
    "start_time": "2024-12-08T21:23:24.611Z"
   },
   {
    "duration": 307,
    "start_time": "2024-12-08T21:23:24.764Z"
   },
   {
    "duration": 12,
    "start_time": "2024-12-08T21:23:25.072Z"
   },
   {
    "duration": 524,
    "start_time": "2024-12-08T21:23:25.085Z"
   },
   {
    "duration": 2,
    "start_time": "2024-12-08T21:23:25.611Z"
   },
   {
    "duration": 529,
    "start_time": "2024-12-08T21:23:25.615Z"
   },
   {
    "duration": 6,
    "start_time": "2024-12-08T21:23:26.146Z"
   },
   {
    "duration": 3,
    "start_time": "2024-12-08T21:23:26.154Z"
   },
   {
    "duration": 15122,
    "start_time": "2024-12-08T21:23:26.159Z"
   },
   {
    "duration": 28734,
    "start_time": "2024-12-08T21:23:41.283Z"
   },
   {
    "duration": 3965,
    "start_time": "2024-12-08T21:24:49.862Z"
   },
   {
    "duration": 23517,
    "start_time": "2024-12-08T21:24:55.593Z"
   },
   {
    "duration": 122,
    "start_time": "2024-12-08T21:25:30.802Z"
   },
   {
    "duration": 11,
    "start_time": "2024-12-08T21:25:39.128Z"
   },
   {
    "duration": 33,
    "start_time": "2024-12-08T21:25:44.191Z"
   },
   {
    "duration": 3,
    "start_time": "2024-12-08T21:30:34.558Z"
   },
   {
    "duration": 11,
    "start_time": "2024-12-08T21:33:10.379Z"
   },
   {
    "duration": 9,
    "start_time": "2024-12-08T21:33:29.676Z"
   },
   {
    "duration": 76,
    "start_time": "2024-12-08T21:33:57.083Z"
   },
   {
    "duration": 322,
    "start_time": "2024-12-08T21:33:59.715Z"
   },
   {
    "duration": 24426,
    "start_time": "2024-12-08T21:34:20.892Z"
   },
   {
    "duration": 12,
    "start_time": "2024-12-08T21:38:48.708Z"
   },
   {
    "duration": 23,
    "start_time": "2024-12-08T21:44:01.711Z"
   },
   {
    "duration": 11,
    "start_time": "2024-12-08T21:56:52.218Z"
   },
   {
    "duration": 5568,
    "start_time": "2024-12-08T21:58:01.780Z"
   },
   {
    "duration": 4,
    "start_time": "2024-12-08T21:58:07.351Z"
   },
   {
    "duration": 853,
    "start_time": "2024-12-08T21:58:07.357Z"
   },
   {
    "duration": 5,
    "start_time": "2024-12-08T21:58:08.212Z"
   },
   {
    "duration": 1801,
    "start_time": "2024-12-08T21:58:08.219Z"
   },
   {
    "duration": 6,
    "start_time": "2024-12-08T21:58:10.022Z"
   },
   {
    "duration": 48,
    "start_time": "2024-12-08T21:58:10.029Z"
   },
   {
    "duration": 62,
    "start_time": "2024-12-08T21:58:10.079Z"
   },
   {
    "duration": 89,
    "start_time": "2024-12-08T21:58:10.143Z"
   },
   {
    "duration": 36,
    "start_time": "2024-12-08T21:58:10.234Z"
   },
   {
    "duration": 114,
    "start_time": "2024-12-08T21:58:10.271Z"
   },
   {
    "duration": 129,
    "start_time": "2024-12-08T21:58:10.387Z"
   },
   {
    "duration": 36,
    "start_time": "2024-12-08T21:58:10.517Z"
   },
   {
    "duration": 85,
    "start_time": "2024-12-08T21:58:10.556Z"
   },
   {
    "duration": 38,
    "start_time": "2024-12-08T21:58:10.643Z"
   },
   {
    "duration": 34,
    "start_time": "2024-12-08T21:58:10.683Z"
   },
   {
    "duration": 37,
    "start_time": "2024-12-08T21:58:10.719Z"
   },
   {
    "duration": 69,
    "start_time": "2024-12-08T21:58:10.758Z"
   },
   {
    "duration": 96,
    "start_time": "2024-12-08T21:58:10.829Z"
   },
   {
    "duration": 5,
    "start_time": "2024-12-08T21:58:10.926Z"
   },
   {
    "duration": 18,
    "start_time": "2024-12-08T21:58:10.933Z"
   },
   {
    "duration": 7,
    "start_time": "2024-12-08T21:58:10.953Z"
   },
   {
    "duration": 270,
    "start_time": "2024-12-08T21:58:10.962Z"
   },
   {
    "duration": 7,
    "start_time": "2024-12-08T21:58:11.234Z"
   },
   {
    "duration": 23,
    "start_time": "2024-12-08T21:58:11.243Z"
   },
   {
    "duration": 147,
    "start_time": "2024-12-08T21:58:11.268Z"
   },
   {
    "duration": 295,
    "start_time": "2024-12-08T21:58:11.417Z"
   },
   {
    "duration": 12,
    "start_time": "2024-12-08T21:58:11.713Z"
   },
   {
    "duration": 326,
    "start_time": "2024-12-08T21:58:11.726Z"
   },
   {
    "duration": 351,
    "start_time": "2024-12-08T21:59:08.782Z"
   },
   {
    "duration": 5649,
    "start_time": "2024-12-08T21:59:34.510Z"
   },
   {
    "duration": 5,
    "start_time": "2024-12-08T21:59:40.162Z"
   },
   {
    "duration": 877,
    "start_time": "2024-12-08T21:59:40.168Z"
   },
   {
    "duration": 4,
    "start_time": "2024-12-08T21:59:41.047Z"
   },
   {
    "duration": 1882,
    "start_time": "2024-12-08T21:59:41.052Z"
   },
   {
    "duration": 6,
    "start_time": "2024-12-08T21:59:42.936Z"
   },
   {
    "duration": 32,
    "start_time": "2024-12-08T21:59:42.944Z"
   },
   {
    "duration": 67,
    "start_time": "2024-12-08T21:59:42.978Z"
   },
   {
    "duration": 85,
    "start_time": "2024-12-08T21:59:43.046Z"
   },
   {
    "duration": 37,
    "start_time": "2024-12-08T21:59:43.133Z"
   },
   {
    "duration": 110,
    "start_time": "2024-12-08T21:59:43.172Z"
   },
   {
    "duration": 129,
    "start_time": "2024-12-08T21:59:43.283Z"
   },
   {
    "duration": 35,
    "start_time": "2024-12-08T21:59:43.414Z"
   },
   {
    "duration": 66,
    "start_time": "2024-12-08T21:59:43.450Z"
   },
   {
    "duration": 37,
    "start_time": "2024-12-08T21:59:43.518Z"
   },
   {
    "duration": 27,
    "start_time": "2024-12-08T21:59:43.557Z"
   },
   {
    "duration": 52,
    "start_time": "2024-12-08T21:59:43.586Z"
   },
   {
    "duration": 38,
    "start_time": "2024-12-08T21:59:43.639Z"
   },
   {
    "duration": 110,
    "start_time": "2024-12-08T21:59:43.678Z"
   },
   {
    "duration": 6,
    "start_time": "2024-12-08T21:59:43.809Z"
   },
   {
    "duration": 24,
    "start_time": "2024-12-08T21:59:43.817Z"
   },
   {
    "duration": 9,
    "start_time": "2024-12-08T21:59:43.843Z"
   },
   {
    "duration": 266,
    "start_time": "2024-12-08T21:59:43.853Z"
   },
   {
    "duration": 8,
    "start_time": "2024-12-08T21:59:44.121Z"
   },
   {
    "duration": 43,
    "start_time": "2024-12-08T21:59:44.131Z"
   },
   {
    "duration": 143,
    "start_time": "2024-12-08T21:59:44.175Z"
   },
   {
    "duration": 292,
    "start_time": "2024-12-08T21:59:44.319Z"
   },
   {
    "duration": 11,
    "start_time": "2024-12-08T21:59:44.614Z"
   },
   {
    "duration": 5547,
    "start_time": "2024-12-08T22:01:09.965Z"
   },
   {
    "duration": 5,
    "start_time": "2024-12-08T22:01:15.514Z"
   },
   {
    "duration": 922,
    "start_time": "2024-12-08T22:01:15.521Z"
   },
   {
    "duration": 4,
    "start_time": "2024-12-08T22:01:16.446Z"
   },
   {
    "duration": 1760,
    "start_time": "2024-12-08T22:01:16.452Z"
   },
   {
    "duration": 7,
    "start_time": "2024-12-08T22:01:18.214Z"
   },
   {
    "duration": 37,
    "start_time": "2024-12-08T22:01:18.222Z"
   },
   {
    "duration": 32,
    "start_time": "2024-12-08T22:01:18.260Z"
   },
   {
    "duration": 85,
    "start_time": "2024-12-08T22:01:18.310Z"
   },
   {
    "duration": 49,
    "start_time": "2024-12-08T22:01:18.398Z"
   },
   {
    "duration": 105,
    "start_time": "2024-12-08T22:01:18.449Z"
   },
   {
    "duration": 127,
    "start_time": "2024-12-08T22:01:18.556Z"
   },
   {
    "duration": 54,
    "start_time": "2024-12-08T22:01:18.685Z"
   },
   {
    "duration": 63,
    "start_time": "2024-12-08T22:01:18.742Z"
   },
   {
    "duration": 38,
    "start_time": "2024-12-08T22:01:18.814Z"
   },
   {
    "duration": 27,
    "start_time": "2024-12-08T22:01:18.854Z"
   },
   {
    "duration": 63,
    "start_time": "2024-12-08T22:01:18.883Z"
   },
   {
    "duration": 127,
    "start_time": "2024-12-08T22:01:24.606Z"
   },
   {
    "duration": 80,
    "start_time": "2024-12-08T22:01:26.074Z"
   },
   {
    "duration": 8,
    "start_time": "2024-12-08T22:01:28.410Z"
   },
   {
    "duration": 38,
    "start_time": "2024-12-08T22:01:29.478Z"
   },
   {
    "duration": 8,
    "start_time": "2024-12-08T22:01:33.217Z"
   },
   {
    "duration": 233,
    "start_time": "2024-12-08T22:01:35.311Z"
   },
   {
    "duration": 8,
    "start_time": "2024-12-08T22:01:37.266Z"
   },
   {
    "duration": 19,
    "start_time": "2024-12-08T22:01:38.809Z"
   },
   {
    "duration": 136,
    "start_time": "2024-12-08T22:01:39.915Z"
   },
   {
    "duration": 266,
    "start_time": "2024-12-08T22:01:40.926Z"
   },
   {
    "duration": 10,
    "start_time": "2024-12-08T22:01:42.528Z"
   },
   {
    "duration": 496,
    "start_time": "2024-12-08T22:01:45.762Z"
   },
   {
    "duration": 132,
    "start_time": "2024-12-08T22:01:58.259Z"
   },
   {
    "duration": 300,
    "start_time": "2024-12-08T22:01:59.661Z"
   },
   {
    "duration": 24460,
    "start_time": "2024-12-08T22:02:04.948Z"
   },
   {
    "duration": 15,
    "start_time": "2024-12-08T22:04:23.572Z"
   },
   {
    "duration": 11,
    "start_time": "2024-12-08T22:04:46.327Z"
   },
   {
    "duration": 5641,
    "start_time": "2024-12-08T22:05:59.635Z"
   },
   {
    "duration": 5,
    "start_time": "2024-12-08T22:06:05.278Z"
   },
   {
    "duration": 860,
    "start_time": "2024-12-08T22:06:05.284Z"
   },
   {
    "duration": 4,
    "start_time": "2024-12-08T22:06:06.145Z"
   },
   {
    "duration": 1904,
    "start_time": "2024-12-08T22:06:06.151Z"
   },
   {
    "duration": 6,
    "start_time": "2024-12-08T22:06:08.056Z"
   },
   {
    "duration": 65,
    "start_time": "2024-12-08T22:06:08.064Z"
   },
   {
    "duration": 77,
    "start_time": "2024-12-08T22:06:08.132Z"
   },
   {
    "duration": 80,
    "start_time": "2024-12-08T22:06:08.211Z"
   },
   {
    "duration": 41,
    "start_time": "2024-12-08T22:06:08.293Z"
   },
   {
    "duration": 134,
    "start_time": "2024-12-08T22:06:08.335Z"
   },
   {
    "duration": 124,
    "start_time": "2024-12-08T22:06:08.470Z"
   },
   {
    "duration": 45,
    "start_time": "2024-12-08T22:06:08.597Z"
   },
   {
    "duration": 67,
    "start_time": "2024-12-08T22:06:08.644Z"
   },
   {
    "duration": 37,
    "start_time": "2024-12-08T22:06:08.713Z"
   },
   {
    "duration": 42,
    "start_time": "2024-12-08T22:06:08.751Z"
   },
   {
    "duration": 56,
    "start_time": "2024-12-08T22:06:08.794Z"
   },
   {
    "duration": 187,
    "start_time": "2024-12-08T22:06:08.852Z"
   },
   {
    "duration": 86,
    "start_time": "2024-12-08T22:06:09.041Z"
   },
   {
    "duration": 17,
    "start_time": "2024-12-08T22:06:09.129Z"
   },
   {
    "duration": 46,
    "start_time": "2024-12-08T22:06:09.149Z"
   },
   {
    "duration": 27,
    "start_time": "2024-12-08T22:06:09.197Z"
   },
   {
    "duration": 254,
    "start_time": "2024-12-08T22:06:09.225Z"
   },
   {
    "duration": 21,
    "start_time": "2024-12-08T22:06:09.480Z"
   },
   {
    "duration": 18,
    "start_time": "2024-12-08T22:06:09.510Z"
   },
   {
    "duration": 125,
    "start_time": "2024-12-08T22:06:09.530Z"
   },
   {
    "duration": 263,
    "start_time": "2024-12-08T22:06:09.656Z"
   },
   {
    "duration": 11,
    "start_time": "2024-12-08T22:06:09.921Z"
   },
   {
    "duration": 519,
    "start_time": "2024-12-08T22:06:09.933Z"
   },
   {
    "duration": 2,
    "start_time": "2024-12-08T22:06:10.454Z"
   },
   {
    "duration": 21,
    "start_time": "2024-12-08T22:06:10.457Z"
   },
   {
    "duration": 13,
    "start_time": "2024-12-08T22:06:10.480Z"
   },
   {
    "duration": 15,
    "start_time": "2024-12-08T22:06:10.495Z"
   },
   {
    "duration": 176,
    "start_time": "2024-12-08T22:06:10.512Z"
   },
   {
    "duration": 293,
    "start_time": "2024-12-08T22:06:10.690Z"
   },
   {
    "duration": 23618,
    "start_time": "2024-12-08T22:06:10.985Z"
   },
   {
    "duration": 13,
    "start_time": "2024-12-08T22:06:37.115Z"
   },
   {
    "duration": 12,
    "start_time": "2024-12-08T22:06:47.040Z"
   },
   {
    "duration": 16,
    "start_time": "2024-12-08T22:06:59.837Z"
   },
   {
    "duration": 79,
    "start_time": "2024-12-08T22:08:53.551Z"
   },
   {
    "duration": 330,
    "start_time": "2024-12-08T22:08:54.534Z"
   },
   {
    "duration": 26724,
    "start_time": "2024-12-08T22:09:00.287Z"
   },
   {
    "duration": 14,
    "start_time": "2024-12-08T22:09:31.247Z"
   },
   {
    "duration": 15,
    "start_time": "2024-12-08T22:13:10.586Z"
   },
   {
    "duration": 1262,
    "start_time": "2024-12-08T22:14:33.064Z"
   },
   {
    "duration": 6617,
    "start_time": "2024-12-08T22:17:27.861Z"
   },
   {
    "duration": 4,
    "start_time": "2024-12-08T22:17:34.481Z"
   },
   {
    "duration": 836,
    "start_time": "2024-12-08T22:17:34.487Z"
   },
   {
    "duration": 4,
    "start_time": "2024-12-08T22:17:35.324Z"
   },
   {
    "duration": 1781,
    "start_time": "2024-12-08T22:17:35.331Z"
   },
   {
    "duration": 6,
    "start_time": "2024-12-08T22:17:37.114Z"
   },
   {
    "duration": 33,
    "start_time": "2024-12-08T22:17:37.121Z"
   },
   {
    "duration": 32,
    "start_time": "2024-12-08T22:17:37.156Z"
   },
   {
    "duration": 94,
    "start_time": "2024-12-08T22:17:37.190Z"
   },
   {
    "duration": 45,
    "start_time": "2024-12-08T22:17:37.285Z"
   },
   {
    "duration": 107,
    "start_time": "2024-12-08T22:17:37.332Z"
   },
   {
    "duration": 136,
    "start_time": "2024-12-08T22:17:37.441Z"
   },
   {
    "duration": 51,
    "start_time": "2024-12-08T22:17:37.578Z"
   },
   {
    "duration": 56,
    "start_time": "2024-12-08T22:17:37.633Z"
   },
   {
    "duration": 43,
    "start_time": "2024-12-08T22:17:37.691Z"
   },
   {
    "duration": 25,
    "start_time": "2024-12-08T22:17:37.735Z"
   },
   {
    "duration": 50,
    "start_time": "2024-12-08T22:17:37.761Z"
   },
   {
    "duration": 134,
    "start_time": "2024-12-08T22:17:37.813Z"
   },
   {
    "duration": 85,
    "start_time": "2024-12-08T22:17:37.948Z"
   },
   {
    "duration": 28,
    "start_time": "2024-12-08T22:17:38.034Z"
   },
   {
    "duration": 38,
    "start_time": "2024-12-08T22:17:38.063Z"
   },
   {
    "duration": 13,
    "start_time": "2024-12-08T22:17:38.102Z"
   },
   {
    "duration": 244,
    "start_time": "2024-12-08T22:17:38.117Z"
   },
   {
    "duration": 8,
    "start_time": "2024-12-08T22:17:38.363Z"
   },
   {
    "duration": 38,
    "start_time": "2024-12-08T22:17:38.372Z"
   },
   {
    "duration": 148,
    "start_time": "2024-12-08T22:17:38.411Z"
   },
   {
    "duration": 270,
    "start_time": "2024-12-08T22:17:38.561Z"
   },
   {
    "duration": 11,
    "start_time": "2024-12-08T22:17:38.833Z"
   },
   {
    "duration": 533,
    "start_time": "2024-12-08T22:17:38.845Z"
   },
   {
    "duration": 3,
    "start_time": "2024-12-08T22:17:39.380Z"
   },
   {
    "duration": 33,
    "start_time": "2024-12-08T22:17:39.385Z"
   },
   {
    "duration": 17,
    "start_time": "2024-12-08T22:17:39.420Z"
   },
   {
    "duration": 4,
    "start_time": "2024-12-08T22:17:39.439Z"
   },
   {
    "duration": 169,
    "start_time": "2024-12-08T22:17:39.445Z"
   },
   {
    "duration": 297,
    "start_time": "2024-12-08T22:17:39.616Z"
   },
   {
    "duration": 5533,
    "start_time": "2024-12-08T22:18:04.516Z"
   },
   {
    "duration": 1343,
    "start_time": "2024-12-08T22:18:10.051Z"
   },
   {
    "duration": 918,
    "start_time": "2024-12-08T22:18:11.400Z"
   },
   {
    "duration": 4,
    "start_time": "2024-12-08T22:18:12.319Z"
   },
   {
    "duration": 1947,
    "start_time": "2024-12-08T22:18:12.325Z"
   },
   {
    "duration": 6,
    "start_time": "2024-12-08T22:18:14.274Z"
   },
   {
    "duration": 28,
    "start_time": "2024-12-08T22:18:14.310Z"
   },
   {
    "duration": 38,
    "start_time": "2024-12-08T22:18:14.340Z"
   },
   {
    "duration": 101,
    "start_time": "2024-12-08T22:18:14.379Z"
   },
   {
    "duration": 47,
    "start_time": "2024-12-08T22:18:14.481Z"
   },
   {
    "duration": 114,
    "start_time": "2024-12-08T22:18:14.530Z"
   },
   {
    "duration": 145,
    "start_time": "2024-12-08T22:18:14.646Z"
   },
   {
    "duration": 43,
    "start_time": "2024-12-08T22:18:14.799Z"
   },
   {
    "duration": 69,
    "start_time": "2024-12-08T22:18:14.845Z"
   },
   {
    "duration": 35,
    "start_time": "2024-12-08T22:18:14.915Z"
   },
   {
    "duration": 25,
    "start_time": "2024-12-08T22:18:14.952Z"
   },
   {
    "duration": 47,
    "start_time": "2024-12-08T22:18:14.979Z"
   },
   {
    "duration": 98,
    "start_time": "2024-12-08T22:18:15.028Z"
   },
   {
    "duration": 94,
    "start_time": "2024-12-08T22:18:15.127Z"
   },
   {
    "duration": 15,
    "start_time": "2024-12-08T22:18:15.223Z"
   },
   {
    "duration": 34,
    "start_time": "2024-12-08T22:18:15.240Z"
   },
   {
    "duration": 9,
    "start_time": "2024-12-08T22:18:15.276Z"
   },
   {
    "duration": 264,
    "start_time": "2024-12-08T22:18:15.286Z"
   },
   {
    "duration": 8,
    "start_time": "2024-12-08T22:18:15.552Z"
   },
   {
    "duration": 22,
    "start_time": "2024-12-08T22:18:15.561Z"
   },
   {
    "duration": 152,
    "start_time": "2024-12-08T22:18:15.598Z"
   },
   {
    "duration": 304,
    "start_time": "2024-12-08T22:18:15.752Z"
   },
   {
    "duration": 11,
    "start_time": "2024-12-08T22:18:16.058Z"
   },
   {
    "duration": 610,
    "start_time": "2024-12-08T22:18:16.070Z"
   },
   {
    "duration": 2,
    "start_time": "2024-12-08T22:18:16.682Z"
   },
   {
    "duration": 13,
    "start_time": "2024-12-08T22:18:16.699Z"
   },
   {
    "duration": 5,
    "start_time": "2024-12-08T22:18:16.714Z"
   },
   {
    "duration": 3,
    "start_time": "2024-12-08T22:18:16.720Z"
   },
   {
    "duration": 187,
    "start_time": "2024-12-08T22:18:16.724Z"
   },
   {
    "duration": 341,
    "start_time": "2024-12-08T22:18:16.912Z"
   },
   {
    "duration": 24449,
    "start_time": "2024-12-08T22:18:17.254Z"
   },
   {
    "duration": 5,
    "start_time": "2024-12-08T22:18:41.704Z"
   },
   {
    "duration": 1335,
    "start_time": "2024-12-08T22:18:51.263Z"
   },
   {
    "duration": 62,
    "start_time": "2024-12-08T22:18:54.723Z"
   },
   {
    "duration": 333,
    "start_time": "2024-12-08T22:19:37.621Z"
   },
   {
    "duration": 245,
    "start_time": "2024-12-08T22:21:00.025Z"
   },
   {
    "duration": 2143,
    "start_time": "2024-12-08T22:22:06.286Z"
   },
   {
    "duration": 332945,
    "start_time": "2024-12-08T22:22:50.471Z"
   },
   {
    "duration": 75,
    "start_time": "2024-12-08T22:31:15.980Z"
   },
   {
    "duration": 29065,
    "start_time": "2024-12-08T22:31:59.347Z"
   },
   {
    "duration": 99,
    "start_time": "2024-12-08T22:33:44.636Z"
   },
   {
    "duration": 23461,
    "start_time": "2024-12-08T22:33:46.844Z"
   },
   {
    "duration": 202,
    "start_time": "2024-12-08T22:34:10.309Z"
   },
   {
    "duration": 105,
    "start_time": "2024-12-08T22:34:45.015Z"
   },
   {
    "duration": 9,
    "start_time": "2024-12-08T22:34:47.360Z"
   },
   {
    "duration": 62331,
    "start_time": "2024-12-08T22:35:11.484Z"
   },
   {
    "duration": 116,
    "start_time": "2024-12-08T22:36:13.816Z"
   },
   {
    "duration": 24418,
    "start_time": "2024-12-08T22:36:53.987Z"
   },
   {
    "duration": 115,
    "start_time": "2024-12-08T22:37:18.410Z"
   },
   {
    "duration": 300,
    "start_time": "2024-12-08T22:37:28.165Z"
   },
   {
    "duration": 9,
    "start_time": "2024-12-08T22:37:31.068Z"
   },
   {
    "duration": 199197,
    "start_time": "2024-12-08T22:37:33.215Z"
   },
   {
    "duration": 4010,
    "start_time": "2024-12-08T22:40:52.413Z"
   },
   {
    "duration": 421812,
    "start_time": "2024-12-08T22:40:56.425Z"
   },
   {
    "duration": 90,
    "start_time": "2024-12-08T22:47:58.239Z"
   },
   {
    "duration": 5617,
    "start_time": "2024-12-08T22:49:03.515Z"
   },
   {
    "duration": 5,
    "start_time": "2024-12-08T22:49:09.134Z"
   },
   {
    "duration": 872,
    "start_time": "2024-12-08T22:49:09.142Z"
   },
   {
    "duration": 3,
    "start_time": "2024-12-08T22:49:10.015Z"
   },
   {
    "duration": 1756,
    "start_time": "2024-12-08T22:49:10.020Z"
   },
   {
    "duration": 7,
    "start_time": "2024-12-08T22:49:11.778Z"
   },
   {
    "duration": 35,
    "start_time": "2024-12-08T22:49:11.800Z"
   },
   {
    "duration": 37,
    "start_time": "2024-12-08T22:49:11.836Z"
   },
   {
    "duration": 101,
    "start_time": "2024-12-08T22:49:11.874Z"
   },
   {
    "duration": 58,
    "start_time": "2024-12-08T22:49:11.976Z"
   },
   {
    "duration": 102,
    "start_time": "2024-12-08T22:49:12.035Z"
   },
   {
    "duration": 138,
    "start_time": "2024-12-08T22:49:12.139Z"
   },
   {
    "duration": 52,
    "start_time": "2024-12-08T22:49:12.279Z"
   },
   {
    "duration": 50,
    "start_time": "2024-12-08T22:49:12.334Z"
   },
   {
    "duration": 50,
    "start_time": "2024-12-08T22:49:12.386Z"
   },
   {
    "duration": 19,
    "start_time": "2024-12-08T22:49:12.438Z"
   },
   {
    "duration": 53,
    "start_time": "2024-12-08T22:49:12.459Z"
   },
   {
    "duration": 52,
    "start_time": "2024-12-08T22:49:12.513Z"
   },
   {
    "duration": 110,
    "start_time": "2024-12-08T22:49:12.567Z"
   },
   {
    "duration": 6,
    "start_time": "2024-12-08T22:49:12.678Z"
   },
   {
    "duration": 28,
    "start_time": "2024-12-08T22:49:12.685Z"
   },
   {
    "duration": 7,
    "start_time": "2024-12-08T22:49:12.715Z"
   },
   {
    "duration": 307,
    "start_time": "2024-12-08T22:49:12.724Z"
   },
   {
    "duration": 8,
    "start_time": "2024-12-08T22:49:13.033Z"
   },
   {
    "duration": 29,
    "start_time": "2024-12-08T22:49:13.042Z"
   },
   {
    "duration": 160,
    "start_time": "2024-12-08T22:49:13.072Z"
   },
   {
    "duration": 306,
    "start_time": "2024-12-08T22:49:13.233Z"
   },
   {
    "duration": 11,
    "start_time": "2024-12-08T22:49:13.540Z"
   },
   {
    "duration": 535,
    "start_time": "2024-12-08T22:49:13.553Z"
   },
   {
    "duration": 3,
    "start_time": "2024-12-08T22:49:14.089Z"
   },
   {
    "duration": 10,
    "start_time": "2024-12-08T22:49:14.101Z"
   },
   {
    "duration": 6,
    "start_time": "2024-12-08T22:49:14.112Z"
   },
   {
    "duration": 2,
    "start_time": "2024-12-08T22:49:14.119Z"
   },
   {
    "duration": 188,
    "start_time": "2024-12-08T22:49:14.123Z"
   },
   {
    "duration": 347,
    "start_time": "2024-12-08T22:49:14.312Z"
   },
   {
    "duration": 23444,
    "start_time": "2024-12-08T22:49:14.660Z"
   },
   {
    "duration": 5,
    "start_time": "2024-12-08T22:49:38.110Z"
   },
   {
    "duration": 1439,
    "start_time": "2024-12-08T22:49:38.120Z"
   },
   {
    "duration": 77,
    "start_time": "2024-12-08T22:49:39.561Z"
   },
   {
    "duration": 2008,
    "start_time": "2024-12-08T22:49:39.639Z"
   },
   {
    "duration": 316461,
    "start_time": "2024-12-08T22:49:41.652Z"
   },
   {
    "duration": 55,
    "start_time": "2024-12-08T22:54:58.115Z"
   },
   {
    "duration": 43645,
    "start_time": "2024-12-08T22:54:58.172Z"
   },
   {
    "duration": 41287956,
    "start_time": "2024-12-08T22:55:41.819Z"
   },
   {
    "duration": 5611,
    "start_time": "2024-12-09T10:24:35.180Z"
   },
   {
    "duration": 1401,
    "start_time": "2024-12-09T10:24:40.794Z"
   },
   {
    "duration": 975,
    "start_time": "2024-12-09T10:24:42.197Z"
   },
   {
    "duration": 4,
    "start_time": "2024-12-09T10:24:43.173Z"
   },
   {
    "duration": 1976,
    "start_time": "2024-12-09T10:24:43.178Z"
   },
   {
    "duration": 7,
    "start_time": "2024-12-09T10:24:45.155Z"
   },
   {
    "duration": 74,
    "start_time": "2024-12-09T10:24:45.163Z"
   },
   {
    "duration": 75,
    "start_time": "2024-12-09T10:24:45.239Z"
   },
   {
    "duration": 98,
    "start_time": "2024-12-09T10:24:45.315Z"
   },
   {
    "duration": 45,
    "start_time": "2024-12-09T10:24:45.415Z"
   },
   {
    "duration": 126,
    "start_time": "2024-12-09T10:24:45.462Z"
   },
   {
    "duration": 167,
    "start_time": "2024-12-09T10:24:45.590Z"
   },
   {
    "duration": 47,
    "start_time": "2024-12-09T10:24:45.758Z"
   },
   {
    "duration": 59,
    "start_time": "2024-12-09T10:24:45.811Z"
   },
   {
    "duration": 57,
    "start_time": "2024-12-09T10:24:45.871Z"
   },
   {
    "duration": 101,
    "start_time": "2024-12-09T10:24:45.929Z"
   },
   {
    "duration": 59,
    "start_time": "2024-12-09T10:24:46.032Z"
   },
   {
    "duration": 133,
    "start_time": "2024-12-09T10:24:46.092Z"
   },
   {
    "duration": 102,
    "start_time": "2024-12-09T10:24:46.227Z"
   },
   {
    "duration": 34,
    "start_time": "2024-12-09T10:24:46.331Z"
   },
   {
    "duration": 38,
    "start_time": "2024-12-09T10:24:46.367Z"
   },
   {
    "duration": 19,
    "start_time": "2024-12-09T10:24:46.410Z"
   },
   {
    "duration": 292,
    "start_time": "2024-12-09T10:24:46.431Z"
   },
   {
    "duration": 8,
    "start_time": "2024-12-09T10:24:46.725Z"
   },
   {
    "duration": 42,
    "start_time": "2024-12-09T10:24:46.735Z"
   },
   {
    "duration": 195,
    "start_time": "2024-12-09T10:24:46.778Z"
   },
   {
    "duration": 342,
    "start_time": "2024-12-09T10:24:46.974Z"
   },
   {
    "duration": 12,
    "start_time": "2024-12-09T10:24:47.320Z"
   },
   {
    "duration": 668,
    "start_time": "2024-12-09T10:24:47.333Z"
   },
   {
    "duration": 3,
    "start_time": "2024-12-09T10:24:48.007Z"
   },
   {
    "duration": 20,
    "start_time": "2024-12-09T10:24:48.014Z"
   },
   {
    "duration": 11,
    "start_time": "2024-12-09T10:24:48.035Z"
   },
   {
    "duration": 4,
    "start_time": "2024-12-09T10:24:48.047Z"
   },
   {
    "duration": 184,
    "start_time": "2024-12-09T10:24:48.053Z"
   },
   {
    "duration": 374,
    "start_time": "2024-12-09T10:24:48.239Z"
   },
   {
    "duration": 24004,
    "start_time": "2024-12-09T10:24:48.615Z"
   },
   {
    "duration": 7,
    "start_time": "2024-12-09T10:25:12.709Z"
   },
   {
    "duration": 1423,
    "start_time": "2024-12-09T10:25:12.722Z"
   },
   {
    "duration": 68,
    "start_time": "2024-12-09T10:25:14.146Z"
   },
   {
    "duration": 2040,
    "start_time": "2024-12-09T10:25:14.216Z"
   },
   {
    "duration": 9009,
    "start_time": "2024-12-09T10:57:04.113Z"
   },
   {
    "duration": 1452,
    "start_time": "2024-12-09T10:57:13.124Z"
   },
   {
    "duration": 1192,
    "start_time": "2024-12-09T10:57:14.577Z"
   },
   {
    "duration": 5,
    "start_time": "2024-12-09T10:57:15.770Z"
   },
   {
    "duration": 1834,
    "start_time": "2024-12-09T10:57:15.777Z"
   },
   {
    "duration": 7,
    "start_time": "2024-12-09T10:57:17.612Z"
   },
   {
    "duration": 32,
    "start_time": "2024-12-09T10:57:17.620Z"
   },
   {
    "duration": 54,
    "start_time": "2024-12-09T10:57:17.653Z"
   },
   {
    "duration": 92,
    "start_time": "2024-12-09T10:57:17.708Z"
   },
   {
    "duration": 36,
    "start_time": "2024-12-09T10:57:17.801Z"
   },
   {
    "duration": 106,
    "start_time": "2024-12-09T10:57:17.838Z"
   },
   {
    "duration": 133,
    "start_time": "2024-12-09T10:57:17.945Z"
   },
   {
    "duration": 45,
    "start_time": "2024-12-09T10:57:18.080Z"
   },
   {
    "duration": 48,
    "start_time": "2024-12-09T10:57:18.127Z"
   },
   {
    "duration": 68,
    "start_time": "2024-12-09T10:57:18.177Z"
   },
   {
    "duration": 78,
    "start_time": "2024-12-09T10:57:18.246Z"
   },
   {
    "duration": 39,
    "start_time": "2024-12-09T10:57:18.326Z"
   },
   {
    "duration": 50,
    "start_time": "2024-12-09T10:57:18.366Z"
   },
   {
    "duration": 89,
    "start_time": "2024-12-09T10:57:18.418Z"
   },
   {
    "duration": 6,
    "start_time": "2024-12-09T10:57:18.509Z"
   },
   {
    "duration": 20,
    "start_time": "2024-12-09T10:57:18.516Z"
   },
   {
    "duration": 7,
    "start_time": "2024-12-09T10:57:18.537Z"
   },
   {
    "duration": 263,
    "start_time": "2024-12-09T10:57:18.546Z"
   },
   {
    "duration": 8,
    "start_time": "2024-12-09T10:57:18.811Z"
   },
   {
    "duration": 21,
    "start_time": "2024-12-09T10:57:18.820Z"
   },
   {
    "duration": 157,
    "start_time": "2024-12-09T10:57:18.842Z"
   },
   {
    "duration": 284,
    "start_time": "2024-12-09T10:57:19.000Z"
   },
   {
    "duration": 15,
    "start_time": "2024-12-09T10:57:19.285Z"
   },
   {
    "duration": 514,
    "start_time": "2024-12-09T10:57:19.302Z"
   },
   {
    "duration": 2,
    "start_time": "2024-12-09T10:57:19.818Z"
   },
   {
    "duration": 13,
    "start_time": "2024-12-09T10:57:19.822Z"
   },
   {
    "duration": 5,
    "start_time": "2024-12-09T10:57:19.836Z"
   },
   {
    "duration": 6,
    "start_time": "2024-12-09T10:57:19.842Z"
   },
   {
    "duration": 189,
    "start_time": "2024-12-09T10:57:19.849Z"
   },
   {
    "duration": 334,
    "start_time": "2024-12-09T10:57:20.040Z"
   },
   {
    "duration": 15237,
    "start_time": "2024-12-09T10:57:20.376Z"
   },
   {
    "duration": 4,
    "start_time": "2024-12-09T10:57:35.693Z"
   },
   {
    "duration": 1387,
    "start_time": "2024-12-09T10:57:35.699Z"
   },
   {
    "duration": 59,
    "start_time": "2024-12-09T10:57:37.088Z"
   },
   {
    "duration": 1970,
    "start_time": "2024-12-09T10:57:37.149Z"
   },
   {
    "duration": 313684,
    "start_time": "2024-12-09T10:57:39.123Z"
   },
   {
    "duration": 70,
    "start_time": "2024-12-09T11:02:52.808Z"
   },
   {
    "duration": 4012,
    "start_time": "2024-12-09T11:02:52.891Z"
   },
   {
    "duration": 11846,
    "start_time": "2024-12-09T11:10:36.414Z"
   },
   {
    "duration": 1796,
    "start_time": "2024-12-09T11:10:48.264Z"
   },
   {
    "duration": 3196,
    "start_time": "2024-12-09T11:10:50.061Z"
   },
   {
    "duration": 3,
    "start_time": "2024-12-09T11:10:53.259Z"
   },
   {
    "duration": 2321,
    "start_time": "2024-12-09T11:10:53.264Z"
   },
   {
    "duration": 13,
    "start_time": "2024-12-09T11:10:55.587Z"
   },
   {
    "duration": 47,
    "start_time": "2024-12-09T11:10:55.605Z"
   },
   {
    "duration": 93,
    "start_time": "2024-12-09T11:10:55.654Z"
   },
   {
    "duration": 183,
    "start_time": "2024-12-09T11:10:55.749Z"
   },
   {
    "duration": 37,
    "start_time": "2024-12-09T11:10:55.935Z"
   },
   {
    "duration": 156,
    "start_time": "2024-12-09T11:10:55.973Z"
   },
   {
    "duration": 150,
    "start_time": "2024-12-09T11:10:56.130Z"
   },
   {
    "duration": 64,
    "start_time": "2024-12-09T11:10:56.282Z"
   },
   {
    "duration": 82,
    "start_time": "2024-12-09T11:10:56.348Z"
   },
   {
    "duration": 38,
    "start_time": "2024-12-09T11:10:56.432Z"
   },
   {
    "duration": 48,
    "start_time": "2024-12-09T11:10:56.472Z"
   },
   {
    "duration": 39,
    "start_time": "2024-12-09T11:10:56.523Z"
   },
   {
    "duration": 85,
    "start_time": "2024-12-09T11:10:56.563Z"
   },
   {
    "duration": 118,
    "start_time": "2024-12-09T11:10:56.650Z"
   },
   {
    "duration": 6,
    "start_time": "2024-12-09T11:10:56.769Z"
   },
   {
    "duration": 35,
    "start_time": "2024-12-09T11:10:56.792Z"
   },
   {
    "duration": 11,
    "start_time": "2024-12-09T11:10:56.829Z"
   },
   {
    "duration": 343,
    "start_time": "2024-12-09T11:10:56.842Z"
   },
   {
    "duration": 18,
    "start_time": "2024-12-09T11:10:57.186Z"
   },
   {
    "duration": 34,
    "start_time": "2024-12-09T11:10:57.210Z"
   },
   {
    "duration": 202,
    "start_time": "2024-12-09T11:10:57.246Z"
   },
   {
    "duration": 425,
    "start_time": "2024-12-09T11:10:57.450Z"
   },
   {
    "duration": 28,
    "start_time": "2024-12-09T11:10:57.879Z"
   },
   {
    "duration": 771,
    "start_time": "2024-12-09T11:10:57.913Z"
   },
   {
    "duration": 5,
    "start_time": "2024-12-09T11:10:58.686Z"
   },
   {
    "duration": 15,
    "start_time": "2024-12-09T11:10:58.694Z"
   },
   {
    "duration": 3,
    "start_time": "2024-12-09T11:10:58.711Z"
   },
   {
    "duration": 2,
    "start_time": "2024-12-09T11:10:58.716Z"
   },
   {
    "duration": 288,
    "start_time": "2024-12-09T11:10:58.720Z"
   },
   {
    "duration": 439,
    "start_time": "2024-12-09T11:10:59.010Z"
   },
   {
    "duration": 26068,
    "start_time": "2024-12-09T11:10:59.451Z"
   },
   {
    "duration": 75,
    "start_time": "2024-12-09T11:11:25.521Z"
   },
   {
    "duration": 1488,
    "start_time": "2024-12-09T11:11:25.604Z"
   },
   {
    "duration": 68,
    "start_time": "2024-12-09T11:11:27.109Z"
   },
   {
    "duration": 2381,
    "start_time": "2024-12-09T11:11:27.181Z"
   },
   {
    "duration": 385300,
    "start_time": "2024-12-09T11:11:29.564Z"
   },
   {
    "duration": 99,
    "start_time": "2024-12-09T11:17:54.866Z"
   },
   {
    "duration": 6408,
    "start_time": "2024-12-09T11:21:57.156Z"
   },
   {
    "duration": 5,
    "start_time": "2024-12-09T11:22:03.566Z"
   },
   {
    "duration": 1033,
    "start_time": "2024-12-09T11:22:03.573Z"
   },
   {
    "duration": 6,
    "start_time": "2024-12-09T11:22:04.610Z"
   },
   {
    "duration": 2037,
    "start_time": "2024-12-09T11:22:04.619Z"
   },
   {
    "duration": 6,
    "start_time": "2024-12-09T11:22:06.658Z"
   },
   {
    "duration": 64,
    "start_time": "2024-12-09T11:22:06.665Z"
   },
   {
    "duration": 32,
    "start_time": "2024-12-09T11:22:06.731Z"
   },
   {
    "duration": 108,
    "start_time": "2024-12-09T11:22:06.765Z"
   },
   {
    "duration": 66,
    "start_time": "2024-12-09T11:22:06.874Z"
   },
   {
    "duration": 116,
    "start_time": "2024-12-09T11:22:06.941Z"
   },
   {
    "duration": 171,
    "start_time": "2024-12-09T11:22:07.059Z"
   },
   {
    "duration": 39,
    "start_time": "2024-12-09T11:22:07.231Z"
   },
   {
    "duration": 76,
    "start_time": "2024-12-09T11:22:07.273Z"
   },
   {
    "duration": 38,
    "start_time": "2024-12-09T11:22:07.351Z"
   },
   {
    "duration": 43,
    "start_time": "2024-12-09T11:22:07.390Z"
   },
   {
    "duration": 52,
    "start_time": "2024-12-09T11:22:07.435Z"
   },
   {
    "duration": 98,
    "start_time": "2024-12-09T11:22:07.489Z"
   },
   {
    "duration": 137,
    "start_time": "2024-12-09T11:22:07.590Z"
   },
   {
    "duration": 6,
    "start_time": "2024-12-09T11:22:07.729Z"
   },
   {
    "duration": 25,
    "start_time": "2024-12-09T11:22:07.737Z"
   },
   {
    "duration": 8,
    "start_time": "2024-12-09T11:22:07.764Z"
   },
   {
    "duration": 341,
    "start_time": "2024-12-09T11:22:07.773Z"
   },
   {
    "duration": 11,
    "start_time": "2024-12-09T11:22:08.117Z"
   },
   {
    "duration": 21,
    "start_time": "2024-12-09T11:22:08.130Z"
   },
   {
    "duration": 181,
    "start_time": "2024-12-09T11:22:08.153Z"
   },
   {
    "duration": 330,
    "start_time": "2024-12-09T11:22:08.335Z"
   },
   {
    "duration": 11,
    "start_time": "2024-12-09T11:22:08.667Z"
   },
   {
    "duration": 770,
    "start_time": "2024-12-09T11:22:08.679Z"
   },
   {
    "duration": 2,
    "start_time": "2024-12-09T11:22:09.451Z"
   },
   {
    "duration": 9,
    "start_time": "2024-12-09T11:22:09.455Z"
   },
   {
    "duration": 14,
    "start_time": "2024-12-09T11:22:09.466Z"
   },
   {
    "duration": 15,
    "start_time": "2024-12-09T11:22:09.482Z"
   },
   {
    "duration": 193,
    "start_time": "2024-12-09T11:22:09.508Z"
   },
   {
    "duration": 375,
    "start_time": "2024-12-09T11:22:09.707Z"
   },
   {
    "duration": 49098,
    "start_time": "2024-12-09T11:22:10.094Z"
   },
   {
    "duration": 5,
    "start_time": "2024-12-09T11:22:59.195Z"
   },
   {
    "duration": 1478,
    "start_time": "2024-12-09T11:22:59.202Z"
   },
   {
    "duration": 73,
    "start_time": "2024-12-09T11:23:00.681Z"
   },
   {
    "duration": 2271,
    "start_time": "2024-12-09T11:23:00.756Z"
   },
   {
    "duration": 378244,
    "start_time": "2024-12-09T11:23:03.031Z"
   },
   {
    "duration": 76,
    "start_time": "2024-12-09T11:29:21.276Z"
   },
   {
    "duration": 6661,
    "start_time": "2024-12-09T11:36:09.880Z"
   },
   {
    "duration": 1445,
    "start_time": "2024-12-09T11:36:16.543Z"
   },
   {
    "duration": 999,
    "start_time": "2024-12-09T11:36:17.989Z"
   },
   {
    "duration": 17,
    "start_time": "2024-12-09T11:36:18.989Z"
   },
   {
    "duration": 2161,
    "start_time": "2024-12-09T11:36:19.012Z"
   },
   {
    "duration": 7,
    "start_time": "2024-12-09T11:36:21.175Z"
   },
   {
    "duration": 56,
    "start_time": "2024-12-09T11:36:21.184Z"
   },
   {
    "duration": 52,
    "start_time": "2024-12-09T11:36:21.241Z"
   },
   {
    "duration": 121,
    "start_time": "2024-12-09T11:36:21.302Z"
   },
   {
    "duration": 36,
    "start_time": "2024-12-09T11:36:21.425Z"
   },
   {
    "duration": 123,
    "start_time": "2024-12-09T11:36:21.462Z"
   },
   {
    "duration": 170,
    "start_time": "2024-12-09T11:36:21.587Z"
   },
   {
    "duration": 59,
    "start_time": "2024-12-09T11:36:21.758Z"
   },
   {
    "duration": 53,
    "start_time": "2024-12-09T11:36:21.823Z"
   },
   {
    "duration": 58,
    "start_time": "2024-12-09T11:36:21.878Z"
   },
   {
    "duration": 41,
    "start_time": "2024-12-09T11:36:21.938Z"
   },
   {
    "duration": 86,
    "start_time": "2024-12-09T11:36:21.981Z"
   },
   {
    "duration": 69,
    "start_time": "2024-12-09T11:36:22.069Z"
   },
   {
    "duration": 112,
    "start_time": "2024-12-09T11:36:22.139Z"
   },
   {
    "duration": 58,
    "start_time": "2024-12-09T11:36:22.253Z"
   },
   {
    "duration": 21,
    "start_time": "2024-12-09T11:36:22.320Z"
   },
   {
    "duration": 8,
    "start_time": "2024-12-09T11:36:22.343Z"
   },
   {
    "duration": 299,
    "start_time": "2024-12-09T11:36:22.352Z"
   },
   {
    "duration": 9,
    "start_time": "2024-12-09T11:36:22.652Z"
   },
   {
    "duration": 54,
    "start_time": "2024-12-09T11:36:22.662Z"
   },
   {
    "duration": 181,
    "start_time": "2024-12-09T11:36:22.718Z"
   },
   {
    "duration": 345,
    "start_time": "2024-12-09T11:36:22.907Z"
   },
   {
    "duration": 11,
    "start_time": "2024-12-09T11:36:23.253Z"
   },
   {
    "duration": 771,
    "start_time": "2024-12-09T11:36:23.266Z"
   },
   {
    "duration": 2,
    "start_time": "2024-12-09T11:36:24.039Z"
   },
   {
    "duration": 47,
    "start_time": "2024-12-09T11:36:24.043Z"
   },
   {
    "duration": 15,
    "start_time": "2024-12-09T11:36:24.102Z"
   },
   {
    "duration": 32,
    "start_time": "2024-12-09T11:36:24.120Z"
   },
   {
    "duration": 201,
    "start_time": "2024-12-09T11:36:24.154Z"
   },
   {
    "duration": 386,
    "start_time": "2024-12-09T11:36:24.357Z"
   },
   {
    "duration": 55453,
    "start_time": "2024-12-09T11:36:24.745Z"
   },
   {
    "duration": 10,
    "start_time": "2024-12-09T11:37:20.202Z"
   },
   {
    "duration": 1500,
    "start_time": "2024-12-09T11:37:20.215Z"
   },
   {
    "duration": 64,
    "start_time": "2024-12-09T11:37:21.716Z"
   },
   {
    "duration": 2355,
    "start_time": "2024-12-09T11:37:21.803Z"
   },
   {
    "duration": 372166,
    "start_time": "2024-12-09T11:37:24.163Z"
   },
   {
    "duration": 92,
    "start_time": "2024-12-09T11:43:36.331Z"
   },
   {
    "duration": 125981,
    "start_time": "2024-12-09T11:43:36.425Z"
   },
   {
    "duration": 2842069,
    "start_time": "2024-12-09T11:45:42.417Z"
   },
   {
    "duration": 6746,
    "start_time": "2024-12-09T12:35:44.806Z"
   },
   {
    "duration": 1478,
    "start_time": "2024-12-09T12:35:51.555Z"
   },
   {
    "duration": 1082,
    "start_time": "2024-12-09T12:35:53.034Z"
   },
   {
    "duration": 4,
    "start_time": "2024-12-09T12:35:54.118Z"
   },
   {
    "duration": 2270,
    "start_time": "2024-12-09T12:35:54.131Z"
   },
   {
    "duration": 13,
    "start_time": "2024-12-09T12:35:56.409Z"
   },
   {
    "duration": 35,
    "start_time": "2024-12-09T12:35:56.425Z"
   },
   {
    "duration": 63,
    "start_time": "2024-12-09T12:35:56.462Z"
   },
   {
    "duration": 106,
    "start_time": "2024-12-09T12:35:56.528Z"
   },
   {
    "duration": 38,
    "start_time": "2024-12-09T12:35:56.636Z"
   },
   {
    "duration": 139,
    "start_time": "2024-12-09T12:35:56.690Z"
   },
   {
    "duration": 177,
    "start_time": "2024-12-09T12:35:56.833Z"
   },
   {
    "duration": 48,
    "start_time": "2024-12-09T12:35:57.014Z"
   },
   {
    "duration": 80,
    "start_time": "2024-12-09T12:35:57.065Z"
   },
   {
    "duration": 56,
    "start_time": "2024-12-09T12:35:57.147Z"
   },
   {
    "duration": 51,
    "start_time": "2024-12-09T12:35:57.208Z"
   },
   {
    "duration": 90,
    "start_time": "2024-12-09T12:35:57.261Z"
   },
   {
    "duration": 96,
    "start_time": "2024-12-09T12:35:57.353Z"
   },
   {
    "duration": 157,
    "start_time": "2024-12-09T12:35:57.450Z"
   },
   {
    "duration": 11,
    "start_time": "2024-12-09T12:35:57.618Z"
   },
   {
    "duration": 37,
    "start_time": "2024-12-09T12:35:57.632Z"
   },
   {
    "duration": 39,
    "start_time": "2024-12-09T12:35:57.671Z"
   },
   {
    "duration": 310,
    "start_time": "2024-12-09T12:35:57.712Z"
   },
   {
    "duration": 14,
    "start_time": "2024-12-09T12:35:58.023Z"
   },
   {
    "duration": 21,
    "start_time": "2024-12-09T12:35:58.039Z"
   },
   {
    "duration": 195,
    "start_time": "2024-12-09T12:35:58.062Z"
   },
   {
    "duration": 376,
    "start_time": "2024-12-09T12:35:58.259Z"
   },
   {
    "duration": 11,
    "start_time": "2024-12-09T12:35:58.637Z"
   },
   {
    "duration": 710,
    "start_time": "2024-12-09T12:35:58.650Z"
   },
   {
    "duration": 2,
    "start_time": "2024-12-09T12:35:59.362Z"
   },
   {
    "duration": 10,
    "start_time": "2024-12-09T12:35:59.366Z"
   },
   {
    "duration": 31,
    "start_time": "2024-12-09T12:35:59.378Z"
   },
   {
    "duration": 9,
    "start_time": "2024-12-09T12:35:59.417Z"
   },
   {
    "duration": 199,
    "start_time": "2024-12-09T12:35:59.428Z"
   },
   {
    "duration": 395,
    "start_time": "2024-12-09T12:35:59.629Z"
   },
   {
    "duration": 63579,
    "start_time": "2024-12-09T12:36:00.026Z"
   },
   {
    "duration": 5,
    "start_time": "2024-12-09T12:37:03.613Z"
   },
   {
    "duration": 1550,
    "start_time": "2024-12-09T12:37:03.698Z"
   },
   {
    "duration": 84,
    "start_time": "2024-12-09T12:37:05.249Z"
   },
   {
    "duration": 2498,
    "start_time": "2024-12-09T12:37:05.335Z"
   },
   {
    "duration": 400720,
    "start_time": "2024-12-09T12:37:07.837Z"
   },
   {
    "duration": 95,
    "start_time": "2024-12-09T12:43:48.559Z"
   },
   {
    "duration": 6768,
    "start_time": "2024-12-09T12:49:05.155Z"
   },
   {
    "duration": 1478,
    "start_time": "2024-12-09T12:49:11.927Z"
   },
   {
    "duration": 1132,
    "start_time": "2024-12-09T12:49:13.411Z"
   },
   {
    "duration": 4,
    "start_time": "2024-12-09T12:49:14.545Z"
   },
   {
    "duration": 2501,
    "start_time": "2024-12-09T12:49:14.552Z"
   },
   {
    "duration": 8,
    "start_time": "2024-12-09T12:49:17.055Z"
   },
   {
    "duration": 84,
    "start_time": "2024-12-09T12:49:17.065Z"
   },
   {
    "duration": 53,
    "start_time": "2024-12-09T12:49:17.151Z"
   },
   {
    "duration": 125,
    "start_time": "2024-12-09T12:49:17.206Z"
   },
   {
    "duration": 59,
    "start_time": "2024-12-09T12:49:17.336Z"
   },
   {
    "duration": 157,
    "start_time": "2024-12-09T12:49:17.405Z"
   },
   {
    "duration": 215,
    "start_time": "2024-12-09T12:49:17.565Z"
   },
   {
    "duration": 60,
    "start_time": "2024-12-09T12:49:17.800Z"
   },
   {
    "duration": 78,
    "start_time": "2024-12-09T12:49:17.863Z"
   },
   {
    "duration": 38,
    "start_time": "2024-12-09T12:49:17.943Z"
   },
   {
    "duration": 61,
    "start_time": "2024-12-09T12:49:17.983Z"
   },
   {
    "duration": 101,
    "start_time": "2024-12-09T12:49:18.046Z"
   },
   {
    "duration": 84,
    "start_time": "2024-12-09T12:49:18.149Z"
   },
   {
    "duration": 122,
    "start_time": "2024-12-09T12:49:18.239Z"
   },
   {
    "duration": 21,
    "start_time": "2024-12-09T12:49:18.362Z"
   },
   {
    "duration": 56,
    "start_time": "2024-12-09T12:49:18.385Z"
   },
   {
    "duration": 23,
    "start_time": "2024-12-09T12:49:18.444Z"
   },
   {
    "duration": 360,
    "start_time": "2024-12-09T12:49:18.469Z"
   },
   {
    "duration": 11,
    "start_time": "2024-12-09T12:49:18.840Z"
   },
   {
    "duration": 34,
    "start_time": "2024-12-09T12:49:18.853Z"
   },
   {
    "duration": 195,
    "start_time": "2024-12-09T12:49:18.889Z"
   },
   {
    "duration": 395,
    "start_time": "2024-12-09T12:49:19.086Z"
   },
   {
    "duration": 31,
    "start_time": "2024-12-09T12:49:19.482Z"
   },
   {
    "duration": 683,
    "start_time": "2024-12-09T12:49:19.515Z"
   },
   {
    "duration": 13,
    "start_time": "2024-12-09T12:49:20.204Z"
   },
   {
    "duration": 61,
    "start_time": "2024-12-09T12:49:20.225Z"
   },
   {
    "duration": 60,
    "start_time": "2024-12-09T12:49:20.288Z"
   },
   {
    "duration": 38,
    "start_time": "2024-12-09T12:49:20.350Z"
   },
   {
    "duration": 255,
    "start_time": "2024-12-09T12:49:20.391Z"
   },
   {
    "duration": 417,
    "start_time": "2024-12-09T12:49:20.647Z"
   },
   {
    "duration": 68735,
    "start_time": "2024-12-09T12:49:21.065Z"
   },
   {
    "duration": 9,
    "start_time": "2024-12-09T12:50:29.807Z"
   },
   {
    "duration": 1693,
    "start_time": "2024-12-09T12:50:29.822Z"
   },
   {
    "duration": 71,
    "start_time": "2024-12-09T12:50:31.517Z"
   },
   {
    "duration": 2620,
    "start_time": "2024-12-09T12:50:31.590Z"
   },
   {
    "duration": 411302,
    "start_time": "2024-12-09T12:50:34.227Z"
   },
   {
    "duration": 93,
    "start_time": "2024-12-09T12:57:25.531Z"
   },
   {
    "duration": 6637,
    "start_time": "2024-12-09T13:15:30.025Z"
   },
   {
    "duration": 1598,
    "start_time": "2024-12-09T13:15:36.665Z"
   },
   {
    "duration": 1071,
    "start_time": "2024-12-09T13:15:38.265Z"
   },
   {
    "duration": 5,
    "start_time": "2024-12-09T13:15:39.338Z"
   },
   {
    "duration": 2384,
    "start_time": "2024-12-09T13:15:39.346Z"
   },
   {
    "duration": 7,
    "start_time": "2024-12-09T13:15:41.733Z"
   },
   {
    "duration": 33,
    "start_time": "2024-12-09T13:15:41.742Z"
   },
   {
    "duration": 49,
    "start_time": "2024-12-09T13:15:41.792Z"
   },
   {
    "duration": 122,
    "start_time": "2024-12-09T13:15:41.843Z"
   },
   {
    "duration": 61,
    "start_time": "2024-12-09T13:15:41.967Z"
   },
   {
    "duration": 128,
    "start_time": "2024-12-09T13:15:42.030Z"
   },
   {
    "duration": 180,
    "start_time": "2024-12-09T13:15:42.161Z"
   },
   {
    "duration": 62,
    "start_time": "2024-12-09T13:15:42.343Z"
   },
   {
    "duration": 50,
    "start_time": "2024-12-09T13:15:42.413Z"
   },
   {
    "duration": 53,
    "start_time": "2024-12-09T13:15:42.465Z"
   },
   {
    "duration": 20,
    "start_time": "2024-12-09T13:15:42.520Z"
   },
   {
    "duration": 69,
    "start_time": "2024-12-09T13:15:42.542Z"
   },
   {
    "duration": 60,
    "start_time": "2024-12-09T13:15:42.614Z"
   },
   {
    "duration": 126,
    "start_time": "2024-12-09T13:15:42.675Z"
   },
   {
    "duration": 36,
    "start_time": "2024-12-09T13:15:42.804Z"
   },
   {
    "duration": 19,
    "start_time": "2024-12-09T13:15:42.842Z"
   },
   {
    "duration": 9,
    "start_time": "2024-12-09T13:15:42.863Z"
   },
   {
    "duration": 290,
    "start_time": "2024-12-09T13:15:42.874Z"
   },
   {
    "duration": 9,
    "start_time": "2024-12-09T13:15:43.165Z"
   },
   {
    "duration": 45,
    "start_time": "2024-12-09T13:15:43.175Z"
   },
   {
    "duration": 187,
    "start_time": "2024-12-09T13:15:43.224Z"
   },
   {
    "duration": 360,
    "start_time": "2024-12-09T13:15:43.416Z"
   },
   {
    "duration": 25,
    "start_time": "2024-12-09T13:15:43.778Z"
   },
   {
    "duration": 756,
    "start_time": "2024-12-09T13:15:43.806Z"
   },
   {
    "duration": 8,
    "start_time": "2024-12-09T13:15:44.563Z"
   },
   {
    "duration": 27,
    "start_time": "2024-12-09T13:15:44.573Z"
   },
   {
    "duration": 202,
    "start_time": "2024-12-09T13:15:44.610Z"
   },
   {
    "duration": 394,
    "start_time": "2024-12-09T13:15:44.816Z"
   },
   {
    "duration": 17878,
    "start_time": "2024-12-09T13:15:45.217Z"
   },
   {
    "duration": 58219,
    "start_time": "2024-12-09T13:16:03.098Z"
   },
   {
    "duration": 1637,
    "start_time": "2024-12-09T13:17:01.321Z"
   },
   {
    "duration": 78,
    "start_time": "2024-12-09T13:17:02.960Z"
   },
   {
    "duration": 2381,
    "start_time": "2024-12-09T13:17:03.039Z"
   },
   {
    "duration": 416117,
    "start_time": "2024-12-09T13:17:05.422Z"
   },
   {
    "duration": 99,
    "start_time": "2024-12-09T13:24:01.541Z"
   },
   {
    "duration": 345986,
    "start_time": "2024-12-09T13:24:46.707Z"
   },
   {
    "duration": 51294,
    "start_time": "2024-12-09T13:31:06.620Z"
   },
   {
    "duration": 105,
    "start_time": "2024-12-09T13:31:57.994Z"
   },
   {
    "duration": 440,
    "start_time": "2024-12-09T13:31:58.102Z"
   },
   {
    "duration": 11,
    "start_time": "2024-12-09T13:31:58.544Z"
   },
   {
    "duration": 230118,
    "start_time": "2024-12-09T13:31:58.557Z"
   },
   {
    "duration": 4808,
    "start_time": "2024-12-09T13:35:48.676Z"
   },
   {
    "duration": 649125,
    "start_time": "2024-12-09T13:35:53.485Z"
   },
   {
    "duration": 97,
    "start_time": "2024-12-09T13:46:42.612Z"
   },
   {
    "duration": 161669,
    "start_time": "2024-12-09T13:46:56.850Z"
   },
   {
    "duration": 481,
    "start_time": "2024-12-09T13:49:38.524Z"
   },
   {
    "duration": 12,
    "start_time": "2024-12-09T13:52:26.941Z"
   },
   {
    "duration": 432,
    "start_time": "2024-12-09T13:55:56.265Z"
   },
   {
    "duration": 74,
    "start_time": "2024-12-09T13:59:56.089Z"
   },
   {
    "duration": 13,
    "start_time": "2024-12-09T14:35:55.349Z"
   },
   {
    "duration": 3,
    "start_time": "2024-12-09T14:36:01.914Z"
   },
   {
    "duration": 6236,
    "start_time": "2024-12-09T14:51:34.673Z"
   },
   {
    "duration": 7,
    "start_time": "2024-12-09T14:51:40.913Z"
   },
   {
    "duration": 1007,
    "start_time": "2024-12-09T14:51:40.924Z"
   },
   {
    "duration": 6,
    "start_time": "2024-12-09T14:51:41.933Z"
   },
   {
    "duration": 1965,
    "start_time": "2024-12-09T14:51:41.941Z"
   },
   {
    "duration": 10,
    "start_time": "2024-12-09T14:51:43.908Z"
   },
   {
    "duration": 136,
    "start_time": "2024-12-09T14:51:43.920Z"
   },
   {
    "duration": 69,
    "start_time": "2024-12-09T14:51:44.059Z"
   },
   {
    "duration": 165,
    "start_time": "2024-12-09T14:51:44.130Z"
   },
   {
    "duration": 68,
    "start_time": "2024-12-09T14:51:44.299Z"
   },
   {
    "duration": 207,
    "start_time": "2024-12-09T14:51:44.369Z"
   },
   {
    "duration": 181,
    "start_time": "2024-12-09T14:51:44.579Z"
   },
   {
    "duration": 48,
    "start_time": "2024-12-09T14:51:44.762Z"
   },
   {
    "duration": 83,
    "start_time": "2024-12-09T14:51:44.812Z"
   },
   {
    "duration": 39,
    "start_time": "2024-12-09T14:51:44.897Z"
   },
   {
    "duration": 71,
    "start_time": "2024-12-09T14:51:44.938Z"
   },
   {
    "duration": 96,
    "start_time": "2024-12-09T14:51:45.012Z"
   },
   {
    "duration": 64,
    "start_time": "2024-12-09T14:51:45.110Z"
   },
   {
    "duration": 97,
    "start_time": "2024-12-09T14:51:45.176Z"
   },
   {
    "duration": 59,
    "start_time": "2024-12-09T14:51:45.275Z"
   },
   {
    "duration": 64,
    "start_time": "2024-12-09T14:51:45.336Z"
   },
   {
    "duration": 35,
    "start_time": "2024-12-09T14:51:45.403Z"
   },
   {
    "duration": 297,
    "start_time": "2024-12-09T14:51:45.440Z"
   },
   {
    "duration": 10,
    "start_time": "2024-12-09T14:51:45.739Z"
   },
   {
    "duration": 45,
    "start_time": "2024-12-09T14:51:45.751Z"
   },
   {
    "duration": 180,
    "start_time": "2024-12-09T14:51:45.798Z"
   },
   {
    "duration": 319,
    "start_time": "2024-12-09T14:51:45.980Z"
   },
   {
    "duration": 17,
    "start_time": "2024-12-09T14:51:46.304Z"
   },
   {
    "duration": 798,
    "start_time": "2024-12-09T14:51:46.323Z"
   },
   {
    "duration": 8,
    "start_time": "2024-12-09T14:51:47.123Z"
   },
   {
    "duration": 14,
    "start_time": "2024-12-09T14:51:47.133Z"
   },
   {
    "duration": 201,
    "start_time": "2024-12-09T14:51:47.149Z"
   },
   {
    "duration": 439,
    "start_time": "2024-12-09T14:51:47.352Z"
   },
   {
    "duration": 16231,
    "start_time": "2024-12-09T14:51:47.793Z"
   },
   {
    "duration": 39982,
    "start_time": "2024-12-09T14:52:04.026Z"
   },
   {
    "duration": 85,
    "start_time": "2024-12-09T14:52:44.014Z"
   },
   {
    "duration": 2118,
    "start_time": "2024-12-09T14:52:44.102Z"
   },
   {
    "duration": 179,
    "start_time": "2024-12-09T14:52:50.725Z"
   },
   {
    "duration": 170,
    "start_time": "2024-12-09T14:53:07.528Z"
   },
   {
    "duration": 80,
    "start_time": "2024-12-09T14:57:57.903Z"
   },
   {
    "duration": 72,
    "start_time": "2024-12-09T14:59:07.756Z"
   },
   {
    "duration": 76,
    "start_time": "2024-12-09T15:01:48.213Z"
   },
   {
    "duration": 123,
    "start_time": "2024-12-09T15:03:46.261Z"
   },
   {
    "duration": 78,
    "start_time": "2024-12-09T15:07:20.853Z"
   },
   {
    "duration": 128,
    "start_time": "2024-12-09T15:09:11.958Z"
   },
   {
    "duration": 90,
    "start_time": "2024-12-09T15:13:01.091Z"
   },
   {
    "duration": 790,
    "start_time": "2024-12-09T15:16:43.092Z"
   },
   {
    "duration": 786,
    "start_time": "2024-12-09T15:16:53.977Z"
   },
   {
    "duration": 115,
    "start_time": "2024-12-09T15:17:05.213Z"
   },
   {
    "duration": 371,
    "start_time": "2024-12-09T15:19:58.751Z"
   },
   {
    "duration": 2220,
    "start_time": "2024-12-09T15:20:01.959Z"
   },
   {
    "duration": 358,
    "start_time": "2024-12-09T15:20:51.615Z"
   },
   {
    "duration": 9380,
    "start_time": "2024-12-09T18:25:52.926Z"
   },
   {
    "duration": 1497,
    "start_time": "2024-12-09T18:26:02.308Z"
   },
   {
    "duration": 2949,
    "start_time": "2024-12-09T18:26:03.807Z"
   },
   {
    "duration": 3,
    "start_time": "2024-12-09T18:26:06.759Z"
   },
   {
    "duration": 1976,
    "start_time": "2024-12-09T18:26:06.764Z"
   },
   {
    "duration": 7,
    "start_time": "2024-12-09T18:26:08.742Z"
   },
   {
    "duration": 37,
    "start_time": "2024-12-09T18:26:08.750Z"
   },
   {
    "duration": 48,
    "start_time": "2024-12-09T18:26:08.789Z"
   },
   {
    "duration": 86,
    "start_time": "2024-12-09T18:26:08.838Z"
   },
   {
    "duration": 37,
    "start_time": "2024-12-09T18:26:08.938Z"
   },
   {
    "duration": 113,
    "start_time": "2024-12-09T18:26:08.977Z"
   },
   {
    "duration": 162,
    "start_time": "2024-12-09T18:26:09.092Z"
   },
   {
    "duration": 37,
    "start_time": "2024-12-09T18:26:09.256Z"
   },
   {
    "duration": 56,
    "start_time": "2024-12-09T18:26:09.295Z"
   },
   {
    "duration": 35,
    "start_time": "2024-12-09T18:26:09.353Z"
   },
   {
    "duration": 37,
    "start_time": "2024-12-09T18:26:09.390Z"
   },
   {
    "duration": 85,
    "start_time": "2024-12-09T18:26:09.428Z"
   },
   {
    "duration": 60,
    "start_time": "2024-12-09T18:26:09.515Z"
   },
   {
    "duration": 88,
    "start_time": "2024-12-09T18:26:09.577Z"
   },
   {
    "duration": 21,
    "start_time": "2024-12-09T18:26:09.667Z"
   },
   {
    "duration": 34,
    "start_time": "2024-12-09T18:26:09.690Z"
   },
   {
    "duration": 9,
    "start_time": "2024-12-09T18:26:09.725Z"
   },
   {
    "duration": 247,
    "start_time": "2024-12-09T18:26:09.735Z"
   },
   {
    "duration": 8,
    "start_time": "2024-12-09T18:26:09.983Z"
   },
   {
    "duration": 56,
    "start_time": "2024-12-09T18:26:09.992Z"
   },
   {
    "duration": 158,
    "start_time": "2024-12-09T18:26:10.050Z"
   },
   {
    "duration": 286,
    "start_time": "2024-12-09T18:26:10.210Z"
   },
   {
    "duration": 10,
    "start_time": "2024-12-09T18:26:10.499Z"
   },
   {
    "duration": 576,
    "start_time": "2024-12-09T18:26:10.511Z"
   },
   {
    "duration": 7,
    "start_time": "2024-12-09T18:26:11.090Z"
   },
   {
    "duration": 12,
    "start_time": "2024-12-09T18:26:11.099Z"
   },
   {
    "duration": 187,
    "start_time": "2024-12-09T18:26:11.112Z"
   },
   {
    "duration": 346,
    "start_time": "2024-12-09T18:26:11.301Z"
   },
   {
    "duration": 14598,
    "start_time": "2024-12-09T18:26:11.648Z"
   },
   {
    "duration": 20797,
    "start_time": "2024-12-09T18:26:26.247Z"
   },
   {
    "duration": 91,
    "start_time": "2024-12-09T18:26:47.046Z"
   },
   {
    "duration": 603,
    "start_time": "2024-12-09T18:26:47.139Z"
   },
   {
    "duration": 18,
    "start_time": "2024-12-09T18:29:43.720Z"
   },
   {
    "duration": 555,
    "start_time": "2024-12-09T18:29:53.025Z"
   },
   {
    "duration": 18,
    "start_time": "2024-12-09T18:29:55.913Z"
   },
   {
    "duration": 248,
    "start_time": "2024-12-09T18:30:00.120Z"
   },
   {
    "duration": 5492,
    "start_time": "2024-12-09T18:59:50.229Z"
   },
   {
    "duration": 1220,
    "start_time": "2024-12-09T18:59:55.723Z"
   },
   {
    "duration": 836,
    "start_time": "2024-12-09T18:59:56.945Z"
   },
   {
    "duration": 3,
    "start_time": "2024-12-09T18:59:57.783Z"
   },
   {
    "duration": 1872,
    "start_time": "2024-12-09T18:59:57.788Z"
   },
   {
    "duration": 11,
    "start_time": "2024-12-09T18:59:59.661Z"
   },
   {
    "duration": 50,
    "start_time": "2024-12-09T18:59:59.674Z"
   },
   {
    "duration": 43,
    "start_time": "2024-12-09T18:59:59.725Z"
   },
   {
    "duration": 85,
    "start_time": "2024-12-09T18:59:59.770Z"
   },
   {
    "duration": 46,
    "start_time": "2024-12-09T18:59:59.858Z"
   },
   {
    "duration": 108,
    "start_time": "2024-12-09T18:59:59.906Z"
   },
   {
    "duration": 167,
    "start_time": "2024-12-09T19:00:00.016Z"
   },
   {
    "duration": 40,
    "start_time": "2024-12-09T19:00:00.185Z"
   },
   {
    "duration": 87,
    "start_time": "2024-12-09T19:00:00.226Z"
   },
   {
    "duration": 39,
    "start_time": "2024-12-09T19:00:00.314Z"
   },
   {
    "duration": 22,
    "start_time": "2024-12-09T19:00:00.370Z"
   },
   {
    "duration": 91,
    "start_time": "2024-12-09T19:00:00.394Z"
   },
   {
    "duration": 85,
    "start_time": "2024-12-09T19:00:00.487Z"
   },
   {
    "duration": 96,
    "start_time": "2024-12-09T19:00:00.574Z"
   },
   {
    "duration": 6,
    "start_time": "2024-12-09T19:00:00.671Z"
   },
   {
    "duration": 23,
    "start_time": "2024-12-09T19:00:00.679Z"
   },
   {
    "duration": 24,
    "start_time": "2024-12-09T19:00:00.704Z"
   },
   {
    "duration": 372,
    "start_time": "2024-12-09T19:00:00.730Z"
   },
   {
    "duration": 8,
    "start_time": "2024-12-09T19:00:01.104Z"
   },
   {
    "duration": 71,
    "start_time": "2024-12-09T19:00:01.114Z"
   },
   {
    "duration": 158,
    "start_time": "2024-12-09T19:00:01.187Z"
   },
   {
    "duration": 292,
    "start_time": "2024-12-09T19:00:01.347Z"
   },
   {
    "duration": 11,
    "start_time": "2024-12-09T19:00:01.642Z"
   },
   {
    "duration": 624,
    "start_time": "2024-12-09T19:00:01.655Z"
   },
   {
    "duration": 7,
    "start_time": "2024-12-09T19:00:02.280Z"
   },
   {
    "duration": 19,
    "start_time": "2024-12-09T19:00:02.288Z"
   },
   {
    "duration": 215,
    "start_time": "2024-12-09T19:00:02.308Z"
   },
   {
    "duration": 339,
    "start_time": "2024-12-09T19:00:02.525Z"
   },
   {
    "duration": 13986,
    "start_time": "2024-12-09T19:00:02.865Z"
   },
   {
    "duration": 14824,
    "start_time": "2024-12-09T19:00:16.852Z"
   },
   {
    "duration": 93,
    "start_time": "2024-12-09T19:00:31.681Z"
   },
   {
    "duration": 560,
    "start_time": "2024-12-09T19:00:31.778Z"
   },
   {
    "duration": 766,
    "start_time": "2024-12-09T19:00:42.215Z"
   },
   {
    "duration": 5822,
    "start_time": "2024-12-09T19:29:53.421Z"
   },
   {
    "duration": 5,
    "start_time": "2024-12-09T19:29:59.246Z"
   },
   {
    "duration": 816,
    "start_time": "2024-12-09T19:29:59.252Z"
   },
   {
    "duration": 3,
    "start_time": "2024-12-09T19:30:00.070Z"
   },
   {
    "duration": 1729,
    "start_time": "2024-12-09T19:30:00.076Z"
   },
   {
    "duration": 6,
    "start_time": "2024-12-09T19:30:01.807Z"
   },
   {
    "duration": 42,
    "start_time": "2024-12-09T19:30:01.815Z"
   },
   {
    "duration": 48,
    "start_time": "2024-12-09T19:30:01.859Z"
   },
   {
    "duration": 81,
    "start_time": "2024-12-09T19:30:01.909Z"
   },
   {
    "duration": 50,
    "start_time": "2024-12-09T19:30:01.992Z"
   },
   {
    "duration": 112,
    "start_time": "2024-12-09T19:30:02.044Z"
   },
   {
    "duration": 132,
    "start_time": "2024-12-09T19:30:02.158Z"
   },
   {
    "duration": 48,
    "start_time": "2024-12-09T19:30:02.292Z"
   },
   {
    "duration": 73,
    "start_time": "2024-12-09T19:30:02.343Z"
   },
   {
    "duration": 37,
    "start_time": "2024-12-09T19:30:02.417Z"
   },
   {
    "duration": 54,
    "start_time": "2024-12-09T19:30:02.455Z"
   },
   {
    "duration": 98,
    "start_time": "2024-12-09T19:30:02.511Z"
   },
   {
    "duration": 64,
    "start_time": "2024-12-09T19:30:02.611Z"
   },
   {
    "duration": 107,
    "start_time": "2024-12-09T19:30:02.677Z"
   },
   {
    "duration": 28,
    "start_time": "2024-12-09T19:30:02.786Z"
   },
   {
    "duration": 67,
    "start_time": "2024-12-09T19:30:02.816Z"
   },
   {
    "duration": 7,
    "start_time": "2024-12-09T19:30:02.884Z"
   },
   {
    "duration": 264,
    "start_time": "2024-12-09T19:30:02.893Z"
   },
   {
    "duration": 7,
    "start_time": "2024-12-09T19:30:03.159Z"
   },
   {
    "duration": 30,
    "start_time": "2024-12-09T19:30:03.168Z"
   },
   {
    "duration": 143,
    "start_time": "2024-12-09T19:30:03.200Z"
   },
   {
    "duration": 283,
    "start_time": "2024-12-09T19:30:03.345Z"
   },
   {
    "duration": 14,
    "start_time": "2024-12-09T19:30:03.630Z"
   },
   {
    "duration": 534,
    "start_time": "2024-12-09T19:30:03.646Z"
   },
   {
    "duration": 6,
    "start_time": "2024-12-09T19:30:04.182Z"
   },
   {
    "duration": 42,
    "start_time": "2024-12-09T19:30:04.190Z"
   },
   {
    "duration": 190,
    "start_time": "2024-12-09T19:30:04.234Z"
   },
   {
    "duration": 332,
    "start_time": "2024-12-09T19:30:04.426Z"
   },
   {
    "duration": 13825,
    "start_time": "2024-12-09T19:30:04.759Z"
   },
   {
    "duration": 14855,
    "start_time": "2024-12-09T19:30:18.585Z"
   },
   {
    "duration": 4,
    "start_time": "2024-12-09T19:30:33.442Z"
   },
   {
    "duration": 473,
    "start_time": "2024-12-09T19:30:33.538Z"
   },
   {
    "duration": 15,
    "start_time": "2024-12-09T19:30:39.462Z"
   },
   {
    "duration": 239,
    "start_time": "2024-12-09T19:38:05.554Z"
   },
   {
    "duration": 1421,
    "start_time": "2024-12-09T19:39:32.902Z"
   },
   {
    "duration": 1458,
    "start_time": "2024-12-09T19:39:57.563Z"
   },
   {
    "duration": 318,
    "start_time": "2024-12-09T19:40:16.689Z"
   },
   {
    "duration": 5486,
    "start_time": "2024-12-09T19:44:20.525Z"
   },
   {
    "duration": 1321,
    "start_time": "2024-12-09T19:44:26.013Z"
   },
   {
    "duration": 845,
    "start_time": "2024-12-09T19:44:27.335Z"
   },
   {
    "duration": 4,
    "start_time": "2024-12-09T19:44:28.182Z"
   },
   {
    "duration": 1814,
    "start_time": "2024-12-09T19:44:28.189Z"
   },
   {
    "duration": 6,
    "start_time": "2024-12-09T19:44:30.005Z"
   },
   {
    "duration": 71,
    "start_time": "2024-12-09T19:44:30.012Z"
   },
   {
    "duration": 50,
    "start_time": "2024-12-09T19:44:30.085Z"
   },
   {
    "duration": 82,
    "start_time": "2024-12-09T19:44:30.137Z"
   },
   {
    "duration": 36,
    "start_time": "2024-12-09T19:44:30.221Z"
   },
   {
    "duration": 122,
    "start_time": "2024-12-09T19:44:30.271Z"
   },
   {
    "duration": 133,
    "start_time": "2024-12-09T19:44:30.395Z"
   },
   {
    "duration": 43,
    "start_time": "2024-12-09T19:44:30.530Z"
   },
   {
    "duration": 61,
    "start_time": "2024-12-09T19:44:30.576Z"
   },
   {
    "duration": 36,
    "start_time": "2024-12-09T19:44:30.639Z"
   },
   {
    "duration": 21,
    "start_time": "2024-12-09T19:44:30.676Z"
   },
   {
    "duration": 60,
    "start_time": "2024-12-09T19:44:30.699Z"
   },
   {
    "duration": 66,
    "start_time": "2024-12-09T19:44:30.761Z"
   },
   {
    "duration": 91,
    "start_time": "2024-12-09T19:44:30.829Z"
   },
   {
    "duration": 36,
    "start_time": "2024-12-09T19:44:30.922Z"
   },
   {
    "duration": 33,
    "start_time": "2024-12-09T19:44:30.960Z"
   },
   {
    "duration": 8,
    "start_time": "2024-12-09T19:44:30.995Z"
   },
   {
    "duration": 251,
    "start_time": "2024-12-09T19:44:31.004Z"
   },
   {
    "duration": 17,
    "start_time": "2024-12-09T19:44:31.257Z"
   },
   {
    "duration": 20,
    "start_time": "2024-12-09T19:44:31.276Z"
   },
   {
    "duration": 154,
    "start_time": "2024-12-09T19:44:31.298Z"
   },
   {
    "duration": 297,
    "start_time": "2024-12-09T19:44:31.453Z"
   },
   {
    "duration": 20,
    "start_time": "2024-12-09T19:44:31.751Z"
   },
   {
    "duration": 606,
    "start_time": "2024-12-09T19:44:31.773Z"
   },
   {
    "duration": 6,
    "start_time": "2024-12-09T19:44:32.381Z"
   },
   {
    "duration": 8,
    "start_time": "2024-12-09T19:44:32.389Z"
   },
   {
    "duration": 180,
    "start_time": "2024-12-09T19:44:32.399Z"
   },
   {
    "duration": 345,
    "start_time": "2024-12-09T19:44:32.581Z"
   },
   {
    "duration": 13725,
    "start_time": "2024-12-09T19:44:32.928Z"
   },
   {
    "duration": 21024,
    "start_time": "2024-12-09T19:44:46.654Z"
   },
   {
    "duration": 90,
    "start_time": "2024-12-09T19:45:07.681Z"
   },
   {
    "duration": 530,
    "start_time": "2024-12-09T19:45:07.773Z"
   },
   {
    "duration": 673,
    "start_time": "2024-12-09T20:17:13.750Z"
   },
   {
    "duration": 564,
    "start_time": "2024-12-09T20:35:54.765Z"
   },
   {
    "duration": 5865,
    "start_time": "2024-12-09T20:48:42.302Z"
   },
   {
    "duration": 1370,
    "start_time": "2024-12-09T20:48:48.170Z"
   },
   {
    "duration": 895,
    "start_time": "2024-12-09T20:48:49.541Z"
   },
   {
    "duration": 4,
    "start_time": "2024-12-09T20:48:50.438Z"
   },
   {
    "duration": 2002,
    "start_time": "2024-12-09T20:48:50.444Z"
   },
   {
    "duration": 6,
    "start_time": "2024-12-09T20:48:52.447Z"
   },
   {
    "duration": 62,
    "start_time": "2024-12-09T20:48:52.455Z"
   },
   {
    "duration": 41,
    "start_time": "2024-12-09T20:48:52.519Z"
   },
   {
    "duration": 117,
    "start_time": "2024-12-09T20:48:52.561Z"
   },
   {
    "duration": 43,
    "start_time": "2024-12-09T20:48:52.687Z"
   },
   {
    "duration": 108,
    "start_time": "2024-12-09T20:48:52.732Z"
   },
   {
    "duration": 166,
    "start_time": "2024-12-09T20:48:52.841Z"
   },
   {
    "duration": 36,
    "start_time": "2024-12-09T20:48:53.008Z"
   },
   {
    "duration": 76,
    "start_time": "2024-12-09T20:48:53.046Z"
   },
   {
    "duration": 38,
    "start_time": "2024-12-09T20:48:53.123Z"
   },
   {
    "duration": 36,
    "start_time": "2024-12-09T20:48:53.169Z"
   },
   {
    "duration": 55,
    "start_time": "2024-12-09T20:48:53.207Z"
   },
   {
    "duration": 77,
    "start_time": "2024-12-09T20:48:53.263Z"
   },
   {
    "duration": 106,
    "start_time": "2024-12-09T20:48:53.341Z"
   },
   {
    "duration": 6,
    "start_time": "2024-12-09T20:48:53.448Z"
   },
   {
    "duration": 81,
    "start_time": "2024-12-09T20:48:53.472Z"
   },
   {
    "duration": 10,
    "start_time": "2024-12-09T20:48:53.556Z"
   },
   {
    "duration": 289,
    "start_time": "2024-12-09T20:48:53.568Z"
   },
   {
    "duration": 20,
    "start_time": "2024-12-09T20:48:53.859Z"
   },
   {
    "duration": 28,
    "start_time": "2024-12-09T20:48:53.881Z"
   },
   {
    "duration": 163,
    "start_time": "2024-12-09T20:48:53.910Z"
   },
   {
    "duration": 358,
    "start_time": "2024-12-09T20:48:54.075Z"
   },
   {
    "duration": 11,
    "start_time": "2024-12-09T20:48:54.436Z"
   },
   {
    "duration": 606,
    "start_time": "2024-12-09T20:48:54.449Z"
   },
   {
    "duration": 21,
    "start_time": "2024-12-09T20:48:55.056Z"
   },
   {
    "duration": 8,
    "start_time": "2024-12-09T20:48:55.089Z"
   },
   {
    "duration": 194,
    "start_time": "2024-12-09T20:48:55.099Z"
   },
   {
    "duration": 364,
    "start_time": "2024-12-09T20:48:55.296Z"
   },
   {
    "duration": 15626,
    "start_time": "2024-12-09T20:48:55.661Z"
   },
   {
    "duration": 26288,
    "start_time": "2024-12-09T20:49:11.289Z"
   },
   {
    "duration": 4,
    "start_time": "2024-12-09T20:49:37.580Z"
   },
   {
    "duration": 669,
    "start_time": "2024-12-09T20:50:06.971Z"
   },
   {
    "duration": 1430,
    "start_time": "2024-12-09T20:50:28.513Z"
   },
   {
    "duration": 113,
    "start_time": "2024-12-09T20:56:21.307Z"
   },
   {
    "duration": 174,
    "start_time": "2024-12-09T20:57:31.869Z"
   },
   {
    "duration": 1369,
    "start_time": "2024-12-09T20:57:56.419Z"
   },
   {
    "duration": 1406,
    "start_time": "2024-12-09T20:58:54.289Z"
   },
   {
    "duration": 1466,
    "start_time": "2024-12-09T20:59:59.178Z"
   },
   {
    "duration": 1410,
    "start_time": "2024-12-09T21:03:32.828Z"
   },
   {
    "duration": 1499,
    "start_time": "2024-12-09T21:07:46.335Z"
   },
   {
    "duration": 565,
    "start_time": "2024-12-09T21:10:54.019Z"
   },
   {
    "duration": 1490,
    "start_time": "2024-12-09T21:12:51.897Z"
   },
   {
    "duration": 48,
    "start_time": "2024-12-10T06:52:43.265Z"
   },
   {
    "duration": 9362,
    "start_time": "2024-12-10T06:54:29.572Z"
   },
   {
    "duration": 1522,
    "start_time": "2024-12-10T06:54:38.936Z"
   },
   {
    "duration": 2985,
    "start_time": "2024-12-10T06:54:40.460Z"
   },
   {
    "duration": 4,
    "start_time": "2024-12-10T06:54:43.446Z"
   },
   {
    "duration": 1823,
    "start_time": "2024-12-10T06:54:43.452Z"
   },
   {
    "duration": 6,
    "start_time": "2024-12-10T06:54:45.277Z"
   },
   {
    "duration": 36,
    "start_time": "2024-12-10T06:54:45.285Z"
   },
   {
    "duration": 78,
    "start_time": "2024-12-10T06:54:45.330Z"
   },
   {
    "duration": 80,
    "start_time": "2024-12-10T06:54:45.410Z"
   },
   {
    "duration": 47,
    "start_time": "2024-12-10T06:54:45.491Z"
   },
   {
    "duration": 131,
    "start_time": "2024-12-10T06:54:45.540Z"
   },
   {
    "duration": 137,
    "start_time": "2024-12-10T06:54:45.672Z"
   },
   {
    "duration": 39,
    "start_time": "2024-12-10T06:54:45.810Z"
   },
   {
    "duration": 54,
    "start_time": "2024-12-10T06:54:45.852Z"
   },
   {
    "duration": 38,
    "start_time": "2024-12-10T06:54:45.908Z"
   },
   {
    "duration": 100,
    "start_time": "2024-12-10T06:54:45.948Z"
   },
   {
    "duration": 53,
    "start_time": "2024-12-10T06:54:46.051Z"
   },
   {
    "duration": 124,
    "start_time": "2024-12-10T06:54:46.106Z"
   },
   {
    "duration": 87,
    "start_time": "2024-12-10T06:54:46.232Z"
   },
   {
    "duration": 10,
    "start_time": "2024-12-10T06:54:46.330Z"
   },
   {
    "duration": 19,
    "start_time": "2024-12-10T06:54:46.341Z"
   },
   {
    "duration": 7,
    "start_time": "2024-12-10T06:54:46.362Z"
   },
   {
    "duration": 249,
    "start_time": "2024-12-10T06:54:46.370Z"
   },
   {
    "duration": 17,
    "start_time": "2024-12-10T06:54:46.621Z"
   },
   {
    "duration": 21,
    "start_time": "2024-12-10T06:54:46.639Z"
   },
   {
    "duration": 147,
    "start_time": "2024-12-10T06:54:46.661Z"
   },
   {
    "duration": 295,
    "start_time": "2024-12-10T06:54:46.810Z"
   },
   {
    "duration": 11,
    "start_time": "2024-12-10T06:54:47.106Z"
   },
   {
    "duration": 594,
    "start_time": "2024-12-10T06:54:47.130Z"
   },
   {
    "duration": 7,
    "start_time": "2024-12-10T06:54:47.725Z"
   },
   {
    "duration": 15,
    "start_time": "2024-12-10T06:54:47.734Z"
   },
   {
    "duration": 193,
    "start_time": "2024-12-10T06:54:47.752Z"
   },
   {
    "duration": 344,
    "start_time": "2024-12-10T06:54:47.947Z"
   },
   {
    "duration": 13823,
    "start_time": "2024-12-10T06:54:48.292Z"
   },
   {
    "duration": 17117,
    "start_time": "2024-12-10T06:55:02.117Z"
   },
   {
    "duration": 92,
    "start_time": "2024-12-10T06:55:19.239Z"
   },
   {
    "duration": 85,
    "start_time": "2024-12-10T06:55:19.332Z"
   },
   {
    "duration": 335,
    "start_time": "2024-12-10T06:55:29.996Z"
   },
   {
    "duration": 255,
    "start_time": "2024-12-10T06:55:52.422Z"
   },
   {
    "duration": 268,
    "start_time": "2024-12-10T06:56:50.430Z"
   },
   {
    "duration": 256,
    "start_time": "2024-12-10T07:00:29.670Z"
   },
   {
    "duration": 257,
    "start_time": "2024-12-10T07:01:27.454Z"
   },
   {
    "duration": 277,
    "start_time": "2024-12-10T07:02:34.921Z"
   },
   {
    "duration": 256,
    "start_time": "2024-12-10T07:05:18.883Z"
   },
   {
    "duration": 5478,
    "start_time": "2024-12-10T07:06:00.611Z"
   },
   {
    "duration": 6,
    "start_time": "2024-12-10T07:06:06.092Z"
   },
   {
    "duration": 826,
    "start_time": "2024-12-10T07:06:06.099Z"
   },
   {
    "duration": 4,
    "start_time": "2024-12-10T07:06:06.929Z"
   },
   {
    "duration": 1712,
    "start_time": "2024-12-10T07:06:06.934Z"
   },
   {
    "duration": 7,
    "start_time": "2024-12-10T07:06:08.648Z"
   },
   {
    "duration": 31,
    "start_time": "2024-12-10T07:06:08.656Z"
   },
   {
    "duration": 52,
    "start_time": "2024-12-10T07:06:08.689Z"
   },
   {
    "duration": 92,
    "start_time": "2024-12-10T07:06:08.743Z"
   },
   {
    "duration": 35,
    "start_time": "2024-12-10T07:06:08.838Z"
   },
   {
    "duration": 104,
    "start_time": "2024-12-10T07:06:08.874Z"
   },
   {
    "duration": 118,
    "start_time": "2024-12-10T07:06:08.980Z"
   },
   {
    "duration": 41,
    "start_time": "2024-12-10T07:06:09.100Z"
   },
   {
    "duration": 62,
    "start_time": "2024-12-10T07:06:09.143Z"
   },
   {
    "duration": 35,
    "start_time": "2024-12-10T07:06:09.207Z"
   },
   {
    "duration": 18,
    "start_time": "2024-12-10T07:06:09.243Z"
   },
   {
    "duration": 36,
    "start_time": "2024-12-10T07:06:09.263Z"
   },
   {
    "duration": 73,
    "start_time": "2024-12-10T07:06:09.301Z"
   },
   {
    "duration": 90,
    "start_time": "2024-12-10T07:06:09.376Z"
   },
   {
    "duration": 11,
    "start_time": "2024-12-10T07:06:09.468Z"
   },
   {
    "duration": 21,
    "start_time": "2024-12-10T07:06:09.481Z"
   },
   {
    "duration": 28,
    "start_time": "2024-12-10T07:06:09.503Z"
   },
   {
    "duration": 251,
    "start_time": "2024-12-10T07:06:09.533Z"
   },
   {
    "duration": 8,
    "start_time": "2024-12-10T07:06:09.785Z"
   },
   {
    "duration": 36,
    "start_time": "2024-12-10T07:06:09.795Z"
   },
   {
    "duration": 139,
    "start_time": "2024-12-10T07:06:09.832Z"
   },
   {
    "duration": 283,
    "start_time": "2024-12-10T07:06:09.972Z"
   },
   {
    "duration": 11,
    "start_time": "2024-12-10T07:06:10.258Z"
   },
   {
    "duration": 635,
    "start_time": "2024-12-10T07:06:10.270Z"
   },
   {
    "duration": 7,
    "start_time": "2024-12-10T07:06:10.906Z"
   },
   {
    "duration": 16,
    "start_time": "2024-12-10T07:06:10.914Z"
   },
   {
    "duration": 124,
    "start_time": "2024-12-10T07:06:10.931Z"
   },
   {
    "duration": 284,
    "start_time": "2024-12-10T07:06:11.057Z"
   },
   {
    "duration": 12867,
    "start_time": "2024-12-10T07:06:11.343Z"
   },
   {
    "duration": 16721,
    "start_time": "2024-12-10T07:06:24.211Z"
   },
   {
    "duration": 3,
    "start_time": "2024-12-10T07:06:40.935Z"
   },
   {
    "duration": 89,
    "start_time": "2024-12-10T07:06:40.941Z"
   },
   {
    "duration": 266,
    "start_time": "2024-12-10T07:06:41.032Z"
   },
   {
    "duration": 852,
    "start_time": "2024-12-10T07:11:04.102Z"
   },
   {
    "duration": 89,
    "start_time": "2024-12-10T07:13:14.729Z"
   },
   {
    "duration": 9145,
    "start_time": "2025-03-18T18:46:05.439Z"
   },
   {
    "duration": 1456,
    "start_time": "2025-03-18T18:46:14.586Z"
   },
   {
    "duration": 915,
    "start_time": "2025-03-18T18:46:16.044Z"
   },
   {
    "duration": 5,
    "start_time": "2025-03-18T18:46:16.961Z"
   },
   {
    "duration": 2446,
    "start_time": "2025-03-18T18:46:16.968Z"
   },
   {
    "duration": 6,
    "start_time": "2025-03-18T18:46:19.416Z"
   },
   {
    "duration": 43,
    "start_time": "2025-03-18T18:46:19.423Z"
   },
   {
    "duration": 42,
    "start_time": "2025-03-18T18:46:19.467Z"
   },
   {
    "duration": 85,
    "start_time": "2025-03-18T18:46:19.511Z"
   },
   {
    "duration": 35,
    "start_time": "2025-03-18T18:46:19.598Z"
   },
   {
    "duration": 101,
    "start_time": "2025-03-18T18:46:19.634Z"
   },
   {
    "duration": 143,
    "start_time": "2025-03-18T18:46:19.736Z"
   },
   {
    "duration": 33,
    "start_time": "2025-03-18T18:46:19.881Z"
   },
   {
    "duration": 57,
    "start_time": "2025-03-18T18:46:19.916Z"
   },
   {
    "duration": 34,
    "start_time": "2025-03-18T18:46:19.975Z"
   },
   {
    "duration": 26,
    "start_time": "2025-03-18T18:46:20.010Z"
   },
   {
    "duration": 40,
    "start_time": "2025-03-18T18:46:20.038Z"
   },
   {
    "duration": 60,
    "start_time": "2025-03-18T18:46:20.080Z"
   },
   {
    "duration": 84,
    "start_time": "2025-03-18T18:46:20.141Z"
   },
   {
    "duration": 5,
    "start_time": "2025-03-18T18:46:20.227Z"
   },
   {
    "duration": 34,
    "start_time": "2025-03-18T18:46:20.234Z"
   },
   {
    "duration": 8,
    "start_time": "2025-03-18T18:46:20.270Z"
   },
   {
    "duration": 244,
    "start_time": "2025-03-18T18:46:20.280Z"
   },
   {
    "duration": 9,
    "start_time": "2025-03-18T18:46:20.526Z"
   },
   {
    "duration": 33,
    "start_time": "2025-03-18T18:46:20.537Z"
   },
   {
    "duration": 142,
    "start_time": "2025-03-18T18:46:20.572Z"
   },
   {
    "duration": 267,
    "start_time": "2025-03-18T18:46:20.716Z"
   },
   {
    "duration": 11,
    "start_time": "2025-03-18T18:46:20.986Z"
   },
   {
    "duration": 571,
    "start_time": "2025-03-18T18:46:20.999Z"
   },
   {
    "duration": 7,
    "start_time": "2025-03-18T18:46:21.572Z"
   },
   {
    "duration": 5,
    "start_time": "2025-03-18T18:46:21.580Z"
   },
   {
    "duration": 213,
    "start_time": "2025-03-18T18:46:21.586Z"
   },
   {
    "duration": 346,
    "start_time": "2025-03-18T18:46:21.801Z"
   },
   {
    "duration": 13905,
    "start_time": "2025-03-18T18:46:22.148Z"
   },
   {
    "duration": 14308,
    "start_time": "2025-03-18T18:46:36.054Z"
   },
   {
    "duration": 3,
    "start_time": "2025-03-18T18:46:50.457Z"
   },
   {
    "duration": 7,
    "start_time": "2025-03-18T18:46:50.461Z"
   },
   {
    "duration": 762,
    "start_time": "2025-03-18T18:46:50.469Z"
   },
   {
    "duration": 1742,
    "start_time": "2025-03-18T18:46:51.232Z"
   },
   {
    "duration": 282775,
    "start_time": "2025-03-18T18:46:52.975Z"
   },
   {
    "duration": 163,
    "start_time": "2025-03-18T18:51:35.757Z"
   },
   {
    "duration": 5637,
    "start_time": "2025-03-18T18:51:35.922Z"
   },
   {
    "duration": 2,
    "start_time": "2025-03-18T18:51:41.561Z"
   },
   {
    "duration": 14296,
    "start_time": "2025-03-18T18:51:41.564Z"
   },
   {
    "duration": 103,
    "start_time": "2025-03-18T18:51:55.861Z"
   },
   {
    "duration": 360,
    "start_time": "2025-03-18T18:51:55.967Z"
   },
   {
    "duration": 10,
    "start_time": "2025-03-18T18:51:56.328Z"
   },
   {
    "duration": 176333,
    "start_time": "2025-03-18T18:51:56.340Z"
   },
   {
    "duration": 3517,
    "start_time": "2025-03-18T18:54:52.675Z"
   },
   {
    "duration": 3976,
    "start_time": "2025-03-18T18:54:56.193Z"
   },
   {
    "duration": 599,
    "start_time": "2025-03-18T18:55:00.171Z"
   },
   {
    "duration": 94,
    "start_time": "2025-03-18T18:55:00.771Z"
   },
   {
    "duration": 593,
    "start_time": "2025-03-18T18:55:00.866Z"
   }
  ],
  "kernelspec": {
   "display_name": "Python 3 (ipykernel)",
   "language": "python",
   "name": "python3"
  },
  "language_info": {
   "codemirror_mode": {
    "name": "ipython",
    "version": 3
   },
   "file_extension": ".py",
   "mimetype": "text/x-python",
   "name": "python",
   "nbconvert_exporter": "python",
   "pygments_lexer": "ipython3",
   "version": "3.11.9"
  },
  "toc": {
   "base_numbering": 1,
   "nav_menu": {},
   "number_sections": true,
   "sideBar": true,
   "skip_h1_title": true,
   "title_cell": "Table of Contents",
   "title_sidebar": "Contents",
   "toc_cell": false,
   "toc_position": {
    "height": "calc(100% - 180px)",
    "left": "10px",
    "top": "150px",
    "width": "330.781px"
   },
   "toc_section_display": true,
   "toc_window_display": true
  }
 },
 "nbformat": 4,
 "nbformat_minor": 4
}
